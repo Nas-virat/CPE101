{
 "cells": [
  {
   "cell_type": "code",
   "execution_count": 1,
   "metadata": {},
   "outputs": [],
   "source": [
    "import pandas as pd\n",
    "import numpy as np\n",
    "import matplotlib.pyplot as plt\n",
    "import seaborn as sns\n",
    "\n",
    "from sklearn.preprocessing import StandardScaler\n",
    "\n",
    "from sklearn.model_selection import train_test_split\n",
    "from sklearn.ensemble import RandomForestClassifier\n",
    "from sklearn.neural_network import MLPClassifier\n",
    "\n",
    "from sklearn.metrics import confusion_matrix, accuracy_score, recall_score, precision_score, f1_score\n",
    "%matplotlib inline"
   ]
  },
  {
   "cell_type": "code",
   "execution_count": 2,
   "metadata": {},
   "outputs": [
    {
     "output_type": "execute_result",
     "data": {
      "text/plain": [
       "                         photopath   part_x0   part_x1   part_x2   part_x3  \\\n",
       "0                  img_set_242.jpg  0.543750  0.553125  0.493750  0.453125   \n",
       "1                  img_set_223.jpg  0.565625  0.531250  0.500000  0.434375   \n",
       "2                   img_set_54.jpg  0.571875  0.568750  0.509375  0.462500   \n",
       "3                  img_set_363.jpg  0.571875  0.568750  0.509375  0.462500   \n",
       "4                  img_set_519.jpg  0.465625  0.471875  0.409375  0.400000   \n",
       "...                            ...       ...       ...       ...       ...   \n",
       "2517  rota_img_squats_down_343.jpg  0.371875  0.415625  0.390625  0.321875   \n",
       "2518  rota_img_squats_down_384.jpg  0.406250  0.471875  0.478125  0.321875   \n",
       "2519  rota_img_squats_down_372.jpg  0.431250  0.434375  0.371875  0.334375   \n",
       "2520  rota_img_squats_down_303.jpg  0.500000  0.531250  0.503125  0.406250   \n",
       "2521  flip_img_squats_down_188.jpg  0.556250  0.496875  0.493750  0.590625   \n",
       "\n",
       "       part_x4   part_x5  part_x6   part_x7   part_x8  ...    score8  \\\n",
       "0     0.478125  0.609375  0.65625  0.615625  0.515625  ...  0.327584   \n",
       "1     0.471875  0.562500  0.65625  0.615625  0.515625  ...  0.327584   \n",
       "2     0.471875  0.634375  0.68750  0.643750  0.512500  ...  0.310516   \n",
       "3     0.471875  0.634375  0.68750  0.643750  0.512500  ...  0.310516   \n",
       "4     0.471875  0.634375  0.68750  0.643750  0.512500  ...  0.310516   \n",
       "...        ...       ...      ...       ...       ...  ...       ...   \n",
       "2517  0.246875  0.471875  0.43750  0.371875  0.446875  ...  0.492325   \n",
       "2518  0.246875  0.471875  0.43750  0.371875  0.446875  ...  0.492325   \n",
       "2519  0.365625  0.496875  0.54375  0.371875  0.446875  ...  0.492325   \n",
       "2520  0.331250  0.562500  0.51250  0.434375  0.531250  ...  0.493979   \n",
       "2521  0.684375  0.487500  0.51250  0.434375  0.531250  ...  0.493979   \n",
       "\n",
       "        score9   score10   score11   score12   score13   score14   score15  \\\n",
       "0     0.603786  0.576362  0.346418  0.276199  0.414210  0.706337  0.694720   \n",
       "1     0.603786  0.576362  0.346418  0.276199  0.414210  0.706337  0.694720   \n",
       "2     0.211923  0.576362  0.346418  0.276199  0.414210  0.706337  0.694720   \n",
       "3     0.211923  0.576362  0.346418  0.276199  0.414210  0.706337  0.694720   \n",
       "4     0.211923  0.576362  0.346418  0.276199  0.414210  0.706337  0.694720   \n",
       "...        ...       ...       ...       ...       ...       ...       ...   \n",
       "2517  0.675963  0.510522  0.526626  0.612375  0.365841  0.711297  0.665458   \n",
       "2518  0.675963  0.510522  0.526626  0.612375  0.365841  0.711297  0.665458   \n",
       "2519  0.675963  0.510522  0.526626  0.612375  0.365841  0.711297  0.665458   \n",
       "2520  0.664466  0.525108  0.371638  0.600857  0.487050  0.684679  0.733917   \n",
       "2521  0.664466  0.525108  0.371638  0.600857  0.487050  0.684679  0.733917   \n",
       "\n",
       "       score16        label  \n",
       "0     0.563441          set  \n",
       "1     0.563441          set  \n",
       "2     0.563441          set  \n",
       "3     0.563441          set  \n",
       "4     0.563441          set  \n",
       "...        ...          ...  \n",
       "2517  0.651244  squats_down  \n",
       "2518  0.651244  squats_down  \n",
       "2519  0.651244  squats_down  \n",
       "2520  0.651244  squats_down  \n",
       "2521  0.651244  squats_down  \n",
       "\n",
       "[2522 rows x 53 columns]"
      ],
      "text/html": "<div>\n<style scoped>\n    .dataframe tbody tr th:only-of-type {\n        vertical-align: middle;\n    }\n\n    .dataframe tbody tr th {\n        vertical-align: top;\n    }\n\n    .dataframe thead th {\n        text-align: right;\n    }\n</style>\n<table border=\"1\" class=\"dataframe\">\n  <thead>\n    <tr style=\"text-align: right;\">\n      <th></th>\n      <th>photopath</th>\n      <th>part_x0</th>\n      <th>part_x1</th>\n      <th>part_x2</th>\n      <th>part_x3</th>\n      <th>part_x4</th>\n      <th>part_x5</th>\n      <th>part_x6</th>\n      <th>part_x7</th>\n      <th>part_x8</th>\n      <th>...</th>\n      <th>score8</th>\n      <th>score9</th>\n      <th>score10</th>\n      <th>score11</th>\n      <th>score12</th>\n      <th>score13</th>\n      <th>score14</th>\n      <th>score15</th>\n      <th>score16</th>\n      <th>label</th>\n    </tr>\n  </thead>\n  <tbody>\n    <tr>\n      <th>0</th>\n      <td>img_set_242.jpg</td>\n      <td>0.543750</td>\n      <td>0.553125</td>\n      <td>0.493750</td>\n      <td>0.453125</td>\n      <td>0.478125</td>\n      <td>0.609375</td>\n      <td>0.65625</td>\n      <td>0.615625</td>\n      <td>0.515625</td>\n      <td>...</td>\n      <td>0.327584</td>\n      <td>0.603786</td>\n      <td>0.576362</td>\n      <td>0.346418</td>\n      <td>0.276199</td>\n      <td>0.414210</td>\n      <td>0.706337</td>\n      <td>0.694720</td>\n      <td>0.563441</td>\n      <td>set</td>\n    </tr>\n    <tr>\n      <th>1</th>\n      <td>img_set_223.jpg</td>\n      <td>0.565625</td>\n      <td>0.531250</td>\n      <td>0.500000</td>\n      <td>0.434375</td>\n      <td>0.471875</td>\n      <td>0.562500</td>\n      <td>0.65625</td>\n      <td>0.615625</td>\n      <td>0.515625</td>\n      <td>...</td>\n      <td>0.327584</td>\n      <td>0.603786</td>\n      <td>0.576362</td>\n      <td>0.346418</td>\n      <td>0.276199</td>\n      <td>0.414210</td>\n      <td>0.706337</td>\n      <td>0.694720</td>\n      <td>0.563441</td>\n      <td>set</td>\n    </tr>\n    <tr>\n      <th>2</th>\n      <td>img_set_54.jpg</td>\n      <td>0.571875</td>\n      <td>0.568750</td>\n      <td>0.509375</td>\n      <td>0.462500</td>\n      <td>0.471875</td>\n      <td>0.634375</td>\n      <td>0.68750</td>\n      <td>0.643750</td>\n      <td>0.512500</td>\n      <td>...</td>\n      <td>0.310516</td>\n      <td>0.211923</td>\n      <td>0.576362</td>\n      <td>0.346418</td>\n      <td>0.276199</td>\n      <td>0.414210</td>\n      <td>0.706337</td>\n      <td>0.694720</td>\n      <td>0.563441</td>\n      <td>set</td>\n    </tr>\n    <tr>\n      <th>3</th>\n      <td>img_set_363.jpg</td>\n      <td>0.571875</td>\n      <td>0.568750</td>\n      <td>0.509375</td>\n      <td>0.462500</td>\n      <td>0.471875</td>\n      <td>0.634375</td>\n      <td>0.68750</td>\n      <td>0.643750</td>\n      <td>0.512500</td>\n      <td>...</td>\n      <td>0.310516</td>\n      <td>0.211923</td>\n      <td>0.576362</td>\n      <td>0.346418</td>\n      <td>0.276199</td>\n      <td>0.414210</td>\n      <td>0.706337</td>\n      <td>0.694720</td>\n      <td>0.563441</td>\n      <td>set</td>\n    </tr>\n    <tr>\n      <th>4</th>\n      <td>img_set_519.jpg</td>\n      <td>0.465625</td>\n      <td>0.471875</td>\n      <td>0.409375</td>\n      <td>0.400000</td>\n      <td>0.471875</td>\n      <td>0.634375</td>\n      <td>0.68750</td>\n      <td>0.643750</td>\n      <td>0.512500</td>\n      <td>...</td>\n      <td>0.310516</td>\n      <td>0.211923</td>\n      <td>0.576362</td>\n      <td>0.346418</td>\n      <td>0.276199</td>\n      <td>0.414210</td>\n      <td>0.706337</td>\n      <td>0.694720</td>\n      <td>0.563441</td>\n      <td>set</td>\n    </tr>\n    <tr>\n      <th>...</th>\n      <td>...</td>\n      <td>...</td>\n      <td>...</td>\n      <td>...</td>\n      <td>...</td>\n      <td>...</td>\n      <td>...</td>\n      <td>...</td>\n      <td>...</td>\n      <td>...</td>\n      <td>...</td>\n      <td>...</td>\n      <td>...</td>\n      <td>...</td>\n      <td>...</td>\n      <td>...</td>\n      <td>...</td>\n      <td>...</td>\n      <td>...</td>\n      <td>...</td>\n      <td>...</td>\n    </tr>\n    <tr>\n      <th>2517</th>\n      <td>rota_img_squats_down_343.jpg</td>\n      <td>0.371875</td>\n      <td>0.415625</td>\n      <td>0.390625</td>\n      <td>0.321875</td>\n      <td>0.246875</td>\n      <td>0.471875</td>\n      <td>0.43750</td>\n      <td>0.371875</td>\n      <td>0.446875</td>\n      <td>...</td>\n      <td>0.492325</td>\n      <td>0.675963</td>\n      <td>0.510522</td>\n      <td>0.526626</td>\n      <td>0.612375</td>\n      <td>0.365841</td>\n      <td>0.711297</td>\n      <td>0.665458</td>\n      <td>0.651244</td>\n      <td>squats_down</td>\n    </tr>\n    <tr>\n      <th>2518</th>\n      <td>rota_img_squats_down_384.jpg</td>\n      <td>0.406250</td>\n      <td>0.471875</td>\n      <td>0.478125</td>\n      <td>0.321875</td>\n      <td>0.246875</td>\n      <td>0.471875</td>\n      <td>0.43750</td>\n      <td>0.371875</td>\n      <td>0.446875</td>\n      <td>...</td>\n      <td>0.492325</td>\n      <td>0.675963</td>\n      <td>0.510522</td>\n      <td>0.526626</td>\n      <td>0.612375</td>\n      <td>0.365841</td>\n      <td>0.711297</td>\n      <td>0.665458</td>\n      <td>0.651244</td>\n      <td>squats_down</td>\n    </tr>\n    <tr>\n      <th>2519</th>\n      <td>rota_img_squats_down_372.jpg</td>\n      <td>0.431250</td>\n      <td>0.434375</td>\n      <td>0.371875</td>\n      <td>0.334375</td>\n      <td>0.365625</td>\n      <td>0.496875</td>\n      <td>0.54375</td>\n      <td>0.371875</td>\n      <td>0.446875</td>\n      <td>...</td>\n      <td>0.492325</td>\n      <td>0.675963</td>\n      <td>0.510522</td>\n      <td>0.526626</td>\n      <td>0.612375</td>\n      <td>0.365841</td>\n      <td>0.711297</td>\n      <td>0.665458</td>\n      <td>0.651244</td>\n      <td>squats_down</td>\n    </tr>\n    <tr>\n      <th>2520</th>\n      <td>rota_img_squats_down_303.jpg</td>\n      <td>0.500000</td>\n      <td>0.531250</td>\n      <td>0.503125</td>\n      <td>0.406250</td>\n      <td>0.331250</td>\n      <td>0.562500</td>\n      <td>0.51250</td>\n      <td>0.434375</td>\n      <td>0.531250</td>\n      <td>...</td>\n      <td>0.493979</td>\n      <td>0.664466</td>\n      <td>0.525108</td>\n      <td>0.371638</td>\n      <td>0.600857</td>\n      <td>0.487050</td>\n      <td>0.684679</td>\n      <td>0.733917</td>\n      <td>0.651244</td>\n      <td>squats_down</td>\n    </tr>\n    <tr>\n      <th>2521</th>\n      <td>flip_img_squats_down_188.jpg</td>\n      <td>0.556250</td>\n      <td>0.496875</td>\n      <td>0.493750</td>\n      <td>0.590625</td>\n      <td>0.684375</td>\n      <td>0.487500</td>\n      <td>0.51250</td>\n      <td>0.434375</td>\n      <td>0.531250</td>\n      <td>...</td>\n      <td>0.493979</td>\n      <td>0.664466</td>\n      <td>0.525108</td>\n      <td>0.371638</td>\n      <td>0.600857</td>\n      <td>0.487050</td>\n      <td>0.684679</td>\n      <td>0.733917</td>\n      <td>0.651244</td>\n      <td>squats_down</td>\n    </tr>\n  </tbody>\n</table>\n<p>2522 rows × 53 columns</p>\n</div>"
     },
     "metadata": {},
     "execution_count": 2
    }
   ],
   "source": [
    "df = pd.read_csv('datatrainall.csv')\n",
    "df"
   ]
  },
  {
   "cell_type": "code",
   "execution_count": 3,
   "metadata": {},
   "outputs": [
    {
     "output_type": "stream",
     "name": "stdout",
     "text": [
      "<class 'pandas.core.frame.DataFrame'>\nRangeIndex: 2522 entries, 0 to 2521\nData columns (total 53 columns):\n #   Column     Non-Null Count  Dtype  \n---  ------     --------------  -----  \n 0   photopath  2522 non-null   object \n 1   part_x0    2522 non-null   float64\n 2   part_x1    2522 non-null   float64\n 3   part_x2    2522 non-null   float64\n 4   part_x3    2522 non-null   float64\n 5   part_x4    2522 non-null   float64\n 6   part_x5    2522 non-null   float64\n 7   part_x6    2522 non-null   float64\n 8   part_x7    2522 non-null   float64\n 9   part_x8    2522 non-null   float64\n 10  part_x9    2522 non-null   float64\n 11  part_x10   2522 non-null   float64\n 12  part_x11   2522 non-null   float64\n 13  part_x12   2522 non-null   float64\n 14  part_x13   2522 non-null   float64\n 15  part_x14   2522 non-null   float64\n 16  part_x15   2522 non-null   float64\n 17  part_x16   2522 non-null   float64\n 18  part_y0    2522 non-null   float64\n 19  part_y1    2522 non-null   float64\n 20  part_y2    2522 non-null   float64\n 21  part_y3    2522 non-null   float64\n 22  part_y4    2522 non-null   float64\n 23  part_y5    2522 non-null   float64\n 24  part_y6    2522 non-null   float64\n 25  part_y7    2522 non-null   float64\n 26  part_y8    2522 non-null   float64\n 27  part_y9    2522 non-null   float64\n 28  part_y10   2522 non-null   float64\n 29  part_y11   2522 non-null   float64\n 30  part_y12   2522 non-null   float64\n 31  part_y13   2522 non-null   float64\n 32  part_y14   2522 non-null   float64\n 33  part_y15   2522 non-null   float64\n 34  part_y16   2522 non-null   float64\n 35  score0     2522 non-null   float64\n 36  score1     2522 non-null   float64\n 37  score2     2522 non-null   float64\n 38  score3     2522 non-null   float64\n 39  score4     2522 non-null   float64\n 40  score5     2522 non-null   float64\n 41  score6     2522 non-null   float64\n 42  score7     2522 non-null   float64\n 43  score8     2522 non-null   float64\n 44  score9     2522 non-null   float64\n 45  score10    2522 non-null   float64\n 46  score11    2522 non-null   float64\n 47  score12    2522 non-null   float64\n 48  score13    2522 non-null   float64\n 49  score14    2522 non-null   float64\n 50  score15    2522 non-null   float64\n 51  score16    2522 non-null   float64\n 52  label      2522 non-null   object \ndtypes: float64(51), object(2)\nmemory usage: 1.0+ MB\n"
     ]
    }
   ],
   "source": [
    "df.info()"
   ]
  },
  {
   "cell_type": "code",
   "execution_count": 4,
   "metadata": {},
   "outputs": [
    {
     "output_type": "execute_result",
     "data": {
      "text/plain": [
       "       part_x0   part_x1   part_x2   part_x3   part_x4   part_x5  part_x6  \\\n",
       "0     0.543750  0.553125  0.493750  0.453125  0.478125  0.609375  0.65625   \n",
       "1     0.565625  0.531250  0.500000  0.434375  0.471875  0.562500  0.65625   \n",
       "2     0.571875  0.568750  0.509375  0.462500  0.471875  0.634375  0.68750   \n",
       "3     0.571875  0.568750  0.509375  0.462500  0.471875  0.634375  0.68750   \n",
       "4     0.465625  0.471875  0.409375  0.400000  0.471875  0.634375  0.68750   \n",
       "...        ...       ...       ...       ...       ...       ...      ...   \n",
       "2517  0.371875  0.415625  0.390625  0.321875  0.246875  0.471875  0.43750   \n",
       "2518  0.406250  0.471875  0.478125  0.321875  0.246875  0.471875  0.43750   \n",
       "2519  0.431250  0.434375  0.371875  0.334375  0.365625  0.496875  0.54375   \n",
       "2520  0.500000  0.531250  0.503125  0.406250  0.331250  0.562500  0.51250   \n",
       "2521  0.556250  0.496875  0.493750  0.590625  0.684375  0.487500  0.51250   \n",
       "\n",
       "       part_x7   part_x8   part_x9  ...    score7    score8    score9  \\\n",
       "0     0.615625  0.515625  0.500000  ...  0.686369  0.327584  0.603786   \n",
       "1     0.615625  0.515625  0.500000  ...  0.686369  0.327584  0.603786   \n",
       "2     0.643750  0.512500  0.484375  ...  0.646998  0.310516  0.211923   \n",
       "3     0.643750  0.512500  0.484375  ...  0.646998  0.310516  0.211923   \n",
       "4     0.643750  0.512500  0.484375  ...  0.646998  0.310516  0.211923   \n",
       "...        ...       ...       ...  ...       ...       ...       ...   \n",
       "2517  0.371875  0.446875  0.387500  ...  0.469901  0.492325  0.675963   \n",
       "2518  0.371875  0.446875  0.387500  ...  0.469901  0.492325  0.675963   \n",
       "2519  0.371875  0.446875  0.387500  ...  0.469901  0.492325  0.675963   \n",
       "2520  0.434375  0.531250  0.443750  ...  0.300055  0.493979  0.664466   \n",
       "2521  0.434375  0.531250  0.443750  ...  0.300055  0.493979  0.664466   \n",
       "\n",
       "       score10   score11   score12   score13   score14   score15   score16  \n",
       "0     0.576362  0.346418  0.276199  0.414210  0.706337  0.694720  0.563441  \n",
       "1     0.576362  0.346418  0.276199  0.414210  0.706337  0.694720  0.563441  \n",
       "2     0.576362  0.346418  0.276199  0.414210  0.706337  0.694720  0.563441  \n",
       "3     0.576362  0.346418  0.276199  0.414210  0.706337  0.694720  0.563441  \n",
       "4     0.576362  0.346418  0.276199  0.414210  0.706337  0.694720  0.563441  \n",
       "...        ...       ...       ...       ...       ...       ...       ...  \n",
       "2517  0.510522  0.526626  0.612375  0.365841  0.711297  0.665458  0.651244  \n",
       "2518  0.510522  0.526626  0.612375  0.365841  0.711297  0.665458  0.651244  \n",
       "2519  0.510522  0.526626  0.612375  0.365841  0.711297  0.665458  0.651244  \n",
       "2520  0.525108  0.371638  0.600857  0.487050  0.684679  0.733917  0.651244  \n",
       "2521  0.525108  0.371638  0.600857  0.487050  0.684679  0.733917  0.651244  \n",
       "\n",
       "[2522 rows x 51 columns]"
      ],
      "text/html": "<div>\n<style scoped>\n    .dataframe tbody tr th:only-of-type {\n        vertical-align: middle;\n    }\n\n    .dataframe tbody tr th {\n        vertical-align: top;\n    }\n\n    .dataframe thead th {\n        text-align: right;\n    }\n</style>\n<table border=\"1\" class=\"dataframe\">\n  <thead>\n    <tr style=\"text-align: right;\">\n      <th></th>\n      <th>part_x0</th>\n      <th>part_x1</th>\n      <th>part_x2</th>\n      <th>part_x3</th>\n      <th>part_x4</th>\n      <th>part_x5</th>\n      <th>part_x6</th>\n      <th>part_x7</th>\n      <th>part_x8</th>\n      <th>part_x9</th>\n      <th>...</th>\n      <th>score7</th>\n      <th>score8</th>\n      <th>score9</th>\n      <th>score10</th>\n      <th>score11</th>\n      <th>score12</th>\n      <th>score13</th>\n      <th>score14</th>\n      <th>score15</th>\n      <th>score16</th>\n    </tr>\n  </thead>\n  <tbody>\n    <tr>\n      <th>0</th>\n      <td>0.543750</td>\n      <td>0.553125</td>\n      <td>0.493750</td>\n      <td>0.453125</td>\n      <td>0.478125</td>\n      <td>0.609375</td>\n      <td>0.65625</td>\n      <td>0.615625</td>\n      <td>0.515625</td>\n      <td>0.500000</td>\n      <td>...</td>\n      <td>0.686369</td>\n      <td>0.327584</td>\n      <td>0.603786</td>\n      <td>0.576362</td>\n      <td>0.346418</td>\n      <td>0.276199</td>\n      <td>0.414210</td>\n      <td>0.706337</td>\n      <td>0.694720</td>\n      <td>0.563441</td>\n    </tr>\n    <tr>\n      <th>1</th>\n      <td>0.565625</td>\n      <td>0.531250</td>\n      <td>0.500000</td>\n      <td>0.434375</td>\n      <td>0.471875</td>\n      <td>0.562500</td>\n      <td>0.65625</td>\n      <td>0.615625</td>\n      <td>0.515625</td>\n      <td>0.500000</td>\n      <td>...</td>\n      <td>0.686369</td>\n      <td>0.327584</td>\n      <td>0.603786</td>\n      <td>0.576362</td>\n      <td>0.346418</td>\n      <td>0.276199</td>\n      <td>0.414210</td>\n      <td>0.706337</td>\n      <td>0.694720</td>\n      <td>0.563441</td>\n    </tr>\n    <tr>\n      <th>2</th>\n      <td>0.571875</td>\n      <td>0.568750</td>\n      <td>0.509375</td>\n      <td>0.462500</td>\n      <td>0.471875</td>\n      <td>0.634375</td>\n      <td>0.68750</td>\n      <td>0.643750</td>\n      <td>0.512500</td>\n      <td>0.484375</td>\n      <td>...</td>\n      <td>0.646998</td>\n      <td>0.310516</td>\n      <td>0.211923</td>\n      <td>0.576362</td>\n      <td>0.346418</td>\n      <td>0.276199</td>\n      <td>0.414210</td>\n      <td>0.706337</td>\n      <td>0.694720</td>\n      <td>0.563441</td>\n    </tr>\n    <tr>\n      <th>3</th>\n      <td>0.571875</td>\n      <td>0.568750</td>\n      <td>0.509375</td>\n      <td>0.462500</td>\n      <td>0.471875</td>\n      <td>0.634375</td>\n      <td>0.68750</td>\n      <td>0.643750</td>\n      <td>0.512500</td>\n      <td>0.484375</td>\n      <td>...</td>\n      <td>0.646998</td>\n      <td>0.310516</td>\n      <td>0.211923</td>\n      <td>0.576362</td>\n      <td>0.346418</td>\n      <td>0.276199</td>\n      <td>0.414210</td>\n      <td>0.706337</td>\n      <td>0.694720</td>\n      <td>0.563441</td>\n    </tr>\n    <tr>\n      <th>4</th>\n      <td>0.465625</td>\n      <td>0.471875</td>\n      <td>0.409375</td>\n      <td>0.400000</td>\n      <td>0.471875</td>\n      <td>0.634375</td>\n      <td>0.68750</td>\n      <td>0.643750</td>\n      <td>0.512500</td>\n      <td>0.484375</td>\n      <td>...</td>\n      <td>0.646998</td>\n      <td>0.310516</td>\n      <td>0.211923</td>\n      <td>0.576362</td>\n      <td>0.346418</td>\n      <td>0.276199</td>\n      <td>0.414210</td>\n      <td>0.706337</td>\n      <td>0.694720</td>\n      <td>0.563441</td>\n    </tr>\n    <tr>\n      <th>...</th>\n      <td>...</td>\n      <td>...</td>\n      <td>...</td>\n      <td>...</td>\n      <td>...</td>\n      <td>...</td>\n      <td>...</td>\n      <td>...</td>\n      <td>...</td>\n      <td>...</td>\n      <td>...</td>\n      <td>...</td>\n      <td>...</td>\n      <td>...</td>\n      <td>...</td>\n      <td>...</td>\n      <td>...</td>\n      <td>...</td>\n      <td>...</td>\n      <td>...</td>\n      <td>...</td>\n    </tr>\n    <tr>\n      <th>2517</th>\n      <td>0.371875</td>\n      <td>0.415625</td>\n      <td>0.390625</td>\n      <td>0.321875</td>\n      <td>0.246875</td>\n      <td>0.471875</td>\n      <td>0.43750</td>\n      <td>0.371875</td>\n      <td>0.446875</td>\n      <td>0.387500</td>\n      <td>...</td>\n      <td>0.469901</td>\n      <td>0.492325</td>\n      <td>0.675963</td>\n      <td>0.510522</td>\n      <td>0.526626</td>\n      <td>0.612375</td>\n      <td>0.365841</td>\n      <td>0.711297</td>\n      <td>0.665458</td>\n      <td>0.651244</td>\n    </tr>\n    <tr>\n      <th>2518</th>\n      <td>0.406250</td>\n      <td>0.471875</td>\n      <td>0.478125</td>\n      <td>0.321875</td>\n      <td>0.246875</td>\n      <td>0.471875</td>\n      <td>0.43750</td>\n      <td>0.371875</td>\n      <td>0.446875</td>\n      <td>0.387500</td>\n      <td>...</td>\n      <td>0.469901</td>\n      <td>0.492325</td>\n      <td>0.675963</td>\n      <td>0.510522</td>\n      <td>0.526626</td>\n      <td>0.612375</td>\n      <td>0.365841</td>\n      <td>0.711297</td>\n      <td>0.665458</td>\n      <td>0.651244</td>\n    </tr>\n    <tr>\n      <th>2519</th>\n      <td>0.431250</td>\n      <td>0.434375</td>\n      <td>0.371875</td>\n      <td>0.334375</td>\n      <td>0.365625</td>\n      <td>0.496875</td>\n      <td>0.54375</td>\n      <td>0.371875</td>\n      <td>0.446875</td>\n      <td>0.387500</td>\n      <td>...</td>\n      <td>0.469901</td>\n      <td>0.492325</td>\n      <td>0.675963</td>\n      <td>0.510522</td>\n      <td>0.526626</td>\n      <td>0.612375</td>\n      <td>0.365841</td>\n      <td>0.711297</td>\n      <td>0.665458</td>\n      <td>0.651244</td>\n    </tr>\n    <tr>\n      <th>2520</th>\n      <td>0.500000</td>\n      <td>0.531250</td>\n      <td>0.503125</td>\n      <td>0.406250</td>\n      <td>0.331250</td>\n      <td>0.562500</td>\n      <td>0.51250</td>\n      <td>0.434375</td>\n      <td>0.531250</td>\n      <td>0.443750</td>\n      <td>...</td>\n      <td>0.300055</td>\n      <td>0.493979</td>\n      <td>0.664466</td>\n      <td>0.525108</td>\n      <td>0.371638</td>\n      <td>0.600857</td>\n      <td>0.487050</td>\n      <td>0.684679</td>\n      <td>0.733917</td>\n      <td>0.651244</td>\n    </tr>\n    <tr>\n      <th>2521</th>\n      <td>0.556250</td>\n      <td>0.496875</td>\n      <td>0.493750</td>\n      <td>0.590625</td>\n      <td>0.684375</td>\n      <td>0.487500</td>\n      <td>0.51250</td>\n      <td>0.434375</td>\n      <td>0.531250</td>\n      <td>0.443750</td>\n      <td>...</td>\n      <td>0.300055</td>\n      <td>0.493979</td>\n      <td>0.664466</td>\n      <td>0.525108</td>\n      <td>0.371638</td>\n      <td>0.600857</td>\n      <td>0.487050</td>\n      <td>0.684679</td>\n      <td>0.733917</td>\n      <td>0.651244</td>\n    </tr>\n  </tbody>\n</table>\n<p>2522 rows × 51 columns</p>\n</div>"
     },
     "metadata": {},
     "execution_count": 4
    }
   ],
   "source": [
    "df_drop = df.drop(columns = ['photopath','label'])\n",
    "df_drop"
   ]
  },
  {
   "cell_type": "code",
   "execution_count": 5,
   "metadata": {},
   "outputs": [],
   "source": [
    "X = df_drop\n",
    "y = df['label']"
   ]
  },
  {
   "cell_type": "code",
   "execution_count": 6,
   "metadata": {},
   "outputs": [],
   "source": [
    "X_train, X_test, y_train, y_test = train_test_split(X,y,test_size=0.2, random_state=300)"
   ]
  },
  {
   "cell_type": "code",
   "execution_count": 7,
   "metadata": {},
   "outputs": [
    {
     "output_type": "execute_result",
     "data": {
      "text/plain": [
       "       part_x0   part_x1   part_x2   part_x3   part_x4   part_x5   part_x6  \\\n",
       "1512  0.509375  0.503125  0.446875  0.431250  0.431250  0.487500  0.490625   \n",
       "1311  0.493750  0.528125  0.493750  0.446875  0.465625  0.600000  0.643750   \n",
       "97    0.518750  0.528125  0.471875  0.434375  0.456250  0.584375  0.631250   \n",
       "1318  0.515625  0.503125  0.446875  0.412500  0.396875  0.525000  0.565625   \n",
       "719   0.587500  0.528125  0.512500  0.628125  0.709375  0.534375  0.606250   \n",
       "...        ...       ...       ...       ...       ...       ...       ...   \n",
       "2089  0.393750  0.443750  0.418750  0.362500  0.262500  0.475000  0.359375   \n",
       "2254  0.403125  0.475000  0.487500  0.475000  0.565625  0.487500  0.518750   \n",
       "1494  0.459375  0.440625  0.387500  0.334375  0.378125  0.496875  0.515625   \n",
       "2051  0.484375  0.490625  0.409375  0.337500  0.387500  0.562500  0.646875   \n",
       "465   0.412500  0.456250  0.418750  0.356250  0.384375  0.650000  0.728125   \n",
       "\n",
       "       part_x7   part_x8   part_x9  ...    score7    score8    score9  \\\n",
       "1512  0.475000  0.434375  0.440625  ...  0.234462  0.337200  0.327613   \n",
       "1311  0.600000  0.493750  0.481250  ...  0.617411  0.415531  0.362899   \n",
       "97    0.593750  0.503125  0.493750  ...  0.616490  0.260231  0.191715   \n",
       "1318  0.540625  0.440625  0.434375  ...  0.662695  0.460662  0.444801   \n",
       "719   0.628125  0.493750  0.465625  ...  0.562719  0.518660  0.691585   \n",
       "...        ...       ...       ...  ...       ...       ...       ...   \n",
       "2089  0.275000  0.496875  0.406250  ...  0.204490  0.299974  0.502649   \n",
       "2254  0.500000  0.437500  0.412500  ...  0.535770  0.548117  0.780905   \n",
       "1494  0.503125  0.428125  0.409375  ...  0.586820  0.363976  0.490193   \n",
       "2051  0.593750  0.468750  0.418750  ...  0.599333  0.300182  0.385936   \n",
       "465   0.640625  0.484375  0.421875  ...  0.671045  0.275440  0.364160   \n",
       "\n",
       "       score10   score11   score12   score13   score14   score15   score16  \n",
       "1512  0.422607  0.353478  0.344648  0.349522  0.787547  0.322018  0.656835  \n",
       "1311  0.196541  0.448308  0.379739  0.473345  0.777680  0.851499  0.666920  \n",
       "97    0.326734  0.369892  0.151163  0.390407  0.695570  0.707746  0.625399  \n",
       "1318  0.217539  0.371812  0.268888  0.419921  0.698568  0.767203  0.740863  \n",
       "719   0.526643  0.470295  0.682111  0.496886  0.760856  0.774708  0.677144  \n",
       "...        ...       ...       ...       ...       ...       ...       ...  \n",
       "2089  0.202894  0.380621  0.613351  0.330646  0.137555  0.896137  0.722105  \n",
       "2254  0.581092  0.517936  0.705512  0.215463  0.714652  0.698344  0.545407  \n",
       "1494  0.239185  0.360996  0.330440  0.417557  0.718417  0.706618  0.751304  \n",
       "2051  0.140123  0.159484  0.169459  0.137715  0.741036  0.873822  0.684559  \n",
       "465   0.104558  0.236490  0.095142  0.130865  0.777106  0.748328  0.822788  \n",
       "\n",
       "[505 rows x 51 columns]"
      ],
      "text/html": "<div>\n<style scoped>\n    .dataframe tbody tr th:only-of-type {\n        vertical-align: middle;\n    }\n\n    .dataframe tbody tr th {\n        vertical-align: top;\n    }\n\n    .dataframe thead th {\n        text-align: right;\n    }\n</style>\n<table border=\"1\" class=\"dataframe\">\n  <thead>\n    <tr style=\"text-align: right;\">\n      <th></th>\n      <th>part_x0</th>\n      <th>part_x1</th>\n      <th>part_x2</th>\n      <th>part_x3</th>\n      <th>part_x4</th>\n      <th>part_x5</th>\n      <th>part_x6</th>\n      <th>part_x7</th>\n      <th>part_x8</th>\n      <th>part_x9</th>\n      <th>...</th>\n      <th>score7</th>\n      <th>score8</th>\n      <th>score9</th>\n      <th>score10</th>\n      <th>score11</th>\n      <th>score12</th>\n      <th>score13</th>\n      <th>score14</th>\n      <th>score15</th>\n      <th>score16</th>\n    </tr>\n  </thead>\n  <tbody>\n    <tr>\n      <th>1512</th>\n      <td>0.509375</td>\n      <td>0.503125</td>\n      <td>0.446875</td>\n      <td>0.431250</td>\n      <td>0.431250</td>\n      <td>0.487500</td>\n      <td>0.490625</td>\n      <td>0.475000</td>\n      <td>0.434375</td>\n      <td>0.440625</td>\n      <td>...</td>\n      <td>0.234462</td>\n      <td>0.337200</td>\n      <td>0.327613</td>\n      <td>0.422607</td>\n      <td>0.353478</td>\n      <td>0.344648</td>\n      <td>0.349522</td>\n      <td>0.787547</td>\n      <td>0.322018</td>\n      <td>0.656835</td>\n    </tr>\n    <tr>\n      <th>1311</th>\n      <td>0.493750</td>\n      <td>0.528125</td>\n      <td>0.493750</td>\n      <td>0.446875</td>\n      <td>0.465625</td>\n      <td>0.600000</td>\n      <td>0.643750</td>\n      <td>0.600000</td>\n      <td>0.493750</td>\n      <td>0.481250</td>\n      <td>...</td>\n      <td>0.617411</td>\n      <td>0.415531</td>\n      <td>0.362899</td>\n      <td>0.196541</td>\n      <td>0.448308</td>\n      <td>0.379739</td>\n      <td>0.473345</td>\n      <td>0.777680</td>\n      <td>0.851499</td>\n      <td>0.666920</td>\n    </tr>\n    <tr>\n      <th>97</th>\n      <td>0.518750</td>\n      <td>0.528125</td>\n      <td>0.471875</td>\n      <td>0.434375</td>\n      <td>0.456250</td>\n      <td>0.584375</td>\n      <td>0.631250</td>\n      <td>0.593750</td>\n      <td>0.503125</td>\n      <td>0.493750</td>\n      <td>...</td>\n      <td>0.616490</td>\n      <td>0.260231</td>\n      <td>0.191715</td>\n      <td>0.326734</td>\n      <td>0.369892</td>\n      <td>0.151163</td>\n      <td>0.390407</td>\n      <td>0.695570</td>\n      <td>0.707746</td>\n      <td>0.625399</td>\n    </tr>\n    <tr>\n      <th>1318</th>\n      <td>0.515625</td>\n      <td>0.503125</td>\n      <td>0.446875</td>\n      <td>0.412500</td>\n      <td>0.396875</td>\n      <td>0.525000</td>\n      <td>0.565625</td>\n      <td>0.540625</td>\n      <td>0.440625</td>\n      <td>0.434375</td>\n      <td>...</td>\n      <td>0.662695</td>\n      <td>0.460662</td>\n      <td>0.444801</td>\n      <td>0.217539</td>\n      <td>0.371812</td>\n      <td>0.268888</td>\n      <td>0.419921</td>\n      <td>0.698568</td>\n      <td>0.767203</td>\n      <td>0.740863</td>\n    </tr>\n    <tr>\n      <th>719</th>\n      <td>0.587500</td>\n      <td>0.528125</td>\n      <td>0.512500</td>\n      <td>0.628125</td>\n      <td>0.709375</td>\n      <td>0.534375</td>\n      <td>0.606250</td>\n      <td>0.628125</td>\n      <td>0.493750</td>\n      <td>0.465625</td>\n      <td>...</td>\n      <td>0.562719</td>\n      <td>0.518660</td>\n      <td>0.691585</td>\n      <td>0.526643</td>\n      <td>0.470295</td>\n      <td>0.682111</td>\n      <td>0.496886</td>\n      <td>0.760856</td>\n      <td>0.774708</td>\n      <td>0.677144</td>\n    </tr>\n    <tr>\n      <th>...</th>\n      <td>...</td>\n      <td>...</td>\n      <td>...</td>\n      <td>...</td>\n      <td>...</td>\n      <td>...</td>\n      <td>...</td>\n      <td>...</td>\n      <td>...</td>\n      <td>...</td>\n      <td>...</td>\n      <td>...</td>\n      <td>...</td>\n      <td>...</td>\n      <td>...</td>\n      <td>...</td>\n      <td>...</td>\n      <td>...</td>\n      <td>...</td>\n      <td>...</td>\n      <td>...</td>\n    </tr>\n    <tr>\n      <th>2089</th>\n      <td>0.393750</td>\n      <td>0.443750</td>\n      <td>0.418750</td>\n      <td>0.362500</td>\n      <td>0.262500</td>\n      <td>0.475000</td>\n      <td>0.359375</td>\n      <td>0.275000</td>\n      <td>0.496875</td>\n      <td>0.406250</td>\n      <td>...</td>\n      <td>0.204490</td>\n      <td>0.299974</td>\n      <td>0.502649</td>\n      <td>0.202894</td>\n      <td>0.380621</td>\n      <td>0.613351</td>\n      <td>0.330646</td>\n      <td>0.137555</td>\n      <td>0.896137</td>\n      <td>0.722105</td>\n    </tr>\n    <tr>\n      <th>2254</th>\n      <td>0.403125</td>\n      <td>0.475000</td>\n      <td>0.487500</td>\n      <td>0.475000</td>\n      <td>0.565625</td>\n      <td>0.487500</td>\n      <td>0.518750</td>\n      <td>0.500000</td>\n      <td>0.437500</td>\n      <td>0.412500</td>\n      <td>...</td>\n      <td>0.535770</td>\n      <td>0.548117</td>\n      <td>0.780905</td>\n      <td>0.581092</td>\n      <td>0.517936</td>\n      <td>0.705512</td>\n      <td>0.215463</td>\n      <td>0.714652</td>\n      <td>0.698344</td>\n      <td>0.545407</td>\n    </tr>\n    <tr>\n      <th>1494</th>\n      <td>0.459375</td>\n      <td>0.440625</td>\n      <td>0.387500</td>\n      <td>0.334375</td>\n      <td>0.378125</td>\n      <td>0.496875</td>\n      <td>0.515625</td>\n      <td>0.503125</td>\n      <td>0.428125</td>\n      <td>0.409375</td>\n      <td>...</td>\n      <td>0.586820</td>\n      <td>0.363976</td>\n      <td>0.490193</td>\n      <td>0.239185</td>\n      <td>0.360996</td>\n      <td>0.330440</td>\n      <td>0.417557</td>\n      <td>0.718417</td>\n      <td>0.706618</td>\n      <td>0.751304</td>\n    </tr>\n    <tr>\n      <th>2051</th>\n      <td>0.484375</td>\n      <td>0.490625</td>\n      <td>0.409375</td>\n      <td>0.337500</td>\n      <td>0.387500</td>\n      <td>0.562500</td>\n      <td>0.646875</td>\n      <td>0.593750</td>\n      <td>0.468750</td>\n      <td>0.418750</td>\n      <td>...</td>\n      <td>0.599333</td>\n      <td>0.300182</td>\n      <td>0.385936</td>\n      <td>0.140123</td>\n      <td>0.159484</td>\n      <td>0.169459</td>\n      <td>0.137715</td>\n      <td>0.741036</td>\n      <td>0.873822</td>\n      <td>0.684559</td>\n    </tr>\n    <tr>\n      <th>465</th>\n      <td>0.412500</td>\n      <td>0.456250</td>\n      <td>0.418750</td>\n      <td>0.356250</td>\n      <td>0.384375</td>\n      <td>0.650000</td>\n      <td>0.728125</td>\n      <td>0.640625</td>\n      <td>0.484375</td>\n      <td>0.421875</td>\n      <td>...</td>\n      <td>0.671045</td>\n      <td>0.275440</td>\n      <td>0.364160</td>\n      <td>0.104558</td>\n      <td>0.236490</td>\n      <td>0.095142</td>\n      <td>0.130865</td>\n      <td>0.777106</td>\n      <td>0.748328</td>\n      <td>0.822788</td>\n    </tr>\n  </tbody>\n</table>\n<p>505 rows × 51 columns</p>\n</div>"
     },
     "metadata": {},
     "execution_count": 7
    }
   ],
   "source": [
    "X_test"
   ]
  },
  {
   "cell_type": "code",
   "execution_count": 8,
   "metadata": {},
   "outputs": [],
   "source": [
    "clf = MLPClassifier(hidden_layer_sizes=(64, 64,),solver = 'sgd').fit(X_train, y_train)"
   ]
  },
  {
   "cell_type": "code",
   "execution_count": 9,
   "metadata": {},
   "outputs": [
    {
     "output_type": "stream",
     "name": "stdout",
     "text": [
      "Accuracy : 0.9722772277227723\nF1 Score : 0.9722772277227723\nPrecision : 0.9722772277227723\nRecall : 0.9722772277227723\n"
     ]
    }
   ],
   "source": [
    "predicted = clf.predict(X_test)\n",
    "print('Accuracy :', accuracy_score(y_test, predicted))\n",
    "print('F1 Score :', f1_score(y_test, predicted, average='micro'))\n",
    "print('Precision :', precision_score(y_test, predicted, average='micro'))\n",
    "print('Recall :', recall_score(y_test, predicted, average='micro'))"
   ]
  },
  {
   "cell_type": "code",
   "execution_count": null,
   "metadata": {},
   "outputs": [],
   "source": []
  }
 ],
 "metadata": {
  "kernelspec": {
   "display_name": "Python 3",
   "language": "python",
   "name": "python3"
  },
  "language_info": {
   "codemirror_mode": {
    "name": "ipython",
    "version": 3
   },
   "file_extension": ".py",
   "mimetype": "text/x-python",
   "name": "python",
   "nbconvert_exporter": "python",
   "pygments_lexer": "ipython3",
   "version": "3.8.5-final"
  }
 },
 "nbformat": 4,
 "nbformat_minor": 4
}