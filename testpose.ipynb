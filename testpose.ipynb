{
 "cells": [
  {
   "cell_type": "code",
   "execution_count": 46,
   "metadata": {},
   "outputs": [],
   "source": [
    "import pandas as pd\n",
    "import numpy as np\n",
    "import matplotlib.pyplot as plt\n",
    "import seaborn as sns\n",
    "\n",
    "from sklearn.preprocessing import StandardScaler\n",
    "\n",
    "from sklearn.model_selection import train_test_split\n",
    "from sklearn.ensemble import RandomForestClassifier\n",
    "from sklearn.neural_network import MLPClassifier\n",
    "\n",
    "from sklearn.metrics import confusion_matrix, accuracy_score, recall_score, precision_score, f1_score\n",
    "%matplotlib inline"
   ]
  },
  {
   "cell_type": "code",
   "execution_count": 50,
   "metadata": {},
   "outputs": [
    {
     "output_type": "execute_result",
     "data": {
      "text/plain": [
       "                         photopath   part_x0   part_x1   part_x2   part_x3  \\\n",
       "0                  img_set_242.jpg  0.543750  0.553125  0.493750  0.453125   \n",
       "1                  img_set_223.jpg  0.565625  0.531250  0.500000  0.434375   \n",
       "2                   img_set_54.jpg  0.571875  0.568750  0.509375  0.462500   \n",
       "3                  img_set_363.jpg  0.571875  0.568750  0.509375  0.462500   \n",
       "4                  img_set_519.jpg  0.465625  0.471875  0.409375  0.400000   \n",
       "...                            ...       ...       ...       ...       ...   \n",
       "2619   shift_img_knee_touch_99.jpg  0.384375  0.446875  0.415625  0.434375   \n",
       "2620  shift_img_knee_touch_354.jpg  0.506250  0.493750  0.440625  0.396875   \n",
       "2621  shift_img_knee_touch_439.jpg  0.565625  0.493750  0.453125  0.415625   \n",
       "2622  shift_img_knee_touch_419.jpg  0.459375  0.506250  0.459375  0.453125   \n",
       "2623  shift_img_knee_touch_415.jpg  0.456250  0.503125  0.456250  0.446875   \n",
       "\n",
       "       part_x4   part_x5   part_x6   part_x7   part_x8  ...    score8  \\\n",
       "0     0.478125  0.609375  0.656250  0.615625  0.515625  ...  0.327584   \n",
       "1     0.471875  0.562500  0.656250  0.615625  0.515625  ...  0.327584   \n",
       "2     0.471875  0.634375  0.687500  0.643750  0.512500  ...  0.310516   \n",
       "3     0.471875  0.634375  0.687500  0.643750  0.512500  ...  0.310516   \n",
       "4     0.471875  0.634375  0.687500  0.643750  0.512500  ...  0.310516   \n",
       "...        ...       ...       ...       ...       ...  ...       ...   \n",
       "2619  0.437500  0.465625  0.537500  0.600000  0.512500  ...  0.560612   \n",
       "2620  0.346875  0.543750  0.578125  0.593750  0.431250  ...  0.541690   \n",
       "2621  0.356250  0.534375  0.537500  0.546875  0.390625  ...  0.391528   \n",
       "2622  0.431250  0.553125  0.646875  0.728125  0.531250  ...  0.508059   \n",
       "2623  0.425000  0.550000  0.643750  0.725000  0.525000  ...  0.568318   \n",
       "\n",
       "        score9   score10   score11   score12   score13   score14   score15  \\\n",
       "0     0.603786  0.576362  0.346418  0.276199  0.414210  0.706337  0.694720   \n",
       "1     0.603786  0.576362  0.346418  0.276199  0.414210  0.706337  0.694720   \n",
       "2     0.211923  0.576362  0.346418  0.276199  0.414210  0.706337  0.694720   \n",
       "3     0.211923  0.576362  0.346418  0.276199  0.414210  0.706337  0.694720   \n",
       "4     0.211923  0.576362  0.346418  0.276199  0.414210  0.706337  0.694720   \n",
       "...        ...       ...       ...       ...       ...       ...       ...   \n",
       "2619  0.575454  0.561019  0.510927  0.381930  0.514100  0.638541  0.728595   \n",
       "2620  0.666302  0.581286  0.542542  0.630160  0.518480  0.847260  0.756152   \n",
       "2621  0.657135  0.546607  0.431268  0.426233  0.259599  0.644138  0.482590   \n",
       "2622  0.615266  0.504570  0.472350  0.525847  0.292712  0.626440  0.805001   \n",
       "2623  0.549764  0.468533  0.541232  0.543273  0.221411  0.664128  0.890566   \n",
       "\n",
       "       score16       label  \n",
       "0     0.563441         set  \n",
       "1     0.563441         set  \n",
       "2     0.563441         set  \n",
       "3     0.563441         set  \n",
       "4     0.563441         set  \n",
       "...        ...         ...  \n",
       "2619  0.507887  knee_touch  \n",
       "2620  0.608194  knee_touch  \n",
       "2621  0.637415  knee_touch  \n",
       "2622  0.740020  knee_touch  \n",
       "2623  0.711465  knee_touch  \n",
       "\n",
       "[2624 rows x 53 columns]"
      ],
      "text/html": "<div>\n<style scoped>\n    .dataframe tbody tr th:only-of-type {\n        vertical-align: middle;\n    }\n\n    .dataframe tbody tr th {\n        vertical-align: top;\n    }\n\n    .dataframe thead th {\n        text-align: right;\n    }\n</style>\n<table border=\"1\" class=\"dataframe\">\n  <thead>\n    <tr style=\"text-align: right;\">\n      <th></th>\n      <th>photopath</th>\n      <th>part_x0</th>\n      <th>part_x1</th>\n      <th>part_x2</th>\n      <th>part_x3</th>\n      <th>part_x4</th>\n      <th>part_x5</th>\n      <th>part_x6</th>\n      <th>part_x7</th>\n      <th>part_x8</th>\n      <th>...</th>\n      <th>score8</th>\n      <th>score9</th>\n      <th>score10</th>\n      <th>score11</th>\n      <th>score12</th>\n      <th>score13</th>\n      <th>score14</th>\n      <th>score15</th>\n      <th>score16</th>\n      <th>label</th>\n    </tr>\n  </thead>\n  <tbody>\n    <tr>\n      <th>0</th>\n      <td>img_set_242.jpg</td>\n      <td>0.543750</td>\n      <td>0.553125</td>\n      <td>0.493750</td>\n      <td>0.453125</td>\n      <td>0.478125</td>\n      <td>0.609375</td>\n      <td>0.656250</td>\n      <td>0.615625</td>\n      <td>0.515625</td>\n      <td>...</td>\n      <td>0.327584</td>\n      <td>0.603786</td>\n      <td>0.576362</td>\n      <td>0.346418</td>\n      <td>0.276199</td>\n      <td>0.414210</td>\n      <td>0.706337</td>\n      <td>0.694720</td>\n      <td>0.563441</td>\n      <td>set</td>\n    </tr>\n    <tr>\n      <th>1</th>\n      <td>img_set_223.jpg</td>\n      <td>0.565625</td>\n      <td>0.531250</td>\n      <td>0.500000</td>\n      <td>0.434375</td>\n      <td>0.471875</td>\n      <td>0.562500</td>\n      <td>0.656250</td>\n      <td>0.615625</td>\n      <td>0.515625</td>\n      <td>...</td>\n      <td>0.327584</td>\n      <td>0.603786</td>\n      <td>0.576362</td>\n      <td>0.346418</td>\n      <td>0.276199</td>\n      <td>0.414210</td>\n      <td>0.706337</td>\n      <td>0.694720</td>\n      <td>0.563441</td>\n      <td>set</td>\n    </tr>\n    <tr>\n      <th>2</th>\n      <td>img_set_54.jpg</td>\n      <td>0.571875</td>\n      <td>0.568750</td>\n      <td>0.509375</td>\n      <td>0.462500</td>\n      <td>0.471875</td>\n      <td>0.634375</td>\n      <td>0.687500</td>\n      <td>0.643750</td>\n      <td>0.512500</td>\n      <td>...</td>\n      <td>0.310516</td>\n      <td>0.211923</td>\n      <td>0.576362</td>\n      <td>0.346418</td>\n      <td>0.276199</td>\n      <td>0.414210</td>\n      <td>0.706337</td>\n      <td>0.694720</td>\n      <td>0.563441</td>\n      <td>set</td>\n    </tr>\n    <tr>\n      <th>3</th>\n      <td>img_set_363.jpg</td>\n      <td>0.571875</td>\n      <td>0.568750</td>\n      <td>0.509375</td>\n      <td>0.462500</td>\n      <td>0.471875</td>\n      <td>0.634375</td>\n      <td>0.687500</td>\n      <td>0.643750</td>\n      <td>0.512500</td>\n      <td>...</td>\n      <td>0.310516</td>\n      <td>0.211923</td>\n      <td>0.576362</td>\n      <td>0.346418</td>\n      <td>0.276199</td>\n      <td>0.414210</td>\n      <td>0.706337</td>\n      <td>0.694720</td>\n      <td>0.563441</td>\n      <td>set</td>\n    </tr>\n    <tr>\n      <th>4</th>\n      <td>img_set_519.jpg</td>\n      <td>0.465625</td>\n      <td>0.471875</td>\n      <td>0.409375</td>\n      <td>0.400000</td>\n      <td>0.471875</td>\n      <td>0.634375</td>\n      <td>0.687500</td>\n      <td>0.643750</td>\n      <td>0.512500</td>\n      <td>...</td>\n      <td>0.310516</td>\n      <td>0.211923</td>\n      <td>0.576362</td>\n      <td>0.346418</td>\n      <td>0.276199</td>\n      <td>0.414210</td>\n      <td>0.706337</td>\n      <td>0.694720</td>\n      <td>0.563441</td>\n      <td>set</td>\n    </tr>\n    <tr>\n      <th>...</th>\n      <td>...</td>\n      <td>...</td>\n      <td>...</td>\n      <td>...</td>\n      <td>...</td>\n      <td>...</td>\n      <td>...</td>\n      <td>...</td>\n      <td>...</td>\n      <td>...</td>\n      <td>...</td>\n      <td>...</td>\n      <td>...</td>\n      <td>...</td>\n      <td>...</td>\n      <td>...</td>\n      <td>...</td>\n      <td>...</td>\n      <td>...</td>\n      <td>...</td>\n      <td>...</td>\n    </tr>\n    <tr>\n      <th>2619</th>\n      <td>shift_img_knee_touch_99.jpg</td>\n      <td>0.384375</td>\n      <td>0.446875</td>\n      <td>0.415625</td>\n      <td>0.434375</td>\n      <td>0.437500</td>\n      <td>0.465625</td>\n      <td>0.537500</td>\n      <td>0.600000</td>\n      <td>0.512500</td>\n      <td>...</td>\n      <td>0.560612</td>\n      <td>0.575454</td>\n      <td>0.561019</td>\n      <td>0.510927</td>\n      <td>0.381930</td>\n      <td>0.514100</td>\n      <td>0.638541</td>\n      <td>0.728595</td>\n      <td>0.507887</td>\n      <td>knee_touch</td>\n    </tr>\n    <tr>\n      <th>2620</th>\n      <td>shift_img_knee_touch_354.jpg</td>\n      <td>0.506250</td>\n      <td>0.493750</td>\n      <td>0.440625</td>\n      <td>0.396875</td>\n      <td>0.346875</td>\n      <td>0.543750</td>\n      <td>0.578125</td>\n      <td>0.593750</td>\n      <td>0.431250</td>\n      <td>...</td>\n      <td>0.541690</td>\n      <td>0.666302</td>\n      <td>0.581286</td>\n      <td>0.542542</td>\n      <td>0.630160</td>\n      <td>0.518480</td>\n      <td>0.847260</td>\n      <td>0.756152</td>\n      <td>0.608194</td>\n      <td>knee_touch</td>\n    </tr>\n    <tr>\n      <th>2621</th>\n      <td>shift_img_knee_touch_439.jpg</td>\n      <td>0.565625</td>\n      <td>0.493750</td>\n      <td>0.453125</td>\n      <td>0.415625</td>\n      <td>0.356250</td>\n      <td>0.534375</td>\n      <td>0.537500</td>\n      <td>0.546875</td>\n      <td>0.390625</td>\n      <td>...</td>\n      <td>0.391528</td>\n      <td>0.657135</td>\n      <td>0.546607</td>\n      <td>0.431268</td>\n      <td>0.426233</td>\n      <td>0.259599</td>\n      <td>0.644138</td>\n      <td>0.482590</td>\n      <td>0.637415</td>\n      <td>knee_touch</td>\n    </tr>\n    <tr>\n      <th>2622</th>\n      <td>shift_img_knee_touch_419.jpg</td>\n      <td>0.459375</td>\n      <td>0.506250</td>\n      <td>0.459375</td>\n      <td>0.453125</td>\n      <td>0.431250</td>\n      <td>0.553125</td>\n      <td>0.646875</td>\n      <td>0.728125</td>\n      <td>0.531250</td>\n      <td>...</td>\n      <td>0.508059</td>\n      <td>0.615266</td>\n      <td>0.504570</td>\n      <td>0.472350</td>\n      <td>0.525847</td>\n      <td>0.292712</td>\n      <td>0.626440</td>\n      <td>0.805001</td>\n      <td>0.740020</td>\n      <td>knee_touch</td>\n    </tr>\n    <tr>\n      <th>2623</th>\n      <td>shift_img_knee_touch_415.jpg</td>\n      <td>0.456250</td>\n      <td>0.503125</td>\n      <td>0.456250</td>\n      <td>0.446875</td>\n      <td>0.425000</td>\n      <td>0.550000</td>\n      <td>0.643750</td>\n      <td>0.725000</td>\n      <td>0.525000</td>\n      <td>...</td>\n      <td>0.568318</td>\n      <td>0.549764</td>\n      <td>0.468533</td>\n      <td>0.541232</td>\n      <td>0.543273</td>\n      <td>0.221411</td>\n      <td>0.664128</td>\n      <td>0.890566</td>\n      <td>0.711465</td>\n      <td>knee_touch</td>\n    </tr>\n  </tbody>\n</table>\n<p>2624 rows × 53 columns</p>\n</div>"
     },
     "metadata": {},
     "execution_count": 50
    }
   ],
   "source": [
    "df = pd.read_csv('datatrainall.csv')\n",
    "df"
   ]
  },
  {
   "cell_type": "code",
   "execution_count": 53,
   "metadata": {},
   "outputs": [
    {
     "output_type": "stream",
     "name": "stdout",
     "text": [
      "<class 'pandas.core.frame.DataFrame'>\nRangeIndex: 2624 entries, 0 to 2623\nData columns (total 53 columns):\n #   Column     Non-Null Count  Dtype  \n---  ------     --------------  -----  \n 0   photopath  2624 non-null   object \n 1   part_x0    2624 non-null   float64\n 2   part_x1    2624 non-null   float64\n 3   part_x2    2624 non-null   float64\n 4   part_x3    2624 non-null   float64\n 5   part_x4    2624 non-null   float64\n 6   part_x5    2624 non-null   float64\n 7   part_x6    2624 non-null   float64\n 8   part_x7    2624 non-null   float64\n 9   part_x8    2624 non-null   float64\n 10  part_x9    2624 non-null   float64\n 11  part_x10   2624 non-null   float64\n 12  part_x11   2624 non-null   float64\n 13  part_x12   2624 non-null   float64\n 14  part_x13   2624 non-null   float64\n 15  part_x14   2624 non-null   float64\n 16  part_x15   2624 non-null   float64\n 17  part_x16   2624 non-null   float64\n 18  part_y0    2624 non-null   float64\n 19  part_y1    2624 non-null   float64\n 20  part_y2    2624 non-null   float64\n 21  part_y3    2624 non-null   float64\n 22  part_y4    2624 non-null   float64\n 23  part_y5    2624 non-null   float64\n 24  part_y6    2624 non-null   float64\n 25  part_y7    2624 non-null   float64\n 26  part_y8    2624 non-null   float64\n 27  part_y9    2624 non-null   float64\n 28  part_y10   2624 non-null   float64\n 29  part_y11   2624 non-null   float64\n 30  part_y12   2624 non-null   float64\n 31  part_y13   2624 non-null   float64\n 32  part_y14   2624 non-null   float64\n 33  part_y15   2624 non-null   float64\n 34  part_y16   2624 non-null   float64\n 35  score0     2624 non-null   float64\n 36  score1     2624 non-null   float64\n 37  score2     2624 non-null   float64\n 38  score3     2624 non-null   float64\n 39  score4     2624 non-null   float64\n 40  score5     2624 non-null   float64\n 41  score6     2624 non-null   float64\n 42  score7     2624 non-null   float64\n 43  score8     2624 non-null   float64\n 44  score9     2624 non-null   float64\n 45  score10    2624 non-null   float64\n 46  score11    2624 non-null   float64\n 47  score12    2624 non-null   float64\n 48  score13    2624 non-null   float64\n 49  score14    2624 non-null   float64\n 50  score15    2624 non-null   float64\n 51  score16    2624 non-null   float64\n 52  label      2624 non-null   object \ndtypes: float64(51), object(2)\nmemory usage: 1.1+ MB\n"
     ]
    }
   ],
   "source": [
    "df.info()"
   ]
  },
  {
   "cell_type": "code",
   "execution_count": 56,
   "metadata": {},
   "outputs": [
    {
     "output_type": "execute_result",
     "data": {
      "text/plain": [
       "       part_x0   part_x1   part_x2   part_x3   part_x4   part_x5   part_x6  \\\n",
       "0     0.543750  0.553125  0.493750  0.453125  0.478125  0.609375  0.656250   \n",
       "1     0.565625  0.531250  0.500000  0.434375  0.471875  0.562500  0.656250   \n",
       "2     0.571875  0.568750  0.509375  0.462500  0.471875  0.634375  0.687500   \n",
       "3     0.571875  0.568750  0.509375  0.462500  0.471875  0.634375  0.687500   \n",
       "4     0.465625  0.471875  0.409375  0.400000  0.471875  0.634375  0.687500   \n",
       "...        ...       ...       ...       ...       ...       ...       ...   \n",
       "2619  0.384375  0.446875  0.415625  0.434375  0.437500  0.465625  0.537500   \n",
       "2620  0.506250  0.493750  0.440625  0.396875  0.346875  0.543750  0.578125   \n",
       "2621  0.565625  0.493750  0.453125  0.415625  0.356250  0.534375  0.537500   \n",
       "2622  0.459375  0.506250  0.459375  0.453125  0.431250  0.553125  0.646875   \n",
       "2623  0.456250  0.503125  0.456250  0.446875  0.425000  0.550000  0.643750   \n",
       "\n",
       "       part_x7   part_x8   part_x9  ...    score7    score8    score9  \\\n",
       "0     0.615625  0.515625  0.500000  ...  0.686369  0.327584  0.603786   \n",
       "1     0.615625  0.515625  0.500000  ...  0.686369  0.327584  0.603786   \n",
       "2     0.643750  0.512500  0.484375  ...  0.646998  0.310516  0.211923   \n",
       "3     0.643750  0.512500  0.484375  ...  0.646998  0.310516  0.211923   \n",
       "4     0.643750  0.512500  0.484375  ...  0.646998  0.310516  0.211923   \n",
       "...        ...       ...       ...  ...       ...       ...       ...   \n",
       "2619  0.600000  0.512500  0.468750  ...  0.548881  0.560612  0.575454   \n",
       "2620  0.593750  0.431250  0.409375  ...  0.435109  0.541690  0.666302   \n",
       "2621  0.546875  0.390625  0.356250  ...  0.632546  0.391528  0.657135   \n",
       "2622  0.728125  0.531250  0.487500  ...  0.561231  0.508059  0.615266   \n",
       "2623  0.725000  0.525000  0.478125  ...  0.624220  0.568318  0.549764   \n",
       "\n",
       "       score10   score11   score12   score13   score14   score15   score16  \n",
       "0     0.576362  0.346418  0.276199  0.414210  0.706337  0.694720  0.563441  \n",
       "1     0.576362  0.346418  0.276199  0.414210  0.706337  0.694720  0.563441  \n",
       "2     0.576362  0.346418  0.276199  0.414210  0.706337  0.694720  0.563441  \n",
       "3     0.576362  0.346418  0.276199  0.414210  0.706337  0.694720  0.563441  \n",
       "4     0.576362  0.346418  0.276199  0.414210  0.706337  0.694720  0.563441  \n",
       "...        ...       ...       ...       ...       ...       ...       ...  \n",
       "2619  0.561019  0.510927  0.381930  0.514100  0.638541  0.728595  0.507887  \n",
       "2620  0.581286  0.542542  0.630160  0.518480  0.847260  0.756152  0.608194  \n",
       "2621  0.546607  0.431268  0.426233  0.259599  0.644138  0.482590  0.637415  \n",
       "2622  0.504570  0.472350  0.525847  0.292712  0.626440  0.805001  0.740020  \n",
       "2623  0.468533  0.541232  0.543273  0.221411  0.664128  0.890566  0.711465  \n",
       "\n",
       "[2624 rows x 51 columns]"
      ],
      "text/html": "<div>\n<style scoped>\n    .dataframe tbody tr th:only-of-type {\n        vertical-align: middle;\n    }\n\n    .dataframe tbody tr th {\n        vertical-align: top;\n    }\n\n    .dataframe thead th {\n        text-align: right;\n    }\n</style>\n<table border=\"1\" class=\"dataframe\">\n  <thead>\n    <tr style=\"text-align: right;\">\n      <th></th>\n      <th>part_x0</th>\n      <th>part_x1</th>\n      <th>part_x2</th>\n      <th>part_x3</th>\n      <th>part_x4</th>\n      <th>part_x5</th>\n      <th>part_x6</th>\n      <th>part_x7</th>\n      <th>part_x8</th>\n      <th>part_x9</th>\n      <th>...</th>\n      <th>score7</th>\n      <th>score8</th>\n      <th>score9</th>\n      <th>score10</th>\n      <th>score11</th>\n      <th>score12</th>\n      <th>score13</th>\n      <th>score14</th>\n      <th>score15</th>\n      <th>score16</th>\n    </tr>\n  </thead>\n  <tbody>\n    <tr>\n      <th>0</th>\n      <td>0.543750</td>\n      <td>0.553125</td>\n      <td>0.493750</td>\n      <td>0.453125</td>\n      <td>0.478125</td>\n      <td>0.609375</td>\n      <td>0.656250</td>\n      <td>0.615625</td>\n      <td>0.515625</td>\n      <td>0.500000</td>\n      <td>...</td>\n      <td>0.686369</td>\n      <td>0.327584</td>\n      <td>0.603786</td>\n      <td>0.576362</td>\n      <td>0.346418</td>\n      <td>0.276199</td>\n      <td>0.414210</td>\n      <td>0.706337</td>\n      <td>0.694720</td>\n      <td>0.563441</td>\n    </tr>\n    <tr>\n      <th>1</th>\n      <td>0.565625</td>\n      <td>0.531250</td>\n      <td>0.500000</td>\n      <td>0.434375</td>\n      <td>0.471875</td>\n      <td>0.562500</td>\n      <td>0.656250</td>\n      <td>0.615625</td>\n      <td>0.515625</td>\n      <td>0.500000</td>\n      <td>...</td>\n      <td>0.686369</td>\n      <td>0.327584</td>\n      <td>0.603786</td>\n      <td>0.576362</td>\n      <td>0.346418</td>\n      <td>0.276199</td>\n      <td>0.414210</td>\n      <td>0.706337</td>\n      <td>0.694720</td>\n      <td>0.563441</td>\n    </tr>\n    <tr>\n      <th>2</th>\n      <td>0.571875</td>\n      <td>0.568750</td>\n      <td>0.509375</td>\n      <td>0.462500</td>\n      <td>0.471875</td>\n      <td>0.634375</td>\n      <td>0.687500</td>\n      <td>0.643750</td>\n      <td>0.512500</td>\n      <td>0.484375</td>\n      <td>...</td>\n      <td>0.646998</td>\n      <td>0.310516</td>\n      <td>0.211923</td>\n      <td>0.576362</td>\n      <td>0.346418</td>\n      <td>0.276199</td>\n      <td>0.414210</td>\n      <td>0.706337</td>\n      <td>0.694720</td>\n      <td>0.563441</td>\n    </tr>\n    <tr>\n      <th>3</th>\n      <td>0.571875</td>\n      <td>0.568750</td>\n      <td>0.509375</td>\n      <td>0.462500</td>\n      <td>0.471875</td>\n      <td>0.634375</td>\n      <td>0.687500</td>\n      <td>0.643750</td>\n      <td>0.512500</td>\n      <td>0.484375</td>\n      <td>...</td>\n      <td>0.646998</td>\n      <td>0.310516</td>\n      <td>0.211923</td>\n      <td>0.576362</td>\n      <td>0.346418</td>\n      <td>0.276199</td>\n      <td>0.414210</td>\n      <td>0.706337</td>\n      <td>0.694720</td>\n      <td>0.563441</td>\n    </tr>\n    <tr>\n      <th>4</th>\n      <td>0.465625</td>\n      <td>0.471875</td>\n      <td>0.409375</td>\n      <td>0.400000</td>\n      <td>0.471875</td>\n      <td>0.634375</td>\n      <td>0.687500</td>\n      <td>0.643750</td>\n      <td>0.512500</td>\n      <td>0.484375</td>\n      <td>...</td>\n      <td>0.646998</td>\n      <td>0.310516</td>\n      <td>0.211923</td>\n      <td>0.576362</td>\n      <td>0.346418</td>\n      <td>0.276199</td>\n      <td>0.414210</td>\n      <td>0.706337</td>\n      <td>0.694720</td>\n      <td>0.563441</td>\n    </tr>\n    <tr>\n      <th>...</th>\n      <td>...</td>\n      <td>...</td>\n      <td>...</td>\n      <td>...</td>\n      <td>...</td>\n      <td>...</td>\n      <td>...</td>\n      <td>...</td>\n      <td>...</td>\n      <td>...</td>\n      <td>...</td>\n      <td>...</td>\n      <td>...</td>\n      <td>...</td>\n      <td>...</td>\n      <td>...</td>\n      <td>...</td>\n      <td>...</td>\n      <td>...</td>\n      <td>...</td>\n      <td>...</td>\n    </tr>\n    <tr>\n      <th>2619</th>\n      <td>0.384375</td>\n      <td>0.446875</td>\n      <td>0.415625</td>\n      <td>0.434375</td>\n      <td>0.437500</td>\n      <td>0.465625</td>\n      <td>0.537500</td>\n      <td>0.600000</td>\n      <td>0.512500</td>\n      <td>0.468750</td>\n      <td>...</td>\n      <td>0.548881</td>\n      <td>0.560612</td>\n      <td>0.575454</td>\n      <td>0.561019</td>\n      <td>0.510927</td>\n      <td>0.381930</td>\n      <td>0.514100</td>\n      <td>0.638541</td>\n      <td>0.728595</td>\n      <td>0.507887</td>\n    </tr>\n    <tr>\n      <th>2620</th>\n      <td>0.506250</td>\n      <td>0.493750</td>\n      <td>0.440625</td>\n      <td>0.396875</td>\n      <td>0.346875</td>\n      <td>0.543750</td>\n      <td>0.578125</td>\n      <td>0.593750</td>\n      <td>0.431250</td>\n      <td>0.409375</td>\n      <td>...</td>\n      <td>0.435109</td>\n      <td>0.541690</td>\n      <td>0.666302</td>\n      <td>0.581286</td>\n      <td>0.542542</td>\n      <td>0.630160</td>\n      <td>0.518480</td>\n      <td>0.847260</td>\n      <td>0.756152</td>\n      <td>0.608194</td>\n    </tr>\n    <tr>\n      <th>2621</th>\n      <td>0.565625</td>\n      <td>0.493750</td>\n      <td>0.453125</td>\n      <td>0.415625</td>\n      <td>0.356250</td>\n      <td>0.534375</td>\n      <td>0.537500</td>\n      <td>0.546875</td>\n      <td>0.390625</td>\n      <td>0.356250</td>\n      <td>...</td>\n      <td>0.632546</td>\n      <td>0.391528</td>\n      <td>0.657135</td>\n      <td>0.546607</td>\n      <td>0.431268</td>\n      <td>0.426233</td>\n      <td>0.259599</td>\n      <td>0.644138</td>\n      <td>0.482590</td>\n      <td>0.637415</td>\n    </tr>\n    <tr>\n      <th>2622</th>\n      <td>0.459375</td>\n      <td>0.506250</td>\n      <td>0.459375</td>\n      <td>0.453125</td>\n      <td>0.431250</td>\n      <td>0.553125</td>\n      <td>0.646875</td>\n      <td>0.728125</td>\n      <td>0.531250</td>\n      <td>0.487500</td>\n      <td>...</td>\n      <td>0.561231</td>\n      <td>0.508059</td>\n      <td>0.615266</td>\n      <td>0.504570</td>\n      <td>0.472350</td>\n      <td>0.525847</td>\n      <td>0.292712</td>\n      <td>0.626440</td>\n      <td>0.805001</td>\n      <td>0.740020</td>\n    </tr>\n    <tr>\n      <th>2623</th>\n      <td>0.456250</td>\n      <td>0.503125</td>\n      <td>0.456250</td>\n      <td>0.446875</td>\n      <td>0.425000</td>\n      <td>0.550000</td>\n      <td>0.643750</td>\n      <td>0.725000</td>\n      <td>0.525000</td>\n      <td>0.478125</td>\n      <td>...</td>\n      <td>0.624220</td>\n      <td>0.568318</td>\n      <td>0.549764</td>\n      <td>0.468533</td>\n      <td>0.541232</td>\n      <td>0.543273</td>\n      <td>0.221411</td>\n      <td>0.664128</td>\n      <td>0.890566</td>\n      <td>0.711465</td>\n    </tr>\n  </tbody>\n</table>\n<p>2624 rows × 51 columns</p>\n</div>"
     },
     "metadata": {},
     "execution_count": 56
    }
   ],
   "source": [
    "df_drop = df.drop(columns = ['photopath','label'])\n",
    "df_drop"
   ]
  },
  {
   "cell_type": "code",
   "execution_count": 58,
   "metadata": {},
   "outputs": [],
   "source": [
    "X = df_drop\n",
    "y = df['label']"
   ]
  },
  {
   "cell_type": "code",
   "execution_count": 60,
   "metadata": {},
   "outputs": [],
   "source": [
    "X_train, X_test, y_train, y_test = train_test_split(X,y,test_size=0.2, random_state=300)"
   ]
  },
  {
   "cell_type": "code",
   "execution_count": 62,
   "metadata": {},
   "outputs": [
    {
     "output_type": "execute_result",
     "data": {
      "text/plain": [
       "       part_x0   part_x1   part_x2   part_x3   part_x4   part_x5   part_x6  \\\n",
       "2238  0.465625  0.531250  0.500000  0.506250  0.490625  0.578125  0.631250   \n",
       "2051  0.521875  0.515625  0.462500  0.428125  0.400000  0.565625  0.587500   \n",
       "1672  0.509375  0.571875  0.568750  0.465625  0.500000  0.625000  0.628125   \n",
       "847   0.378125  0.434375  0.403125  0.400000  0.381250  0.475000  0.531250   \n",
       "2061  0.534375  0.528125  0.471875  0.431250  0.425000  0.578125  0.596875   \n",
       "...        ...       ...       ...       ...       ...       ...       ...   \n",
       "2074  0.559375  0.550000  0.496875  0.484375  0.487500  0.600000  0.631250   \n",
       "1075  0.756250  0.721875  0.671875  0.606250  0.531250  0.765625  0.778125   \n",
       "840   0.428125  0.415625  0.362500  0.315625  0.256250  0.468750  0.509375   \n",
       "1716  0.446875  0.443750  0.396875  0.368750  0.353125  0.484375  0.503125   \n",
       "2043  0.637500  0.631250  0.578125  0.568750  0.578125  0.684375  0.709375   \n",
       "\n",
       "       part_x7   part_x8   part_x9  ...    score7    score8    score9  \\\n",
       "2238  0.703125  0.584375  0.556250  ...  0.629086  0.392126  0.490534   \n",
       "2051  0.603125  0.481250  0.446875  ...  0.643641  0.542974  0.659959   \n",
       "1672  0.615625  0.540625  0.537500  ...  0.338356  0.381155  0.644504   \n",
       "847   0.596875  0.478125  0.459375  ...  0.556866  0.320958  0.386783   \n",
       "2061  0.612500  0.490625  0.453125  ...  0.574448  0.518016  0.645430   \n",
       "...        ...       ...       ...  ...       ...       ...       ...   \n",
       "2074  0.671875  0.490625  0.475000  ...  0.699893  0.454619  0.687684   \n",
       "1075  0.796875  0.659375  0.640625  ...  0.291406  0.551940  0.613034   \n",
       "840   0.525000  0.375000  0.343750  ...  0.655474  0.595633  0.676428   \n",
       "1716  0.515625  0.412500  0.378125  ...  0.603900  0.645908  0.630725   \n",
       "2043  0.734375  0.590625  0.565625  ...  0.650684  0.493970  0.694791   \n",
       "\n",
       "       score10   score11   score12   score13   score14   score15   score16  \n",
       "2238  0.219891  0.248292  0.187248  0.216550  0.565596  0.701656  0.661268  \n",
       "2051  0.597727  0.527931  0.706380  0.511505  0.833991  0.835082  0.766731  \n",
       "1672  0.511231  0.366924  0.523251  0.547208  0.734609  0.796218  0.686475  \n",
       "847   0.182300  0.202125  0.248487  0.445343  0.614213  0.613563  0.695732  \n",
       "2061  0.586948  0.485910  0.647727  0.524953  0.758963  0.739588  0.685867  \n",
       "...        ...       ...       ...       ...       ...       ...       ...  \n",
       "2074  0.628468  0.538341  0.644832  0.508644  0.784792  0.734874  0.793062  \n",
       "1075  0.614555  0.511744  0.515517  0.378001  0.841881  0.773296  0.653684  \n",
       "840   0.666677  0.509443  0.593832  0.461631  0.763385  0.749422  0.823858  \n",
       "1716  0.661244  0.551850  0.668489  0.661828  0.726561  0.708900  0.712396  \n",
       "2043  0.609586  0.621701  0.676059  0.537766  0.751127  0.738332  0.731556  \n",
       "\n",
       "[525 rows x 51 columns]"
      ],
      "text/html": "<div>\n<style scoped>\n    .dataframe tbody tr th:only-of-type {\n        vertical-align: middle;\n    }\n\n    .dataframe tbody tr th {\n        vertical-align: top;\n    }\n\n    .dataframe thead th {\n        text-align: right;\n    }\n</style>\n<table border=\"1\" class=\"dataframe\">\n  <thead>\n    <tr style=\"text-align: right;\">\n      <th></th>\n      <th>part_x0</th>\n      <th>part_x1</th>\n      <th>part_x2</th>\n      <th>part_x3</th>\n      <th>part_x4</th>\n      <th>part_x5</th>\n      <th>part_x6</th>\n      <th>part_x7</th>\n      <th>part_x8</th>\n      <th>part_x9</th>\n      <th>...</th>\n      <th>score7</th>\n      <th>score8</th>\n      <th>score9</th>\n      <th>score10</th>\n      <th>score11</th>\n      <th>score12</th>\n      <th>score13</th>\n      <th>score14</th>\n      <th>score15</th>\n      <th>score16</th>\n    </tr>\n  </thead>\n  <tbody>\n    <tr>\n      <th>2238</th>\n      <td>0.465625</td>\n      <td>0.531250</td>\n      <td>0.500000</td>\n      <td>0.506250</td>\n      <td>0.490625</td>\n      <td>0.578125</td>\n      <td>0.631250</td>\n      <td>0.703125</td>\n      <td>0.584375</td>\n      <td>0.556250</td>\n      <td>...</td>\n      <td>0.629086</td>\n      <td>0.392126</td>\n      <td>0.490534</td>\n      <td>0.219891</td>\n      <td>0.248292</td>\n      <td>0.187248</td>\n      <td>0.216550</td>\n      <td>0.565596</td>\n      <td>0.701656</td>\n      <td>0.661268</td>\n    </tr>\n    <tr>\n      <th>2051</th>\n      <td>0.521875</td>\n      <td>0.515625</td>\n      <td>0.462500</td>\n      <td>0.428125</td>\n      <td>0.400000</td>\n      <td>0.565625</td>\n      <td>0.587500</td>\n      <td>0.603125</td>\n      <td>0.481250</td>\n      <td>0.446875</td>\n      <td>...</td>\n      <td>0.643641</td>\n      <td>0.542974</td>\n      <td>0.659959</td>\n      <td>0.597727</td>\n      <td>0.527931</td>\n      <td>0.706380</td>\n      <td>0.511505</td>\n      <td>0.833991</td>\n      <td>0.835082</td>\n      <td>0.766731</td>\n    </tr>\n    <tr>\n      <th>1672</th>\n      <td>0.509375</td>\n      <td>0.571875</td>\n      <td>0.568750</td>\n      <td>0.465625</td>\n      <td>0.500000</td>\n      <td>0.625000</td>\n      <td>0.628125</td>\n      <td>0.615625</td>\n      <td>0.540625</td>\n      <td>0.537500</td>\n      <td>...</td>\n      <td>0.338356</td>\n      <td>0.381155</td>\n      <td>0.644504</td>\n      <td>0.511231</td>\n      <td>0.366924</td>\n      <td>0.523251</td>\n      <td>0.547208</td>\n      <td>0.734609</td>\n      <td>0.796218</td>\n      <td>0.686475</td>\n    </tr>\n    <tr>\n      <th>847</th>\n      <td>0.378125</td>\n      <td>0.434375</td>\n      <td>0.403125</td>\n      <td>0.400000</td>\n      <td>0.381250</td>\n      <td>0.475000</td>\n      <td>0.531250</td>\n      <td>0.596875</td>\n      <td>0.478125</td>\n      <td>0.459375</td>\n      <td>...</td>\n      <td>0.556866</td>\n      <td>0.320958</td>\n      <td>0.386783</td>\n      <td>0.182300</td>\n      <td>0.202125</td>\n      <td>0.248487</td>\n      <td>0.445343</td>\n      <td>0.614213</td>\n      <td>0.613563</td>\n      <td>0.695732</td>\n    </tr>\n    <tr>\n      <th>2061</th>\n      <td>0.534375</td>\n      <td>0.528125</td>\n      <td>0.471875</td>\n      <td>0.431250</td>\n      <td>0.425000</td>\n      <td>0.578125</td>\n      <td>0.596875</td>\n      <td>0.612500</td>\n      <td>0.490625</td>\n      <td>0.453125</td>\n      <td>...</td>\n      <td>0.574448</td>\n      <td>0.518016</td>\n      <td>0.645430</td>\n      <td>0.586948</td>\n      <td>0.485910</td>\n      <td>0.647727</td>\n      <td>0.524953</td>\n      <td>0.758963</td>\n      <td>0.739588</td>\n      <td>0.685867</td>\n    </tr>\n    <tr>\n      <th>...</th>\n      <td>...</td>\n      <td>...</td>\n      <td>...</td>\n      <td>...</td>\n      <td>...</td>\n      <td>...</td>\n      <td>...</td>\n      <td>...</td>\n      <td>...</td>\n      <td>...</td>\n      <td>...</td>\n      <td>...</td>\n      <td>...</td>\n      <td>...</td>\n      <td>...</td>\n      <td>...</td>\n      <td>...</td>\n      <td>...</td>\n      <td>...</td>\n      <td>...</td>\n      <td>...</td>\n    </tr>\n    <tr>\n      <th>2074</th>\n      <td>0.559375</td>\n      <td>0.550000</td>\n      <td>0.496875</td>\n      <td>0.484375</td>\n      <td>0.487500</td>\n      <td>0.600000</td>\n      <td>0.631250</td>\n      <td>0.671875</td>\n      <td>0.490625</td>\n      <td>0.475000</td>\n      <td>...</td>\n      <td>0.699893</td>\n      <td>0.454619</td>\n      <td>0.687684</td>\n      <td>0.628468</td>\n      <td>0.538341</td>\n      <td>0.644832</td>\n      <td>0.508644</td>\n      <td>0.784792</td>\n      <td>0.734874</td>\n      <td>0.793062</td>\n    </tr>\n    <tr>\n      <th>1075</th>\n      <td>0.756250</td>\n      <td>0.721875</td>\n      <td>0.671875</td>\n      <td>0.606250</td>\n      <td>0.531250</td>\n      <td>0.765625</td>\n      <td>0.778125</td>\n      <td>0.796875</td>\n      <td>0.659375</td>\n      <td>0.640625</td>\n      <td>...</td>\n      <td>0.291406</td>\n      <td>0.551940</td>\n      <td>0.613034</td>\n      <td>0.614555</td>\n      <td>0.511744</td>\n      <td>0.515517</td>\n      <td>0.378001</td>\n      <td>0.841881</td>\n      <td>0.773296</td>\n      <td>0.653684</td>\n    </tr>\n    <tr>\n      <th>840</th>\n      <td>0.428125</td>\n      <td>0.415625</td>\n      <td>0.362500</td>\n      <td>0.315625</td>\n      <td>0.256250</td>\n      <td>0.468750</td>\n      <td>0.509375</td>\n      <td>0.525000</td>\n      <td>0.375000</td>\n      <td>0.343750</td>\n      <td>...</td>\n      <td>0.655474</td>\n      <td>0.595633</td>\n      <td>0.676428</td>\n      <td>0.666677</td>\n      <td>0.509443</td>\n      <td>0.593832</td>\n      <td>0.461631</td>\n      <td>0.763385</td>\n      <td>0.749422</td>\n      <td>0.823858</td>\n    </tr>\n    <tr>\n      <th>1716</th>\n      <td>0.446875</td>\n      <td>0.443750</td>\n      <td>0.396875</td>\n      <td>0.368750</td>\n      <td>0.353125</td>\n      <td>0.484375</td>\n      <td>0.503125</td>\n      <td>0.515625</td>\n      <td>0.412500</td>\n      <td>0.378125</td>\n      <td>...</td>\n      <td>0.603900</td>\n      <td>0.645908</td>\n      <td>0.630725</td>\n      <td>0.661244</td>\n      <td>0.551850</td>\n      <td>0.668489</td>\n      <td>0.661828</td>\n      <td>0.726561</td>\n      <td>0.708900</td>\n      <td>0.712396</td>\n    </tr>\n    <tr>\n      <th>2043</th>\n      <td>0.637500</td>\n      <td>0.631250</td>\n      <td>0.578125</td>\n      <td>0.568750</td>\n      <td>0.578125</td>\n      <td>0.684375</td>\n      <td>0.709375</td>\n      <td>0.734375</td>\n      <td>0.590625</td>\n      <td>0.565625</td>\n      <td>...</td>\n      <td>0.650684</td>\n      <td>0.493970</td>\n      <td>0.694791</td>\n      <td>0.609586</td>\n      <td>0.621701</td>\n      <td>0.676059</td>\n      <td>0.537766</td>\n      <td>0.751127</td>\n      <td>0.738332</td>\n      <td>0.731556</td>\n    </tr>\n  </tbody>\n</table>\n<p>525 rows × 51 columns</p>\n</div>"
     },
     "metadata": {},
     "execution_count": 62
    }
   ],
   "source": [
    "X_test"
   ]
  },
  {
   "cell_type": "code",
   "execution_count": 64,
   "metadata": {},
   "outputs": [],
   "source": [
    "clf = MLPClassifier(hidden_layer_sizes=(64, 64, 3, ), max_iter=1000, solver='adam').fit(X_train, y_train)"
   ]
  },
  {
   "cell_type": "code",
   "execution_count": 66,
   "metadata": {},
   "outputs": [
    {
     "output_type": "stream",
     "name": "stdout",
     "text": [
      "Accuracy : 0.9466666666666667\nF1 Score : 0.9466666666666667\nPrecision : 0.9466666666666667\nRecall : 0.9466666666666667\n"
     ]
    }
   ],
   "source": [
    "predicted = clf.predict(X_test)\n",
    "print('Accuracy :', accuracy_score(y_test, predicted))\n",
    "print('F1 Score :', f1_score(y_test, predicted, average='micro'))\n",
    "print('Precision :', precision_score(y_test, predicted, average='micro'))\n",
    "print('Recall :', recall_score(y_test, predicted, average='micro'))"
   ]
  },
  {
   "cell_type": "code",
   "execution_count": null,
   "metadata": {},
   "outputs": [],
   "source": []
  }
 ],
 "metadata": {
  "kernelspec": {
   "display_name": "Python 3",
   "language": "python",
   "name": "python3"
  },
  "language_info": {
   "codemirror_mode": {
    "name": "ipython",
    "version": 3
   },
   "file_extension": ".py",
   "mimetype": "text/x-python",
   "name": "python",
   "nbconvert_exporter": "python",
   "pygments_lexer": "ipython3",
   "version": "3.8.5-final"
  }
 },
 "nbformat": 4,
 "nbformat_minor": 4
}