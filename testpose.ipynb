{
 "cells": [
  {
   "cell_type": "code",
   "execution_count": 118,
   "metadata": {},
   "outputs": [],
   "source": [
    "import pandas as pd\n",
    "import numpy as np\n",
    "import matplotlib.pyplot as plt\n",
    "import seaborn as sns\n",
    "\n",
    "from sklearn.preprocessing import StandardScaler\n",
    "\n",
    "from sklearn.model_selection import train_test_split\n",
    "from sklearn.ensemble import RandomForestClassifier\n",
    "from sklearn.neural_network import MLPClassifier\n",
    "\n",
    "from sklearn.metrics import confusion_matrix, accuracy_score, recall_score, precision_score, f1_score\n",
    "%matplotlib inline"
   ]
  },
  {
   "cell_type": "code",
   "execution_count": 119,
   "metadata": {},
   "outputs": [
    {
     "output_type": "execute_result",
     "data": {
      "text/plain": [
       "                 photopath   part_x0   part_x1   part_x2   part_x3   part_x4  \\\n",
       "0          img_set_242.jpg  0.543750  0.553125  0.493750  0.453125  0.478125   \n",
       "1          img_set_223.jpg  0.565625  0.531250  0.500000  0.434375  0.471875   \n",
       "2           img_set_54.jpg  0.571875  0.568750  0.509375  0.462500  0.471875   \n",
       "3          img_set_363.jpg  0.571875  0.568750  0.509375  0.462500  0.471875   \n",
       "4          img_set_519.jpg  0.465625  0.471875  0.409375  0.400000  0.471875   \n",
       "...                    ...       ...       ...       ...       ...       ...   \n",
       "4650  flip_img_set_292.jpg  0.471875  0.468750  0.409375  0.368750  0.396875   \n",
       "4651  flip_img_set_596.jpg  0.518750  0.512500  0.453125  0.368750  0.396875   \n",
       "4652  rota_img_set_582.jpg  0.446875  0.459375  0.396875  0.381250  0.359375   \n",
       "4653  flip_img_set_171.jpg  0.509375  0.481250  0.434375  0.375000  0.415625   \n",
       "4654  rota_img_set_439.jpg  0.465625  0.487500  0.418750  0.403125  0.415625   \n",
       "\n",
       "       part_x5   part_x6   part_x7   part_x8  ...    score8    score9  \\\n",
       "0     0.609375  0.656250  0.615625  0.515625  ...  0.327584  0.603786   \n",
       "1     0.562500  0.656250  0.615625  0.515625  ...  0.327584  0.603786   \n",
       "2     0.634375  0.687500  0.643750  0.512500  ...  0.310516  0.211923   \n",
       "3     0.634375  0.687500  0.643750  0.512500  ...  0.310516  0.211923   \n",
       "4     0.634375  0.687500  0.643750  0.512500  ...  0.310516  0.211923   \n",
       "...        ...       ...       ...       ...  ...       ...       ...   \n",
       "4650  0.525000  0.565625  0.534375  0.437500  ...  0.536306  0.507797   \n",
       "4651  0.525000  0.565625  0.534375  0.437500  ...  0.536306  0.507797   \n",
       "4652  0.518750  0.565625  0.534375  0.437500  ...  0.536306  0.507797   \n",
       "4653  0.528125  0.531250  0.525000  0.456250  ...  0.224773  0.507797   \n",
       "4654  0.528125  0.531250  0.525000  0.456250  ...  0.224773  0.507797   \n",
       "\n",
       "       score10   score11   score12  score13   score14   score15   score16  \\\n",
       "0     0.576362  0.346418  0.276199  0.41421  0.706337  0.694720  0.563441   \n",
       "1     0.576362  0.346418  0.276199  0.41421  0.706337  0.694720  0.563441   \n",
       "2     0.576362  0.346418  0.276199  0.41421  0.706337  0.694720  0.563441   \n",
       "3     0.576362  0.346418  0.276199  0.41421  0.706337  0.694720  0.563441   \n",
       "4     0.576362  0.346418  0.276199  0.41421  0.706337  0.694720  0.563441   \n",
       "...        ...       ...       ...      ...       ...       ...       ...   \n",
       "4650  0.246485  0.456627  0.416742  0.34847  0.766898  0.746848  0.753188   \n",
       "4651  0.246485  0.456627  0.416742  0.34847  0.766898  0.746848  0.753188   \n",
       "4652  0.246485  0.456627  0.416742  0.34847  0.766898  0.746848  0.753188   \n",
       "4653  0.246485  0.456627  0.416742  0.34847  0.766898  0.746848  0.753188   \n",
       "4654  0.246485  0.456627  0.416742  0.34847  0.766898  0.746848  0.753188   \n",
       "\n",
       "      label  \n",
       "0       set  \n",
       "1       set  \n",
       "2       set  \n",
       "3       set  \n",
       "4       set  \n",
       "...     ...  \n",
       "4650    set  \n",
       "4651    set  \n",
       "4652    set  \n",
       "4653    set  \n",
       "4654    set  \n",
       "\n",
       "[4655 rows x 53 columns]"
      ],
      "text/html": "<div>\n<style scoped>\n    .dataframe tbody tr th:only-of-type {\n        vertical-align: middle;\n    }\n\n    .dataframe tbody tr th {\n        vertical-align: top;\n    }\n\n    .dataframe thead th {\n        text-align: right;\n    }\n</style>\n<table border=\"1\" class=\"dataframe\">\n  <thead>\n    <tr style=\"text-align: right;\">\n      <th></th>\n      <th>photopath</th>\n      <th>part_x0</th>\n      <th>part_x1</th>\n      <th>part_x2</th>\n      <th>part_x3</th>\n      <th>part_x4</th>\n      <th>part_x5</th>\n      <th>part_x6</th>\n      <th>part_x7</th>\n      <th>part_x8</th>\n      <th>...</th>\n      <th>score8</th>\n      <th>score9</th>\n      <th>score10</th>\n      <th>score11</th>\n      <th>score12</th>\n      <th>score13</th>\n      <th>score14</th>\n      <th>score15</th>\n      <th>score16</th>\n      <th>label</th>\n    </tr>\n  </thead>\n  <tbody>\n    <tr>\n      <th>0</th>\n      <td>img_set_242.jpg</td>\n      <td>0.543750</td>\n      <td>0.553125</td>\n      <td>0.493750</td>\n      <td>0.453125</td>\n      <td>0.478125</td>\n      <td>0.609375</td>\n      <td>0.656250</td>\n      <td>0.615625</td>\n      <td>0.515625</td>\n      <td>...</td>\n      <td>0.327584</td>\n      <td>0.603786</td>\n      <td>0.576362</td>\n      <td>0.346418</td>\n      <td>0.276199</td>\n      <td>0.41421</td>\n      <td>0.706337</td>\n      <td>0.694720</td>\n      <td>0.563441</td>\n      <td>set</td>\n    </tr>\n    <tr>\n      <th>1</th>\n      <td>img_set_223.jpg</td>\n      <td>0.565625</td>\n      <td>0.531250</td>\n      <td>0.500000</td>\n      <td>0.434375</td>\n      <td>0.471875</td>\n      <td>0.562500</td>\n      <td>0.656250</td>\n      <td>0.615625</td>\n      <td>0.515625</td>\n      <td>...</td>\n      <td>0.327584</td>\n      <td>0.603786</td>\n      <td>0.576362</td>\n      <td>0.346418</td>\n      <td>0.276199</td>\n      <td>0.41421</td>\n      <td>0.706337</td>\n      <td>0.694720</td>\n      <td>0.563441</td>\n      <td>set</td>\n    </tr>\n    <tr>\n      <th>2</th>\n      <td>img_set_54.jpg</td>\n      <td>0.571875</td>\n      <td>0.568750</td>\n      <td>0.509375</td>\n      <td>0.462500</td>\n      <td>0.471875</td>\n      <td>0.634375</td>\n      <td>0.687500</td>\n      <td>0.643750</td>\n      <td>0.512500</td>\n      <td>...</td>\n      <td>0.310516</td>\n      <td>0.211923</td>\n      <td>0.576362</td>\n      <td>0.346418</td>\n      <td>0.276199</td>\n      <td>0.41421</td>\n      <td>0.706337</td>\n      <td>0.694720</td>\n      <td>0.563441</td>\n      <td>set</td>\n    </tr>\n    <tr>\n      <th>3</th>\n      <td>img_set_363.jpg</td>\n      <td>0.571875</td>\n      <td>0.568750</td>\n      <td>0.509375</td>\n      <td>0.462500</td>\n      <td>0.471875</td>\n      <td>0.634375</td>\n      <td>0.687500</td>\n      <td>0.643750</td>\n      <td>0.512500</td>\n      <td>...</td>\n      <td>0.310516</td>\n      <td>0.211923</td>\n      <td>0.576362</td>\n      <td>0.346418</td>\n      <td>0.276199</td>\n      <td>0.41421</td>\n      <td>0.706337</td>\n      <td>0.694720</td>\n      <td>0.563441</td>\n      <td>set</td>\n    </tr>\n    <tr>\n      <th>4</th>\n      <td>img_set_519.jpg</td>\n      <td>0.465625</td>\n      <td>0.471875</td>\n      <td>0.409375</td>\n      <td>0.400000</td>\n      <td>0.471875</td>\n      <td>0.634375</td>\n      <td>0.687500</td>\n      <td>0.643750</td>\n      <td>0.512500</td>\n      <td>...</td>\n      <td>0.310516</td>\n      <td>0.211923</td>\n      <td>0.576362</td>\n      <td>0.346418</td>\n      <td>0.276199</td>\n      <td>0.41421</td>\n      <td>0.706337</td>\n      <td>0.694720</td>\n      <td>0.563441</td>\n      <td>set</td>\n    </tr>\n    <tr>\n      <th>...</th>\n      <td>...</td>\n      <td>...</td>\n      <td>...</td>\n      <td>...</td>\n      <td>...</td>\n      <td>...</td>\n      <td>...</td>\n      <td>...</td>\n      <td>...</td>\n      <td>...</td>\n      <td>...</td>\n      <td>...</td>\n      <td>...</td>\n      <td>...</td>\n      <td>...</td>\n      <td>...</td>\n      <td>...</td>\n      <td>...</td>\n      <td>...</td>\n      <td>...</td>\n      <td>...</td>\n    </tr>\n    <tr>\n      <th>4650</th>\n      <td>flip_img_set_292.jpg</td>\n      <td>0.471875</td>\n      <td>0.468750</td>\n      <td>0.409375</td>\n      <td>0.368750</td>\n      <td>0.396875</td>\n      <td>0.525000</td>\n      <td>0.565625</td>\n      <td>0.534375</td>\n      <td>0.437500</td>\n      <td>...</td>\n      <td>0.536306</td>\n      <td>0.507797</td>\n      <td>0.246485</td>\n      <td>0.456627</td>\n      <td>0.416742</td>\n      <td>0.34847</td>\n      <td>0.766898</td>\n      <td>0.746848</td>\n      <td>0.753188</td>\n      <td>set</td>\n    </tr>\n    <tr>\n      <th>4651</th>\n      <td>flip_img_set_596.jpg</td>\n      <td>0.518750</td>\n      <td>0.512500</td>\n      <td>0.453125</td>\n      <td>0.368750</td>\n      <td>0.396875</td>\n      <td>0.525000</td>\n      <td>0.565625</td>\n      <td>0.534375</td>\n      <td>0.437500</td>\n      <td>...</td>\n      <td>0.536306</td>\n      <td>0.507797</td>\n      <td>0.246485</td>\n      <td>0.456627</td>\n      <td>0.416742</td>\n      <td>0.34847</td>\n      <td>0.766898</td>\n      <td>0.746848</td>\n      <td>0.753188</td>\n      <td>set</td>\n    </tr>\n    <tr>\n      <th>4652</th>\n      <td>rota_img_set_582.jpg</td>\n      <td>0.446875</td>\n      <td>0.459375</td>\n      <td>0.396875</td>\n      <td>0.381250</td>\n      <td>0.359375</td>\n      <td>0.518750</td>\n      <td>0.565625</td>\n      <td>0.534375</td>\n      <td>0.437500</td>\n      <td>...</td>\n      <td>0.536306</td>\n      <td>0.507797</td>\n      <td>0.246485</td>\n      <td>0.456627</td>\n      <td>0.416742</td>\n      <td>0.34847</td>\n      <td>0.766898</td>\n      <td>0.746848</td>\n      <td>0.753188</td>\n      <td>set</td>\n    </tr>\n    <tr>\n      <th>4653</th>\n      <td>flip_img_set_171.jpg</td>\n      <td>0.509375</td>\n      <td>0.481250</td>\n      <td>0.434375</td>\n      <td>0.375000</td>\n      <td>0.415625</td>\n      <td>0.528125</td>\n      <td>0.531250</td>\n      <td>0.525000</td>\n      <td>0.456250</td>\n      <td>...</td>\n      <td>0.224773</td>\n      <td>0.507797</td>\n      <td>0.246485</td>\n      <td>0.456627</td>\n      <td>0.416742</td>\n      <td>0.34847</td>\n      <td>0.766898</td>\n      <td>0.746848</td>\n      <td>0.753188</td>\n      <td>set</td>\n    </tr>\n    <tr>\n      <th>4654</th>\n      <td>rota_img_set_439.jpg</td>\n      <td>0.465625</td>\n      <td>0.487500</td>\n      <td>0.418750</td>\n      <td>0.403125</td>\n      <td>0.415625</td>\n      <td>0.528125</td>\n      <td>0.531250</td>\n      <td>0.525000</td>\n      <td>0.456250</td>\n      <td>...</td>\n      <td>0.224773</td>\n      <td>0.507797</td>\n      <td>0.246485</td>\n      <td>0.456627</td>\n      <td>0.416742</td>\n      <td>0.34847</td>\n      <td>0.766898</td>\n      <td>0.746848</td>\n      <td>0.753188</td>\n      <td>set</td>\n    </tr>\n  </tbody>\n</table>\n<p>4655 rows × 53 columns</p>\n</div>"
     },
     "metadata": {},
     "execution_count": 119
    }
   ],
   "source": [
    "df = pd.read_csv('datatrainall.csv')\n",
    "df"
   ]
  },
  {
   "cell_type": "code",
   "execution_count": 120,
   "metadata": {},
   "outputs": [
    {
     "output_type": "stream",
     "name": "stdout",
     "text": [
      "<class 'pandas.core.frame.DataFrame'>\nRangeIndex: 4655 entries, 0 to 4654\nData columns (total 53 columns):\n #   Column     Non-Null Count  Dtype  \n---  ------     --------------  -----  \n 0   photopath  4655 non-null   object \n 1   part_x0    4655 non-null   float64\n 2   part_x1    4655 non-null   float64\n 3   part_x2    4655 non-null   float64\n 4   part_x3    4655 non-null   float64\n 5   part_x4    4655 non-null   float64\n 6   part_x5    4655 non-null   float64\n 7   part_x6    4655 non-null   float64\n 8   part_x7    4655 non-null   float64\n 9   part_x8    4655 non-null   float64\n 10  part_x9    4655 non-null   float64\n 11  part_x10   4655 non-null   float64\n 12  part_x11   4655 non-null   float64\n 13  part_x12   4655 non-null   float64\n 14  part_x13   4655 non-null   float64\n 15  part_x14   4655 non-null   float64\n 16  part_x15   4655 non-null   float64\n 17  part_x16   4655 non-null   float64\n 18  part_y0    4655 non-null   float64\n 19  part_y1    4655 non-null   float64\n 20  part_y2    4655 non-null   float64\n 21  part_y3    4655 non-null   float64\n 22  part_y4    4655 non-null   float64\n 23  part_y5    4655 non-null   float64\n 24  part_y6    4655 non-null   float64\n 25  part_y7    4655 non-null   float64\n 26  part_y8    4655 non-null   float64\n 27  part_y9    4655 non-null   float64\n 28  part_y10   4655 non-null   float64\n 29  part_y11   4655 non-null   float64\n 30  part_y12   4655 non-null   float64\n 31  part_y13   4655 non-null   float64\n 32  part_y14   4655 non-null   float64\n 33  part_y15   4655 non-null   float64\n 34  part_y16   4655 non-null   float64\n 35  score0     4655 non-null   float64\n 36  score1     4655 non-null   float64\n 37  score2     4655 non-null   float64\n 38  score3     4655 non-null   float64\n 39  score4     4655 non-null   float64\n 40  score5     4655 non-null   float64\n 41  score6     4655 non-null   float64\n 42  score7     4655 non-null   float64\n 43  score8     4655 non-null   float64\n 44  score9     4655 non-null   float64\n 45  score10    4655 non-null   float64\n 46  score11    4655 non-null   float64\n 47  score12    4655 non-null   float64\n 48  score13    4655 non-null   float64\n 49  score14    4655 non-null   float64\n 50  score15    4655 non-null   float64\n 51  score16    4655 non-null   float64\n 52  label      4655 non-null   object \ndtypes: float64(51), object(2)\nmemory usage: 1.9+ MB\n"
     ]
    }
   ],
   "source": [
    "df.info()"
   ]
  },
  {
   "cell_type": "code",
   "execution_count": 121,
   "metadata": {},
   "outputs": [
    {
     "output_type": "execute_result",
     "data": {
      "text/plain": [
       "       part_x0   part_x1   part_x2   part_x3   part_x4   part_x5   part_x6  \\\n",
       "0     0.543750  0.553125  0.493750  0.453125  0.478125  0.609375  0.656250   \n",
       "1     0.565625  0.531250  0.500000  0.434375  0.471875  0.562500  0.656250   \n",
       "2     0.571875  0.568750  0.509375  0.462500  0.471875  0.634375  0.687500   \n",
       "3     0.571875  0.568750  0.509375  0.462500  0.471875  0.634375  0.687500   \n",
       "4     0.465625  0.471875  0.409375  0.400000  0.471875  0.634375  0.687500   \n",
       "...        ...       ...       ...       ...       ...       ...       ...   \n",
       "4650  0.471875  0.468750  0.409375  0.368750  0.396875  0.525000  0.565625   \n",
       "4651  0.518750  0.512500  0.453125  0.368750  0.396875  0.525000  0.565625   \n",
       "4652  0.446875  0.459375  0.396875  0.381250  0.359375  0.518750  0.565625   \n",
       "4653  0.509375  0.481250  0.434375  0.375000  0.415625  0.528125  0.531250   \n",
       "4654  0.465625  0.487500  0.418750  0.403125  0.415625  0.528125  0.531250   \n",
       "\n",
       "       part_x7   part_x8   part_x9  ...    score7    score8    score9  \\\n",
       "0     0.615625  0.515625  0.500000  ...  0.686369  0.327584  0.603786   \n",
       "1     0.615625  0.515625  0.500000  ...  0.686369  0.327584  0.603786   \n",
       "2     0.643750  0.512500  0.484375  ...  0.646998  0.310516  0.211923   \n",
       "3     0.643750  0.512500  0.484375  ...  0.646998  0.310516  0.211923   \n",
       "4     0.643750  0.512500  0.484375  ...  0.646998  0.310516  0.211923   \n",
       "...        ...       ...       ...  ...       ...       ...       ...   \n",
       "4650  0.534375  0.437500  0.421875  ...  0.586040  0.536306  0.507797   \n",
       "4651  0.534375  0.437500  0.421875  ...  0.586040  0.536306  0.507797   \n",
       "4652  0.534375  0.437500  0.421875  ...  0.586040  0.536306  0.507797   \n",
       "4653  0.525000  0.456250  0.421875  ...  0.350585  0.224773  0.507797   \n",
       "4654  0.525000  0.456250  0.421875  ...  0.350585  0.224773  0.507797   \n",
       "\n",
       "       score10   score11   score12  score13   score14   score15   score16  \n",
       "0     0.576362  0.346418  0.276199  0.41421  0.706337  0.694720  0.563441  \n",
       "1     0.576362  0.346418  0.276199  0.41421  0.706337  0.694720  0.563441  \n",
       "2     0.576362  0.346418  0.276199  0.41421  0.706337  0.694720  0.563441  \n",
       "3     0.576362  0.346418  0.276199  0.41421  0.706337  0.694720  0.563441  \n",
       "4     0.576362  0.346418  0.276199  0.41421  0.706337  0.694720  0.563441  \n",
       "...        ...       ...       ...      ...       ...       ...       ...  \n",
       "4650  0.246485  0.456627  0.416742  0.34847  0.766898  0.746848  0.753188  \n",
       "4651  0.246485  0.456627  0.416742  0.34847  0.766898  0.746848  0.753188  \n",
       "4652  0.246485  0.456627  0.416742  0.34847  0.766898  0.746848  0.753188  \n",
       "4653  0.246485  0.456627  0.416742  0.34847  0.766898  0.746848  0.753188  \n",
       "4654  0.246485  0.456627  0.416742  0.34847  0.766898  0.746848  0.753188  \n",
       "\n",
       "[4655 rows x 51 columns]"
      ],
      "text/html": "<div>\n<style scoped>\n    .dataframe tbody tr th:only-of-type {\n        vertical-align: middle;\n    }\n\n    .dataframe tbody tr th {\n        vertical-align: top;\n    }\n\n    .dataframe thead th {\n        text-align: right;\n    }\n</style>\n<table border=\"1\" class=\"dataframe\">\n  <thead>\n    <tr style=\"text-align: right;\">\n      <th></th>\n      <th>part_x0</th>\n      <th>part_x1</th>\n      <th>part_x2</th>\n      <th>part_x3</th>\n      <th>part_x4</th>\n      <th>part_x5</th>\n      <th>part_x6</th>\n      <th>part_x7</th>\n      <th>part_x8</th>\n      <th>part_x9</th>\n      <th>...</th>\n      <th>score7</th>\n      <th>score8</th>\n      <th>score9</th>\n      <th>score10</th>\n      <th>score11</th>\n      <th>score12</th>\n      <th>score13</th>\n      <th>score14</th>\n      <th>score15</th>\n      <th>score16</th>\n    </tr>\n  </thead>\n  <tbody>\n    <tr>\n      <th>0</th>\n      <td>0.543750</td>\n      <td>0.553125</td>\n      <td>0.493750</td>\n      <td>0.453125</td>\n      <td>0.478125</td>\n      <td>0.609375</td>\n      <td>0.656250</td>\n      <td>0.615625</td>\n      <td>0.515625</td>\n      <td>0.500000</td>\n      <td>...</td>\n      <td>0.686369</td>\n      <td>0.327584</td>\n      <td>0.603786</td>\n      <td>0.576362</td>\n      <td>0.346418</td>\n      <td>0.276199</td>\n      <td>0.41421</td>\n      <td>0.706337</td>\n      <td>0.694720</td>\n      <td>0.563441</td>\n    </tr>\n    <tr>\n      <th>1</th>\n      <td>0.565625</td>\n      <td>0.531250</td>\n      <td>0.500000</td>\n      <td>0.434375</td>\n      <td>0.471875</td>\n      <td>0.562500</td>\n      <td>0.656250</td>\n      <td>0.615625</td>\n      <td>0.515625</td>\n      <td>0.500000</td>\n      <td>...</td>\n      <td>0.686369</td>\n      <td>0.327584</td>\n      <td>0.603786</td>\n      <td>0.576362</td>\n      <td>0.346418</td>\n      <td>0.276199</td>\n      <td>0.41421</td>\n      <td>0.706337</td>\n      <td>0.694720</td>\n      <td>0.563441</td>\n    </tr>\n    <tr>\n      <th>2</th>\n      <td>0.571875</td>\n      <td>0.568750</td>\n      <td>0.509375</td>\n      <td>0.462500</td>\n      <td>0.471875</td>\n      <td>0.634375</td>\n      <td>0.687500</td>\n      <td>0.643750</td>\n      <td>0.512500</td>\n      <td>0.484375</td>\n      <td>...</td>\n      <td>0.646998</td>\n      <td>0.310516</td>\n      <td>0.211923</td>\n      <td>0.576362</td>\n      <td>0.346418</td>\n      <td>0.276199</td>\n      <td>0.41421</td>\n      <td>0.706337</td>\n      <td>0.694720</td>\n      <td>0.563441</td>\n    </tr>\n    <tr>\n      <th>3</th>\n      <td>0.571875</td>\n      <td>0.568750</td>\n      <td>0.509375</td>\n      <td>0.462500</td>\n      <td>0.471875</td>\n      <td>0.634375</td>\n      <td>0.687500</td>\n      <td>0.643750</td>\n      <td>0.512500</td>\n      <td>0.484375</td>\n      <td>...</td>\n      <td>0.646998</td>\n      <td>0.310516</td>\n      <td>0.211923</td>\n      <td>0.576362</td>\n      <td>0.346418</td>\n      <td>0.276199</td>\n      <td>0.41421</td>\n      <td>0.706337</td>\n      <td>0.694720</td>\n      <td>0.563441</td>\n    </tr>\n    <tr>\n      <th>4</th>\n      <td>0.465625</td>\n      <td>0.471875</td>\n      <td>0.409375</td>\n      <td>0.400000</td>\n      <td>0.471875</td>\n      <td>0.634375</td>\n      <td>0.687500</td>\n      <td>0.643750</td>\n      <td>0.512500</td>\n      <td>0.484375</td>\n      <td>...</td>\n      <td>0.646998</td>\n      <td>0.310516</td>\n      <td>0.211923</td>\n      <td>0.576362</td>\n      <td>0.346418</td>\n      <td>0.276199</td>\n      <td>0.41421</td>\n      <td>0.706337</td>\n      <td>0.694720</td>\n      <td>0.563441</td>\n    </tr>\n    <tr>\n      <th>...</th>\n      <td>...</td>\n      <td>...</td>\n      <td>...</td>\n      <td>...</td>\n      <td>...</td>\n      <td>...</td>\n      <td>...</td>\n      <td>...</td>\n      <td>...</td>\n      <td>...</td>\n      <td>...</td>\n      <td>...</td>\n      <td>...</td>\n      <td>...</td>\n      <td>...</td>\n      <td>...</td>\n      <td>...</td>\n      <td>...</td>\n      <td>...</td>\n      <td>...</td>\n      <td>...</td>\n    </tr>\n    <tr>\n      <th>4650</th>\n      <td>0.471875</td>\n      <td>0.468750</td>\n      <td>0.409375</td>\n      <td>0.368750</td>\n      <td>0.396875</td>\n      <td>0.525000</td>\n      <td>0.565625</td>\n      <td>0.534375</td>\n      <td>0.437500</td>\n      <td>0.421875</td>\n      <td>...</td>\n      <td>0.586040</td>\n      <td>0.536306</td>\n      <td>0.507797</td>\n      <td>0.246485</td>\n      <td>0.456627</td>\n      <td>0.416742</td>\n      <td>0.34847</td>\n      <td>0.766898</td>\n      <td>0.746848</td>\n      <td>0.753188</td>\n    </tr>\n    <tr>\n      <th>4651</th>\n      <td>0.518750</td>\n      <td>0.512500</td>\n      <td>0.453125</td>\n      <td>0.368750</td>\n      <td>0.396875</td>\n      <td>0.525000</td>\n      <td>0.565625</td>\n      <td>0.534375</td>\n      <td>0.437500</td>\n      <td>0.421875</td>\n      <td>...</td>\n      <td>0.586040</td>\n      <td>0.536306</td>\n      <td>0.507797</td>\n      <td>0.246485</td>\n      <td>0.456627</td>\n      <td>0.416742</td>\n      <td>0.34847</td>\n      <td>0.766898</td>\n      <td>0.746848</td>\n      <td>0.753188</td>\n    </tr>\n    <tr>\n      <th>4652</th>\n      <td>0.446875</td>\n      <td>0.459375</td>\n      <td>0.396875</td>\n      <td>0.381250</td>\n      <td>0.359375</td>\n      <td>0.518750</td>\n      <td>0.565625</td>\n      <td>0.534375</td>\n      <td>0.437500</td>\n      <td>0.421875</td>\n      <td>...</td>\n      <td>0.586040</td>\n      <td>0.536306</td>\n      <td>0.507797</td>\n      <td>0.246485</td>\n      <td>0.456627</td>\n      <td>0.416742</td>\n      <td>0.34847</td>\n      <td>0.766898</td>\n      <td>0.746848</td>\n      <td>0.753188</td>\n    </tr>\n    <tr>\n      <th>4653</th>\n      <td>0.509375</td>\n      <td>0.481250</td>\n      <td>0.434375</td>\n      <td>0.375000</td>\n      <td>0.415625</td>\n      <td>0.528125</td>\n      <td>0.531250</td>\n      <td>0.525000</td>\n      <td>0.456250</td>\n      <td>0.421875</td>\n      <td>...</td>\n      <td>0.350585</td>\n      <td>0.224773</td>\n      <td>0.507797</td>\n      <td>0.246485</td>\n      <td>0.456627</td>\n      <td>0.416742</td>\n      <td>0.34847</td>\n      <td>0.766898</td>\n      <td>0.746848</td>\n      <td>0.753188</td>\n    </tr>\n    <tr>\n      <th>4654</th>\n      <td>0.465625</td>\n      <td>0.487500</td>\n      <td>0.418750</td>\n      <td>0.403125</td>\n      <td>0.415625</td>\n      <td>0.528125</td>\n      <td>0.531250</td>\n      <td>0.525000</td>\n      <td>0.456250</td>\n      <td>0.421875</td>\n      <td>...</td>\n      <td>0.350585</td>\n      <td>0.224773</td>\n      <td>0.507797</td>\n      <td>0.246485</td>\n      <td>0.456627</td>\n      <td>0.416742</td>\n      <td>0.34847</td>\n      <td>0.766898</td>\n      <td>0.746848</td>\n      <td>0.753188</td>\n    </tr>\n  </tbody>\n</table>\n<p>4655 rows × 51 columns</p>\n</div>"
     },
     "metadata": {},
     "execution_count": 121
    }
   ],
   "source": [
    "df_drop = df.drop(columns = ['photopath','label'])\n",
    "df_drop"
   ]
  },
  {
   "cell_type": "code",
   "execution_count": 122,
   "metadata": {},
   "outputs": [],
   "source": [
    "X = df_drop\n",
    "y = df['label']"
   ]
  },
  {
   "cell_type": "code",
   "execution_count": 123,
   "metadata": {},
   "outputs": [],
   "source": [
    "X_train, X_test, y_train, y_test = train_test_split(X,y,test_size=0.2, random_state=300)"
   ]
  },
  {
   "cell_type": "code",
   "execution_count": 124,
   "metadata": {},
   "outputs": [
    {
     "output_type": "execute_result",
     "data": {
      "text/plain": [
       "       part_x0   part_x1   part_x2   part_x3   part_x4   part_x5   part_x6  \\\n",
       "4354  0.518750  0.481250  0.443750  0.387500  0.428125  0.512500  0.500000   \n",
       "3195  0.718750  0.643750  0.596875  0.550000  0.459375  0.684375  0.690625   \n",
       "3140  0.534375  0.556250  0.503125  0.490625  0.481250  0.606250  0.662500   \n",
       "1494  0.656250  0.643750  0.593750  0.578125  0.581250  0.690625  0.721875   \n",
       "3157  0.465625  0.440625  0.384375  0.321875  0.262500  0.496875  0.518750   \n",
       "...        ...       ...       ...       ...       ...       ...       ...   \n",
       "1259  0.318750  0.315625  0.256250  0.218750  0.171875  0.368750  0.384375   \n",
       "432   0.475000  0.503125  0.453125  0.434375  0.465625  0.556250  0.621875   \n",
       "1576  0.368750  0.359375  0.303125  0.256250  0.196875  0.412500  0.443750   \n",
       "2857  0.593750  0.590625  0.540625  0.521875  0.525000  0.634375  0.665625   \n",
       "2793  0.568750  0.568750  0.515625  0.478125  0.456250  0.621875  0.643750   \n",
       "\n",
       "       part_x7   part_x8   part_x9  ...    score7    score8    score9  \\\n",
       "4354  0.465625  0.450000  0.446875  ...  0.296567  0.425763  0.359299   \n",
       "3195  0.706250  0.525000  0.481250  ...  0.625737  0.293573  0.609977   \n",
       "3140  0.715625  0.550000  0.521875  ...  0.625589  0.577309  0.575272   \n",
       "1494  0.762500  0.587500  0.571875  ...  0.729369  0.551375  0.709840   \n",
       "3157  0.534375  0.375000  0.331250  ...  0.481097  0.561561  0.587405   \n",
       "...        ...       ...       ...  ...       ...       ...       ...   \n",
       "1259  0.390625  0.290625  0.246875  ...  0.627712  0.561657  0.626474   \n",
       "432   0.593750  0.500000  0.521875  ...  0.585926  0.491141  0.395218   \n",
       "1576  0.456250  0.328125  0.290625  ...  0.545473  0.574305  0.666145   \n",
       "2857  0.693750  0.537500  0.509375  ...  0.675904  0.515133  0.662403   \n",
       "2793  0.653125  0.540625  0.509375  ...  0.478798  0.528994  0.623412   \n",
       "\n",
       "       score10   score11   score12   score13   score14   score15   score16  \n",
       "4354  0.534375  0.476273  0.238623  0.491757  0.693892  0.615528  0.808425  \n",
       "3195  0.417111  0.301249  0.450471  0.156593  0.760495  0.564757  0.685987  \n",
       "3140  0.547297  0.531527  0.588909  0.606851  0.699852  0.785485  0.725832  \n",
       "1494  0.675228  0.580496  0.664551  0.548085  0.810751  0.752557  0.755059  \n",
       "3157  0.573145  0.525389  0.537260  0.290545  0.701330  0.714599  0.734052  \n",
       "...        ...       ...       ...       ...       ...       ...       ...  \n",
       "1259  0.603015  0.465097  0.686362  0.572501  0.706294  0.730299  0.694059  \n",
       "432   0.600318  0.443856  0.439122  0.491940  0.684933  0.796844  0.864158  \n",
       "1576  0.576712  0.551238  0.605060  0.410413  0.850352  0.819942  0.770403  \n",
       "2857  0.613877  0.580342  0.689416  0.553135  0.739090  0.787490  0.810571  \n",
       "2793  0.582042  0.486446  0.641551  0.532521  0.741159  0.703803  0.703145  \n",
       "\n",
       "[931 rows x 51 columns]"
      ],
      "text/html": "<div>\n<style scoped>\n    .dataframe tbody tr th:only-of-type {\n        vertical-align: middle;\n    }\n\n    .dataframe tbody tr th {\n        vertical-align: top;\n    }\n\n    .dataframe thead th {\n        text-align: right;\n    }\n</style>\n<table border=\"1\" class=\"dataframe\">\n  <thead>\n    <tr style=\"text-align: right;\">\n      <th></th>\n      <th>part_x0</th>\n      <th>part_x1</th>\n      <th>part_x2</th>\n      <th>part_x3</th>\n      <th>part_x4</th>\n      <th>part_x5</th>\n      <th>part_x6</th>\n      <th>part_x7</th>\n      <th>part_x8</th>\n      <th>part_x9</th>\n      <th>...</th>\n      <th>score7</th>\n      <th>score8</th>\n      <th>score9</th>\n      <th>score10</th>\n      <th>score11</th>\n      <th>score12</th>\n      <th>score13</th>\n      <th>score14</th>\n      <th>score15</th>\n      <th>score16</th>\n    </tr>\n  </thead>\n  <tbody>\n    <tr>\n      <th>4354</th>\n      <td>0.518750</td>\n      <td>0.481250</td>\n      <td>0.443750</td>\n      <td>0.387500</td>\n      <td>0.428125</td>\n      <td>0.512500</td>\n      <td>0.500000</td>\n      <td>0.465625</td>\n      <td>0.450000</td>\n      <td>0.446875</td>\n      <td>...</td>\n      <td>0.296567</td>\n      <td>0.425763</td>\n      <td>0.359299</td>\n      <td>0.534375</td>\n      <td>0.476273</td>\n      <td>0.238623</td>\n      <td>0.491757</td>\n      <td>0.693892</td>\n      <td>0.615528</td>\n      <td>0.808425</td>\n    </tr>\n    <tr>\n      <th>3195</th>\n      <td>0.718750</td>\n      <td>0.643750</td>\n      <td>0.596875</td>\n      <td>0.550000</td>\n      <td>0.459375</td>\n      <td>0.684375</td>\n      <td>0.690625</td>\n      <td>0.706250</td>\n      <td>0.525000</td>\n      <td>0.481250</td>\n      <td>...</td>\n      <td>0.625737</td>\n      <td>0.293573</td>\n      <td>0.609977</td>\n      <td>0.417111</td>\n      <td>0.301249</td>\n      <td>0.450471</td>\n      <td>0.156593</td>\n      <td>0.760495</td>\n      <td>0.564757</td>\n      <td>0.685987</td>\n    </tr>\n    <tr>\n      <th>3140</th>\n      <td>0.534375</td>\n      <td>0.556250</td>\n      <td>0.503125</td>\n      <td>0.490625</td>\n      <td>0.481250</td>\n      <td>0.606250</td>\n      <td>0.662500</td>\n      <td>0.715625</td>\n      <td>0.550000</td>\n      <td>0.521875</td>\n      <td>...</td>\n      <td>0.625589</td>\n      <td>0.577309</td>\n      <td>0.575272</td>\n      <td>0.547297</td>\n      <td>0.531527</td>\n      <td>0.588909</td>\n      <td>0.606851</td>\n      <td>0.699852</td>\n      <td>0.785485</td>\n      <td>0.725832</td>\n    </tr>\n    <tr>\n      <th>1494</th>\n      <td>0.656250</td>\n      <td>0.643750</td>\n      <td>0.593750</td>\n      <td>0.578125</td>\n      <td>0.581250</td>\n      <td>0.690625</td>\n      <td>0.721875</td>\n      <td>0.762500</td>\n      <td>0.587500</td>\n      <td>0.571875</td>\n      <td>...</td>\n      <td>0.729369</td>\n      <td>0.551375</td>\n      <td>0.709840</td>\n      <td>0.675228</td>\n      <td>0.580496</td>\n      <td>0.664551</td>\n      <td>0.548085</td>\n      <td>0.810751</td>\n      <td>0.752557</td>\n      <td>0.755059</td>\n    </tr>\n    <tr>\n      <th>3157</th>\n      <td>0.465625</td>\n      <td>0.440625</td>\n      <td>0.384375</td>\n      <td>0.321875</td>\n      <td>0.262500</td>\n      <td>0.496875</td>\n      <td>0.518750</td>\n      <td>0.534375</td>\n      <td>0.375000</td>\n      <td>0.331250</td>\n      <td>...</td>\n      <td>0.481097</td>\n      <td>0.561561</td>\n      <td>0.587405</td>\n      <td>0.573145</td>\n      <td>0.525389</td>\n      <td>0.537260</td>\n      <td>0.290545</td>\n      <td>0.701330</td>\n      <td>0.714599</td>\n      <td>0.734052</td>\n    </tr>\n    <tr>\n      <th>...</th>\n      <td>...</td>\n      <td>...</td>\n      <td>...</td>\n      <td>...</td>\n      <td>...</td>\n      <td>...</td>\n      <td>...</td>\n      <td>...</td>\n      <td>...</td>\n      <td>...</td>\n      <td>...</td>\n      <td>...</td>\n      <td>...</td>\n      <td>...</td>\n      <td>...</td>\n      <td>...</td>\n      <td>...</td>\n      <td>...</td>\n      <td>...</td>\n      <td>...</td>\n      <td>...</td>\n    </tr>\n    <tr>\n      <th>1259</th>\n      <td>0.318750</td>\n      <td>0.315625</td>\n      <td>0.256250</td>\n      <td>0.218750</td>\n      <td>0.171875</td>\n      <td>0.368750</td>\n      <td>0.384375</td>\n      <td>0.390625</td>\n      <td>0.290625</td>\n      <td>0.246875</td>\n      <td>...</td>\n      <td>0.627712</td>\n      <td>0.561657</td>\n      <td>0.626474</td>\n      <td>0.603015</td>\n      <td>0.465097</td>\n      <td>0.686362</td>\n      <td>0.572501</td>\n      <td>0.706294</td>\n      <td>0.730299</td>\n      <td>0.694059</td>\n    </tr>\n    <tr>\n      <th>432</th>\n      <td>0.475000</td>\n      <td>0.503125</td>\n      <td>0.453125</td>\n      <td>0.434375</td>\n      <td>0.465625</td>\n      <td>0.556250</td>\n      <td>0.621875</td>\n      <td>0.593750</td>\n      <td>0.500000</td>\n      <td>0.521875</td>\n      <td>...</td>\n      <td>0.585926</td>\n      <td>0.491141</td>\n      <td>0.395218</td>\n      <td>0.600318</td>\n      <td>0.443856</td>\n      <td>0.439122</td>\n      <td>0.491940</td>\n      <td>0.684933</td>\n      <td>0.796844</td>\n      <td>0.864158</td>\n    </tr>\n    <tr>\n      <th>1576</th>\n      <td>0.368750</td>\n      <td>0.359375</td>\n      <td>0.303125</td>\n      <td>0.256250</td>\n      <td>0.196875</td>\n      <td>0.412500</td>\n      <td>0.443750</td>\n      <td>0.456250</td>\n      <td>0.328125</td>\n      <td>0.290625</td>\n      <td>...</td>\n      <td>0.545473</td>\n      <td>0.574305</td>\n      <td>0.666145</td>\n      <td>0.576712</td>\n      <td>0.551238</td>\n      <td>0.605060</td>\n      <td>0.410413</td>\n      <td>0.850352</td>\n      <td>0.819942</td>\n      <td>0.770403</td>\n    </tr>\n    <tr>\n      <th>2857</th>\n      <td>0.593750</td>\n      <td>0.590625</td>\n      <td>0.540625</td>\n      <td>0.521875</td>\n      <td>0.525000</td>\n      <td>0.634375</td>\n      <td>0.665625</td>\n      <td>0.693750</td>\n      <td>0.537500</td>\n      <td>0.509375</td>\n      <td>...</td>\n      <td>0.675904</td>\n      <td>0.515133</td>\n      <td>0.662403</td>\n      <td>0.613877</td>\n      <td>0.580342</td>\n      <td>0.689416</td>\n      <td>0.553135</td>\n      <td>0.739090</td>\n      <td>0.787490</td>\n      <td>0.810571</td>\n    </tr>\n    <tr>\n      <th>2793</th>\n      <td>0.568750</td>\n      <td>0.568750</td>\n      <td>0.515625</td>\n      <td>0.478125</td>\n      <td>0.456250</td>\n      <td>0.621875</td>\n      <td>0.643750</td>\n      <td>0.653125</td>\n      <td>0.540625</td>\n      <td>0.509375</td>\n      <td>...</td>\n      <td>0.478798</td>\n      <td>0.528994</td>\n      <td>0.623412</td>\n      <td>0.582042</td>\n      <td>0.486446</td>\n      <td>0.641551</td>\n      <td>0.532521</td>\n      <td>0.741159</td>\n      <td>0.703803</td>\n      <td>0.703145</td>\n    </tr>\n  </tbody>\n</table>\n<p>931 rows × 51 columns</p>\n</div>"
     },
     "metadata": {},
     "execution_count": 124
    }
   ],
   "source": [
    "X_test"
   ]
  },
  {
   "cell_type": "code",
   "execution_count": 125,
   "metadata": {},
   "outputs": [],
   "source": [
    "clf = MLPClassifier(hidden_layer_sizes=(64, 64, 3, ), max_iter=1000, solver='adam').fit(X_train, y_train)"
   ]
  },
  {
   "cell_type": "code",
   "execution_count": 126,
   "metadata": {},
   "outputs": [
    {
     "output_type": "stream",
     "name": "stdout",
     "text": [
      "Accuracy : 0.9989258861439313\nF1 Score : 0.9989258861439313\nPrecision : 0.9989258861439313\nRecall : 0.9989258861439313\n"
     ]
    }
   ],
   "source": [
    "predicted = clf.predict(X_test)\n",
    "print('Accuracy :', accuracy_score(y_test, predicted))\n",
    "print('F1 Score :', f1_score(y_test, predicted, average='micro'))\n",
    "print('Precision :', precision_score(y_test, predicted, average='micro'))\n",
    "print('Recall :', recall_score(y_test, predicted, average='micro'))"
   ]
  },
  {
   "cell_type": "code",
   "execution_count": null,
   "metadata": {},
   "outputs": [],
   "source": []
  }
 ],
 "metadata": {
  "kernelspec": {
   "display_name": "Python 3",
   "language": "python",
   "name": "python3"
  },
  "language_info": {
   "codemirror_mode": {
    "name": "ipython",
    "version": 3
   },
   "file_extension": ".py",
   "mimetype": "text/x-python",
   "name": "python",
   "nbconvert_exporter": "python",
   "pygments_lexer": "ipython3",
   "version": "3.8.5-final"
  }
 },
 "nbformat": 4,
 "nbformat_minor": 4
}