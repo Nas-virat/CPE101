{
 "cells": [
  {
   "cell_type": "code",
   "execution_count": 10,
   "metadata": {},
   "outputs": [],
   "source": [
    "import pandas as pd\n",
    "import numpy as np\n",
    "import matplotlib.pyplot as plt\n",
    "import seaborn as sns\n",
    "\n",
    "from sklearn.preprocessing import StandardScaler\n",
    "\n",
    "from sklearn.model_selection import train_test_split\n",
    "from sklearn.ensemble import RandomForestClassifier\n",
    "from sklearn.neural_network import MLPClassifier\n",
    "\n",
    "from sklearn.metrics import confusion_matrix, accuracy_score, recall_score, precision_score, f1_score\n",
    "%matplotlib inline"
   ]
  },
  {
   "cell_type": "code",
   "execution_count": 11,
   "metadata": {},
   "outputs": [
    {
     "output_type": "execute_result",
     "data": {
      "text/plain": [
       "                 photopath   part_x0   part_x1   part_x2   part_x3   part_x4  \\\n",
       "0          img_set_242.jpg  0.543750  0.553125  0.493750  0.453125  0.478125   \n",
       "1          img_set_223.jpg  0.565625  0.531250  0.500000  0.434375  0.471875   \n",
       "2           img_set_54.jpg  0.571875  0.568750  0.509375  0.462500  0.471875   \n",
       "3          img_set_363.jpg  0.571875  0.568750  0.509375  0.462500  0.471875   \n",
       "4          img_set_519.jpg  0.465625  0.471875  0.409375  0.400000  0.471875   \n",
       "...                    ...       ...       ...       ...       ...       ...   \n",
       "2162  rota_img_set_422.jpg  0.543750  0.528125  0.468750  0.421875  0.403125   \n",
       "2163  rota_img_set_363.jpg  0.625000  0.556250  0.578125  0.559375  0.575000   \n",
       "2164  flip_img_set_596.jpg  0.518750  0.512500  0.453125  0.559375  0.575000   \n",
       "2165  rota_img_set_582.jpg  0.475000  0.478125  0.415625  0.390625  0.362500   \n",
       "2166  rota_img_set_439.jpg  0.550000  0.543750  0.478125  0.390625  0.362500   \n",
       "\n",
       "       part_x5  part_x6   part_x7   part_x8  ...    score8    score9  \\\n",
       "0     0.609375  0.65625  0.615625  0.515625  ...  0.327584  0.603786   \n",
       "1     0.562500  0.65625  0.615625  0.515625  ...  0.327584  0.603786   \n",
       "2     0.634375  0.68750  0.643750  0.512500  ...  0.310516  0.211923   \n",
       "3     0.634375  0.68750  0.643750  0.512500  ...  0.310516  0.211923   \n",
       "4     0.634375  0.68750  0.643750  0.512500  ...  0.310516  0.211923   \n",
       "...        ...      ...       ...       ...  ...       ...       ...   \n",
       "2162  0.584375  0.60000  0.600000  0.471875  ...  0.342688  0.183176   \n",
       "2163  0.534375  0.60000  0.600000  0.471875  ...  0.342688  0.183176   \n",
       "2164  0.534375  0.60000  0.600000  0.471875  ...  0.342688  0.183176   \n",
       "2165  0.540625  0.57500  0.606250  0.443750  ...  0.401574  0.168234   \n",
       "2166  0.540625  0.57500  0.606250  0.443750  ...  0.401574  0.168234   \n",
       "\n",
       "       score10   score11   score12   score13   score14   score15   score16  \\\n",
       "0     0.576362  0.346418  0.276199  0.414210  0.706337  0.694720  0.563441   \n",
       "1     0.576362  0.346418  0.276199  0.414210  0.706337  0.694720  0.563441   \n",
       "2     0.576362  0.346418  0.276199  0.414210  0.706337  0.694720  0.563441   \n",
       "3     0.576362  0.346418  0.276199  0.414210  0.706337  0.694720  0.563441   \n",
       "4     0.576362  0.346418  0.276199  0.414210  0.706337  0.694720  0.563441   \n",
       "...        ...       ...       ...       ...       ...       ...       ...   \n",
       "2162  0.410328  0.279167  0.168791  0.593372  0.720563  0.734355  0.668754   \n",
       "2163  0.410328  0.279167  0.168791  0.593372  0.720563  0.734355  0.668754   \n",
       "2164  0.410328  0.279167  0.168791  0.593372  0.720563  0.734355  0.668754   \n",
       "2165  0.410328  0.279167  0.168791  0.593372  0.720563  0.734355  0.668754   \n",
       "2166  0.410328  0.279167  0.168791  0.593372  0.720563  0.734355  0.668754   \n",
       "\n",
       "      label  \n",
       "0       set  \n",
       "1       set  \n",
       "2       set  \n",
       "3       set  \n",
       "4       set  \n",
       "...     ...  \n",
       "2162    set  \n",
       "2163    set  \n",
       "2164    set  \n",
       "2165    set  \n",
       "2166    set  \n",
       "\n",
       "[2167 rows x 53 columns]"
      ],
      "text/html": "<div>\n<style scoped>\n    .dataframe tbody tr th:only-of-type {\n        vertical-align: middle;\n    }\n\n    .dataframe tbody tr th {\n        vertical-align: top;\n    }\n\n    .dataframe thead th {\n        text-align: right;\n    }\n</style>\n<table border=\"1\" class=\"dataframe\">\n  <thead>\n    <tr style=\"text-align: right;\">\n      <th></th>\n      <th>photopath</th>\n      <th>part_x0</th>\n      <th>part_x1</th>\n      <th>part_x2</th>\n      <th>part_x3</th>\n      <th>part_x4</th>\n      <th>part_x5</th>\n      <th>part_x6</th>\n      <th>part_x7</th>\n      <th>part_x8</th>\n      <th>...</th>\n      <th>score8</th>\n      <th>score9</th>\n      <th>score10</th>\n      <th>score11</th>\n      <th>score12</th>\n      <th>score13</th>\n      <th>score14</th>\n      <th>score15</th>\n      <th>score16</th>\n      <th>label</th>\n    </tr>\n  </thead>\n  <tbody>\n    <tr>\n      <th>0</th>\n      <td>img_set_242.jpg</td>\n      <td>0.543750</td>\n      <td>0.553125</td>\n      <td>0.493750</td>\n      <td>0.453125</td>\n      <td>0.478125</td>\n      <td>0.609375</td>\n      <td>0.65625</td>\n      <td>0.615625</td>\n      <td>0.515625</td>\n      <td>...</td>\n      <td>0.327584</td>\n      <td>0.603786</td>\n      <td>0.576362</td>\n      <td>0.346418</td>\n      <td>0.276199</td>\n      <td>0.414210</td>\n      <td>0.706337</td>\n      <td>0.694720</td>\n      <td>0.563441</td>\n      <td>set</td>\n    </tr>\n    <tr>\n      <th>1</th>\n      <td>img_set_223.jpg</td>\n      <td>0.565625</td>\n      <td>0.531250</td>\n      <td>0.500000</td>\n      <td>0.434375</td>\n      <td>0.471875</td>\n      <td>0.562500</td>\n      <td>0.65625</td>\n      <td>0.615625</td>\n      <td>0.515625</td>\n      <td>...</td>\n      <td>0.327584</td>\n      <td>0.603786</td>\n      <td>0.576362</td>\n      <td>0.346418</td>\n      <td>0.276199</td>\n      <td>0.414210</td>\n      <td>0.706337</td>\n      <td>0.694720</td>\n      <td>0.563441</td>\n      <td>set</td>\n    </tr>\n    <tr>\n      <th>2</th>\n      <td>img_set_54.jpg</td>\n      <td>0.571875</td>\n      <td>0.568750</td>\n      <td>0.509375</td>\n      <td>0.462500</td>\n      <td>0.471875</td>\n      <td>0.634375</td>\n      <td>0.68750</td>\n      <td>0.643750</td>\n      <td>0.512500</td>\n      <td>...</td>\n      <td>0.310516</td>\n      <td>0.211923</td>\n      <td>0.576362</td>\n      <td>0.346418</td>\n      <td>0.276199</td>\n      <td>0.414210</td>\n      <td>0.706337</td>\n      <td>0.694720</td>\n      <td>0.563441</td>\n      <td>set</td>\n    </tr>\n    <tr>\n      <th>3</th>\n      <td>img_set_363.jpg</td>\n      <td>0.571875</td>\n      <td>0.568750</td>\n      <td>0.509375</td>\n      <td>0.462500</td>\n      <td>0.471875</td>\n      <td>0.634375</td>\n      <td>0.68750</td>\n      <td>0.643750</td>\n      <td>0.512500</td>\n      <td>...</td>\n      <td>0.310516</td>\n      <td>0.211923</td>\n      <td>0.576362</td>\n      <td>0.346418</td>\n      <td>0.276199</td>\n      <td>0.414210</td>\n      <td>0.706337</td>\n      <td>0.694720</td>\n      <td>0.563441</td>\n      <td>set</td>\n    </tr>\n    <tr>\n      <th>4</th>\n      <td>img_set_519.jpg</td>\n      <td>0.465625</td>\n      <td>0.471875</td>\n      <td>0.409375</td>\n      <td>0.400000</td>\n      <td>0.471875</td>\n      <td>0.634375</td>\n      <td>0.68750</td>\n      <td>0.643750</td>\n      <td>0.512500</td>\n      <td>...</td>\n      <td>0.310516</td>\n      <td>0.211923</td>\n      <td>0.576362</td>\n      <td>0.346418</td>\n      <td>0.276199</td>\n      <td>0.414210</td>\n      <td>0.706337</td>\n      <td>0.694720</td>\n      <td>0.563441</td>\n      <td>set</td>\n    </tr>\n    <tr>\n      <th>...</th>\n      <td>...</td>\n      <td>...</td>\n      <td>...</td>\n      <td>...</td>\n      <td>...</td>\n      <td>...</td>\n      <td>...</td>\n      <td>...</td>\n      <td>...</td>\n      <td>...</td>\n      <td>...</td>\n      <td>...</td>\n      <td>...</td>\n      <td>...</td>\n      <td>...</td>\n      <td>...</td>\n      <td>...</td>\n      <td>...</td>\n      <td>...</td>\n      <td>...</td>\n      <td>...</td>\n    </tr>\n    <tr>\n      <th>2162</th>\n      <td>rota_img_set_422.jpg</td>\n      <td>0.543750</td>\n      <td>0.528125</td>\n      <td>0.468750</td>\n      <td>0.421875</td>\n      <td>0.403125</td>\n      <td>0.584375</td>\n      <td>0.60000</td>\n      <td>0.600000</td>\n      <td>0.471875</td>\n      <td>...</td>\n      <td>0.342688</td>\n      <td>0.183176</td>\n      <td>0.410328</td>\n      <td>0.279167</td>\n      <td>0.168791</td>\n      <td>0.593372</td>\n      <td>0.720563</td>\n      <td>0.734355</td>\n      <td>0.668754</td>\n      <td>set</td>\n    </tr>\n    <tr>\n      <th>2163</th>\n      <td>rota_img_set_363.jpg</td>\n      <td>0.625000</td>\n      <td>0.556250</td>\n      <td>0.578125</td>\n      <td>0.559375</td>\n      <td>0.575000</td>\n      <td>0.534375</td>\n      <td>0.60000</td>\n      <td>0.600000</td>\n      <td>0.471875</td>\n      <td>...</td>\n      <td>0.342688</td>\n      <td>0.183176</td>\n      <td>0.410328</td>\n      <td>0.279167</td>\n      <td>0.168791</td>\n      <td>0.593372</td>\n      <td>0.720563</td>\n      <td>0.734355</td>\n      <td>0.668754</td>\n      <td>set</td>\n    </tr>\n    <tr>\n      <th>2164</th>\n      <td>flip_img_set_596.jpg</td>\n      <td>0.518750</td>\n      <td>0.512500</td>\n      <td>0.453125</td>\n      <td>0.559375</td>\n      <td>0.575000</td>\n      <td>0.534375</td>\n      <td>0.60000</td>\n      <td>0.600000</td>\n      <td>0.471875</td>\n      <td>...</td>\n      <td>0.342688</td>\n      <td>0.183176</td>\n      <td>0.410328</td>\n      <td>0.279167</td>\n      <td>0.168791</td>\n      <td>0.593372</td>\n      <td>0.720563</td>\n      <td>0.734355</td>\n      <td>0.668754</td>\n      <td>set</td>\n    </tr>\n    <tr>\n      <th>2165</th>\n      <td>rota_img_set_582.jpg</td>\n      <td>0.475000</td>\n      <td>0.478125</td>\n      <td>0.415625</td>\n      <td>0.390625</td>\n      <td>0.362500</td>\n      <td>0.540625</td>\n      <td>0.57500</td>\n      <td>0.606250</td>\n      <td>0.443750</td>\n      <td>...</td>\n      <td>0.401574</td>\n      <td>0.168234</td>\n      <td>0.410328</td>\n      <td>0.279167</td>\n      <td>0.168791</td>\n      <td>0.593372</td>\n      <td>0.720563</td>\n      <td>0.734355</td>\n      <td>0.668754</td>\n      <td>set</td>\n    </tr>\n    <tr>\n      <th>2166</th>\n      <td>rota_img_set_439.jpg</td>\n      <td>0.550000</td>\n      <td>0.543750</td>\n      <td>0.478125</td>\n      <td>0.390625</td>\n      <td>0.362500</td>\n      <td>0.540625</td>\n      <td>0.57500</td>\n      <td>0.606250</td>\n      <td>0.443750</td>\n      <td>...</td>\n      <td>0.401574</td>\n      <td>0.168234</td>\n      <td>0.410328</td>\n      <td>0.279167</td>\n      <td>0.168791</td>\n      <td>0.593372</td>\n      <td>0.720563</td>\n      <td>0.734355</td>\n      <td>0.668754</td>\n      <td>set</td>\n    </tr>\n  </tbody>\n</table>\n<p>2167 rows × 53 columns</p>\n</div>"
     },
     "metadata": {},
     "execution_count": 11
    }
   ],
   "source": [
    "df = pd.read_csv('datatrainall.csv')\n",
    "df"
   ]
  },
  {
   "cell_type": "code",
   "execution_count": 12,
   "metadata": {},
   "outputs": [
    {
     "output_type": "stream",
     "name": "stdout",
     "text": [
      "<class 'pandas.core.frame.DataFrame'>\nRangeIndex: 2167 entries, 0 to 2166\nData columns (total 53 columns):\n #   Column     Non-Null Count  Dtype  \n---  ------     --------------  -----  \n 0   photopath  2167 non-null   object \n 1   part_x0    2167 non-null   float64\n 2   part_x1    2167 non-null   float64\n 3   part_x2    2167 non-null   float64\n 4   part_x3    2167 non-null   float64\n 5   part_x4    2167 non-null   float64\n 6   part_x5    2167 non-null   float64\n 7   part_x6    2167 non-null   float64\n 8   part_x7    2167 non-null   float64\n 9   part_x8    2167 non-null   float64\n 10  part_x9    2167 non-null   float64\n 11  part_x10   2167 non-null   float64\n 12  part_x11   2167 non-null   float64\n 13  part_x12   2167 non-null   float64\n 14  part_x13   2167 non-null   float64\n 15  part_x14   2167 non-null   float64\n 16  part_x15   2167 non-null   float64\n 17  part_x16   2167 non-null   float64\n 18  part_y0    2167 non-null   float64\n 19  part_y1    2167 non-null   float64\n 20  part_y2    2167 non-null   float64\n 21  part_y3    2167 non-null   float64\n 22  part_y4    2167 non-null   float64\n 23  part_y5    2167 non-null   float64\n 24  part_y6    2167 non-null   float64\n 25  part_y7    2167 non-null   float64\n 26  part_y8    2167 non-null   float64\n 27  part_y9    2167 non-null   float64\n 28  part_y10   2167 non-null   float64\n 29  part_y11   2167 non-null   float64\n 30  part_y12   2167 non-null   float64\n 31  part_y13   2167 non-null   float64\n 32  part_y14   2167 non-null   float64\n 33  part_y15   2167 non-null   float64\n 34  part_y16   2167 non-null   float64\n 35  score0     2167 non-null   float64\n 36  score1     2167 non-null   float64\n 37  score2     2167 non-null   float64\n 38  score3     2167 non-null   float64\n 39  score4     2167 non-null   float64\n 40  score5     2167 non-null   float64\n 41  score6     2167 non-null   float64\n 42  score7     2167 non-null   float64\n 43  score8     2167 non-null   float64\n 44  score9     2167 non-null   float64\n 45  score10    2167 non-null   float64\n 46  score11    2167 non-null   float64\n 47  score12    2167 non-null   float64\n 48  score13    2167 non-null   float64\n 49  score14    2167 non-null   float64\n 50  score15    2167 non-null   float64\n 51  score16    2167 non-null   float64\n 52  label      2167 non-null   object \ndtypes: float64(51), object(2)\nmemory usage: 897.4+ KB\n"
     ]
    }
   ],
   "source": [
    "df.info()"
   ]
  },
  {
   "cell_type": "code",
   "execution_count": 13,
   "metadata": {},
   "outputs": [
    {
     "output_type": "execute_result",
     "data": {
      "text/plain": [
       "       part_x0   part_x1   part_x2   part_x3   part_x4   part_x5  part_x6  \\\n",
       "0     0.543750  0.553125  0.493750  0.453125  0.478125  0.609375  0.65625   \n",
       "1     0.565625  0.531250  0.500000  0.434375  0.471875  0.562500  0.65625   \n",
       "2     0.571875  0.568750  0.509375  0.462500  0.471875  0.634375  0.68750   \n",
       "3     0.571875  0.568750  0.509375  0.462500  0.471875  0.634375  0.68750   \n",
       "4     0.465625  0.471875  0.409375  0.400000  0.471875  0.634375  0.68750   \n",
       "...        ...       ...       ...       ...       ...       ...      ...   \n",
       "2162  0.543750  0.528125  0.468750  0.421875  0.403125  0.584375  0.60000   \n",
       "2163  0.625000  0.556250  0.578125  0.559375  0.575000  0.534375  0.60000   \n",
       "2164  0.518750  0.512500  0.453125  0.559375  0.575000  0.534375  0.60000   \n",
       "2165  0.475000  0.478125  0.415625  0.390625  0.362500  0.540625  0.57500   \n",
       "2166  0.550000  0.543750  0.478125  0.390625  0.362500  0.540625  0.57500   \n",
       "\n",
       "       part_x7   part_x8   part_x9  ...    score7    score8    score9  \\\n",
       "0     0.615625  0.515625  0.500000  ...  0.686369  0.327584  0.603786   \n",
       "1     0.615625  0.515625  0.500000  ...  0.686369  0.327584  0.603786   \n",
       "2     0.643750  0.512500  0.484375  ...  0.646998  0.310516  0.211923   \n",
       "3     0.643750  0.512500  0.484375  ...  0.646998  0.310516  0.211923   \n",
       "4     0.643750  0.512500  0.484375  ...  0.646998  0.310516  0.211923   \n",
       "...        ...       ...       ...  ...       ...       ...       ...   \n",
       "2162  0.600000  0.471875  0.440625  ...  0.632400  0.342688  0.183176   \n",
       "2163  0.600000  0.471875  0.440625  ...  0.632400  0.342688  0.183176   \n",
       "2164  0.600000  0.471875  0.440625  ...  0.632400  0.342688  0.183176   \n",
       "2165  0.606250  0.443750  0.440625  ...  0.119927  0.401574  0.168234   \n",
       "2166  0.606250  0.443750  0.440625  ...  0.119927  0.401574  0.168234   \n",
       "\n",
       "       score10   score11   score12   score13   score14   score15   score16  \n",
       "0     0.576362  0.346418  0.276199  0.414210  0.706337  0.694720  0.563441  \n",
       "1     0.576362  0.346418  0.276199  0.414210  0.706337  0.694720  0.563441  \n",
       "2     0.576362  0.346418  0.276199  0.414210  0.706337  0.694720  0.563441  \n",
       "3     0.576362  0.346418  0.276199  0.414210  0.706337  0.694720  0.563441  \n",
       "4     0.576362  0.346418  0.276199  0.414210  0.706337  0.694720  0.563441  \n",
       "...        ...       ...       ...       ...       ...       ...       ...  \n",
       "2162  0.410328  0.279167  0.168791  0.593372  0.720563  0.734355  0.668754  \n",
       "2163  0.410328  0.279167  0.168791  0.593372  0.720563  0.734355  0.668754  \n",
       "2164  0.410328  0.279167  0.168791  0.593372  0.720563  0.734355  0.668754  \n",
       "2165  0.410328  0.279167  0.168791  0.593372  0.720563  0.734355  0.668754  \n",
       "2166  0.410328  0.279167  0.168791  0.593372  0.720563  0.734355  0.668754  \n",
       "\n",
       "[2167 rows x 51 columns]"
      ],
      "text/html": "<div>\n<style scoped>\n    .dataframe tbody tr th:only-of-type {\n        vertical-align: middle;\n    }\n\n    .dataframe tbody tr th {\n        vertical-align: top;\n    }\n\n    .dataframe thead th {\n        text-align: right;\n    }\n</style>\n<table border=\"1\" class=\"dataframe\">\n  <thead>\n    <tr style=\"text-align: right;\">\n      <th></th>\n      <th>part_x0</th>\n      <th>part_x1</th>\n      <th>part_x2</th>\n      <th>part_x3</th>\n      <th>part_x4</th>\n      <th>part_x5</th>\n      <th>part_x6</th>\n      <th>part_x7</th>\n      <th>part_x8</th>\n      <th>part_x9</th>\n      <th>...</th>\n      <th>score7</th>\n      <th>score8</th>\n      <th>score9</th>\n      <th>score10</th>\n      <th>score11</th>\n      <th>score12</th>\n      <th>score13</th>\n      <th>score14</th>\n      <th>score15</th>\n      <th>score16</th>\n    </tr>\n  </thead>\n  <tbody>\n    <tr>\n      <th>0</th>\n      <td>0.543750</td>\n      <td>0.553125</td>\n      <td>0.493750</td>\n      <td>0.453125</td>\n      <td>0.478125</td>\n      <td>0.609375</td>\n      <td>0.65625</td>\n      <td>0.615625</td>\n      <td>0.515625</td>\n      <td>0.500000</td>\n      <td>...</td>\n      <td>0.686369</td>\n      <td>0.327584</td>\n      <td>0.603786</td>\n      <td>0.576362</td>\n      <td>0.346418</td>\n      <td>0.276199</td>\n      <td>0.414210</td>\n      <td>0.706337</td>\n      <td>0.694720</td>\n      <td>0.563441</td>\n    </tr>\n    <tr>\n      <th>1</th>\n      <td>0.565625</td>\n      <td>0.531250</td>\n      <td>0.500000</td>\n      <td>0.434375</td>\n      <td>0.471875</td>\n      <td>0.562500</td>\n      <td>0.65625</td>\n      <td>0.615625</td>\n      <td>0.515625</td>\n      <td>0.500000</td>\n      <td>...</td>\n      <td>0.686369</td>\n      <td>0.327584</td>\n      <td>0.603786</td>\n      <td>0.576362</td>\n      <td>0.346418</td>\n      <td>0.276199</td>\n      <td>0.414210</td>\n      <td>0.706337</td>\n      <td>0.694720</td>\n      <td>0.563441</td>\n    </tr>\n    <tr>\n      <th>2</th>\n      <td>0.571875</td>\n      <td>0.568750</td>\n      <td>0.509375</td>\n      <td>0.462500</td>\n      <td>0.471875</td>\n      <td>0.634375</td>\n      <td>0.68750</td>\n      <td>0.643750</td>\n      <td>0.512500</td>\n      <td>0.484375</td>\n      <td>...</td>\n      <td>0.646998</td>\n      <td>0.310516</td>\n      <td>0.211923</td>\n      <td>0.576362</td>\n      <td>0.346418</td>\n      <td>0.276199</td>\n      <td>0.414210</td>\n      <td>0.706337</td>\n      <td>0.694720</td>\n      <td>0.563441</td>\n    </tr>\n    <tr>\n      <th>3</th>\n      <td>0.571875</td>\n      <td>0.568750</td>\n      <td>0.509375</td>\n      <td>0.462500</td>\n      <td>0.471875</td>\n      <td>0.634375</td>\n      <td>0.68750</td>\n      <td>0.643750</td>\n      <td>0.512500</td>\n      <td>0.484375</td>\n      <td>...</td>\n      <td>0.646998</td>\n      <td>0.310516</td>\n      <td>0.211923</td>\n      <td>0.576362</td>\n      <td>0.346418</td>\n      <td>0.276199</td>\n      <td>0.414210</td>\n      <td>0.706337</td>\n      <td>0.694720</td>\n      <td>0.563441</td>\n    </tr>\n    <tr>\n      <th>4</th>\n      <td>0.465625</td>\n      <td>0.471875</td>\n      <td>0.409375</td>\n      <td>0.400000</td>\n      <td>0.471875</td>\n      <td>0.634375</td>\n      <td>0.68750</td>\n      <td>0.643750</td>\n      <td>0.512500</td>\n      <td>0.484375</td>\n      <td>...</td>\n      <td>0.646998</td>\n      <td>0.310516</td>\n      <td>0.211923</td>\n      <td>0.576362</td>\n      <td>0.346418</td>\n      <td>0.276199</td>\n      <td>0.414210</td>\n      <td>0.706337</td>\n      <td>0.694720</td>\n      <td>0.563441</td>\n    </tr>\n    <tr>\n      <th>...</th>\n      <td>...</td>\n      <td>...</td>\n      <td>...</td>\n      <td>...</td>\n      <td>...</td>\n      <td>...</td>\n      <td>...</td>\n      <td>...</td>\n      <td>...</td>\n      <td>...</td>\n      <td>...</td>\n      <td>...</td>\n      <td>...</td>\n      <td>...</td>\n      <td>...</td>\n      <td>...</td>\n      <td>...</td>\n      <td>...</td>\n      <td>...</td>\n      <td>...</td>\n      <td>...</td>\n    </tr>\n    <tr>\n      <th>2162</th>\n      <td>0.543750</td>\n      <td>0.528125</td>\n      <td>0.468750</td>\n      <td>0.421875</td>\n      <td>0.403125</td>\n      <td>0.584375</td>\n      <td>0.60000</td>\n      <td>0.600000</td>\n      <td>0.471875</td>\n      <td>0.440625</td>\n      <td>...</td>\n      <td>0.632400</td>\n      <td>0.342688</td>\n      <td>0.183176</td>\n      <td>0.410328</td>\n      <td>0.279167</td>\n      <td>0.168791</td>\n      <td>0.593372</td>\n      <td>0.720563</td>\n      <td>0.734355</td>\n      <td>0.668754</td>\n    </tr>\n    <tr>\n      <th>2163</th>\n      <td>0.625000</td>\n      <td>0.556250</td>\n      <td>0.578125</td>\n      <td>0.559375</td>\n      <td>0.575000</td>\n      <td>0.534375</td>\n      <td>0.60000</td>\n      <td>0.600000</td>\n      <td>0.471875</td>\n      <td>0.440625</td>\n      <td>...</td>\n      <td>0.632400</td>\n      <td>0.342688</td>\n      <td>0.183176</td>\n      <td>0.410328</td>\n      <td>0.279167</td>\n      <td>0.168791</td>\n      <td>0.593372</td>\n      <td>0.720563</td>\n      <td>0.734355</td>\n      <td>0.668754</td>\n    </tr>\n    <tr>\n      <th>2164</th>\n      <td>0.518750</td>\n      <td>0.512500</td>\n      <td>0.453125</td>\n      <td>0.559375</td>\n      <td>0.575000</td>\n      <td>0.534375</td>\n      <td>0.60000</td>\n      <td>0.600000</td>\n      <td>0.471875</td>\n      <td>0.440625</td>\n      <td>...</td>\n      <td>0.632400</td>\n      <td>0.342688</td>\n      <td>0.183176</td>\n      <td>0.410328</td>\n      <td>0.279167</td>\n      <td>0.168791</td>\n      <td>0.593372</td>\n      <td>0.720563</td>\n      <td>0.734355</td>\n      <td>0.668754</td>\n    </tr>\n    <tr>\n      <th>2165</th>\n      <td>0.475000</td>\n      <td>0.478125</td>\n      <td>0.415625</td>\n      <td>0.390625</td>\n      <td>0.362500</td>\n      <td>0.540625</td>\n      <td>0.57500</td>\n      <td>0.606250</td>\n      <td>0.443750</td>\n      <td>0.440625</td>\n      <td>...</td>\n      <td>0.119927</td>\n      <td>0.401574</td>\n      <td>0.168234</td>\n      <td>0.410328</td>\n      <td>0.279167</td>\n      <td>0.168791</td>\n      <td>0.593372</td>\n      <td>0.720563</td>\n      <td>0.734355</td>\n      <td>0.668754</td>\n    </tr>\n    <tr>\n      <th>2166</th>\n      <td>0.550000</td>\n      <td>0.543750</td>\n      <td>0.478125</td>\n      <td>0.390625</td>\n      <td>0.362500</td>\n      <td>0.540625</td>\n      <td>0.57500</td>\n      <td>0.606250</td>\n      <td>0.443750</td>\n      <td>0.440625</td>\n      <td>...</td>\n      <td>0.119927</td>\n      <td>0.401574</td>\n      <td>0.168234</td>\n      <td>0.410328</td>\n      <td>0.279167</td>\n      <td>0.168791</td>\n      <td>0.593372</td>\n      <td>0.720563</td>\n      <td>0.734355</td>\n      <td>0.668754</td>\n    </tr>\n  </tbody>\n</table>\n<p>2167 rows × 51 columns</p>\n</div>"
     },
     "metadata": {},
     "execution_count": 13
    }
   ],
   "source": [
    "df_drop = df.drop(columns = ['photopath','label'])\n",
    "df_drop"
   ]
  },
  {
   "cell_type": "code",
   "execution_count": 14,
   "metadata": {},
   "outputs": [],
   "source": [
    "X = df_drop\n",
    "y = df['label']"
   ]
  },
  {
   "cell_type": "code",
   "execution_count": 15,
   "metadata": {},
   "outputs": [],
   "source": [
    "X_train, X_test, y_train, y_test = train_test_split(X,y,test_size=0.2, random_state=300)"
   ]
  },
  {
   "cell_type": "code",
   "execution_count": 16,
   "metadata": {},
   "outputs": [
    {
     "output_type": "execute_result",
     "data": {
      "text/plain": [
       "       part_x0   part_x1   part_x2   part_x3   part_x4   part_x5   part_x6  \\\n",
       "553   0.409375  0.409375  0.331250  0.256250  0.281250  0.478125  0.534375   \n",
       "2033  0.468750  0.443750  0.390625  0.337500  0.381250  0.496875  0.515625   \n",
       "1007  0.462500  0.512500  0.484375  0.462500  0.309375  0.540625  0.481250   \n",
       "509   0.431250  0.462500  0.421875  0.343750  0.387500  0.546875  0.615625   \n",
       "1573  0.465625  0.462500  0.368750  0.265625  0.306250  0.550000  0.628125   \n",
       "...        ...       ...       ...       ...       ...       ...       ...   \n",
       "2070  0.468750  0.453125  0.396875  0.346875  0.381250  0.509375  0.537500   \n",
       "129   0.446875  0.465625  0.406250  0.396875  0.396875  0.521875  0.540625   \n",
       "7     0.465625  0.468750  0.409375  0.393750  0.390625  0.525000  0.556250   \n",
       "1105  0.540625  0.540625  0.493750  0.456250  0.437500  0.578125  0.606250   \n",
       "794   0.584375  0.543750  0.503125  0.546875  0.662500  0.581250  0.665625   \n",
       "\n",
       "       part_x7   part_x8   part_x9  ...    score7    score8    score9  \\\n",
       "553   0.481250  0.350000  0.300000  ...  0.604717  0.407894  0.547221   \n",
       "2033  0.506250  0.421875  0.415625  ...  0.543288  0.261814  0.254472   \n",
       "1007  0.403125  0.540625  0.484375  ...  0.466202  0.495361  0.636421   \n",
       "509   0.571875  0.443750  0.434375  ...  0.486379  0.327480  0.462393   \n",
       "1573  0.559375  0.400000  0.403125  ...  0.506463  0.144498  0.182413   \n",
       "...        ...       ...       ...  ...       ...       ...       ...   \n",
       "2070  0.515625  0.428125  0.418750  ...  0.664319  0.450830  0.565477   \n",
       "129   0.540625  0.434375  0.453125  ...  0.098678  0.482816  0.406396   \n",
       "7     0.546875  0.450000  0.434375  ...  0.157768  0.233339  0.288430   \n",
       "1105  0.606250  0.484375  0.450000  ...  0.397217  0.575926  0.756936   \n",
       "794   0.743750  0.465625  0.534375  ...  0.447213  0.530012  0.691851   \n",
       "\n",
       "       score10   score11   score12   score13   score14   score15   score16  \n",
       "553   0.553847  0.289581  0.249010  0.102215  0.714871  0.814783  0.797075  \n",
       "2033  0.158648  0.287422  0.437589  0.471992  0.676519  0.746993  0.707175  \n",
       "1007  0.511996  0.398407  0.631153  0.570468  0.680509  0.846754  0.632923  \n",
       "509   0.269474  0.224256  0.324204  0.482685  0.696059  0.833201  0.800540  \n",
       "1573  0.406455  0.453257  0.340837  0.456662  0.860269  0.746915  0.755668  \n",
       "...        ...       ...       ...       ...       ...       ...       ...  \n",
       "2070  0.421724  0.412029  0.370402  0.414960  0.745904  0.764293  0.802218  \n",
       "129   0.292249  0.497092  0.190518  0.375808  0.783745  0.674649  0.232810  \n",
       "7     0.168731  0.386389  0.365407  0.232819  0.806863  0.842528  0.666585  \n",
       "1105  0.684761  0.499982  0.664372  0.575942  0.788524  0.773776  0.644901  \n",
       "794   0.631443  0.489371  0.577849  0.499925  0.684682  0.696020  0.703673  \n",
       "\n",
       "[434 rows x 51 columns]"
      ],
      "text/html": "<div>\n<style scoped>\n    .dataframe tbody tr th:only-of-type {\n        vertical-align: middle;\n    }\n\n    .dataframe tbody tr th {\n        vertical-align: top;\n    }\n\n    .dataframe thead th {\n        text-align: right;\n    }\n</style>\n<table border=\"1\" class=\"dataframe\">\n  <thead>\n    <tr style=\"text-align: right;\">\n      <th></th>\n      <th>part_x0</th>\n      <th>part_x1</th>\n      <th>part_x2</th>\n      <th>part_x3</th>\n      <th>part_x4</th>\n      <th>part_x5</th>\n      <th>part_x6</th>\n      <th>part_x7</th>\n      <th>part_x8</th>\n      <th>part_x9</th>\n      <th>...</th>\n      <th>score7</th>\n      <th>score8</th>\n      <th>score9</th>\n      <th>score10</th>\n      <th>score11</th>\n      <th>score12</th>\n      <th>score13</th>\n      <th>score14</th>\n      <th>score15</th>\n      <th>score16</th>\n    </tr>\n  </thead>\n  <tbody>\n    <tr>\n      <th>553</th>\n      <td>0.409375</td>\n      <td>0.409375</td>\n      <td>0.331250</td>\n      <td>0.256250</td>\n      <td>0.281250</td>\n      <td>0.478125</td>\n      <td>0.534375</td>\n      <td>0.481250</td>\n      <td>0.350000</td>\n      <td>0.300000</td>\n      <td>...</td>\n      <td>0.604717</td>\n      <td>0.407894</td>\n      <td>0.547221</td>\n      <td>0.553847</td>\n      <td>0.289581</td>\n      <td>0.249010</td>\n      <td>0.102215</td>\n      <td>0.714871</td>\n      <td>0.814783</td>\n      <td>0.797075</td>\n    </tr>\n    <tr>\n      <th>2033</th>\n      <td>0.468750</td>\n      <td>0.443750</td>\n      <td>0.390625</td>\n      <td>0.337500</td>\n      <td>0.381250</td>\n      <td>0.496875</td>\n      <td>0.515625</td>\n      <td>0.506250</td>\n      <td>0.421875</td>\n      <td>0.415625</td>\n      <td>...</td>\n      <td>0.543288</td>\n      <td>0.261814</td>\n      <td>0.254472</td>\n      <td>0.158648</td>\n      <td>0.287422</td>\n      <td>0.437589</td>\n      <td>0.471992</td>\n      <td>0.676519</td>\n      <td>0.746993</td>\n      <td>0.707175</td>\n    </tr>\n    <tr>\n      <th>1007</th>\n      <td>0.462500</td>\n      <td>0.512500</td>\n      <td>0.484375</td>\n      <td>0.462500</td>\n      <td>0.309375</td>\n      <td>0.540625</td>\n      <td>0.481250</td>\n      <td>0.403125</td>\n      <td>0.540625</td>\n      <td>0.484375</td>\n      <td>...</td>\n      <td>0.466202</td>\n      <td>0.495361</td>\n      <td>0.636421</td>\n      <td>0.511996</td>\n      <td>0.398407</td>\n      <td>0.631153</td>\n      <td>0.570468</td>\n      <td>0.680509</td>\n      <td>0.846754</td>\n      <td>0.632923</td>\n    </tr>\n    <tr>\n      <th>509</th>\n      <td>0.431250</td>\n      <td>0.462500</td>\n      <td>0.421875</td>\n      <td>0.343750</td>\n      <td>0.387500</td>\n      <td>0.546875</td>\n      <td>0.615625</td>\n      <td>0.571875</td>\n      <td>0.443750</td>\n      <td>0.434375</td>\n      <td>...</td>\n      <td>0.486379</td>\n      <td>0.327480</td>\n      <td>0.462393</td>\n      <td>0.269474</td>\n      <td>0.224256</td>\n      <td>0.324204</td>\n      <td>0.482685</td>\n      <td>0.696059</td>\n      <td>0.833201</td>\n      <td>0.800540</td>\n    </tr>\n    <tr>\n      <th>1573</th>\n      <td>0.465625</td>\n      <td>0.462500</td>\n      <td>0.368750</td>\n      <td>0.265625</td>\n      <td>0.306250</td>\n      <td>0.550000</td>\n      <td>0.628125</td>\n      <td>0.559375</td>\n      <td>0.400000</td>\n      <td>0.403125</td>\n      <td>...</td>\n      <td>0.506463</td>\n      <td>0.144498</td>\n      <td>0.182413</td>\n      <td>0.406455</td>\n      <td>0.453257</td>\n      <td>0.340837</td>\n      <td>0.456662</td>\n      <td>0.860269</td>\n      <td>0.746915</td>\n      <td>0.755668</td>\n    </tr>\n    <tr>\n      <th>...</th>\n      <td>...</td>\n      <td>...</td>\n      <td>...</td>\n      <td>...</td>\n      <td>...</td>\n      <td>...</td>\n      <td>...</td>\n      <td>...</td>\n      <td>...</td>\n      <td>...</td>\n      <td>...</td>\n      <td>...</td>\n      <td>...</td>\n      <td>...</td>\n      <td>...</td>\n      <td>...</td>\n      <td>...</td>\n      <td>...</td>\n      <td>...</td>\n      <td>...</td>\n      <td>...</td>\n    </tr>\n    <tr>\n      <th>2070</th>\n      <td>0.468750</td>\n      <td>0.453125</td>\n      <td>0.396875</td>\n      <td>0.346875</td>\n      <td>0.381250</td>\n      <td>0.509375</td>\n      <td>0.537500</td>\n      <td>0.515625</td>\n      <td>0.428125</td>\n      <td>0.418750</td>\n      <td>...</td>\n      <td>0.664319</td>\n      <td>0.450830</td>\n      <td>0.565477</td>\n      <td>0.421724</td>\n      <td>0.412029</td>\n      <td>0.370402</td>\n      <td>0.414960</td>\n      <td>0.745904</td>\n      <td>0.764293</td>\n      <td>0.802218</td>\n    </tr>\n    <tr>\n      <th>129</th>\n      <td>0.446875</td>\n      <td>0.465625</td>\n      <td>0.406250</td>\n      <td>0.396875</td>\n      <td>0.396875</td>\n      <td>0.521875</td>\n      <td>0.540625</td>\n      <td>0.540625</td>\n      <td>0.434375</td>\n      <td>0.453125</td>\n      <td>...</td>\n      <td>0.098678</td>\n      <td>0.482816</td>\n      <td>0.406396</td>\n      <td>0.292249</td>\n      <td>0.497092</td>\n      <td>0.190518</td>\n      <td>0.375808</td>\n      <td>0.783745</td>\n      <td>0.674649</td>\n      <td>0.232810</td>\n    </tr>\n    <tr>\n      <th>7</th>\n      <td>0.465625</td>\n      <td>0.468750</td>\n      <td>0.409375</td>\n      <td>0.393750</td>\n      <td>0.390625</td>\n      <td>0.525000</td>\n      <td>0.556250</td>\n      <td>0.546875</td>\n      <td>0.450000</td>\n      <td>0.434375</td>\n      <td>...</td>\n      <td>0.157768</td>\n      <td>0.233339</td>\n      <td>0.288430</td>\n      <td>0.168731</td>\n      <td>0.386389</td>\n      <td>0.365407</td>\n      <td>0.232819</td>\n      <td>0.806863</td>\n      <td>0.842528</td>\n      <td>0.666585</td>\n    </tr>\n    <tr>\n      <th>1105</th>\n      <td>0.540625</td>\n      <td>0.540625</td>\n      <td>0.493750</td>\n      <td>0.456250</td>\n      <td>0.437500</td>\n      <td>0.578125</td>\n      <td>0.606250</td>\n      <td>0.606250</td>\n      <td>0.484375</td>\n      <td>0.450000</td>\n      <td>...</td>\n      <td>0.397217</td>\n      <td>0.575926</td>\n      <td>0.756936</td>\n      <td>0.684761</td>\n      <td>0.499982</td>\n      <td>0.664372</td>\n      <td>0.575942</td>\n      <td>0.788524</td>\n      <td>0.773776</td>\n      <td>0.644901</td>\n    </tr>\n    <tr>\n      <th>794</th>\n      <td>0.584375</td>\n      <td>0.543750</td>\n      <td>0.503125</td>\n      <td>0.546875</td>\n      <td>0.662500</td>\n      <td>0.581250</td>\n      <td>0.665625</td>\n      <td>0.743750</td>\n      <td>0.465625</td>\n      <td>0.534375</td>\n      <td>...</td>\n      <td>0.447213</td>\n      <td>0.530012</td>\n      <td>0.691851</td>\n      <td>0.631443</td>\n      <td>0.489371</td>\n      <td>0.577849</td>\n      <td>0.499925</td>\n      <td>0.684682</td>\n      <td>0.696020</td>\n      <td>0.703673</td>\n    </tr>\n  </tbody>\n</table>\n<p>434 rows × 51 columns</p>\n</div>"
     },
     "metadata": {},
     "execution_count": 16
    }
   ],
   "source": [
    "X_test"
   ]
  },
  {
   "cell_type": "code",
   "execution_count": 17,
   "metadata": {},
   "outputs": [],
   "source": [
    "clf = MLPClassifier(hidden_layer_sizes=(64, 64,),solver = 'sgd').fit(X_train, y_train)"
   ]
  },
  {
   "cell_type": "code",
   "execution_count": 18,
   "metadata": {},
   "outputs": [
    {
     "output_type": "stream",
     "name": "stdout",
     "text": [
      "Accuracy : 0.9746543778801844\nF1 Score : 0.9746543778801844\nPrecision : 0.9746543778801844\nRecall : 0.9746543778801844\n"
     ]
    }
   ],
   "source": [
    "predicted = clf.predict(X_test)\n",
    "print('Accuracy :', accuracy_score(y_test, predicted))\n",
    "print('F1 Score :', f1_score(y_test, predicted, average='micro'))\n",
    "print('Precision :', precision_score(y_test, predicted, average='micro'))\n",
    "print('Recall :', recall_score(y_test, predicted, average='micro'))"
   ]
  },
  {
   "cell_type": "code",
   "execution_count": null,
   "metadata": {},
   "outputs": [],
   "source": []
  }
 ],
 "metadata": {
  "kernelspec": {
   "display_name": "Python 3",
   "language": "python",
   "name": "python3"
  },
  "language_info": {
   "codemirror_mode": {
    "name": "ipython",
    "version": 3
   },
   "file_extension": ".py",
   "mimetype": "text/x-python",
   "name": "python",
   "nbconvert_exporter": "python",
   "pygments_lexer": "ipython3",
   "version": "3.8.5-final"
  }
 },
 "nbformat": 4,
 "nbformat_minor": 4
}