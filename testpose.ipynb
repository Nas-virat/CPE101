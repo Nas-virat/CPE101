{
 "cells": [
  {
   "cell_type": "code",
   "execution_count": 64,
   "metadata": {},
   "outputs": [],
   "source": [
    "import pandas as pd\n",
    "import numpy as np\n",
    "import matplotlib.pyplot as plt\n",
    "import seaborn as sns\n",
    "\n",
    "from sklearn.preprocessing import StandardScaler\n",
    "\n",
    "from sklearn.model_selection import train_test_split\n",
    "from sklearn.ensemble import RandomForestClassifier\n",
    "from sklearn.linear_model import LogisticRegression\n",
    "\n",
    "from sklearn.metrics import confusion_matrix, accuracy_score, recall_score, precision_score, f1_score\n",
    "%matplotlib inline"
   ]
  },
  {
   "cell_type": "code",
   "execution_count": 65,
   "metadata": {},
   "outputs": [
    {
     "output_type": "execute_result",
     "data": {
      "text/plain": [
       "                    photopath  part_x0  part_x1  part_x2  part_x3  part_x4  \\\n",
       "0              img_set_62.jpg    344.0    318.0    290.0    254.0    288.0   \n",
       "1             img_set_120.jpg    308.0    304.0    252.0    198.0    220.0   \n",
       "2             img_set_242.jpg    348.0    354.0    316.0    290.0    306.0   \n",
       "3             img_set_140.jpg    240.0    240.0    190.0    134.0    150.0   \n",
       "4             img_set_223.jpg    362.0    340.0    320.0    278.0    302.0   \n",
       "...                       ...      ...      ...      ...      ...      ...   \n",
       "1005   img_squats_down_39.jpg    334.0    304.0    266.0    176.0    156.0   \n",
       "1006  img_squats_down_161.jpg    344.0    342.0    314.0    290.0    284.0   \n",
       "1007  img_squats_down_356.jpg    280.0    280.0    242.0    220.0    236.0   \n",
       "1008  img_squats_down_159.jpg    346.0    344.0    314.0    292.0    284.0   \n",
       "1009   img_squats_down_56.jpg    272.0    270.0    236.0    202.0    284.0   \n",
       "\n",
       "      part_x5  part_x6  part_x7  part_x8  ...    score8    score9   score10  \\\n",
       "0       342.0    334.0      0.0      0.0  ...  0.000000  0.000000  0.000000   \n",
       "1       356.0    400.0    370.0      0.0  ...  0.000000  0.000000  0.000000   \n",
       "2       390.0    420.0    394.0    330.0  ...  0.327584  0.603786  0.576362   \n",
       "3       288.0    330.0    304.0    330.0  ...  0.327584  0.603786  0.576362   \n",
       "4       360.0    330.0    304.0    330.0  ...  0.327584  0.603786  0.576362   \n",
       "...       ...      ...      ...      ...  ...       ...       ...       ...   \n",
       "1005    276.0    348.0    334.0    258.0  ...  0.494075  0.608890  0.491502   \n",
       "1006    368.0    388.0    400.0    316.0  ...  0.552420  0.690133  0.561857   \n",
       "1007    322.0    348.0    328.0    256.0  ...  0.606812  0.662761  0.478667   \n",
       "1008    370.0    390.0    396.0    316.0  ...  0.538956  0.663207  0.529844   \n",
       "1009    370.0    390.0    396.0    316.0  ...  0.538956  0.663207  0.529844   \n",
       "\n",
       "       score11   score12   score13   score14   score15   score16        label  \n",
       "0     0.000000  0.000000  0.000000  0.000000  0.000000  0.000000  lunges_down  \n",
       "1     0.000000  0.000000  0.000000  0.000000  0.000000  0.000000  lunges_down  \n",
       "2     0.346418  0.276199  0.414210  0.706337  0.694720  0.563441  lunges_down  \n",
       "3     0.346418  0.276199  0.414210  0.706337  0.694720  0.563441  lunges_down  \n",
       "4     0.346418  0.276199  0.414210  0.706337  0.694720  0.563441  lunges_down  \n",
       "...        ...       ...       ...       ...       ...       ...          ...  \n",
       "1005  0.503572  0.693771  0.458731  0.744567  0.812111  0.723372  lunges_down  \n",
       "1006  0.424568  0.717569  0.405047  0.812014  0.787105  0.656465  lunges_down  \n",
       "1007  0.544953  0.704185  0.550990  0.745710  0.752486  0.703303  lunges_down  \n",
       "1008  0.493685  0.692496  0.455090  0.706155  0.708886  0.642120  lunges_down  \n",
       "1009  0.493685  0.692496  0.455090  0.706155  0.708886  0.642120  lunges_down  \n",
       "\n",
       "[1010 rows x 53 columns]"
      ],
      "text/html": "<div>\n<style scoped>\n    .dataframe tbody tr th:only-of-type {\n        vertical-align: middle;\n    }\n\n    .dataframe tbody tr th {\n        vertical-align: top;\n    }\n\n    .dataframe thead th {\n        text-align: right;\n    }\n</style>\n<table border=\"1\" class=\"dataframe\">\n  <thead>\n    <tr style=\"text-align: right;\">\n      <th></th>\n      <th>photopath</th>\n      <th>part_x0</th>\n      <th>part_x1</th>\n      <th>part_x2</th>\n      <th>part_x3</th>\n      <th>part_x4</th>\n      <th>part_x5</th>\n      <th>part_x6</th>\n      <th>part_x7</th>\n      <th>part_x8</th>\n      <th>...</th>\n      <th>score8</th>\n      <th>score9</th>\n      <th>score10</th>\n      <th>score11</th>\n      <th>score12</th>\n      <th>score13</th>\n      <th>score14</th>\n      <th>score15</th>\n      <th>score16</th>\n      <th>label</th>\n    </tr>\n  </thead>\n  <tbody>\n    <tr>\n      <th>0</th>\n      <td>img_set_62.jpg</td>\n      <td>344.0</td>\n      <td>318.0</td>\n      <td>290.0</td>\n      <td>254.0</td>\n      <td>288.0</td>\n      <td>342.0</td>\n      <td>334.0</td>\n      <td>0.0</td>\n      <td>0.0</td>\n      <td>...</td>\n      <td>0.000000</td>\n      <td>0.000000</td>\n      <td>0.000000</td>\n      <td>0.000000</td>\n      <td>0.000000</td>\n      <td>0.000000</td>\n      <td>0.000000</td>\n      <td>0.000000</td>\n      <td>0.000000</td>\n      <td>lunges_down</td>\n    </tr>\n    <tr>\n      <th>1</th>\n      <td>img_set_120.jpg</td>\n      <td>308.0</td>\n      <td>304.0</td>\n      <td>252.0</td>\n      <td>198.0</td>\n      <td>220.0</td>\n      <td>356.0</td>\n      <td>400.0</td>\n      <td>370.0</td>\n      <td>0.0</td>\n      <td>...</td>\n      <td>0.000000</td>\n      <td>0.000000</td>\n      <td>0.000000</td>\n      <td>0.000000</td>\n      <td>0.000000</td>\n      <td>0.000000</td>\n      <td>0.000000</td>\n      <td>0.000000</td>\n      <td>0.000000</td>\n      <td>lunges_down</td>\n    </tr>\n    <tr>\n      <th>2</th>\n      <td>img_set_242.jpg</td>\n      <td>348.0</td>\n      <td>354.0</td>\n      <td>316.0</td>\n      <td>290.0</td>\n      <td>306.0</td>\n      <td>390.0</td>\n      <td>420.0</td>\n      <td>394.0</td>\n      <td>330.0</td>\n      <td>...</td>\n      <td>0.327584</td>\n      <td>0.603786</td>\n      <td>0.576362</td>\n      <td>0.346418</td>\n      <td>0.276199</td>\n      <td>0.414210</td>\n      <td>0.706337</td>\n      <td>0.694720</td>\n      <td>0.563441</td>\n      <td>lunges_down</td>\n    </tr>\n    <tr>\n      <th>3</th>\n      <td>img_set_140.jpg</td>\n      <td>240.0</td>\n      <td>240.0</td>\n      <td>190.0</td>\n      <td>134.0</td>\n      <td>150.0</td>\n      <td>288.0</td>\n      <td>330.0</td>\n      <td>304.0</td>\n      <td>330.0</td>\n      <td>...</td>\n      <td>0.327584</td>\n      <td>0.603786</td>\n      <td>0.576362</td>\n      <td>0.346418</td>\n      <td>0.276199</td>\n      <td>0.414210</td>\n      <td>0.706337</td>\n      <td>0.694720</td>\n      <td>0.563441</td>\n      <td>lunges_down</td>\n    </tr>\n    <tr>\n      <th>4</th>\n      <td>img_set_223.jpg</td>\n      <td>362.0</td>\n      <td>340.0</td>\n      <td>320.0</td>\n      <td>278.0</td>\n      <td>302.0</td>\n      <td>360.0</td>\n      <td>330.0</td>\n      <td>304.0</td>\n      <td>330.0</td>\n      <td>...</td>\n      <td>0.327584</td>\n      <td>0.603786</td>\n      <td>0.576362</td>\n      <td>0.346418</td>\n      <td>0.276199</td>\n      <td>0.414210</td>\n      <td>0.706337</td>\n      <td>0.694720</td>\n      <td>0.563441</td>\n      <td>lunges_down</td>\n    </tr>\n    <tr>\n      <th>...</th>\n      <td>...</td>\n      <td>...</td>\n      <td>...</td>\n      <td>...</td>\n      <td>...</td>\n      <td>...</td>\n      <td>...</td>\n      <td>...</td>\n      <td>...</td>\n      <td>...</td>\n      <td>...</td>\n      <td>...</td>\n      <td>...</td>\n      <td>...</td>\n      <td>...</td>\n      <td>...</td>\n      <td>...</td>\n      <td>...</td>\n      <td>...</td>\n      <td>...</td>\n      <td>...</td>\n    </tr>\n    <tr>\n      <th>1005</th>\n      <td>img_squats_down_39.jpg</td>\n      <td>334.0</td>\n      <td>304.0</td>\n      <td>266.0</td>\n      <td>176.0</td>\n      <td>156.0</td>\n      <td>276.0</td>\n      <td>348.0</td>\n      <td>334.0</td>\n      <td>258.0</td>\n      <td>...</td>\n      <td>0.494075</td>\n      <td>0.608890</td>\n      <td>0.491502</td>\n      <td>0.503572</td>\n      <td>0.693771</td>\n      <td>0.458731</td>\n      <td>0.744567</td>\n      <td>0.812111</td>\n      <td>0.723372</td>\n      <td>lunges_down</td>\n    </tr>\n    <tr>\n      <th>1006</th>\n      <td>img_squats_down_161.jpg</td>\n      <td>344.0</td>\n      <td>342.0</td>\n      <td>314.0</td>\n      <td>290.0</td>\n      <td>284.0</td>\n      <td>368.0</td>\n      <td>388.0</td>\n      <td>400.0</td>\n      <td>316.0</td>\n      <td>...</td>\n      <td>0.552420</td>\n      <td>0.690133</td>\n      <td>0.561857</td>\n      <td>0.424568</td>\n      <td>0.717569</td>\n      <td>0.405047</td>\n      <td>0.812014</td>\n      <td>0.787105</td>\n      <td>0.656465</td>\n      <td>lunges_down</td>\n    </tr>\n    <tr>\n      <th>1007</th>\n      <td>img_squats_down_356.jpg</td>\n      <td>280.0</td>\n      <td>280.0</td>\n      <td>242.0</td>\n      <td>220.0</td>\n      <td>236.0</td>\n      <td>322.0</td>\n      <td>348.0</td>\n      <td>328.0</td>\n      <td>256.0</td>\n      <td>...</td>\n      <td>0.606812</td>\n      <td>0.662761</td>\n      <td>0.478667</td>\n      <td>0.544953</td>\n      <td>0.704185</td>\n      <td>0.550990</td>\n      <td>0.745710</td>\n      <td>0.752486</td>\n      <td>0.703303</td>\n      <td>lunges_down</td>\n    </tr>\n    <tr>\n      <th>1008</th>\n      <td>img_squats_down_159.jpg</td>\n      <td>346.0</td>\n      <td>344.0</td>\n      <td>314.0</td>\n      <td>292.0</td>\n      <td>284.0</td>\n      <td>370.0</td>\n      <td>390.0</td>\n      <td>396.0</td>\n      <td>316.0</td>\n      <td>...</td>\n      <td>0.538956</td>\n      <td>0.663207</td>\n      <td>0.529844</td>\n      <td>0.493685</td>\n      <td>0.692496</td>\n      <td>0.455090</td>\n      <td>0.706155</td>\n      <td>0.708886</td>\n      <td>0.642120</td>\n      <td>lunges_down</td>\n    </tr>\n    <tr>\n      <th>1009</th>\n      <td>img_squats_down_56.jpg</td>\n      <td>272.0</td>\n      <td>270.0</td>\n      <td>236.0</td>\n      <td>202.0</td>\n      <td>284.0</td>\n      <td>370.0</td>\n      <td>390.0</td>\n      <td>396.0</td>\n      <td>316.0</td>\n      <td>...</td>\n      <td>0.538956</td>\n      <td>0.663207</td>\n      <td>0.529844</td>\n      <td>0.493685</td>\n      <td>0.692496</td>\n      <td>0.455090</td>\n      <td>0.706155</td>\n      <td>0.708886</td>\n      <td>0.642120</td>\n      <td>lunges_down</td>\n    </tr>\n  </tbody>\n</table>\n<p>1010 rows × 53 columns</p>\n</div>"
     },
     "metadata": {},
     "execution_count": 65
    }
   ],
   "source": [
    "df = pd.read_csv('datatrainall.csv')\n",
    "df"
   ]
  },
  {
   "cell_type": "code",
   "execution_count": 66,
   "metadata": {},
   "outputs": [
    {
     "output_type": "stream",
     "name": "stdout",
     "text": [
      "<class 'pandas.core.frame.DataFrame'>\nRangeIndex: 1010 entries, 0 to 1009\nData columns (total 53 columns):\n #   Column     Non-Null Count  Dtype  \n---  ------     --------------  -----  \n 0   photopath  1010 non-null   object \n 1   part_x0    1010 non-null   float64\n 2   part_x1    1010 non-null   float64\n 3   part_x2    1010 non-null   float64\n 4   part_x3    1010 non-null   float64\n 5   part_x4    1010 non-null   float64\n 6   part_x5    1010 non-null   float64\n 7   part_x6    1010 non-null   float64\n 8   part_x7    1010 non-null   float64\n 9   part_x8    1010 non-null   float64\n 10  part_x9    1010 non-null   float64\n 11  part_x10   1010 non-null   float64\n 12  part_x11   1010 non-null   float64\n 13  part_x12   1010 non-null   float64\n 14  part_x13   1010 non-null   float64\n 15  part_x14   1010 non-null   float64\n 16  part_x15   1010 non-null   float64\n 17  part_x16   1010 non-null   float64\n 18  part_y0    1010 non-null   float64\n 19  part_y1    1010 non-null   float64\n 20  part_y2    1010 non-null   float64\n 21  part_y3    1010 non-null   float64\n 22  part_y4    1010 non-null   float64\n 23  part_y5    1010 non-null   float64\n 24  part_y6    1010 non-null   float64\n 25  part_y7    1010 non-null   float64\n 26  part_y8    1010 non-null   float64\n 27  part_y9    1010 non-null   float64\n 28  part_y10   1010 non-null   float64\n 29  part_y11   1010 non-null   float64\n 30  part_y12   1010 non-null   float64\n 31  part_y13   1010 non-null   float64\n 32  part_y14   1010 non-null   float64\n 33  part_y15   1010 non-null   float64\n 34  part_y16   1010 non-null   float64\n 35  score0     1010 non-null   float64\n 36  score1     1010 non-null   float64\n 37  score2     1010 non-null   float64\n 38  score3     1010 non-null   float64\n 39  score4     1010 non-null   float64\n 40  score5     1010 non-null   float64\n 41  score6     1010 non-null   float64\n 42  score7     1010 non-null   float64\n 43  score8     1010 non-null   float64\n 44  score9     1010 non-null   float64\n 45  score10    1010 non-null   float64\n 46  score11    1010 non-null   float64\n 47  score12    1010 non-null   float64\n 48  score13    1010 non-null   float64\n 49  score14    1010 non-null   float64\n 50  score15    1010 non-null   float64\n 51  score16    1010 non-null   float64\n 52  label      1010 non-null   object \ndtypes: float64(51), object(2)\nmemory usage: 418.3+ KB\n"
     ]
    }
   ],
   "source": [
    "df.info()"
   ]
  },
  {
   "cell_type": "code",
   "execution_count": 67,
   "metadata": {},
   "outputs": [
    {
     "output_type": "execute_result",
     "data": {
      "text/plain": [
       "      part_x0  part_x1  part_x2  part_x3  part_x4  part_x5  part_x6  part_x7  \\\n",
       "0       344.0    318.0    290.0    254.0    288.0    342.0    334.0      0.0   \n",
       "1       308.0    304.0    252.0    198.0    220.0    356.0    400.0    370.0   \n",
       "2       348.0    354.0    316.0    290.0    306.0    390.0    420.0    394.0   \n",
       "3       240.0    240.0    190.0    134.0    150.0    288.0    330.0    304.0   \n",
       "4       362.0    340.0    320.0    278.0    302.0    360.0    330.0    304.0   \n",
       "...       ...      ...      ...      ...      ...      ...      ...      ...   \n",
       "1005    334.0    304.0    266.0    176.0    156.0    276.0    348.0    334.0   \n",
       "1006    344.0    342.0    314.0    290.0    284.0    368.0    388.0    400.0   \n",
       "1007    280.0    280.0    242.0    220.0    236.0    322.0    348.0    328.0   \n",
       "1008    346.0    344.0    314.0    292.0    284.0    370.0    390.0    396.0   \n",
       "1009    272.0    270.0    236.0    202.0    284.0    370.0    390.0    396.0   \n",
       "\n",
       "      part_x8  part_x9  ...    score7    score8    score9   score10   score11  \\\n",
       "0         0.0      0.0  ...  0.000000  0.000000  0.000000  0.000000  0.000000   \n",
       "1         0.0      0.0  ...  0.423781  0.000000  0.000000  0.000000  0.000000   \n",
       "2       330.0    320.0  ...  0.686369  0.327584  0.603786  0.576362  0.346418   \n",
       "3       330.0    320.0  ...  0.665009  0.327584  0.603786  0.576362  0.346418   \n",
       "4       330.0    320.0  ...  0.665009  0.327584  0.603786  0.576362  0.346418   \n",
       "...       ...      ...  ...       ...       ...       ...       ...       ...   \n",
       "1005    258.0    234.0  ...  0.431496  0.494075  0.608890  0.491502  0.503572   \n",
       "1006    316.0    298.0  ...  0.618202  0.552420  0.690133  0.561857  0.424568   \n",
       "1007    256.0    254.0  ...  0.132306  0.606812  0.662761  0.478667  0.544953   \n",
       "1008    316.0    298.0  ...  0.469788  0.538956  0.663207  0.529844  0.493685   \n",
       "1009    316.0    298.0  ...  0.469788  0.538956  0.663207  0.529844  0.493685   \n",
       "\n",
       "       score12   score13   score14   score15   score16  \n",
       "0     0.000000  0.000000  0.000000  0.000000  0.000000  \n",
       "1     0.000000  0.000000  0.000000  0.000000  0.000000  \n",
       "2     0.276199  0.414210  0.706337  0.694720  0.563441  \n",
       "3     0.276199  0.414210  0.706337  0.694720  0.563441  \n",
       "4     0.276199  0.414210  0.706337  0.694720  0.563441  \n",
       "...        ...       ...       ...       ...       ...  \n",
       "1005  0.693771  0.458731  0.744567  0.812111  0.723372  \n",
       "1006  0.717569  0.405047  0.812014  0.787105  0.656465  \n",
       "1007  0.704185  0.550990  0.745710  0.752486  0.703303  \n",
       "1008  0.692496  0.455090  0.706155  0.708886  0.642120  \n",
       "1009  0.692496  0.455090  0.706155  0.708886  0.642120  \n",
       "\n",
       "[1010 rows x 51 columns]"
      ],
      "text/html": "<div>\n<style scoped>\n    .dataframe tbody tr th:only-of-type {\n        vertical-align: middle;\n    }\n\n    .dataframe tbody tr th {\n        vertical-align: top;\n    }\n\n    .dataframe thead th {\n        text-align: right;\n    }\n</style>\n<table border=\"1\" class=\"dataframe\">\n  <thead>\n    <tr style=\"text-align: right;\">\n      <th></th>\n      <th>part_x0</th>\n      <th>part_x1</th>\n      <th>part_x2</th>\n      <th>part_x3</th>\n      <th>part_x4</th>\n      <th>part_x5</th>\n      <th>part_x6</th>\n      <th>part_x7</th>\n      <th>part_x8</th>\n      <th>part_x9</th>\n      <th>...</th>\n      <th>score7</th>\n      <th>score8</th>\n      <th>score9</th>\n      <th>score10</th>\n      <th>score11</th>\n      <th>score12</th>\n      <th>score13</th>\n      <th>score14</th>\n      <th>score15</th>\n      <th>score16</th>\n    </tr>\n  </thead>\n  <tbody>\n    <tr>\n      <th>0</th>\n      <td>344.0</td>\n      <td>318.0</td>\n      <td>290.0</td>\n      <td>254.0</td>\n      <td>288.0</td>\n      <td>342.0</td>\n      <td>334.0</td>\n      <td>0.0</td>\n      <td>0.0</td>\n      <td>0.0</td>\n      <td>...</td>\n      <td>0.000000</td>\n      <td>0.000000</td>\n      <td>0.000000</td>\n      <td>0.000000</td>\n      <td>0.000000</td>\n      <td>0.000000</td>\n      <td>0.000000</td>\n      <td>0.000000</td>\n      <td>0.000000</td>\n      <td>0.000000</td>\n    </tr>\n    <tr>\n      <th>1</th>\n      <td>308.0</td>\n      <td>304.0</td>\n      <td>252.0</td>\n      <td>198.0</td>\n      <td>220.0</td>\n      <td>356.0</td>\n      <td>400.0</td>\n      <td>370.0</td>\n      <td>0.0</td>\n      <td>0.0</td>\n      <td>...</td>\n      <td>0.423781</td>\n      <td>0.000000</td>\n      <td>0.000000</td>\n      <td>0.000000</td>\n      <td>0.000000</td>\n      <td>0.000000</td>\n      <td>0.000000</td>\n      <td>0.000000</td>\n      <td>0.000000</td>\n      <td>0.000000</td>\n    </tr>\n    <tr>\n      <th>2</th>\n      <td>348.0</td>\n      <td>354.0</td>\n      <td>316.0</td>\n      <td>290.0</td>\n      <td>306.0</td>\n      <td>390.0</td>\n      <td>420.0</td>\n      <td>394.0</td>\n      <td>330.0</td>\n      <td>320.0</td>\n      <td>...</td>\n      <td>0.686369</td>\n      <td>0.327584</td>\n      <td>0.603786</td>\n      <td>0.576362</td>\n      <td>0.346418</td>\n      <td>0.276199</td>\n      <td>0.414210</td>\n      <td>0.706337</td>\n      <td>0.694720</td>\n      <td>0.563441</td>\n    </tr>\n    <tr>\n      <th>3</th>\n      <td>240.0</td>\n      <td>240.0</td>\n      <td>190.0</td>\n      <td>134.0</td>\n      <td>150.0</td>\n      <td>288.0</td>\n      <td>330.0</td>\n      <td>304.0</td>\n      <td>330.0</td>\n      <td>320.0</td>\n      <td>...</td>\n      <td>0.665009</td>\n      <td>0.327584</td>\n      <td>0.603786</td>\n      <td>0.576362</td>\n      <td>0.346418</td>\n      <td>0.276199</td>\n      <td>0.414210</td>\n      <td>0.706337</td>\n      <td>0.694720</td>\n      <td>0.563441</td>\n    </tr>\n    <tr>\n      <th>4</th>\n      <td>362.0</td>\n      <td>340.0</td>\n      <td>320.0</td>\n      <td>278.0</td>\n      <td>302.0</td>\n      <td>360.0</td>\n      <td>330.0</td>\n      <td>304.0</td>\n      <td>330.0</td>\n      <td>320.0</td>\n      <td>...</td>\n      <td>0.665009</td>\n      <td>0.327584</td>\n      <td>0.603786</td>\n      <td>0.576362</td>\n      <td>0.346418</td>\n      <td>0.276199</td>\n      <td>0.414210</td>\n      <td>0.706337</td>\n      <td>0.694720</td>\n      <td>0.563441</td>\n    </tr>\n    <tr>\n      <th>...</th>\n      <td>...</td>\n      <td>...</td>\n      <td>...</td>\n      <td>...</td>\n      <td>...</td>\n      <td>...</td>\n      <td>...</td>\n      <td>...</td>\n      <td>...</td>\n      <td>...</td>\n      <td>...</td>\n      <td>...</td>\n      <td>...</td>\n      <td>...</td>\n      <td>...</td>\n      <td>...</td>\n      <td>...</td>\n      <td>...</td>\n      <td>...</td>\n      <td>...</td>\n      <td>...</td>\n    </tr>\n    <tr>\n      <th>1005</th>\n      <td>334.0</td>\n      <td>304.0</td>\n      <td>266.0</td>\n      <td>176.0</td>\n      <td>156.0</td>\n      <td>276.0</td>\n      <td>348.0</td>\n      <td>334.0</td>\n      <td>258.0</td>\n      <td>234.0</td>\n      <td>...</td>\n      <td>0.431496</td>\n      <td>0.494075</td>\n      <td>0.608890</td>\n      <td>0.491502</td>\n      <td>0.503572</td>\n      <td>0.693771</td>\n      <td>0.458731</td>\n      <td>0.744567</td>\n      <td>0.812111</td>\n      <td>0.723372</td>\n    </tr>\n    <tr>\n      <th>1006</th>\n      <td>344.0</td>\n      <td>342.0</td>\n      <td>314.0</td>\n      <td>290.0</td>\n      <td>284.0</td>\n      <td>368.0</td>\n      <td>388.0</td>\n      <td>400.0</td>\n      <td>316.0</td>\n      <td>298.0</td>\n      <td>...</td>\n      <td>0.618202</td>\n      <td>0.552420</td>\n      <td>0.690133</td>\n      <td>0.561857</td>\n      <td>0.424568</td>\n      <td>0.717569</td>\n      <td>0.405047</td>\n      <td>0.812014</td>\n      <td>0.787105</td>\n      <td>0.656465</td>\n    </tr>\n    <tr>\n      <th>1007</th>\n      <td>280.0</td>\n      <td>280.0</td>\n      <td>242.0</td>\n      <td>220.0</td>\n      <td>236.0</td>\n      <td>322.0</td>\n      <td>348.0</td>\n      <td>328.0</td>\n      <td>256.0</td>\n      <td>254.0</td>\n      <td>...</td>\n      <td>0.132306</td>\n      <td>0.606812</td>\n      <td>0.662761</td>\n      <td>0.478667</td>\n      <td>0.544953</td>\n      <td>0.704185</td>\n      <td>0.550990</td>\n      <td>0.745710</td>\n      <td>0.752486</td>\n      <td>0.703303</td>\n    </tr>\n    <tr>\n      <th>1008</th>\n      <td>346.0</td>\n      <td>344.0</td>\n      <td>314.0</td>\n      <td>292.0</td>\n      <td>284.0</td>\n      <td>370.0</td>\n      <td>390.0</td>\n      <td>396.0</td>\n      <td>316.0</td>\n      <td>298.0</td>\n      <td>...</td>\n      <td>0.469788</td>\n      <td>0.538956</td>\n      <td>0.663207</td>\n      <td>0.529844</td>\n      <td>0.493685</td>\n      <td>0.692496</td>\n      <td>0.455090</td>\n      <td>0.706155</td>\n      <td>0.708886</td>\n      <td>0.642120</td>\n    </tr>\n    <tr>\n      <th>1009</th>\n      <td>272.0</td>\n      <td>270.0</td>\n      <td>236.0</td>\n      <td>202.0</td>\n      <td>284.0</td>\n      <td>370.0</td>\n      <td>390.0</td>\n      <td>396.0</td>\n      <td>316.0</td>\n      <td>298.0</td>\n      <td>...</td>\n      <td>0.469788</td>\n      <td>0.538956</td>\n      <td>0.663207</td>\n      <td>0.529844</td>\n      <td>0.493685</td>\n      <td>0.692496</td>\n      <td>0.455090</td>\n      <td>0.706155</td>\n      <td>0.708886</td>\n      <td>0.642120</td>\n    </tr>\n  </tbody>\n</table>\n<p>1010 rows × 51 columns</p>\n</div>"
     },
     "metadata": {},
     "execution_count": 67
    }
   ],
   "source": [
    "df_drop = df.drop(columns = ['photopath','label'])\n",
    "df_drop"
   ]
  },
  {
   "cell_type": "code",
   "execution_count": 68,
   "metadata": {},
   "outputs": [],
   "source": [
    "X = df_drop\n",
    "y = df['label']"
   ]
  },
  {
   "cell_type": "code",
   "execution_count": 69,
   "metadata": {},
   "outputs": [],
   "source": [
    "X_train, X_test, y_train, y_test = train_test_split(X,y,test_size=0.2, random_state=300)"
   ]
  },
  {
   "cell_type": "code",
   "execution_count": 70,
   "metadata": {},
   "outputs": [
    {
     "output_type": "execute_result",
     "data": {
      "text/plain": [
       "     part_x0  part_x1  part_x2  part_x3  part_x4  part_x5  part_x6  part_x7  \\\n",
       "163    322.0    322.0    288.0    260.0    276.0    358.0    388.0    366.0   \n",
       "608    270.0    294.0    268.0    208.0    230.0    352.0    388.0    344.0   \n",
       "833    276.0    282.0    240.0    216.0    230.0    322.0    344.0    336.0   \n",
       "158    318.0    334.0    306.0    300.0    306.0    366.0    408.0    376.0   \n",
       "68     302.0    280.0    240.0    194.0    194.0    322.0    348.0    316.0   \n",
       "..       ...      ...      ...      ...      ...      ...      ...      ...   \n",
       "282    342.0    350.0    314.0    296.0    306.0    388.0    420.0    394.0   \n",
       "760    358.0    338.0    304.0    290.0    278.0    366.0    386.0    386.0   \n",
       "317    238.0    230.0    196.0    168.0    182.0    264.0    300.0    276.0   \n",
       "682    286.0    244.0    202.0    258.0    212.0    354.0    322.0    308.0   \n",
       "357    364.0    348.0    324.0    276.0    298.0    374.0    374.0    380.0   \n",
       "\n",
       "     part_x8  part_x9  ...    score7    score8    score9   score10   score11  \\\n",
       "163    304.0    306.0  ...  0.691766  0.484556  0.405260  0.224084  0.427649   \n",
       "608    272.0    268.0  ...  0.703663  0.292853  0.347060  0.534591  0.344396   \n",
       "833    254.0    226.0  ...  0.534815  0.524958  0.667496  0.543146  0.550841   \n",
       "158    318.0    306.0  ...  0.639868  0.359340  0.368414  0.139148  0.357696   \n",
       "68     224.0    318.0  ...  0.641866  0.187565  0.246257  0.149568  0.444617   \n",
       "..       ...      ...  ...       ...       ...       ...       ...       ...   \n",
       "282    328.0    316.0  ...  0.539805  0.318959  0.174076  0.188052  0.316468   \n",
       "760    316.0    298.0  ...  0.473733  0.518094  0.728946  0.644128  0.497230   \n",
       "317    202.0    310.0  ...  0.676520  0.267390  0.387765  0.259935  0.416561   \n",
       "682    342.0    296.0  ...  0.120302  0.465638  0.712669  0.533229  0.427352   \n",
       "357    326.0    326.0  ...  0.590347  0.422209  0.376688  0.598160  0.422306   \n",
       "\n",
       "      score12   score13   score14   score15   score16  \n",
       "163  0.245857  0.144280  0.753160  0.716971  0.646765  \n",
       "608  0.181542  0.231093  0.791098  0.788120  0.717943  \n",
       "833  0.699931  0.531332  0.710718  0.759911  0.737674  \n",
       "158  0.340061  0.144280  0.753160  0.716971  0.646765  \n",
       "68   0.175919  0.547509  0.773796  0.698338  0.836049  \n",
       "..        ...       ...       ...       ...       ...  \n",
       "282  0.088512  0.296933  0.747393  0.809434  0.685268  \n",
       "760  0.670198  0.580496  0.745781  0.747035  0.724607  \n",
       "317  0.201633  0.503604  0.742226  0.803665  0.694557  \n",
       "682  0.573838  0.515146  0.685443  0.786811  0.736185  \n",
       "357  0.534322  0.488027  0.607848  0.701958  0.689866  \n",
       "\n",
       "[202 rows x 51 columns]"
      ],
      "text/html": "<div>\n<style scoped>\n    .dataframe tbody tr th:only-of-type {\n        vertical-align: middle;\n    }\n\n    .dataframe tbody tr th {\n        vertical-align: top;\n    }\n\n    .dataframe thead th {\n        text-align: right;\n    }\n</style>\n<table border=\"1\" class=\"dataframe\">\n  <thead>\n    <tr style=\"text-align: right;\">\n      <th></th>\n      <th>part_x0</th>\n      <th>part_x1</th>\n      <th>part_x2</th>\n      <th>part_x3</th>\n      <th>part_x4</th>\n      <th>part_x5</th>\n      <th>part_x6</th>\n      <th>part_x7</th>\n      <th>part_x8</th>\n      <th>part_x9</th>\n      <th>...</th>\n      <th>score7</th>\n      <th>score8</th>\n      <th>score9</th>\n      <th>score10</th>\n      <th>score11</th>\n      <th>score12</th>\n      <th>score13</th>\n      <th>score14</th>\n      <th>score15</th>\n      <th>score16</th>\n    </tr>\n  </thead>\n  <tbody>\n    <tr>\n      <th>163</th>\n      <td>322.0</td>\n      <td>322.0</td>\n      <td>288.0</td>\n      <td>260.0</td>\n      <td>276.0</td>\n      <td>358.0</td>\n      <td>388.0</td>\n      <td>366.0</td>\n      <td>304.0</td>\n      <td>306.0</td>\n      <td>...</td>\n      <td>0.691766</td>\n      <td>0.484556</td>\n      <td>0.405260</td>\n      <td>0.224084</td>\n      <td>0.427649</td>\n      <td>0.245857</td>\n      <td>0.144280</td>\n      <td>0.753160</td>\n      <td>0.716971</td>\n      <td>0.646765</td>\n    </tr>\n    <tr>\n      <th>608</th>\n      <td>270.0</td>\n      <td>294.0</td>\n      <td>268.0</td>\n      <td>208.0</td>\n      <td>230.0</td>\n      <td>352.0</td>\n      <td>388.0</td>\n      <td>344.0</td>\n      <td>272.0</td>\n      <td>268.0</td>\n      <td>...</td>\n      <td>0.703663</td>\n      <td>0.292853</td>\n      <td>0.347060</td>\n      <td>0.534591</td>\n      <td>0.344396</td>\n      <td>0.181542</td>\n      <td>0.231093</td>\n      <td>0.791098</td>\n      <td>0.788120</td>\n      <td>0.717943</td>\n    </tr>\n    <tr>\n      <th>833</th>\n      <td>276.0</td>\n      <td>282.0</td>\n      <td>240.0</td>\n      <td>216.0</td>\n      <td>230.0</td>\n      <td>322.0</td>\n      <td>344.0</td>\n      <td>336.0</td>\n      <td>254.0</td>\n      <td>226.0</td>\n      <td>...</td>\n      <td>0.534815</td>\n      <td>0.524958</td>\n      <td>0.667496</td>\n      <td>0.543146</td>\n      <td>0.550841</td>\n      <td>0.699931</td>\n      <td>0.531332</td>\n      <td>0.710718</td>\n      <td>0.759911</td>\n      <td>0.737674</td>\n    </tr>\n    <tr>\n      <th>158</th>\n      <td>318.0</td>\n      <td>334.0</td>\n      <td>306.0</td>\n      <td>300.0</td>\n      <td>306.0</td>\n      <td>366.0</td>\n      <td>408.0</td>\n      <td>376.0</td>\n      <td>318.0</td>\n      <td>306.0</td>\n      <td>...</td>\n      <td>0.639868</td>\n      <td>0.359340</td>\n      <td>0.368414</td>\n      <td>0.139148</td>\n      <td>0.357696</td>\n      <td>0.340061</td>\n      <td>0.144280</td>\n      <td>0.753160</td>\n      <td>0.716971</td>\n      <td>0.646765</td>\n    </tr>\n    <tr>\n      <th>68</th>\n      <td>302.0</td>\n      <td>280.0</td>\n      <td>240.0</td>\n      <td>194.0</td>\n      <td>194.0</td>\n      <td>322.0</td>\n      <td>348.0</td>\n      <td>316.0</td>\n      <td>224.0</td>\n      <td>318.0</td>\n      <td>...</td>\n      <td>0.641866</td>\n      <td>0.187565</td>\n      <td>0.246257</td>\n      <td>0.149568</td>\n      <td>0.444617</td>\n      <td>0.175919</td>\n      <td>0.547509</td>\n      <td>0.773796</td>\n      <td>0.698338</td>\n      <td>0.836049</td>\n    </tr>\n    <tr>\n      <th>...</th>\n      <td>...</td>\n      <td>...</td>\n      <td>...</td>\n      <td>...</td>\n      <td>...</td>\n      <td>...</td>\n      <td>...</td>\n      <td>...</td>\n      <td>...</td>\n      <td>...</td>\n      <td>...</td>\n      <td>...</td>\n      <td>...</td>\n      <td>...</td>\n      <td>...</td>\n      <td>...</td>\n      <td>...</td>\n      <td>...</td>\n      <td>...</td>\n      <td>...</td>\n      <td>...</td>\n    </tr>\n    <tr>\n      <th>282</th>\n      <td>342.0</td>\n      <td>350.0</td>\n      <td>314.0</td>\n      <td>296.0</td>\n      <td>306.0</td>\n      <td>388.0</td>\n      <td>420.0</td>\n      <td>394.0</td>\n      <td>328.0</td>\n      <td>316.0</td>\n      <td>...</td>\n      <td>0.539805</td>\n      <td>0.318959</td>\n      <td>0.174076</td>\n      <td>0.188052</td>\n      <td>0.316468</td>\n      <td>0.088512</td>\n      <td>0.296933</td>\n      <td>0.747393</td>\n      <td>0.809434</td>\n      <td>0.685268</td>\n    </tr>\n    <tr>\n      <th>760</th>\n      <td>358.0</td>\n      <td>338.0</td>\n      <td>304.0</td>\n      <td>290.0</td>\n      <td>278.0</td>\n      <td>366.0</td>\n      <td>386.0</td>\n      <td>386.0</td>\n      <td>316.0</td>\n      <td>298.0</td>\n      <td>...</td>\n      <td>0.473733</td>\n      <td>0.518094</td>\n      <td>0.728946</td>\n      <td>0.644128</td>\n      <td>0.497230</td>\n      <td>0.670198</td>\n      <td>0.580496</td>\n      <td>0.745781</td>\n      <td>0.747035</td>\n      <td>0.724607</td>\n    </tr>\n    <tr>\n      <th>317</th>\n      <td>238.0</td>\n      <td>230.0</td>\n      <td>196.0</td>\n      <td>168.0</td>\n      <td>182.0</td>\n      <td>264.0</td>\n      <td>300.0</td>\n      <td>276.0</td>\n      <td>202.0</td>\n      <td>310.0</td>\n      <td>...</td>\n      <td>0.676520</td>\n      <td>0.267390</td>\n      <td>0.387765</td>\n      <td>0.259935</td>\n      <td>0.416561</td>\n      <td>0.201633</td>\n      <td>0.503604</td>\n      <td>0.742226</td>\n      <td>0.803665</td>\n      <td>0.694557</td>\n    </tr>\n    <tr>\n      <th>682</th>\n      <td>286.0</td>\n      <td>244.0</td>\n      <td>202.0</td>\n      <td>258.0</td>\n      <td>212.0</td>\n      <td>354.0</td>\n      <td>322.0</td>\n      <td>308.0</td>\n      <td>342.0</td>\n      <td>296.0</td>\n      <td>...</td>\n      <td>0.120302</td>\n      <td>0.465638</td>\n      <td>0.712669</td>\n      <td>0.533229</td>\n      <td>0.427352</td>\n      <td>0.573838</td>\n      <td>0.515146</td>\n      <td>0.685443</td>\n      <td>0.786811</td>\n      <td>0.736185</td>\n    </tr>\n    <tr>\n      <th>357</th>\n      <td>364.0</td>\n      <td>348.0</td>\n      <td>324.0</td>\n      <td>276.0</td>\n      <td>298.0</td>\n      <td>374.0</td>\n      <td>374.0</td>\n      <td>380.0</td>\n      <td>326.0</td>\n      <td>326.0</td>\n      <td>...</td>\n      <td>0.590347</td>\n      <td>0.422209</td>\n      <td>0.376688</td>\n      <td>0.598160</td>\n      <td>0.422306</td>\n      <td>0.534322</td>\n      <td>0.488027</td>\n      <td>0.607848</td>\n      <td>0.701958</td>\n      <td>0.689866</td>\n    </tr>\n  </tbody>\n</table>\n<p>202 rows × 51 columns</p>\n</div>"
     },
     "metadata": {},
     "execution_count": 70
    }
   ],
   "source": [
    "X_test"
   ]
  },
  {
   "cell_type": "code",
   "execution_count": 71,
   "metadata": {},
   "outputs": [
    {
     "output_type": "execute_result",
     "data": {
      "text/plain": [
       "RandomForestClassifier()"
      ]
     },
     "metadata": {},
     "execution_count": 71
    }
   ],
   "source": [
    "rf = RandomForestClassifier()\n",
    "rf.fit(X_train, y_train)"
   ]
  },
  {
   "cell_type": "code",
   "execution_count": 72,
   "metadata": {},
   "outputs": [
    {
     "output_type": "stream",
     "name": "stdout",
     "text": [
      "Accuracy : 1.0\nF1 Score : 1.0\nPrecision : 1.0\nRecall : 1.0\n"
     ]
    }
   ],
   "source": [
    "predicted = rf.predict(X_test)\n",
    "print('Accuracy :', accuracy_score(y_test, predicted))\n",
    "print('F1 Score :', f1_score(y_test, predicted, average='micro'))\n",
    "print('Precision :', precision_score(y_test, predicted, average='micro'))\n",
    "print('Recall :', recall_score(y_test, predicted, average='micro'))"
   ]
  },
  {
   "cell_type": "code",
   "execution_count": null,
   "metadata": {},
   "outputs": [],
   "source": []
  }
 ],
 "metadata": {
  "kernelspec": {
   "display_name": "Python 3",
   "language": "python",
   "name": "python3"
  },
  "language_info": {
   "codemirror_mode": {
    "name": "ipython",
    "version": 3
   },
   "file_extension": ".py",
   "mimetype": "text/x-python",
   "name": "python",
   "nbconvert_exporter": "python",
   "pygments_lexer": "ipython3",
   "version": "3.8.5-final"
  }
 },
 "nbformat": 4,
 "nbformat_minor": 4
}