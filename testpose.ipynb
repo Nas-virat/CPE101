{
 "cells": [
  {
   "cell_type": "code",
   "execution_count": 19,
   "metadata": {},
   "outputs": [],
   "source": [
    "import pandas as pd\n",
    "import numpy as np\n",
    "import matplotlib.pyplot as plt\n",
    "import seaborn as sns\n",
    "\n",
    "from sklearn.preprocessing import StandardScaler\n",
    "\n",
    "from sklearn.model_selection import train_test_split\n",
    "from sklearn.ensemble import RandomForestClassifier\n",
    "from sklearn.neural_network import MLPClassifier\n",
    "\n",
    "from sklearn.metrics import confusion_matrix, accuracy_score, recall_score, precision_score, f1_score\n",
    "%matplotlib inline"
   ]
  },
  {
   "cell_type": "code",
   "execution_count": 20,
   "metadata": {},
   "outputs": [
    {
     "output_type": "execute_result",
     "data": {
      "text/plain": [
       "                        photopath   part_x0   part_x1   part_x2   part_x3  \\\n",
       "0         img_squats_down_404.jpg  0.518750  0.437500  0.456250  0.546875   \n",
       "1         img_squats_down_261.jpg  0.587500  0.568750  0.515625  0.521875   \n",
       "2         img_squats_down_242.jpg  0.590625  0.528125  0.515625  0.634375   \n",
       "3         img_squats_down_304.jpg  0.484375  0.518750  0.487500  0.406250   \n",
       "4         img_squats_down_379.jpg  0.431250  0.478125  0.456250  0.406250   \n",
       "...                           ...       ...       ...       ...       ...   \n",
       "2000   flip_img_knee_touch_73.jpg  0.468750  0.493750  0.459375  0.456250   \n",
       "2001  flip_img_knee_touch_158.jpg  0.365625  0.403125  0.371875  0.371875   \n",
       "2002   rota_img_knee_touch_30.jpg  0.450000  0.446875  0.403125  0.359375   \n",
       "2003   flip_img_knee_touch_94.jpg  0.284375  0.328125  0.290625  0.296875   \n",
       "2004  rota_img_knee_touch_131.jpg  0.346875  0.400000  0.365625  0.390625   \n",
       "\n",
       "       part_x4   part_x5   part_x6   part_x7   part_x8  ...    score8  \\\n",
       "0     0.646875  0.412500  0.000000  0.000000  0.000000  ...  0.000000   \n",
       "1     0.568750  0.612500  0.665625  0.734375  0.493750  ...  0.553241   \n",
       "2     0.712500  0.537500  0.637500  0.718750  0.443750  ...  0.416455   \n",
       "3     0.712500  0.537500  0.637500  0.718750  0.443750  ...  0.416455   \n",
       "4     0.712500  0.537500  0.637500  0.718750  0.443750  ...  0.416455   \n",
       "...        ...       ...       ...       ...       ...  ...       ...   \n",
       "2000  0.453125  0.528125  0.581250  0.637500  0.503125  ...  0.294854   \n",
       "2001  0.371875  0.437500  0.487500  0.546875  0.431250  ...  0.435080   \n",
       "2002  0.303125  0.481250  0.503125  0.512500  0.409375  ...  0.599790   \n",
       "2003  0.290625  0.368750  0.440625  0.503125  0.359375  ...  0.467762   \n",
       "2004  0.396875  0.428125  0.490625  0.556250  0.453125  ...  0.516361   \n",
       "\n",
       "        score9   score10   score11   score12   score13   score14   score15  \\\n",
       "0     0.000000  0.000000  0.000000  0.000000  0.000000  0.000000  0.000000   \n",
       "1     0.719084  0.481665  0.488276  0.619126  0.571494  0.732544  0.701189   \n",
       "2     0.579411  0.397638  0.400574  0.503225  0.201567  0.742739  0.152258   \n",
       "3     0.579411  0.397638  0.400574  0.503225  0.201567  0.742739  0.152258   \n",
       "4     0.579411  0.397638  0.400574  0.503225  0.201567  0.742739  0.152258   \n",
       "...        ...       ...       ...       ...       ...       ...       ...   \n",
       "2000  0.238823  0.188781  0.549803  0.619734  0.621044  0.626063  0.816438   \n",
       "2001  0.256328  0.219439  0.558248  0.603876  0.640178  0.693067  0.719758   \n",
       "2002  0.631425  0.541826  0.405745  0.366178  0.432638  0.726466  0.756526   \n",
       "2003  0.388650  0.541826  0.405745  0.366178  0.432638  0.726466  0.756526   \n",
       "2004  0.649698  0.543277  0.542755  0.506629  0.483214  0.599283  0.619043   \n",
       "\n",
       "       score16        label  \n",
       "0     0.000000  squats_down  \n",
       "1     0.750012  squats_down  \n",
       "2     0.675938  squats_down  \n",
       "3     0.675938  squats_down  \n",
       "4     0.675938  squats_down  \n",
       "...        ...          ...  \n",
       "2000  0.279081   knee_touch  \n",
       "2001  0.270114   knee_touch  \n",
       "2002  0.515129   knee_touch  \n",
       "2003  0.515129   knee_touch  \n",
       "2004  0.285617   knee_touch  \n",
       "\n",
       "[2005 rows x 53 columns]"
      ],
      "text/html": "<div>\n<style scoped>\n    .dataframe tbody tr th:only-of-type {\n        vertical-align: middle;\n    }\n\n    .dataframe tbody tr th {\n        vertical-align: top;\n    }\n\n    .dataframe thead th {\n        text-align: right;\n    }\n</style>\n<table border=\"1\" class=\"dataframe\">\n  <thead>\n    <tr style=\"text-align: right;\">\n      <th></th>\n      <th>photopath</th>\n      <th>part_x0</th>\n      <th>part_x1</th>\n      <th>part_x2</th>\n      <th>part_x3</th>\n      <th>part_x4</th>\n      <th>part_x5</th>\n      <th>part_x6</th>\n      <th>part_x7</th>\n      <th>part_x8</th>\n      <th>...</th>\n      <th>score8</th>\n      <th>score9</th>\n      <th>score10</th>\n      <th>score11</th>\n      <th>score12</th>\n      <th>score13</th>\n      <th>score14</th>\n      <th>score15</th>\n      <th>score16</th>\n      <th>label</th>\n    </tr>\n  </thead>\n  <tbody>\n    <tr>\n      <th>0</th>\n      <td>img_squats_down_404.jpg</td>\n      <td>0.518750</td>\n      <td>0.437500</td>\n      <td>0.456250</td>\n      <td>0.546875</td>\n      <td>0.646875</td>\n      <td>0.412500</td>\n      <td>0.000000</td>\n      <td>0.000000</td>\n      <td>0.000000</td>\n      <td>...</td>\n      <td>0.000000</td>\n      <td>0.000000</td>\n      <td>0.000000</td>\n      <td>0.000000</td>\n      <td>0.000000</td>\n      <td>0.000000</td>\n      <td>0.000000</td>\n      <td>0.000000</td>\n      <td>0.000000</td>\n      <td>squats_down</td>\n    </tr>\n    <tr>\n      <th>1</th>\n      <td>img_squats_down_261.jpg</td>\n      <td>0.587500</td>\n      <td>0.568750</td>\n      <td>0.515625</td>\n      <td>0.521875</td>\n      <td>0.568750</td>\n      <td>0.612500</td>\n      <td>0.665625</td>\n      <td>0.734375</td>\n      <td>0.493750</td>\n      <td>...</td>\n      <td>0.553241</td>\n      <td>0.719084</td>\n      <td>0.481665</td>\n      <td>0.488276</td>\n      <td>0.619126</td>\n      <td>0.571494</td>\n      <td>0.732544</td>\n      <td>0.701189</td>\n      <td>0.750012</td>\n      <td>squats_down</td>\n    </tr>\n    <tr>\n      <th>2</th>\n      <td>img_squats_down_242.jpg</td>\n      <td>0.590625</td>\n      <td>0.528125</td>\n      <td>0.515625</td>\n      <td>0.634375</td>\n      <td>0.712500</td>\n      <td>0.537500</td>\n      <td>0.637500</td>\n      <td>0.718750</td>\n      <td>0.443750</td>\n      <td>...</td>\n      <td>0.416455</td>\n      <td>0.579411</td>\n      <td>0.397638</td>\n      <td>0.400574</td>\n      <td>0.503225</td>\n      <td>0.201567</td>\n      <td>0.742739</td>\n      <td>0.152258</td>\n      <td>0.675938</td>\n      <td>squats_down</td>\n    </tr>\n    <tr>\n      <th>3</th>\n      <td>img_squats_down_304.jpg</td>\n      <td>0.484375</td>\n      <td>0.518750</td>\n      <td>0.487500</td>\n      <td>0.406250</td>\n      <td>0.712500</td>\n      <td>0.537500</td>\n      <td>0.637500</td>\n      <td>0.718750</td>\n      <td>0.443750</td>\n      <td>...</td>\n      <td>0.416455</td>\n      <td>0.579411</td>\n      <td>0.397638</td>\n      <td>0.400574</td>\n      <td>0.503225</td>\n      <td>0.201567</td>\n      <td>0.742739</td>\n      <td>0.152258</td>\n      <td>0.675938</td>\n      <td>squats_down</td>\n    </tr>\n    <tr>\n      <th>4</th>\n      <td>img_squats_down_379.jpg</td>\n      <td>0.431250</td>\n      <td>0.478125</td>\n      <td>0.456250</td>\n      <td>0.406250</td>\n      <td>0.712500</td>\n      <td>0.537500</td>\n      <td>0.637500</td>\n      <td>0.718750</td>\n      <td>0.443750</td>\n      <td>...</td>\n      <td>0.416455</td>\n      <td>0.579411</td>\n      <td>0.397638</td>\n      <td>0.400574</td>\n      <td>0.503225</td>\n      <td>0.201567</td>\n      <td>0.742739</td>\n      <td>0.152258</td>\n      <td>0.675938</td>\n      <td>squats_down</td>\n    </tr>\n    <tr>\n      <th>...</th>\n      <td>...</td>\n      <td>...</td>\n      <td>...</td>\n      <td>...</td>\n      <td>...</td>\n      <td>...</td>\n      <td>...</td>\n      <td>...</td>\n      <td>...</td>\n      <td>...</td>\n      <td>...</td>\n      <td>...</td>\n      <td>...</td>\n      <td>...</td>\n      <td>...</td>\n      <td>...</td>\n      <td>...</td>\n      <td>...</td>\n      <td>...</td>\n      <td>...</td>\n      <td>...</td>\n    </tr>\n    <tr>\n      <th>2000</th>\n      <td>flip_img_knee_touch_73.jpg</td>\n      <td>0.468750</td>\n      <td>0.493750</td>\n      <td>0.459375</td>\n      <td>0.456250</td>\n      <td>0.453125</td>\n      <td>0.528125</td>\n      <td>0.581250</td>\n      <td>0.637500</td>\n      <td>0.503125</td>\n      <td>...</td>\n      <td>0.294854</td>\n      <td>0.238823</td>\n      <td>0.188781</td>\n      <td>0.549803</td>\n      <td>0.619734</td>\n      <td>0.621044</td>\n      <td>0.626063</td>\n      <td>0.816438</td>\n      <td>0.279081</td>\n      <td>knee_touch</td>\n    </tr>\n    <tr>\n      <th>2001</th>\n      <td>flip_img_knee_touch_158.jpg</td>\n      <td>0.365625</td>\n      <td>0.403125</td>\n      <td>0.371875</td>\n      <td>0.371875</td>\n      <td>0.371875</td>\n      <td>0.437500</td>\n      <td>0.487500</td>\n      <td>0.546875</td>\n      <td>0.431250</td>\n      <td>...</td>\n      <td>0.435080</td>\n      <td>0.256328</td>\n      <td>0.219439</td>\n      <td>0.558248</td>\n      <td>0.603876</td>\n      <td>0.640178</td>\n      <td>0.693067</td>\n      <td>0.719758</td>\n      <td>0.270114</td>\n      <td>knee_touch</td>\n    </tr>\n    <tr>\n      <th>2002</th>\n      <td>rota_img_knee_touch_30.jpg</td>\n      <td>0.450000</td>\n      <td>0.446875</td>\n      <td>0.403125</td>\n      <td>0.359375</td>\n      <td>0.303125</td>\n      <td>0.481250</td>\n      <td>0.503125</td>\n      <td>0.512500</td>\n      <td>0.409375</td>\n      <td>...</td>\n      <td>0.599790</td>\n      <td>0.631425</td>\n      <td>0.541826</td>\n      <td>0.405745</td>\n      <td>0.366178</td>\n      <td>0.432638</td>\n      <td>0.726466</td>\n      <td>0.756526</td>\n      <td>0.515129</td>\n      <td>knee_touch</td>\n    </tr>\n    <tr>\n      <th>2003</th>\n      <td>flip_img_knee_touch_94.jpg</td>\n      <td>0.284375</td>\n      <td>0.328125</td>\n      <td>0.290625</td>\n      <td>0.296875</td>\n      <td>0.290625</td>\n      <td>0.368750</td>\n      <td>0.440625</td>\n      <td>0.503125</td>\n      <td>0.359375</td>\n      <td>...</td>\n      <td>0.467762</td>\n      <td>0.388650</td>\n      <td>0.541826</td>\n      <td>0.405745</td>\n      <td>0.366178</td>\n      <td>0.432638</td>\n      <td>0.726466</td>\n      <td>0.756526</td>\n      <td>0.515129</td>\n      <td>knee_touch</td>\n    </tr>\n    <tr>\n      <th>2004</th>\n      <td>rota_img_knee_touch_131.jpg</td>\n      <td>0.346875</td>\n      <td>0.400000</td>\n      <td>0.365625</td>\n      <td>0.390625</td>\n      <td>0.396875</td>\n      <td>0.428125</td>\n      <td>0.490625</td>\n      <td>0.556250</td>\n      <td>0.453125</td>\n      <td>...</td>\n      <td>0.516361</td>\n      <td>0.649698</td>\n      <td>0.543277</td>\n      <td>0.542755</td>\n      <td>0.506629</td>\n      <td>0.483214</td>\n      <td>0.599283</td>\n      <td>0.619043</td>\n      <td>0.285617</td>\n      <td>knee_touch</td>\n    </tr>\n  </tbody>\n</table>\n<p>2005 rows × 53 columns</p>\n</div>"
     },
     "metadata": {},
     "execution_count": 20
    }
   ],
   "source": [
    "df = pd.read_csv('datatrainall.csv')\n",
    "df"
   ]
  },
  {
   "cell_type": "code",
   "execution_count": 21,
   "metadata": {},
   "outputs": [
    {
     "output_type": "stream",
     "name": "stdout",
     "text": [
      "<class 'pandas.core.frame.DataFrame'>\nRangeIndex: 2005 entries, 0 to 2004\nData columns (total 53 columns):\n #   Column     Non-Null Count  Dtype  \n---  ------     --------------  -----  \n 0   photopath  2005 non-null   object \n 1   part_x0    2005 non-null   float64\n 2   part_x1    2005 non-null   float64\n 3   part_x2    2005 non-null   float64\n 4   part_x3    2005 non-null   float64\n 5   part_x4    2005 non-null   float64\n 6   part_x5    2005 non-null   float64\n 7   part_x6    2005 non-null   float64\n 8   part_x7    2005 non-null   float64\n 9   part_x8    2005 non-null   float64\n 10  part_x9    2005 non-null   float64\n 11  part_x10   2005 non-null   float64\n 12  part_x11   2005 non-null   float64\n 13  part_x12   2005 non-null   float64\n 14  part_x13   2005 non-null   float64\n 15  part_x14   2005 non-null   float64\n 16  part_x15   2005 non-null   float64\n 17  part_x16   2005 non-null   float64\n 18  part_y0    2005 non-null   float64\n 19  part_y1    2005 non-null   float64\n 20  part_y2    2005 non-null   float64\n 21  part_y3    2005 non-null   float64\n 22  part_y4    2005 non-null   float64\n 23  part_y5    2005 non-null   float64\n 24  part_y6    2005 non-null   float64\n 25  part_y7    2005 non-null   float64\n 26  part_y8    2005 non-null   float64\n 27  part_y9    2005 non-null   float64\n 28  part_y10   2005 non-null   float64\n 29  part_y11   2005 non-null   float64\n 30  part_y12   2005 non-null   float64\n 31  part_y13   2005 non-null   float64\n 32  part_y14   2005 non-null   float64\n 33  part_y15   2005 non-null   float64\n 34  part_y16   2005 non-null   float64\n 35  score0     2005 non-null   float64\n 36  score1     2005 non-null   float64\n 37  score2     2005 non-null   float64\n 38  score3     2005 non-null   float64\n 39  score4     2005 non-null   float64\n 40  score5     2005 non-null   float64\n 41  score6     2005 non-null   float64\n 42  score7     2005 non-null   float64\n 43  score8     2005 non-null   float64\n 44  score9     2005 non-null   float64\n 45  score10    2005 non-null   float64\n 46  score11    2005 non-null   float64\n 47  score12    2005 non-null   float64\n 48  score13    2005 non-null   float64\n 49  score14    2005 non-null   float64\n 50  score15    2005 non-null   float64\n 51  score16    2005 non-null   float64\n 52  label      2005 non-null   object \ndtypes: float64(51), object(2)\nmemory usage: 830.3+ KB\n"
     ]
    }
   ],
   "source": [
    "df.info()"
   ]
  },
  {
   "cell_type": "code",
   "execution_count": 22,
   "metadata": {},
   "outputs": [
    {
     "output_type": "execute_result",
     "data": {
      "text/plain": [
       "       part_x0   part_x1   part_x2   part_x3   part_x4   part_x5   part_x6  \\\n",
       "0     0.518750  0.437500  0.456250  0.546875  0.646875  0.412500  0.000000   \n",
       "1     0.587500  0.568750  0.515625  0.521875  0.568750  0.612500  0.665625   \n",
       "2     0.590625  0.528125  0.515625  0.634375  0.712500  0.537500  0.637500   \n",
       "3     0.484375  0.518750  0.487500  0.406250  0.712500  0.537500  0.637500   \n",
       "4     0.431250  0.478125  0.456250  0.406250  0.712500  0.537500  0.637500   \n",
       "...        ...       ...       ...       ...       ...       ...       ...   \n",
       "2000  0.468750  0.493750  0.459375  0.456250  0.453125  0.528125  0.581250   \n",
       "2001  0.365625  0.403125  0.371875  0.371875  0.371875  0.437500  0.487500   \n",
       "2002  0.450000  0.446875  0.403125  0.359375  0.303125  0.481250  0.503125   \n",
       "2003  0.284375  0.328125  0.290625  0.296875  0.290625  0.368750  0.440625   \n",
       "2004  0.346875  0.400000  0.365625  0.390625  0.396875  0.428125  0.490625   \n",
       "\n",
       "       part_x7   part_x8   part_x9  ...    score7    score8    score9  \\\n",
       "0     0.000000  0.000000  0.000000  ...  0.000000  0.000000  0.000000   \n",
       "1     0.734375  0.493750  0.496875  ...  0.648455  0.553241  0.719084   \n",
       "2     0.718750  0.443750  0.546875  ...  0.270082  0.416455  0.579411   \n",
       "3     0.718750  0.443750  0.546875  ...  0.270082  0.416455  0.579411   \n",
       "4     0.718750  0.443750  0.546875  ...  0.270082  0.416455  0.579411   \n",
       "...        ...       ...       ...  ...       ...       ...       ...   \n",
       "2000  0.637500  0.503125  0.481250  ...  0.669134  0.294854  0.238823   \n",
       "2001  0.546875  0.431250  0.396875  ...  0.574134  0.435080  0.256328   \n",
       "2002  0.512500  0.409375  0.381250  ...  0.734658  0.599790  0.631425   \n",
       "2003  0.503125  0.359375  0.325000  ...  0.622265  0.467762  0.388650   \n",
       "2004  0.556250  0.453125  0.425000  ...  0.590400  0.516361  0.649698   \n",
       "\n",
       "       score10   score11   score12   score13   score14   score15   score16  \n",
       "0     0.000000  0.000000  0.000000  0.000000  0.000000  0.000000  0.000000  \n",
       "1     0.481665  0.488276  0.619126  0.571494  0.732544  0.701189  0.750012  \n",
       "2     0.397638  0.400574  0.503225  0.201567  0.742739  0.152258  0.675938  \n",
       "3     0.397638  0.400574  0.503225  0.201567  0.742739  0.152258  0.675938  \n",
       "4     0.397638  0.400574  0.503225  0.201567  0.742739  0.152258  0.675938  \n",
       "...        ...       ...       ...       ...       ...       ...       ...  \n",
       "2000  0.188781  0.549803  0.619734  0.621044  0.626063  0.816438  0.279081  \n",
       "2001  0.219439  0.558248  0.603876  0.640178  0.693067  0.719758  0.270114  \n",
       "2002  0.541826  0.405745  0.366178  0.432638  0.726466  0.756526  0.515129  \n",
       "2003  0.541826  0.405745  0.366178  0.432638  0.726466  0.756526  0.515129  \n",
       "2004  0.543277  0.542755  0.506629  0.483214  0.599283  0.619043  0.285617  \n",
       "\n",
       "[2005 rows x 51 columns]"
      ],
      "text/html": "<div>\n<style scoped>\n    .dataframe tbody tr th:only-of-type {\n        vertical-align: middle;\n    }\n\n    .dataframe tbody tr th {\n        vertical-align: top;\n    }\n\n    .dataframe thead th {\n        text-align: right;\n    }\n</style>\n<table border=\"1\" class=\"dataframe\">\n  <thead>\n    <tr style=\"text-align: right;\">\n      <th></th>\n      <th>part_x0</th>\n      <th>part_x1</th>\n      <th>part_x2</th>\n      <th>part_x3</th>\n      <th>part_x4</th>\n      <th>part_x5</th>\n      <th>part_x6</th>\n      <th>part_x7</th>\n      <th>part_x8</th>\n      <th>part_x9</th>\n      <th>...</th>\n      <th>score7</th>\n      <th>score8</th>\n      <th>score9</th>\n      <th>score10</th>\n      <th>score11</th>\n      <th>score12</th>\n      <th>score13</th>\n      <th>score14</th>\n      <th>score15</th>\n      <th>score16</th>\n    </tr>\n  </thead>\n  <tbody>\n    <tr>\n      <th>0</th>\n      <td>0.518750</td>\n      <td>0.437500</td>\n      <td>0.456250</td>\n      <td>0.546875</td>\n      <td>0.646875</td>\n      <td>0.412500</td>\n      <td>0.000000</td>\n      <td>0.000000</td>\n      <td>0.000000</td>\n      <td>0.000000</td>\n      <td>...</td>\n      <td>0.000000</td>\n      <td>0.000000</td>\n      <td>0.000000</td>\n      <td>0.000000</td>\n      <td>0.000000</td>\n      <td>0.000000</td>\n      <td>0.000000</td>\n      <td>0.000000</td>\n      <td>0.000000</td>\n      <td>0.000000</td>\n    </tr>\n    <tr>\n      <th>1</th>\n      <td>0.587500</td>\n      <td>0.568750</td>\n      <td>0.515625</td>\n      <td>0.521875</td>\n      <td>0.568750</td>\n      <td>0.612500</td>\n      <td>0.665625</td>\n      <td>0.734375</td>\n      <td>0.493750</td>\n      <td>0.496875</td>\n      <td>...</td>\n      <td>0.648455</td>\n      <td>0.553241</td>\n      <td>0.719084</td>\n      <td>0.481665</td>\n      <td>0.488276</td>\n      <td>0.619126</td>\n      <td>0.571494</td>\n      <td>0.732544</td>\n      <td>0.701189</td>\n      <td>0.750012</td>\n    </tr>\n    <tr>\n      <th>2</th>\n      <td>0.590625</td>\n      <td>0.528125</td>\n      <td>0.515625</td>\n      <td>0.634375</td>\n      <td>0.712500</td>\n      <td>0.537500</td>\n      <td>0.637500</td>\n      <td>0.718750</td>\n      <td>0.443750</td>\n      <td>0.546875</td>\n      <td>...</td>\n      <td>0.270082</td>\n      <td>0.416455</td>\n      <td>0.579411</td>\n      <td>0.397638</td>\n      <td>0.400574</td>\n      <td>0.503225</td>\n      <td>0.201567</td>\n      <td>0.742739</td>\n      <td>0.152258</td>\n      <td>0.675938</td>\n    </tr>\n    <tr>\n      <th>3</th>\n      <td>0.484375</td>\n      <td>0.518750</td>\n      <td>0.487500</td>\n      <td>0.406250</td>\n      <td>0.712500</td>\n      <td>0.537500</td>\n      <td>0.637500</td>\n      <td>0.718750</td>\n      <td>0.443750</td>\n      <td>0.546875</td>\n      <td>...</td>\n      <td>0.270082</td>\n      <td>0.416455</td>\n      <td>0.579411</td>\n      <td>0.397638</td>\n      <td>0.400574</td>\n      <td>0.503225</td>\n      <td>0.201567</td>\n      <td>0.742739</td>\n      <td>0.152258</td>\n      <td>0.675938</td>\n    </tr>\n    <tr>\n      <th>4</th>\n      <td>0.431250</td>\n      <td>0.478125</td>\n      <td>0.456250</td>\n      <td>0.406250</td>\n      <td>0.712500</td>\n      <td>0.537500</td>\n      <td>0.637500</td>\n      <td>0.718750</td>\n      <td>0.443750</td>\n      <td>0.546875</td>\n      <td>...</td>\n      <td>0.270082</td>\n      <td>0.416455</td>\n      <td>0.579411</td>\n      <td>0.397638</td>\n      <td>0.400574</td>\n      <td>0.503225</td>\n      <td>0.201567</td>\n      <td>0.742739</td>\n      <td>0.152258</td>\n      <td>0.675938</td>\n    </tr>\n    <tr>\n      <th>...</th>\n      <td>...</td>\n      <td>...</td>\n      <td>...</td>\n      <td>...</td>\n      <td>...</td>\n      <td>...</td>\n      <td>...</td>\n      <td>...</td>\n      <td>...</td>\n      <td>...</td>\n      <td>...</td>\n      <td>...</td>\n      <td>...</td>\n      <td>...</td>\n      <td>...</td>\n      <td>...</td>\n      <td>...</td>\n      <td>...</td>\n      <td>...</td>\n      <td>...</td>\n      <td>...</td>\n    </tr>\n    <tr>\n      <th>2000</th>\n      <td>0.468750</td>\n      <td>0.493750</td>\n      <td>0.459375</td>\n      <td>0.456250</td>\n      <td>0.453125</td>\n      <td>0.528125</td>\n      <td>0.581250</td>\n      <td>0.637500</td>\n      <td>0.503125</td>\n      <td>0.481250</td>\n      <td>...</td>\n      <td>0.669134</td>\n      <td>0.294854</td>\n      <td>0.238823</td>\n      <td>0.188781</td>\n      <td>0.549803</td>\n      <td>0.619734</td>\n      <td>0.621044</td>\n      <td>0.626063</td>\n      <td>0.816438</td>\n      <td>0.279081</td>\n    </tr>\n    <tr>\n      <th>2001</th>\n      <td>0.365625</td>\n      <td>0.403125</td>\n      <td>0.371875</td>\n      <td>0.371875</td>\n      <td>0.371875</td>\n      <td>0.437500</td>\n      <td>0.487500</td>\n      <td>0.546875</td>\n      <td>0.431250</td>\n      <td>0.396875</td>\n      <td>...</td>\n      <td>0.574134</td>\n      <td>0.435080</td>\n      <td>0.256328</td>\n      <td>0.219439</td>\n      <td>0.558248</td>\n      <td>0.603876</td>\n      <td>0.640178</td>\n      <td>0.693067</td>\n      <td>0.719758</td>\n      <td>0.270114</td>\n    </tr>\n    <tr>\n      <th>2002</th>\n      <td>0.450000</td>\n      <td>0.446875</td>\n      <td>0.403125</td>\n      <td>0.359375</td>\n      <td>0.303125</td>\n      <td>0.481250</td>\n      <td>0.503125</td>\n      <td>0.512500</td>\n      <td>0.409375</td>\n      <td>0.381250</td>\n      <td>...</td>\n      <td>0.734658</td>\n      <td>0.599790</td>\n      <td>0.631425</td>\n      <td>0.541826</td>\n      <td>0.405745</td>\n      <td>0.366178</td>\n      <td>0.432638</td>\n      <td>0.726466</td>\n      <td>0.756526</td>\n      <td>0.515129</td>\n    </tr>\n    <tr>\n      <th>2003</th>\n      <td>0.284375</td>\n      <td>0.328125</td>\n      <td>0.290625</td>\n      <td>0.296875</td>\n      <td>0.290625</td>\n      <td>0.368750</td>\n      <td>0.440625</td>\n      <td>0.503125</td>\n      <td>0.359375</td>\n      <td>0.325000</td>\n      <td>...</td>\n      <td>0.622265</td>\n      <td>0.467762</td>\n      <td>0.388650</td>\n      <td>0.541826</td>\n      <td>0.405745</td>\n      <td>0.366178</td>\n      <td>0.432638</td>\n      <td>0.726466</td>\n      <td>0.756526</td>\n      <td>0.515129</td>\n    </tr>\n    <tr>\n      <th>2004</th>\n      <td>0.346875</td>\n      <td>0.400000</td>\n      <td>0.365625</td>\n      <td>0.390625</td>\n      <td>0.396875</td>\n      <td>0.428125</td>\n      <td>0.490625</td>\n      <td>0.556250</td>\n      <td>0.453125</td>\n      <td>0.425000</td>\n      <td>...</td>\n      <td>0.590400</td>\n      <td>0.516361</td>\n      <td>0.649698</td>\n      <td>0.543277</td>\n      <td>0.542755</td>\n      <td>0.506629</td>\n      <td>0.483214</td>\n      <td>0.599283</td>\n      <td>0.619043</td>\n      <td>0.285617</td>\n    </tr>\n  </tbody>\n</table>\n<p>2005 rows × 51 columns</p>\n</div>"
     },
     "metadata": {},
     "execution_count": 22
    }
   ],
   "source": [
    "df_drop = df.drop(columns = ['photopath','label'])\n",
    "df_drop"
   ]
  },
  {
   "cell_type": "code",
   "execution_count": 23,
   "metadata": {},
   "outputs": [],
   "source": [
    "X = df_drop\n",
    "y = df['label']"
   ]
  },
  {
   "cell_type": "code",
   "execution_count": 24,
   "metadata": {},
   "outputs": [],
   "source": [
    "X_train, X_test, y_train, y_test = train_test_split(X,y,test_size=0.2, random_state=300)"
   ]
  },
  {
   "cell_type": "code",
   "execution_count": 25,
   "metadata": {},
   "outputs": [
    {
     "output_type": "execute_result",
     "data": {
      "text/plain": [
       "       part_x0   part_x1   part_x2   part_x3   part_x4   part_x5   part_x6  \\\n",
       "1922  0.490625  0.509375  0.471875  0.456250  0.450000  0.550000  0.600000   \n",
       "1486  0.653125  0.600000  0.565625  0.506250  0.440625  0.634375  0.621875   \n",
       "317   0.490625  0.418750  0.434375  0.525000  0.603125  0.400000  0.590625   \n",
       "1436  0.521875  0.515625  0.456250  0.421875  0.384375  0.578125  0.593750   \n",
       "107   0.440625  0.446875  0.381250  0.340625  0.356250  0.509375  0.550000   \n",
       "...        ...       ...       ...       ...       ...       ...       ...   \n",
       "1562  0.518750  0.490625  0.459375  0.409375  0.353125  0.525000  0.531250   \n",
       "1700  0.600000  0.578125  0.528125  0.478125  0.415625  0.625000  0.650000   \n",
       "1561  0.306250  0.375000  0.346875  0.368750  0.375000  0.387500  0.440625   \n",
       "807   0.465625  0.478125  0.412500  0.390625  0.365625  0.537500  0.568750   \n",
       "1688  0.343750  0.384375  0.350000  0.350000  0.337500  0.421875  0.496875   \n",
       "\n",
       "       part_x7   part_x8   part_x9  ...    score7    score8    score9  \\\n",
       "1922  0.656250  0.512500  0.481250  ...  0.511516  0.244275  0.453047   \n",
       "1486  0.618750  0.509375  0.468750  ...  0.654743  0.469689  0.589884   \n",
       "317   0.662500  0.440625  0.428125  ...  0.626316  0.457171  0.664892   \n",
       "1436  0.621875  0.475000  0.468750  ...  0.128829  0.508697  0.393776   \n",
       "107   0.534375  0.409375  0.368750  ...  0.241334  0.463877  0.608092   \n",
       "...        ...       ...       ...  ...       ...       ...       ...   \n",
       "1562  0.534375  0.431250  0.390625  ...  0.633322  0.435461  0.637039   \n",
       "1700  0.678125  0.537500  0.500000  ...  0.681515  0.564628  0.603943   \n",
       "1561  0.496875  0.440625  0.403125  ...  0.529055  0.543021  0.522945   \n",
       "807   0.559375  0.503125  0.512500  ...  0.678191  0.357293  0.260375   \n",
       "1688  0.565625  0.415625  0.362500  ...  0.632616  0.325681  0.566500   \n",
       "\n",
       "       score10   score11   score12   score13   score14   score15   score16  \n",
       "1922  0.494332  0.489353  0.622993  0.611322  0.707670  0.673332  0.394763  \n",
       "1486  0.562987  0.500749  0.266470  0.151784  0.724331  0.824635  0.593955  \n",
       "317   0.525832  0.489940  0.704074  0.532506  0.742527  0.901237  0.717008  \n",
       "1436  0.616831  0.452949  0.598340  0.504658  0.828087  0.746236  0.674652  \n",
       "107   0.356517  0.497653  0.672475  0.378873  0.758862  0.722757  0.663723  \n",
       "...        ...       ...       ...       ...       ...       ...       ...  \n",
       "1562  0.581057  0.249874  0.242662  0.107000  0.679092  0.712313  0.661893  \n",
       "1700  0.486523  0.354298  0.578436  0.500351  0.678115  0.867959  0.354632  \n",
       "1561  0.613002  0.434774  0.583714  0.527335  0.587263  0.602366  0.144016  \n",
       "807   0.417808  0.410589  0.332140  0.490801  0.323657  0.730721  0.232810  \n",
       "1688  0.561819  0.449699  0.464508  0.340998  0.763714  0.775914  0.506793  \n",
       "\n",
       "[401 rows x 51 columns]"
      ],
      "text/html": "<div>\n<style scoped>\n    .dataframe tbody tr th:only-of-type {\n        vertical-align: middle;\n    }\n\n    .dataframe tbody tr th {\n        vertical-align: top;\n    }\n\n    .dataframe thead th {\n        text-align: right;\n    }\n</style>\n<table border=\"1\" class=\"dataframe\">\n  <thead>\n    <tr style=\"text-align: right;\">\n      <th></th>\n      <th>part_x0</th>\n      <th>part_x1</th>\n      <th>part_x2</th>\n      <th>part_x3</th>\n      <th>part_x4</th>\n      <th>part_x5</th>\n      <th>part_x6</th>\n      <th>part_x7</th>\n      <th>part_x8</th>\n      <th>part_x9</th>\n      <th>...</th>\n      <th>score7</th>\n      <th>score8</th>\n      <th>score9</th>\n      <th>score10</th>\n      <th>score11</th>\n      <th>score12</th>\n      <th>score13</th>\n      <th>score14</th>\n      <th>score15</th>\n      <th>score16</th>\n    </tr>\n  </thead>\n  <tbody>\n    <tr>\n      <th>1922</th>\n      <td>0.490625</td>\n      <td>0.509375</td>\n      <td>0.471875</td>\n      <td>0.456250</td>\n      <td>0.450000</td>\n      <td>0.550000</td>\n      <td>0.600000</td>\n      <td>0.656250</td>\n      <td>0.512500</td>\n      <td>0.481250</td>\n      <td>...</td>\n      <td>0.511516</td>\n      <td>0.244275</td>\n      <td>0.453047</td>\n      <td>0.494332</td>\n      <td>0.489353</td>\n      <td>0.622993</td>\n      <td>0.611322</td>\n      <td>0.707670</td>\n      <td>0.673332</td>\n      <td>0.394763</td>\n    </tr>\n    <tr>\n      <th>1486</th>\n      <td>0.653125</td>\n      <td>0.600000</td>\n      <td>0.565625</td>\n      <td>0.506250</td>\n      <td>0.440625</td>\n      <td>0.634375</td>\n      <td>0.621875</td>\n      <td>0.618750</td>\n      <td>0.509375</td>\n      <td>0.468750</td>\n      <td>...</td>\n      <td>0.654743</td>\n      <td>0.469689</td>\n      <td>0.589884</td>\n      <td>0.562987</td>\n      <td>0.500749</td>\n      <td>0.266470</td>\n      <td>0.151784</td>\n      <td>0.724331</td>\n      <td>0.824635</td>\n      <td>0.593955</td>\n    </tr>\n    <tr>\n      <th>317</th>\n      <td>0.490625</td>\n      <td>0.418750</td>\n      <td>0.434375</td>\n      <td>0.525000</td>\n      <td>0.603125</td>\n      <td>0.400000</td>\n      <td>0.590625</td>\n      <td>0.662500</td>\n      <td>0.440625</td>\n      <td>0.428125</td>\n      <td>...</td>\n      <td>0.626316</td>\n      <td>0.457171</td>\n      <td>0.664892</td>\n      <td>0.525832</td>\n      <td>0.489940</td>\n      <td>0.704074</td>\n      <td>0.532506</td>\n      <td>0.742527</td>\n      <td>0.901237</td>\n      <td>0.717008</td>\n    </tr>\n    <tr>\n      <th>1436</th>\n      <td>0.521875</td>\n      <td>0.515625</td>\n      <td>0.456250</td>\n      <td>0.421875</td>\n      <td>0.384375</td>\n      <td>0.578125</td>\n      <td>0.593750</td>\n      <td>0.621875</td>\n      <td>0.475000</td>\n      <td>0.468750</td>\n      <td>...</td>\n      <td>0.128829</td>\n      <td>0.508697</td>\n      <td>0.393776</td>\n      <td>0.616831</td>\n      <td>0.452949</td>\n      <td>0.598340</td>\n      <td>0.504658</td>\n      <td>0.828087</td>\n      <td>0.746236</td>\n      <td>0.674652</td>\n    </tr>\n    <tr>\n      <th>107</th>\n      <td>0.440625</td>\n      <td>0.446875</td>\n      <td>0.381250</td>\n      <td>0.340625</td>\n      <td>0.356250</td>\n      <td>0.509375</td>\n      <td>0.550000</td>\n      <td>0.534375</td>\n      <td>0.409375</td>\n      <td>0.368750</td>\n      <td>...</td>\n      <td>0.241334</td>\n      <td>0.463877</td>\n      <td>0.608092</td>\n      <td>0.356517</td>\n      <td>0.497653</td>\n      <td>0.672475</td>\n      <td>0.378873</td>\n      <td>0.758862</td>\n      <td>0.722757</td>\n      <td>0.663723</td>\n    </tr>\n    <tr>\n      <th>...</th>\n      <td>...</td>\n      <td>...</td>\n      <td>...</td>\n      <td>...</td>\n      <td>...</td>\n      <td>...</td>\n      <td>...</td>\n      <td>...</td>\n      <td>...</td>\n      <td>...</td>\n      <td>...</td>\n      <td>...</td>\n      <td>...</td>\n      <td>...</td>\n      <td>...</td>\n      <td>...</td>\n      <td>...</td>\n      <td>...</td>\n      <td>...</td>\n      <td>...</td>\n      <td>...</td>\n    </tr>\n    <tr>\n      <th>1562</th>\n      <td>0.518750</td>\n      <td>0.490625</td>\n      <td>0.459375</td>\n      <td>0.409375</td>\n      <td>0.353125</td>\n      <td>0.525000</td>\n      <td>0.531250</td>\n      <td>0.534375</td>\n      <td>0.431250</td>\n      <td>0.390625</td>\n      <td>...</td>\n      <td>0.633322</td>\n      <td>0.435461</td>\n      <td>0.637039</td>\n      <td>0.581057</td>\n      <td>0.249874</td>\n      <td>0.242662</td>\n      <td>0.107000</td>\n      <td>0.679092</td>\n      <td>0.712313</td>\n      <td>0.661893</td>\n    </tr>\n    <tr>\n      <th>1700</th>\n      <td>0.600000</td>\n      <td>0.578125</td>\n      <td>0.528125</td>\n      <td>0.478125</td>\n      <td>0.415625</td>\n      <td>0.625000</td>\n      <td>0.650000</td>\n      <td>0.678125</td>\n      <td>0.537500</td>\n      <td>0.500000</td>\n      <td>...</td>\n      <td>0.681515</td>\n      <td>0.564628</td>\n      <td>0.603943</td>\n      <td>0.486523</td>\n      <td>0.354298</td>\n      <td>0.578436</td>\n      <td>0.500351</td>\n      <td>0.678115</td>\n      <td>0.867959</td>\n      <td>0.354632</td>\n    </tr>\n    <tr>\n      <th>1561</th>\n      <td>0.306250</td>\n      <td>0.375000</td>\n      <td>0.346875</td>\n      <td>0.368750</td>\n      <td>0.375000</td>\n      <td>0.387500</td>\n      <td>0.440625</td>\n      <td>0.496875</td>\n      <td>0.440625</td>\n      <td>0.403125</td>\n      <td>...</td>\n      <td>0.529055</td>\n      <td>0.543021</td>\n      <td>0.522945</td>\n      <td>0.613002</td>\n      <td>0.434774</td>\n      <td>0.583714</td>\n      <td>0.527335</td>\n      <td>0.587263</td>\n      <td>0.602366</td>\n      <td>0.144016</td>\n    </tr>\n    <tr>\n      <th>807</th>\n      <td>0.465625</td>\n      <td>0.478125</td>\n      <td>0.412500</td>\n      <td>0.390625</td>\n      <td>0.365625</td>\n      <td>0.537500</td>\n      <td>0.568750</td>\n      <td>0.559375</td>\n      <td>0.503125</td>\n      <td>0.512500</td>\n      <td>...</td>\n      <td>0.678191</td>\n      <td>0.357293</td>\n      <td>0.260375</td>\n      <td>0.417808</td>\n      <td>0.410589</td>\n      <td>0.332140</td>\n      <td>0.490801</td>\n      <td>0.323657</td>\n      <td>0.730721</td>\n      <td>0.232810</td>\n    </tr>\n    <tr>\n      <th>1688</th>\n      <td>0.343750</td>\n      <td>0.384375</td>\n      <td>0.350000</td>\n      <td>0.350000</td>\n      <td>0.337500</td>\n      <td>0.421875</td>\n      <td>0.496875</td>\n      <td>0.565625</td>\n      <td>0.415625</td>\n      <td>0.362500</td>\n      <td>...</td>\n      <td>0.632616</td>\n      <td>0.325681</td>\n      <td>0.566500</td>\n      <td>0.561819</td>\n      <td>0.449699</td>\n      <td>0.464508</td>\n      <td>0.340998</td>\n      <td>0.763714</td>\n      <td>0.775914</td>\n      <td>0.506793</td>\n    </tr>\n  </tbody>\n</table>\n<p>401 rows × 51 columns</p>\n</div>"
     },
     "metadata": {},
     "execution_count": 25
    }
   ],
   "source": [
    "X_test"
   ]
  },
  {
   "cell_type": "code",
   "execution_count": 26,
   "metadata": {},
   "outputs": [],
   "source": [
    "clf = MLPClassifier(hidden_layer_sizes=(64, 64, 3, ), max_iter=1000, solver='adam').fit(X_train, y_train)"
   ]
  },
  {
   "cell_type": "code",
   "execution_count": 27,
   "metadata": {},
   "outputs": [
    {
     "output_type": "stream",
     "name": "stdout",
     "text": [
      "Accuracy : 0.9975062344139651\nF1 Score : 0.9975062344139651\nPrecision : 0.9975062344139651\nRecall : 0.9975062344139651\n"
     ]
    }
   ],
   "source": [
    "predicted = clf.predict(X_test)\n",
    "print('Accuracy :', accuracy_score(y_test, predicted))\n",
    "print('F1 Score :', f1_score(y_test, predicted, average='micro'))\n",
    "print('Precision :', precision_score(y_test, predicted, average='micro'))\n",
    "print('Recall :', recall_score(y_test, predicted, average='micro'))"
   ]
  },
  {
   "cell_type": "code",
   "execution_count": null,
   "metadata": {},
   "outputs": [],
   "source": []
  }
 ],
 "metadata": {
  "kernelspec": {
   "display_name": "Python 3",
   "language": "python",
   "name": "python3"
  },
  "language_info": {
   "codemirror_mode": {
    "name": "ipython",
    "version": 3
   },
   "file_extension": ".py",
   "mimetype": "text/x-python",
   "name": "python",
   "nbconvert_exporter": "python",
   "pygments_lexer": "ipython3",
   "version": "3.8.5-final"
  }
 },
 "nbformat": 4,
 "nbformat_minor": 4
}