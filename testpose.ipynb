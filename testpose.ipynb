{
 "cells": [
  {
   "cell_type": "code",
   "execution_count": 23,
   "metadata": {},
   "outputs": [],
   "source": [
    "import pandas as pd\n",
    "import numpy as np\n",
    "import matplotlib.pyplot as plt\n",
    "import seaborn as sns\n",
    "\n",
    "from sklearn.preprocessing import StandardScaler\n",
    "\n",
    "from sklearn.model_selection import train_test_split\n",
    "from sklearn.ensemble import RandomForestClassifier\n",
    "from sklearn.neural_network import MLPClassifier\n",
    "\n",
    "from sklearn.metrics import confusion_matrix, accuracy_score, recall_score, precision_score, f1_score\n",
    "%matplotlib inline"
   ]
  },
  {
   "cell_type": "code",
   "execution_count": 25,
   "metadata": {},
   "outputs": [
    {
     "output_type": "execute_result",
     "data": {
      "text/plain": [
       "                    photopath   part_x0   part_x1   part_x2   part_x3  \\\n",
       "0     img_lunges_down_158.jpg  0.509375  0.500000  0.431250  0.353125   \n",
       "1     img_lunges_down_227.jpg  0.403125  0.446875  0.406250  0.353125   \n",
       "2     img_lunges_down_128.jpg  0.406250  0.440625  0.371875  0.315625   \n",
       "3      img_lunges_down_23.jpg  0.443750  0.490625  0.406250  0.337500   \n",
       "4     img_lunges_down_301.jpg  0.403125  0.443750  0.403125  0.337500   \n",
       "...                       ...       ...       ...       ...       ...   \n",
       "1003          img_set_341.jpg  0.568750  0.543750  0.506250  0.431250   \n",
       "1004          img_set_368.jpg  0.446875  0.506250  0.512500  0.431250   \n",
       "1005          img_set_351.jpg  0.446875  0.506250  0.512500  0.431250   \n",
       "1006           img_set_62.jpg  0.537500  0.496875  0.453125  0.396875   \n",
       "1007          img_set_120.jpg  0.481250  0.475000  0.393750  0.309375   \n",
       "\n",
       "       part_x4   part_x5   part_x6   part_x7   part_x8  ...    score8  \\\n",
       "0     0.371875  0.565625  0.618750  0.559375  0.446875  ...  0.304189   \n",
       "1     0.371875  0.565625  0.618750  0.559375  0.446875  ...  0.304189   \n",
       "2     0.390625  0.506250  0.584375  0.553125  0.437500  ...  0.315033   \n",
       "3     0.390625  0.571875  0.656250  0.612500  0.459375  ...  0.206504   \n",
       "4     0.390625  0.571875  0.656250  0.612500  0.459375  ...  0.206504   \n",
       "...        ...       ...       ...       ...       ...  ...       ...   \n",
       "1003  0.465625  0.584375  0.584375  0.593750  0.509375  ...  0.422209   \n",
       "1004  0.465625  0.584375  0.584375  0.593750  0.509375  ...  0.422209   \n",
       "1005  0.465625  0.584375  0.584375  0.593750  0.509375  ...  0.422209   \n",
       "1006  0.450000  0.534375  0.521875  0.000000  0.000000  ...  0.000000   \n",
       "1007  0.343750  0.556250  0.625000  0.578125  0.000000  ...  0.000000   \n",
       "\n",
       "        score9   score10   score11   score12   score13   score14   score15  \\\n",
       "0     0.260207  0.301440  0.371854  0.175772  0.163267  0.740195  0.840816   \n",
       "1     0.260207  0.301440  0.371854  0.175772  0.163267  0.740195  0.840816   \n",
       "2     0.405059  0.442778  0.398137  0.192714  0.108765  0.791406  0.732545   \n",
       "3     0.247347  0.226333  0.189721  0.311833  0.375505  0.746507  0.787383   \n",
       "4     0.247347  0.226333  0.189721  0.311833  0.375505  0.746507  0.787383   \n",
       "...        ...       ...       ...       ...       ...       ...       ...   \n",
       "1003  0.376688  0.598160  0.422306  0.534322  0.488027  0.607848  0.701958   \n",
       "1004  0.376688  0.598160  0.422306  0.534322  0.488027  0.607848  0.701958   \n",
       "1005  0.376688  0.598160  0.422306  0.534322  0.488027  0.607848  0.701958   \n",
       "1006  0.000000  0.000000  0.000000  0.000000  0.000000  0.000000  0.000000   \n",
       "1007  0.000000  0.000000  0.000000  0.000000  0.000000  0.000000  0.000000   \n",
       "\n",
       "       score16        label  \n",
       "0     0.837427  lunges_down  \n",
       "1     0.837427  lunges_down  \n",
       "2     0.636391  lunges_down  \n",
       "3     0.636391  lunges_down  \n",
       "4     0.636391  lunges_down  \n",
       "...        ...          ...  \n",
       "1003  0.689866          set  \n",
       "1004  0.689866          set  \n",
       "1005  0.689866          set  \n",
       "1006  0.000000          set  \n",
       "1007  0.000000          set  \n",
       "\n",
       "[1008 rows x 53 columns]"
      ],
      "text/html": "<div>\n<style scoped>\n    .dataframe tbody tr th:only-of-type {\n        vertical-align: middle;\n    }\n\n    .dataframe tbody tr th {\n        vertical-align: top;\n    }\n\n    .dataframe thead th {\n        text-align: right;\n    }\n</style>\n<table border=\"1\" class=\"dataframe\">\n  <thead>\n    <tr style=\"text-align: right;\">\n      <th></th>\n      <th>photopath</th>\n      <th>part_x0</th>\n      <th>part_x1</th>\n      <th>part_x2</th>\n      <th>part_x3</th>\n      <th>part_x4</th>\n      <th>part_x5</th>\n      <th>part_x6</th>\n      <th>part_x7</th>\n      <th>part_x8</th>\n      <th>...</th>\n      <th>score8</th>\n      <th>score9</th>\n      <th>score10</th>\n      <th>score11</th>\n      <th>score12</th>\n      <th>score13</th>\n      <th>score14</th>\n      <th>score15</th>\n      <th>score16</th>\n      <th>label</th>\n    </tr>\n  </thead>\n  <tbody>\n    <tr>\n      <th>0</th>\n      <td>img_lunges_down_158.jpg</td>\n      <td>0.509375</td>\n      <td>0.500000</td>\n      <td>0.431250</td>\n      <td>0.353125</td>\n      <td>0.371875</td>\n      <td>0.565625</td>\n      <td>0.618750</td>\n      <td>0.559375</td>\n      <td>0.446875</td>\n      <td>...</td>\n      <td>0.304189</td>\n      <td>0.260207</td>\n      <td>0.301440</td>\n      <td>0.371854</td>\n      <td>0.175772</td>\n      <td>0.163267</td>\n      <td>0.740195</td>\n      <td>0.840816</td>\n      <td>0.837427</td>\n      <td>lunges_down</td>\n    </tr>\n    <tr>\n      <th>1</th>\n      <td>img_lunges_down_227.jpg</td>\n      <td>0.403125</td>\n      <td>0.446875</td>\n      <td>0.406250</td>\n      <td>0.353125</td>\n      <td>0.371875</td>\n      <td>0.565625</td>\n      <td>0.618750</td>\n      <td>0.559375</td>\n      <td>0.446875</td>\n      <td>...</td>\n      <td>0.304189</td>\n      <td>0.260207</td>\n      <td>0.301440</td>\n      <td>0.371854</td>\n      <td>0.175772</td>\n      <td>0.163267</td>\n      <td>0.740195</td>\n      <td>0.840816</td>\n      <td>0.837427</td>\n      <td>lunges_down</td>\n    </tr>\n    <tr>\n      <th>2</th>\n      <td>img_lunges_down_128.jpg</td>\n      <td>0.406250</td>\n      <td>0.440625</td>\n      <td>0.371875</td>\n      <td>0.315625</td>\n      <td>0.390625</td>\n      <td>0.506250</td>\n      <td>0.584375</td>\n      <td>0.553125</td>\n      <td>0.437500</td>\n      <td>...</td>\n      <td>0.315033</td>\n      <td>0.405059</td>\n      <td>0.442778</td>\n      <td>0.398137</td>\n      <td>0.192714</td>\n      <td>0.108765</td>\n      <td>0.791406</td>\n      <td>0.732545</td>\n      <td>0.636391</td>\n      <td>lunges_down</td>\n    </tr>\n    <tr>\n      <th>3</th>\n      <td>img_lunges_down_23.jpg</td>\n      <td>0.443750</td>\n      <td>0.490625</td>\n      <td>0.406250</td>\n      <td>0.337500</td>\n      <td>0.390625</td>\n      <td>0.571875</td>\n      <td>0.656250</td>\n      <td>0.612500</td>\n      <td>0.459375</td>\n      <td>...</td>\n      <td>0.206504</td>\n      <td>0.247347</td>\n      <td>0.226333</td>\n      <td>0.189721</td>\n      <td>0.311833</td>\n      <td>0.375505</td>\n      <td>0.746507</td>\n      <td>0.787383</td>\n      <td>0.636391</td>\n      <td>lunges_down</td>\n    </tr>\n    <tr>\n      <th>4</th>\n      <td>img_lunges_down_301.jpg</td>\n      <td>0.403125</td>\n      <td>0.443750</td>\n      <td>0.403125</td>\n      <td>0.337500</td>\n      <td>0.390625</td>\n      <td>0.571875</td>\n      <td>0.656250</td>\n      <td>0.612500</td>\n      <td>0.459375</td>\n      <td>...</td>\n      <td>0.206504</td>\n      <td>0.247347</td>\n      <td>0.226333</td>\n      <td>0.189721</td>\n      <td>0.311833</td>\n      <td>0.375505</td>\n      <td>0.746507</td>\n      <td>0.787383</td>\n      <td>0.636391</td>\n      <td>lunges_down</td>\n    </tr>\n    <tr>\n      <th>...</th>\n      <td>...</td>\n      <td>...</td>\n      <td>...</td>\n      <td>...</td>\n      <td>...</td>\n      <td>...</td>\n      <td>...</td>\n      <td>...</td>\n      <td>...</td>\n      <td>...</td>\n      <td>...</td>\n      <td>...</td>\n      <td>...</td>\n      <td>...</td>\n      <td>...</td>\n      <td>...</td>\n      <td>...</td>\n      <td>...</td>\n      <td>...</td>\n      <td>...</td>\n      <td>...</td>\n    </tr>\n    <tr>\n      <th>1003</th>\n      <td>img_set_341.jpg</td>\n      <td>0.568750</td>\n      <td>0.543750</td>\n      <td>0.506250</td>\n      <td>0.431250</td>\n      <td>0.465625</td>\n      <td>0.584375</td>\n      <td>0.584375</td>\n      <td>0.593750</td>\n      <td>0.509375</td>\n      <td>...</td>\n      <td>0.422209</td>\n      <td>0.376688</td>\n      <td>0.598160</td>\n      <td>0.422306</td>\n      <td>0.534322</td>\n      <td>0.488027</td>\n      <td>0.607848</td>\n      <td>0.701958</td>\n      <td>0.689866</td>\n      <td>set</td>\n    </tr>\n    <tr>\n      <th>1004</th>\n      <td>img_set_368.jpg</td>\n      <td>0.446875</td>\n      <td>0.506250</td>\n      <td>0.512500</td>\n      <td>0.431250</td>\n      <td>0.465625</td>\n      <td>0.584375</td>\n      <td>0.584375</td>\n      <td>0.593750</td>\n      <td>0.509375</td>\n      <td>...</td>\n      <td>0.422209</td>\n      <td>0.376688</td>\n      <td>0.598160</td>\n      <td>0.422306</td>\n      <td>0.534322</td>\n      <td>0.488027</td>\n      <td>0.607848</td>\n      <td>0.701958</td>\n      <td>0.689866</td>\n      <td>set</td>\n    </tr>\n    <tr>\n      <th>1005</th>\n      <td>img_set_351.jpg</td>\n      <td>0.446875</td>\n      <td>0.506250</td>\n      <td>0.512500</td>\n      <td>0.431250</td>\n      <td>0.465625</td>\n      <td>0.584375</td>\n      <td>0.584375</td>\n      <td>0.593750</td>\n      <td>0.509375</td>\n      <td>...</td>\n      <td>0.422209</td>\n      <td>0.376688</td>\n      <td>0.598160</td>\n      <td>0.422306</td>\n      <td>0.534322</td>\n      <td>0.488027</td>\n      <td>0.607848</td>\n      <td>0.701958</td>\n      <td>0.689866</td>\n      <td>set</td>\n    </tr>\n    <tr>\n      <th>1006</th>\n      <td>img_set_62.jpg</td>\n      <td>0.537500</td>\n      <td>0.496875</td>\n      <td>0.453125</td>\n      <td>0.396875</td>\n      <td>0.450000</td>\n      <td>0.534375</td>\n      <td>0.521875</td>\n      <td>0.000000</td>\n      <td>0.000000</td>\n      <td>...</td>\n      <td>0.000000</td>\n      <td>0.000000</td>\n      <td>0.000000</td>\n      <td>0.000000</td>\n      <td>0.000000</td>\n      <td>0.000000</td>\n      <td>0.000000</td>\n      <td>0.000000</td>\n      <td>0.000000</td>\n      <td>set</td>\n    </tr>\n    <tr>\n      <th>1007</th>\n      <td>img_set_120.jpg</td>\n      <td>0.481250</td>\n      <td>0.475000</td>\n      <td>0.393750</td>\n      <td>0.309375</td>\n      <td>0.343750</td>\n      <td>0.556250</td>\n      <td>0.625000</td>\n      <td>0.578125</td>\n      <td>0.000000</td>\n      <td>...</td>\n      <td>0.000000</td>\n      <td>0.000000</td>\n      <td>0.000000</td>\n      <td>0.000000</td>\n      <td>0.000000</td>\n      <td>0.000000</td>\n      <td>0.000000</td>\n      <td>0.000000</td>\n      <td>0.000000</td>\n      <td>set</td>\n    </tr>\n  </tbody>\n</table>\n<p>1008 rows × 53 columns</p>\n</div>"
     },
     "metadata": {},
     "execution_count": 25
    }
   ],
   "source": [
    "df = pd.read_csv('datatrainall.csv')\n",
    "df"
   ]
  },
  {
   "cell_type": "code",
   "execution_count": 27,
   "metadata": {},
   "outputs": [
    {
     "output_type": "stream",
     "name": "stdout",
     "text": [
      "<class 'pandas.core.frame.DataFrame'>\nRangeIndex: 1008 entries, 0 to 1007\nData columns (total 53 columns):\n #   Column     Non-Null Count  Dtype  \n---  ------     --------------  -----  \n 0   photopath  1008 non-null   object \n 1   part_x0    1008 non-null   float64\n 2   part_x1    1008 non-null   float64\n 3   part_x2    1008 non-null   float64\n 4   part_x3    1008 non-null   float64\n 5   part_x4    1008 non-null   float64\n 6   part_x5    1008 non-null   float64\n 7   part_x6    1008 non-null   float64\n 8   part_x7    1008 non-null   float64\n 9   part_x8    1008 non-null   float64\n 10  part_x9    1008 non-null   float64\n 11  part_x10   1008 non-null   float64\n 12  part_x11   1008 non-null   float64\n 13  part_x12   1008 non-null   float64\n 14  part_x13   1008 non-null   float64\n 15  part_x14   1008 non-null   float64\n 16  part_x15   1008 non-null   float64\n 17  part_x16   1008 non-null   float64\n 18  part_y0    1008 non-null   float64\n 19  part_y1    1008 non-null   float64\n 20  part_y2    1008 non-null   float64\n 21  part_y3    1008 non-null   float64\n 22  part_y4    1008 non-null   float64\n 23  part_y5    1008 non-null   float64\n 24  part_y6    1008 non-null   float64\n 25  part_y7    1008 non-null   float64\n 26  part_y8    1008 non-null   float64\n 27  part_y9    1008 non-null   float64\n 28  part_y10   1008 non-null   float64\n 29  part_y11   1008 non-null   float64\n 30  part_y12   1008 non-null   float64\n 31  part_y13   1008 non-null   float64\n 32  part_y14   1008 non-null   float64\n 33  part_y15   1008 non-null   float64\n 34  part_y16   1008 non-null   float64\n 35  score0     1008 non-null   float64\n 36  score1     1008 non-null   float64\n 37  score2     1008 non-null   float64\n 38  score3     1008 non-null   float64\n 39  score4     1008 non-null   float64\n 40  score5     1008 non-null   float64\n 41  score6     1008 non-null   float64\n 42  score7     1008 non-null   float64\n 43  score8     1008 non-null   float64\n 44  score9     1008 non-null   float64\n 45  score10    1008 non-null   float64\n 46  score11    1008 non-null   float64\n 47  score12    1008 non-null   float64\n 48  score13    1008 non-null   float64\n 49  score14    1008 non-null   float64\n 50  score15    1008 non-null   float64\n 51  score16    1008 non-null   float64\n 52  label      1008 non-null   object \ndtypes: float64(51), object(2)\nmemory usage: 417.5+ KB\n"
     ]
    }
   ],
   "source": [
    "df.info()"
   ]
  },
  {
   "cell_type": "code",
   "execution_count": 29,
   "metadata": {},
   "outputs": [
    {
     "output_type": "execute_result",
     "data": {
      "text/plain": [
       "       part_x0   part_x1   part_x2   part_x3   part_x4   part_x5   part_x6  \\\n",
       "0     0.509375  0.500000  0.431250  0.353125  0.371875  0.565625  0.618750   \n",
       "1     0.403125  0.446875  0.406250  0.353125  0.371875  0.565625  0.618750   \n",
       "2     0.406250  0.440625  0.371875  0.315625  0.390625  0.506250  0.584375   \n",
       "3     0.443750  0.490625  0.406250  0.337500  0.390625  0.571875  0.656250   \n",
       "4     0.403125  0.443750  0.403125  0.337500  0.390625  0.571875  0.656250   \n",
       "...        ...       ...       ...       ...       ...       ...       ...   \n",
       "1003  0.568750  0.543750  0.506250  0.431250  0.465625  0.584375  0.584375   \n",
       "1004  0.446875  0.506250  0.512500  0.431250  0.465625  0.584375  0.584375   \n",
       "1005  0.446875  0.506250  0.512500  0.431250  0.465625  0.584375  0.584375   \n",
       "1006  0.537500  0.496875  0.453125  0.396875  0.450000  0.534375  0.521875   \n",
       "1007  0.481250  0.475000  0.393750  0.309375  0.343750  0.556250  0.625000   \n",
       "\n",
       "       part_x7   part_x8   part_x9  ...    score7    score8    score9  \\\n",
       "0     0.559375  0.446875  0.443750  ...  0.661447  0.304189  0.260207   \n",
       "1     0.559375  0.446875  0.443750  ...  0.661447  0.304189  0.260207   \n",
       "2     0.553125  0.437500  0.443750  ...  0.693091  0.315033  0.405059   \n",
       "3     0.612500  0.459375  0.437500  ...  0.521664  0.206504  0.247347   \n",
       "4     0.612500  0.459375  0.437500  ...  0.521664  0.206504  0.247347   \n",
       "...        ...       ...       ...  ...       ...       ...       ...   \n",
       "1003  0.593750  0.509375  0.509375  ...  0.590347  0.422209  0.376688   \n",
       "1004  0.593750  0.509375  0.509375  ...  0.590347  0.422209  0.376688   \n",
       "1005  0.593750  0.509375  0.509375  ...  0.590347  0.422209  0.376688   \n",
       "1006  0.000000  0.000000  0.000000  ...  0.000000  0.000000  0.000000   \n",
       "1007  0.578125  0.000000  0.000000  ...  0.423781  0.000000  0.000000   \n",
       "\n",
       "       score10   score11   score12   score13   score14   score15   score16  \n",
       "0     0.301440  0.371854  0.175772  0.163267  0.740195  0.840816  0.837427  \n",
       "1     0.301440  0.371854  0.175772  0.163267  0.740195  0.840816  0.837427  \n",
       "2     0.442778  0.398137  0.192714  0.108765  0.791406  0.732545  0.636391  \n",
       "3     0.226333  0.189721  0.311833  0.375505  0.746507  0.787383  0.636391  \n",
       "4     0.226333  0.189721  0.311833  0.375505  0.746507  0.787383  0.636391  \n",
       "...        ...       ...       ...       ...       ...       ...       ...  \n",
       "1003  0.598160  0.422306  0.534322  0.488027  0.607848  0.701958  0.689866  \n",
       "1004  0.598160  0.422306  0.534322  0.488027  0.607848  0.701958  0.689866  \n",
       "1005  0.598160  0.422306  0.534322  0.488027  0.607848  0.701958  0.689866  \n",
       "1006  0.000000  0.000000  0.000000  0.000000  0.000000  0.000000  0.000000  \n",
       "1007  0.000000  0.000000  0.000000  0.000000  0.000000  0.000000  0.000000  \n",
       "\n",
       "[1008 rows x 51 columns]"
      ],
      "text/html": "<div>\n<style scoped>\n    .dataframe tbody tr th:only-of-type {\n        vertical-align: middle;\n    }\n\n    .dataframe tbody tr th {\n        vertical-align: top;\n    }\n\n    .dataframe thead th {\n        text-align: right;\n    }\n</style>\n<table border=\"1\" class=\"dataframe\">\n  <thead>\n    <tr style=\"text-align: right;\">\n      <th></th>\n      <th>part_x0</th>\n      <th>part_x1</th>\n      <th>part_x2</th>\n      <th>part_x3</th>\n      <th>part_x4</th>\n      <th>part_x5</th>\n      <th>part_x6</th>\n      <th>part_x7</th>\n      <th>part_x8</th>\n      <th>part_x9</th>\n      <th>...</th>\n      <th>score7</th>\n      <th>score8</th>\n      <th>score9</th>\n      <th>score10</th>\n      <th>score11</th>\n      <th>score12</th>\n      <th>score13</th>\n      <th>score14</th>\n      <th>score15</th>\n      <th>score16</th>\n    </tr>\n  </thead>\n  <tbody>\n    <tr>\n      <th>0</th>\n      <td>0.509375</td>\n      <td>0.500000</td>\n      <td>0.431250</td>\n      <td>0.353125</td>\n      <td>0.371875</td>\n      <td>0.565625</td>\n      <td>0.618750</td>\n      <td>0.559375</td>\n      <td>0.446875</td>\n      <td>0.443750</td>\n      <td>...</td>\n      <td>0.661447</td>\n      <td>0.304189</td>\n      <td>0.260207</td>\n      <td>0.301440</td>\n      <td>0.371854</td>\n      <td>0.175772</td>\n      <td>0.163267</td>\n      <td>0.740195</td>\n      <td>0.840816</td>\n      <td>0.837427</td>\n    </tr>\n    <tr>\n      <th>1</th>\n      <td>0.403125</td>\n      <td>0.446875</td>\n      <td>0.406250</td>\n      <td>0.353125</td>\n      <td>0.371875</td>\n      <td>0.565625</td>\n      <td>0.618750</td>\n      <td>0.559375</td>\n      <td>0.446875</td>\n      <td>0.443750</td>\n      <td>...</td>\n      <td>0.661447</td>\n      <td>0.304189</td>\n      <td>0.260207</td>\n      <td>0.301440</td>\n      <td>0.371854</td>\n      <td>0.175772</td>\n      <td>0.163267</td>\n      <td>0.740195</td>\n      <td>0.840816</td>\n      <td>0.837427</td>\n    </tr>\n    <tr>\n      <th>2</th>\n      <td>0.406250</td>\n      <td>0.440625</td>\n      <td>0.371875</td>\n      <td>0.315625</td>\n      <td>0.390625</td>\n      <td>0.506250</td>\n      <td>0.584375</td>\n      <td>0.553125</td>\n      <td>0.437500</td>\n      <td>0.443750</td>\n      <td>...</td>\n      <td>0.693091</td>\n      <td>0.315033</td>\n      <td>0.405059</td>\n      <td>0.442778</td>\n      <td>0.398137</td>\n      <td>0.192714</td>\n      <td>0.108765</td>\n      <td>0.791406</td>\n      <td>0.732545</td>\n      <td>0.636391</td>\n    </tr>\n    <tr>\n      <th>3</th>\n      <td>0.443750</td>\n      <td>0.490625</td>\n      <td>0.406250</td>\n      <td>0.337500</td>\n      <td>0.390625</td>\n      <td>0.571875</td>\n      <td>0.656250</td>\n      <td>0.612500</td>\n      <td>0.459375</td>\n      <td>0.437500</td>\n      <td>...</td>\n      <td>0.521664</td>\n      <td>0.206504</td>\n      <td>0.247347</td>\n      <td>0.226333</td>\n      <td>0.189721</td>\n      <td>0.311833</td>\n      <td>0.375505</td>\n      <td>0.746507</td>\n      <td>0.787383</td>\n      <td>0.636391</td>\n    </tr>\n    <tr>\n      <th>4</th>\n      <td>0.403125</td>\n      <td>0.443750</td>\n      <td>0.403125</td>\n      <td>0.337500</td>\n      <td>0.390625</td>\n      <td>0.571875</td>\n      <td>0.656250</td>\n      <td>0.612500</td>\n      <td>0.459375</td>\n      <td>0.437500</td>\n      <td>...</td>\n      <td>0.521664</td>\n      <td>0.206504</td>\n      <td>0.247347</td>\n      <td>0.226333</td>\n      <td>0.189721</td>\n      <td>0.311833</td>\n      <td>0.375505</td>\n      <td>0.746507</td>\n      <td>0.787383</td>\n      <td>0.636391</td>\n    </tr>\n    <tr>\n      <th>...</th>\n      <td>...</td>\n      <td>...</td>\n      <td>...</td>\n      <td>...</td>\n      <td>...</td>\n      <td>...</td>\n      <td>...</td>\n      <td>...</td>\n      <td>...</td>\n      <td>...</td>\n      <td>...</td>\n      <td>...</td>\n      <td>...</td>\n      <td>...</td>\n      <td>...</td>\n      <td>...</td>\n      <td>...</td>\n      <td>...</td>\n      <td>...</td>\n      <td>...</td>\n      <td>...</td>\n    </tr>\n    <tr>\n      <th>1003</th>\n      <td>0.568750</td>\n      <td>0.543750</td>\n      <td>0.506250</td>\n      <td>0.431250</td>\n      <td>0.465625</td>\n      <td>0.584375</td>\n      <td>0.584375</td>\n      <td>0.593750</td>\n      <td>0.509375</td>\n      <td>0.509375</td>\n      <td>...</td>\n      <td>0.590347</td>\n      <td>0.422209</td>\n      <td>0.376688</td>\n      <td>0.598160</td>\n      <td>0.422306</td>\n      <td>0.534322</td>\n      <td>0.488027</td>\n      <td>0.607848</td>\n      <td>0.701958</td>\n      <td>0.689866</td>\n    </tr>\n    <tr>\n      <th>1004</th>\n      <td>0.446875</td>\n      <td>0.506250</td>\n      <td>0.512500</td>\n      <td>0.431250</td>\n      <td>0.465625</td>\n      <td>0.584375</td>\n      <td>0.584375</td>\n      <td>0.593750</td>\n      <td>0.509375</td>\n      <td>0.509375</td>\n      <td>...</td>\n      <td>0.590347</td>\n      <td>0.422209</td>\n      <td>0.376688</td>\n      <td>0.598160</td>\n      <td>0.422306</td>\n      <td>0.534322</td>\n      <td>0.488027</td>\n      <td>0.607848</td>\n      <td>0.701958</td>\n      <td>0.689866</td>\n    </tr>\n    <tr>\n      <th>1005</th>\n      <td>0.446875</td>\n      <td>0.506250</td>\n      <td>0.512500</td>\n      <td>0.431250</td>\n      <td>0.465625</td>\n      <td>0.584375</td>\n      <td>0.584375</td>\n      <td>0.593750</td>\n      <td>0.509375</td>\n      <td>0.509375</td>\n      <td>...</td>\n      <td>0.590347</td>\n      <td>0.422209</td>\n      <td>0.376688</td>\n      <td>0.598160</td>\n      <td>0.422306</td>\n      <td>0.534322</td>\n      <td>0.488027</td>\n      <td>0.607848</td>\n      <td>0.701958</td>\n      <td>0.689866</td>\n    </tr>\n    <tr>\n      <th>1006</th>\n      <td>0.537500</td>\n      <td>0.496875</td>\n      <td>0.453125</td>\n      <td>0.396875</td>\n      <td>0.450000</td>\n      <td>0.534375</td>\n      <td>0.521875</td>\n      <td>0.000000</td>\n      <td>0.000000</td>\n      <td>0.000000</td>\n      <td>...</td>\n      <td>0.000000</td>\n      <td>0.000000</td>\n      <td>0.000000</td>\n      <td>0.000000</td>\n      <td>0.000000</td>\n      <td>0.000000</td>\n      <td>0.000000</td>\n      <td>0.000000</td>\n      <td>0.000000</td>\n      <td>0.000000</td>\n    </tr>\n    <tr>\n      <th>1007</th>\n      <td>0.481250</td>\n      <td>0.475000</td>\n      <td>0.393750</td>\n      <td>0.309375</td>\n      <td>0.343750</td>\n      <td>0.556250</td>\n      <td>0.625000</td>\n      <td>0.578125</td>\n      <td>0.000000</td>\n      <td>0.000000</td>\n      <td>...</td>\n      <td>0.423781</td>\n      <td>0.000000</td>\n      <td>0.000000</td>\n      <td>0.000000</td>\n      <td>0.000000</td>\n      <td>0.000000</td>\n      <td>0.000000</td>\n      <td>0.000000</td>\n      <td>0.000000</td>\n      <td>0.000000</td>\n    </tr>\n  </tbody>\n</table>\n<p>1008 rows × 51 columns</p>\n</div>"
     },
     "metadata": {},
     "execution_count": 29
    }
   ],
   "source": [
    "df_drop = df.drop(columns = ['photopath','label'])\n",
    "df_drop"
   ]
  },
  {
   "cell_type": "code",
   "execution_count": 31,
   "metadata": {},
   "outputs": [],
   "source": [
    "X = df_drop\n",
    "y = df['label']"
   ]
  },
  {
   "cell_type": "code",
   "execution_count": 33,
   "metadata": {},
   "outputs": [],
   "source": [
    "X_train, X_test, y_train, y_test = train_test_split(X,y,test_size=0.2, random_state=300)"
   ]
  },
  {
   "cell_type": "code",
   "execution_count": 34,
   "metadata": {},
   "outputs": [
    {
     "output_type": "execute_result",
     "data": {
      "text/plain": [
       "      part_x0   part_x1   part_x2   part_x3   part_x4   part_x5   part_x6  \\\n",
       "163  0.506250  0.506250  0.425000  0.340625  0.387500  0.581250  0.653125   \n",
       "694  0.440625  0.453125  0.387500  0.331250  0.368750  0.521875  0.596875   \n",
       "842  0.528125  0.518750  0.468750  0.406250  0.437500  0.575000  0.593750   \n",
       "158  0.490625  0.450000  0.393750  0.306250  0.328125  0.506250  0.528125   \n",
       "68   0.412500  0.450000  0.409375  0.356250  0.384375  0.653125  0.728125   \n",
       "..        ...       ...       ...       ...       ...       ...       ...   \n",
       "282  0.456250  0.459375  0.390625  0.450000  0.425000  0.581250  0.606250   \n",
       "768  0.475000  0.471875  0.412500  0.393750  0.400000  0.534375  0.556250   \n",
       "317  0.496875  0.450000  0.409375  0.506250  0.559375  0.484375  0.450000   \n",
       "566  0.596875  0.540625  0.518750  0.643750  0.715625  0.550000  0.571875   \n",
       "357  0.434375  0.493750  0.506250  0.350000  0.443750  0.575000  0.609375   \n",
       "\n",
       "      part_x7   part_x8   part_x9  ...    score7    score8    score9  \\\n",
       "163  0.609375  0.456250  0.465625  ...  0.335366  0.191872  0.137723   \n",
       "694  0.556250  0.375000  0.484375  ...  0.574216  0.218695  0.337425   \n",
       "842  0.575000  0.478125  0.484375  ...  0.658250  0.523218  0.590269   \n",
       "158  0.493750  0.387500  0.403125  ...  0.688878  0.418412  0.299021   \n",
       "68   0.640625  0.484375  0.418750  ...  0.624677  0.316684  0.396259   \n",
       "..        ...       ...       ...  ...       ...       ...       ...   \n",
       "282  0.709375  0.500000  0.487500  ...  0.643347  0.597840  0.718594   \n",
       "768  0.568750  0.440625  0.490625  ...  0.598024  0.366309  0.452568   \n",
       "317  0.440625  0.328125  0.462500  ...  0.475555  0.257357  0.691703   \n",
       "566  0.568750  0.493750  0.465625  ...  0.499761  0.538392  0.680919   \n",
       "357  0.631250  0.493750  0.465625  ...  0.563051  0.513692  0.708249   \n",
       "\n",
       "      score10   score11   score12   score13   score14   score15   score16  \n",
       "163  0.109083  0.139010  0.243695  0.205803  0.694881  0.843643  0.635772  \n",
       "694  0.214744  0.389214  0.154899  0.376883  0.792544  0.779015  0.719901  \n",
       "842  0.506330  0.485574  0.575113  0.657635  0.771181  0.780920  0.736516  \n",
       "158  0.245112  0.473433  0.161890  0.248682  0.786726  0.765881  0.790085  \n",
       "68   0.273546  0.307915  0.102290  0.254338  0.742857  0.777902  0.765867  \n",
       "..        ...       ...       ...       ...       ...       ...       ...  \n",
       "282  0.269547  0.468340  0.615782  0.553708  0.763992  0.711789  0.692478  \n",
       "768  0.254135  0.388738  0.347279  0.226613  0.829840  0.784473  0.636774  \n",
       "317  0.511146  0.428290  0.588240  0.555066  0.700665  0.822848  0.736185  \n",
       "566  0.597433  0.465373  0.682423  0.472610  0.742843  0.751443  0.698405  \n",
       "357  0.601937  0.504438  0.753271  0.543211  0.862593  0.834104  0.663292  \n",
       "\n",
       "[202 rows x 51 columns]"
      ],
      "text/html": "<div>\n<style scoped>\n    .dataframe tbody tr th:only-of-type {\n        vertical-align: middle;\n    }\n\n    .dataframe tbody tr th {\n        vertical-align: top;\n    }\n\n    .dataframe thead th {\n        text-align: right;\n    }\n</style>\n<table border=\"1\" class=\"dataframe\">\n  <thead>\n    <tr style=\"text-align: right;\">\n      <th></th>\n      <th>part_x0</th>\n      <th>part_x1</th>\n      <th>part_x2</th>\n      <th>part_x3</th>\n      <th>part_x4</th>\n      <th>part_x5</th>\n      <th>part_x6</th>\n      <th>part_x7</th>\n      <th>part_x8</th>\n      <th>part_x9</th>\n      <th>...</th>\n      <th>score7</th>\n      <th>score8</th>\n      <th>score9</th>\n      <th>score10</th>\n      <th>score11</th>\n      <th>score12</th>\n      <th>score13</th>\n      <th>score14</th>\n      <th>score15</th>\n      <th>score16</th>\n    </tr>\n  </thead>\n  <tbody>\n    <tr>\n      <th>163</th>\n      <td>0.506250</td>\n      <td>0.506250</td>\n      <td>0.425000</td>\n      <td>0.340625</td>\n      <td>0.387500</td>\n      <td>0.581250</td>\n      <td>0.653125</td>\n      <td>0.609375</td>\n      <td>0.456250</td>\n      <td>0.465625</td>\n      <td>...</td>\n      <td>0.335366</td>\n      <td>0.191872</td>\n      <td>0.137723</td>\n      <td>0.109083</td>\n      <td>0.139010</td>\n      <td>0.243695</td>\n      <td>0.205803</td>\n      <td>0.694881</td>\n      <td>0.843643</td>\n      <td>0.635772</td>\n    </tr>\n    <tr>\n      <th>694</th>\n      <td>0.440625</td>\n      <td>0.453125</td>\n      <td>0.387500</td>\n      <td>0.331250</td>\n      <td>0.368750</td>\n      <td>0.521875</td>\n      <td>0.596875</td>\n      <td>0.556250</td>\n      <td>0.375000</td>\n      <td>0.484375</td>\n      <td>...</td>\n      <td>0.574216</td>\n      <td>0.218695</td>\n      <td>0.337425</td>\n      <td>0.214744</td>\n      <td>0.389214</td>\n      <td>0.154899</td>\n      <td>0.376883</td>\n      <td>0.792544</td>\n      <td>0.779015</td>\n      <td>0.719901</td>\n    </tr>\n    <tr>\n      <th>842</th>\n      <td>0.528125</td>\n      <td>0.518750</td>\n      <td>0.468750</td>\n      <td>0.406250</td>\n      <td>0.437500</td>\n      <td>0.575000</td>\n      <td>0.593750</td>\n      <td>0.575000</td>\n      <td>0.478125</td>\n      <td>0.484375</td>\n      <td>...</td>\n      <td>0.658250</td>\n      <td>0.523218</td>\n      <td>0.590269</td>\n      <td>0.506330</td>\n      <td>0.485574</td>\n      <td>0.575113</td>\n      <td>0.657635</td>\n      <td>0.771181</td>\n      <td>0.780920</td>\n      <td>0.736516</td>\n    </tr>\n    <tr>\n      <th>158</th>\n      <td>0.490625</td>\n      <td>0.450000</td>\n      <td>0.393750</td>\n      <td>0.306250</td>\n      <td>0.328125</td>\n      <td>0.506250</td>\n      <td>0.528125</td>\n      <td>0.493750</td>\n      <td>0.387500</td>\n      <td>0.403125</td>\n      <td>...</td>\n      <td>0.688878</td>\n      <td>0.418412</td>\n      <td>0.299021</td>\n      <td>0.245112</td>\n      <td>0.473433</td>\n      <td>0.161890</td>\n      <td>0.248682</td>\n      <td>0.786726</td>\n      <td>0.765881</td>\n      <td>0.790085</td>\n    </tr>\n    <tr>\n      <th>68</th>\n      <td>0.412500</td>\n      <td>0.450000</td>\n      <td>0.409375</td>\n      <td>0.356250</td>\n      <td>0.384375</td>\n      <td>0.653125</td>\n      <td>0.728125</td>\n      <td>0.640625</td>\n      <td>0.484375</td>\n      <td>0.418750</td>\n      <td>...</td>\n      <td>0.624677</td>\n      <td>0.316684</td>\n      <td>0.396259</td>\n      <td>0.273546</td>\n      <td>0.307915</td>\n      <td>0.102290</td>\n      <td>0.254338</td>\n      <td>0.742857</td>\n      <td>0.777902</td>\n      <td>0.765867</td>\n    </tr>\n    <tr>\n      <th>...</th>\n      <td>...</td>\n      <td>...</td>\n      <td>...</td>\n      <td>...</td>\n      <td>...</td>\n      <td>...</td>\n      <td>...</td>\n      <td>...</td>\n      <td>...</td>\n      <td>...</td>\n      <td>...</td>\n      <td>...</td>\n      <td>...</td>\n      <td>...</td>\n      <td>...</td>\n      <td>...</td>\n      <td>...</td>\n      <td>...</td>\n      <td>...</td>\n      <td>...</td>\n      <td>...</td>\n    </tr>\n    <tr>\n      <th>282</th>\n      <td>0.456250</td>\n      <td>0.459375</td>\n      <td>0.390625</td>\n      <td>0.450000</td>\n      <td>0.425000</td>\n      <td>0.581250</td>\n      <td>0.606250</td>\n      <td>0.709375</td>\n      <td>0.500000</td>\n      <td>0.487500</td>\n      <td>...</td>\n      <td>0.643347</td>\n      <td>0.597840</td>\n      <td>0.718594</td>\n      <td>0.269547</td>\n      <td>0.468340</td>\n      <td>0.615782</td>\n      <td>0.553708</td>\n      <td>0.763992</td>\n      <td>0.711789</td>\n      <td>0.692478</td>\n    </tr>\n    <tr>\n      <th>768</th>\n      <td>0.475000</td>\n      <td>0.471875</td>\n      <td>0.412500</td>\n      <td>0.393750</td>\n      <td>0.400000</td>\n      <td>0.534375</td>\n      <td>0.556250</td>\n      <td>0.568750</td>\n      <td>0.440625</td>\n      <td>0.490625</td>\n      <td>...</td>\n      <td>0.598024</td>\n      <td>0.366309</td>\n      <td>0.452568</td>\n      <td>0.254135</td>\n      <td>0.388738</td>\n      <td>0.347279</td>\n      <td>0.226613</td>\n      <td>0.829840</td>\n      <td>0.784473</td>\n      <td>0.636774</td>\n    </tr>\n    <tr>\n      <th>317</th>\n      <td>0.496875</td>\n      <td>0.450000</td>\n      <td>0.409375</td>\n      <td>0.506250</td>\n      <td>0.559375</td>\n      <td>0.484375</td>\n      <td>0.450000</td>\n      <td>0.440625</td>\n      <td>0.328125</td>\n      <td>0.462500</td>\n      <td>...</td>\n      <td>0.475555</td>\n      <td>0.257357</td>\n      <td>0.691703</td>\n      <td>0.511146</td>\n      <td>0.428290</td>\n      <td>0.588240</td>\n      <td>0.555066</td>\n      <td>0.700665</td>\n      <td>0.822848</td>\n      <td>0.736185</td>\n    </tr>\n    <tr>\n      <th>566</th>\n      <td>0.596875</td>\n      <td>0.540625</td>\n      <td>0.518750</td>\n      <td>0.643750</td>\n      <td>0.715625</td>\n      <td>0.550000</td>\n      <td>0.571875</td>\n      <td>0.568750</td>\n      <td>0.493750</td>\n      <td>0.465625</td>\n      <td>...</td>\n      <td>0.499761</td>\n      <td>0.538392</td>\n      <td>0.680919</td>\n      <td>0.597433</td>\n      <td>0.465373</td>\n      <td>0.682423</td>\n      <td>0.472610</td>\n      <td>0.742843</td>\n      <td>0.751443</td>\n      <td>0.698405</td>\n    </tr>\n    <tr>\n      <th>357</th>\n      <td>0.434375</td>\n      <td>0.493750</td>\n      <td>0.506250</td>\n      <td>0.350000</td>\n      <td>0.443750</td>\n      <td>0.575000</td>\n      <td>0.609375</td>\n      <td>0.631250</td>\n      <td>0.493750</td>\n      <td>0.465625</td>\n      <td>...</td>\n      <td>0.563051</td>\n      <td>0.513692</td>\n      <td>0.708249</td>\n      <td>0.601937</td>\n      <td>0.504438</td>\n      <td>0.753271</td>\n      <td>0.543211</td>\n      <td>0.862593</td>\n      <td>0.834104</td>\n      <td>0.663292</td>\n    </tr>\n  </tbody>\n</table>\n<p>202 rows × 51 columns</p>\n</div>"
     },
     "metadata": {},
     "execution_count": 34
    }
   ],
   "source": [
    "X_test"
   ]
  },
  {
   "cell_type": "code",
   "execution_count": 35,
   "metadata": {},
   "outputs": [],
   "source": [
    "clf = MLPClassifier(hidden_layer_sizes=(51, 50),solver = 'sgd').fit(X_train, y_train)"
   ]
  },
  {
   "cell_type": "code",
   "execution_count": 36,
   "metadata": {},
   "outputs": [
    {
     "output_type": "stream",
     "name": "stdout",
     "text": [
      "Accuracy : 0.8910891089108911\nF1 Score : 0.8910891089108911\nPrecision : 0.8910891089108911\nRecall : 0.8910891089108911\n"
     ]
    }
   ],
   "source": [
    "predicted = clf.predict(X_test)\n",
    "print('Accuracy :', accuracy_score(y_test, predicted))\n",
    "print('F1 Score :', f1_score(y_test, predicted, average='micro'))\n",
    "print('Precision :', precision_score(y_test, predicted, average='micro'))\n",
    "print('Recall :', recall_score(y_test, predicted, average='micro'))"
   ]
  },
  {
   "cell_type": "code",
   "execution_count": null,
   "metadata": {},
   "outputs": [],
   "source": []
  }
 ],
 "metadata": {
  "kernelspec": {
   "display_name": "Python 3",
   "language": "python",
   "name": "python3"
  },
  "language_info": {
   "codemirror_mode": {
    "name": "ipython",
    "version": 3
   },
   "file_extension": ".py",
   "mimetype": "text/x-python",
   "name": "python",
   "nbconvert_exporter": "python",
   "pygments_lexer": "ipython3",
   "version": "3.8.5-final"
  }
 },
 "nbformat": 4,
 "nbformat_minor": 4
}