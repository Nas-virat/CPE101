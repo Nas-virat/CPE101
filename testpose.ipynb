{
 "cells": [
  {
   "cell_type": "code",
   "execution_count": 67,
   "metadata": {},
   "outputs": [],
   "source": [
    "import pandas as pd\n",
    "import numpy as np\n",
    "import matplotlib.pyplot as plt\n",
    "import seaborn as sns\n",
    "\n",
    "from sklearn.preprocessing import StandardScaler\n",
    "\n",
    "from sklearn.model_selection import train_test_split\n",
    "from sklearn.ensemble import RandomForestClassifier\n",
    "from sklearn.neural_network import MLPClassifier\n",
    "\n",
    "from sklearn.metrics import confusion_matrix, accuracy_score, recall_score, precision_score, f1_score\n",
    "%matplotlib inline"
   ]
  },
  {
   "cell_type": "code",
   "execution_count": 68,
   "metadata": {},
   "outputs": [
    {
     "output_type": "execute_result",
     "data": {
      "text/plain": [
       "                    photopath   part_x0   part_x1   part_x2   part_x3  \\\n",
       "0             img_set_242.jpg  0.543750  0.553125  0.493750  0.453125   \n",
       "1             img_set_223.jpg  0.565625  0.531250  0.500000  0.434375   \n",
       "2              img_set_54.jpg  0.571875  0.568750  0.509375  0.462500   \n",
       "3             img_set_363.jpg  0.571875  0.568750  0.509375  0.462500   \n",
       "4             img_set_519.jpg  0.465625  0.471875  0.409375  0.400000   \n",
       "...                       ...       ...       ...       ...       ...   \n",
       "1643  img_lunges_down_223.jpg  0.400000  0.443750  0.406250  0.440625   \n",
       "1644    img_lunges_down_0.jpg  0.437500  0.440625  0.346875  0.256250   \n",
       "1645  img_lunges_down_209.jpg  0.450000  0.484375  0.450000  0.256250   \n",
       "1646   img_lunges_down_61.jpg  0.481250  0.475000  0.384375  0.284375   \n",
       "1647   img_lunges_down_12.jpg  0.481250  0.475000  0.406250  0.343750   \n",
       "\n",
       "       part_x4   part_x5   part_x6   part_x7   part_x8  ...    score8  \\\n",
       "0     0.478125  0.609375  0.656250  0.615625  0.515625  ...  0.327584   \n",
       "1     0.471875  0.562500  0.656250  0.615625  0.515625  ...  0.327584   \n",
       "2     0.471875  0.634375  0.687500  0.643750  0.512500  ...  0.310516   \n",
       "3     0.471875  0.634375  0.687500  0.643750  0.512500  ...  0.310516   \n",
       "4     0.471875  0.634375  0.687500  0.643750  0.512500  ...  0.310516   \n",
       "...        ...       ...       ...       ...       ...  ...       ...   \n",
       "1643  0.309375  0.450000  0.546875  0.525000  0.375000  ...  0.225803   \n",
       "1644  0.309375  0.528125  0.621875  0.562500  0.403125  ...  0.140827   \n",
       "1645  0.309375  0.528125  0.621875  0.562500  0.403125  ...  0.140827   \n",
       "1646  0.328125  0.562500  0.634375  0.575000  0.415625  ...  0.186126   \n",
       "1647  0.390625  0.543750  0.612500  0.575000  0.443750  ...  0.379065   \n",
       "\n",
       "        score9   score10   score11   score12   score13   score14   score15  \\\n",
       "0     0.603786  0.576362  0.346418  0.276199  0.414210  0.706337  0.694720   \n",
       "1     0.603786  0.576362  0.346418  0.276199  0.414210  0.706337  0.694720   \n",
       "2     0.211923  0.576362  0.346418  0.276199  0.414210  0.706337  0.694720   \n",
       "3     0.211923  0.576362  0.346418  0.276199  0.414210  0.706337  0.694720   \n",
       "4     0.211923  0.576362  0.346418  0.276199  0.414210  0.706337  0.694720   \n",
       "...        ...       ...       ...       ...       ...       ...       ...   \n",
       "1643  0.262404  0.145539  0.219528  0.479470  0.231593  0.750619  0.745916   \n",
       "1644  0.262404  0.145539  0.219528  0.479470  0.231593  0.750619  0.745916   \n",
       "1645  0.262404  0.145539  0.219528  0.479470  0.231593  0.750619  0.745916   \n",
       "1646  0.377633  0.180517  0.331674  0.113229  0.231593  0.750619  0.745916   \n",
       "1647  0.473505  0.371471  0.315815  0.480116  0.547515  0.773376  0.819061   \n",
       "\n",
       "       score16        label  \n",
       "0     0.563441          set  \n",
       "1     0.563441          set  \n",
       "2     0.563441          set  \n",
       "3     0.563441          set  \n",
       "4     0.563441          set  \n",
       "...        ...          ...  \n",
       "1643  0.795912  lunges_down  \n",
       "1644  0.795912  lunges_down  \n",
       "1645  0.795912  lunges_down  \n",
       "1646  0.795912  lunges_down  \n",
       "1647  0.706056  lunges_down  \n",
       "\n",
       "[1648 rows x 53 columns]"
      ],
      "text/html": "<div>\n<style scoped>\n    .dataframe tbody tr th:only-of-type {\n        vertical-align: middle;\n    }\n\n    .dataframe tbody tr th {\n        vertical-align: top;\n    }\n\n    .dataframe thead th {\n        text-align: right;\n    }\n</style>\n<table border=\"1\" class=\"dataframe\">\n  <thead>\n    <tr style=\"text-align: right;\">\n      <th></th>\n      <th>photopath</th>\n      <th>part_x0</th>\n      <th>part_x1</th>\n      <th>part_x2</th>\n      <th>part_x3</th>\n      <th>part_x4</th>\n      <th>part_x5</th>\n      <th>part_x6</th>\n      <th>part_x7</th>\n      <th>part_x8</th>\n      <th>...</th>\n      <th>score8</th>\n      <th>score9</th>\n      <th>score10</th>\n      <th>score11</th>\n      <th>score12</th>\n      <th>score13</th>\n      <th>score14</th>\n      <th>score15</th>\n      <th>score16</th>\n      <th>label</th>\n    </tr>\n  </thead>\n  <tbody>\n    <tr>\n      <th>0</th>\n      <td>img_set_242.jpg</td>\n      <td>0.543750</td>\n      <td>0.553125</td>\n      <td>0.493750</td>\n      <td>0.453125</td>\n      <td>0.478125</td>\n      <td>0.609375</td>\n      <td>0.656250</td>\n      <td>0.615625</td>\n      <td>0.515625</td>\n      <td>...</td>\n      <td>0.327584</td>\n      <td>0.603786</td>\n      <td>0.576362</td>\n      <td>0.346418</td>\n      <td>0.276199</td>\n      <td>0.414210</td>\n      <td>0.706337</td>\n      <td>0.694720</td>\n      <td>0.563441</td>\n      <td>set</td>\n    </tr>\n    <tr>\n      <th>1</th>\n      <td>img_set_223.jpg</td>\n      <td>0.565625</td>\n      <td>0.531250</td>\n      <td>0.500000</td>\n      <td>0.434375</td>\n      <td>0.471875</td>\n      <td>0.562500</td>\n      <td>0.656250</td>\n      <td>0.615625</td>\n      <td>0.515625</td>\n      <td>...</td>\n      <td>0.327584</td>\n      <td>0.603786</td>\n      <td>0.576362</td>\n      <td>0.346418</td>\n      <td>0.276199</td>\n      <td>0.414210</td>\n      <td>0.706337</td>\n      <td>0.694720</td>\n      <td>0.563441</td>\n      <td>set</td>\n    </tr>\n    <tr>\n      <th>2</th>\n      <td>img_set_54.jpg</td>\n      <td>0.571875</td>\n      <td>0.568750</td>\n      <td>0.509375</td>\n      <td>0.462500</td>\n      <td>0.471875</td>\n      <td>0.634375</td>\n      <td>0.687500</td>\n      <td>0.643750</td>\n      <td>0.512500</td>\n      <td>...</td>\n      <td>0.310516</td>\n      <td>0.211923</td>\n      <td>0.576362</td>\n      <td>0.346418</td>\n      <td>0.276199</td>\n      <td>0.414210</td>\n      <td>0.706337</td>\n      <td>0.694720</td>\n      <td>0.563441</td>\n      <td>set</td>\n    </tr>\n    <tr>\n      <th>3</th>\n      <td>img_set_363.jpg</td>\n      <td>0.571875</td>\n      <td>0.568750</td>\n      <td>0.509375</td>\n      <td>0.462500</td>\n      <td>0.471875</td>\n      <td>0.634375</td>\n      <td>0.687500</td>\n      <td>0.643750</td>\n      <td>0.512500</td>\n      <td>...</td>\n      <td>0.310516</td>\n      <td>0.211923</td>\n      <td>0.576362</td>\n      <td>0.346418</td>\n      <td>0.276199</td>\n      <td>0.414210</td>\n      <td>0.706337</td>\n      <td>0.694720</td>\n      <td>0.563441</td>\n      <td>set</td>\n    </tr>\n    <tr>\n      <th>4</th>\n      <td>img_set_519.jpg</td>\n      <td>0.465625</td>\n      <td>0.471875</td>\n      <td>0.409375</td>\n      <td>0.400000</td>\n      <td>0.471875</td>\n      <td>0.634375</td>\n      <td>0.687500</td>\n      <td>0.643750</td>\n      <td>0.512500</td>\n      <td>...</td>\n      <td>0.310516</td>\n      <td>0.211923</td>\n      <td>0.576362</td>\n      <td>0.346418</td>\n      <td>0.276199</td>\n      <td>0.414210</td>\n      <td>0.706337</td>\n      <td>0.694720</td>\n      <td>0.563441</td>\n      <td>set</td>\n    </tr>\n    <tr>\n      <th>...</th>\n      <td>...</td>\n      <td>...</td>\n      <td>...</td>\n      <td>...</td>\n      <td>...</td>\n      <td>...</td>\n      <td>...</td>\n      <td>...</td>\n      <td>...</td>\n      <td>...</td>\n      <td>...</td>\n      <td>...</td>\n      <td>...</td>\n      <td>...</td>\n      <td>...</td>\n      <td>...</td>\n      <td>...</td>\n      <td>...</td>\n      <td>...</td>\n      <td>...</td>\n      <td>...</td>\n    </tr>\n    <tr>\n      <th>1643</th>\n      <td>img_lunges_down_223.jpg</td>\n      <td>0.400000</td>\n      <td>0.443750</td>\n      <td>0.406250</td>\n      <td>0.440625</td>\n      <td>0.309375</td>\n      <td>0.450000</td>\n      <td>0.546875</td>\n      <td>0.525000</td>\n      <td>0.375000</td>\n      <td>...</td>\n      <td>0.225803</td>\n      <td>0.262404</td>\n      <td>0.145539</td>\n      <td>0.219528</td>\n      <td>0.479470</td>\n      <td>0.231593</td>\n      <td>0.750619</td>\n      <td>0.745916</td>\n      <td>0.795912</td>\n      <td>lunges_down</td>\n    </tr>\n    <tr>\n      <th>1644</th>\n      <td>img_lunges_down_0.jpg</td>\n      <td>0.437500</td>\n      <td>0.440625</td>\n      <td>0.346875</td>\n      <td>0.256250</td>\n      <td>0.309375</td>\n      <td>0.528125</td>\n      <td>0.621875</td>\n      <td>0.562500</td>\n      <td>0.403125</td>\n      <td>...</td>\n      <td>0.140827</td>\n      <td>0.262404</td>\n      <td>0.145539</td>\n      <td>0.219528</td>\n      <td>0.479470</td>\n      <td>0.231593</td>\n      <td>0.750619</td>\n      <td>0.745916</td>\n      <td>0.795912</td>\n      <td>lunges_down</td>\n    </tr>\n    <tr>\n      <th>1645</th>\n      <td>img_lunges_down_209.jpg</td>\n      <td>0.450000</td>\n      <td>0.484375</td>\n      <td>0.450000</td>\n      <td>0.256250</td>\n      <td>0.309375</td>\n      <td>0.528125</td>\n      <td>0.621875</td>\n      <td>0.562500</td>\n      <td>0.403125</td>\n      <td>...</td>\n      <td>0.140827</td>\n      <td>0.262404</td>\n      <td>0.145539</td>\n      <td>0.219528</td>\n      <td>0.479470</td>\n      <td>0.231593</td>\n      <td>0.750619</td>\n      <td>0.745916</td>\n      <td>0.795912</td>\n      <td>lunges_down</td>\n    </tr>\n    <tr>\n      <th>1646</th>\n      <td>img_lunges_down_61.jpg</td>\n      <td>0.481250</td>\n      <td>0.475000</td>\n      <td>0.384375</td>\n      <td>0.284375</td>\n      <td>0.328125</td>\n      <td>0.562500</td>\n      <td>0.634375</td>\n      <td>0.575000</td>\n      <td>0.415625</td>\n      <td>...</td>\n      <td>0.186126</td>\n      <td>0.377633</td>\n      <td>0.180517</td>\n      <td>0.331674</td>\n      <td>0.113229</td>\n      <td>0.231593</td>\n      <td>0.750619</td>\n      <td>0.745916</td>\n      <td>0.795912</td>\n      <td>lunges_down</td>\n    </tr>\n    <tr>\n      <th>1647</th>\n      <td>img_lunges_down_12.jpg</td>\n      <td>0.481250</td>\n      <td>0.475000</td>\n      <td>0.406250</td>\n      <td>0.343750</td>\n      <td>0.390625</td>\n      <td>0.543750</td>\n      <td>0.612500</td>\n      <td>0.575000</td>\n      <td>0.443750</td>\n      <td>...</td>\n      <td>0.379065</td>\n      <td>0.473505</td>\n      <td>0.371471</td>\n      <td>0.315815</td>\n      <td>0.480116</td>\n      <td>0.547515</td>\n      <td>0.773376</td>\n      <td>0.819061</td>\n      <td>0.706056</td>\n      <td>lunges_down</td>\n    </tr>\n  </tbody>\n</table>\n<p>1648 rows × 53 columns</p>\n</div>"
     },
     "metadata": {},
     "execution_count": 68
    }
   ],
   "source": [
    "df = pd.read_csv('datatrainall.csv')\n",
    "df"
   ]
  },
  {
   "cell_type": "code",
   "execution_count": 69,
   "metadata": {},
   "outputs": [
    {
     "output_type": "stream",
     "name": "stdout",
     "text": [
      "<class 'pandas.core.frame.DataFrame'>\nRangeIndex: 1648 entries, 0 to 1647\nData columns (total 53 columns):\n #   Column     Non-Null Count  Dtype  \n---  ------     --------------  -----  \n 0   photopath  1648 non-null   object \n 1   part_x0    1648 non-null   float64\n 2   part_x1    1648 non-null   float64\n 3   part_x2    1648 non-null   float64\n 4   part_x3    1648 non-null   float64\n 5   part_x4    1648 non-null   float64\n 6   part_x5    1648 non-null   float64\n 7   part_x6    1648 non-null   float64\n 8   part_x7    1648 non-null   float64\n 9   part_x8    1648 non-null   float64\n 10  part_x9    1648 non-null   float64\n 11  part_x10   1648 non-null   float64\n 12  part_x11   1648 non-null   float64\n 13  part_x12   1648 non-null   float64\n 14  part_x13   1648 non-null   float64\n 15  part_x14   1648 non-null   float64\n 16  part_x15   1648 non-null   float64\n 17  part_x16   1648 non-null   float64\n 18  part_y0    1648 non-null   float64\n 19  part_y1    1648 non-null   float64\n 20  part_y2    1648 non-null   float64\n 21  part_y3    1648 non-null   float64\n 22  part_y4    1648 non-null   float64\n 23  part_y5    1648 non-null   float64\n 24  part_y6    1648 non-null   float64\n 25  part_y7    1648 non-null   float64\n 26  part_y8    1648 non-null   float64\n 27  part_y9    1648 non-null   float64\n 28  part_y10   1648 non-null   float64\n 29  part_y11   1648 non-null   float64\n 30  part_y12   1648 non-null   float64\n 31  part_y13   1648 non-null   float64\n 32  part_y14   1648 non-null   float64\n 33  part_y15   1648 non-null   float64\n 34  part_y16   1648 non-null   float64\n 35  score0     1648 non-null   float64\n 36  score1     1648 non-null   float64\n 37  score2     1648 non-null   float64\n 38  score3     1648 non-null   float64\n 39  score4     1648 non-null   float64\n 40  score5     1648 non-null   float64\n 41  score6     1648 non-null   float64\n 42  score7     1648 non-null   float64\n 43  score8     1648 non-null   float64\n 44  score9     1648 non-null   float64\n 45  score10    1648 non-null   float64\n 46  score11    1648 non-null   float64\n 47  score12    1648 non-null   float64\n 48  score13    1648 non-null   float64\n 49  score14    1648 non-null   float64\n 50  score15    1648 non-null   float64\n 51  score16    1648 non-null   float64\n 52  label      1648 non-null   object \ndtypes: float64(51), object(2)\nmemory usage: 682.5+ KB\n"
     ]
    }
   ],
   "source": [
    "df.info()"
   ]
  },
  {
   "cell_type": "code",
   "execution_count": 70,
   "metadata": {},
   "outputs": [
    {
     "output_type": "execute_result",
     "data": {
      "text/plain": [
       "       part_x0   part_x1   part_x2   part_x3   part_x4   part_x5   part_x6  \\\n",
       "0     0.543750  0.553125  0.493750  0.453125  0.478125  0.609375  0.656250   \n",
       "1     0.565625  0.531250  0.500000  0.434375  0.471875  0.562500  0.656250   \n",
       "2     0.571875  0.568750  0.509375  0.462500  0.471875  0.634375  0.687500   \n",
       "3     0.571875  0.568750  0.509375  0.462500  0.471875  0.634375  0.687500   \n",
       "4     0.465625  0.471875  0.409375  0.400000  0.471875  0.634375  0.687500   \n",
       "...        ...       ...       ...       ...       ...       ...       ...   \n",
       "1643  0.400000  0.443750  0.406250  0.440625  0.309375  0.450000  0.546875   \n",
       "1644  0.437500  0.440625  0.346875  0.256250  0.309375  0.528125  0.621875   \n",
       "1645  0.450000  0.484375  0.450000  0.256250  0.309375  0.528125  0.621875   \n",
       "1646  0.481250  0.475000  0.384375  0.284375  0.328125  0.562500  0.634375   \n",
       "1647  0.481250  0.475000  0.406250  0.343750  0.390625  0.543750  0.612500   \n",
       "\n",
       "       part_x7   part_x8   part_x9  ...    score7    score8    score9  \\\n",
       "0     0.615625  0.515625  0.500000  ...  0.686369  0.327584  0.603786   \n",
       "1     0.615625  0.515625  0.500000  ...  0.686369  0.327584  0.603786   \n",
       "2     0.643750  0.512500  0.484375  ...  0.646998  0.310516  0.211923   \n",
       "3     0.643750  0.512500  0.484375  ...  0.646998  0.310516  0.211923   \n",
       "4     0.643750  0.512500  0.484375  ...  0.646998  0.310516  0.211923   \n",
       "...        ...       ...       ...  ...       ...       ...       ...   \n",
       "1643  0.525000  0.375000  0.359375  ...  0.623638  0.225803  0.262404   \n",
       "1644  0.562500  0.403125  0.359375  ...  0.402151  0.140827  0.262404   \n",
       "1645  0.562500  0.403125  0.359375  ...  0.402151  0.140827  0.262404   \n",
       "1646  0.575000  0.415625  0.400000  ...  0.744105  0.186126  0.377633   \n",
       "1647  0.575000  0.443750  0.437500  ...  0.490250  0.379065  0.473505   \n",
       "\n",
       "       score10   score11   score12   score13   score14   score15   score16  \n",
       "0     0.576362  0.346418  0.276199  0.414210  0.706337  0.694720  0.563441  \n",
       "1     0.576362  0.346418  0.276199  0.414210  0.706337  0.694720  0.563441  \n",
       "2     0.576362  0.346418  0.276199  0.414210  0.706337  0.694720  0.563441  \n",
       "3     0.576362  0.346418  0.276199  0.414210  0.706337  0.694720  0.563441  \n",
       "4     0.576362  0.346418  0.276199  0.414210  0.706337  0.694720  0.563441  \n",
       "...        ...       ...       ...       ...       ...       ...       ...  \n",
       "1643  0.145539  0.219528  0.479470  0.231593  0.750619  0.745916  0.795912  \n",
       "1644  0.145539  0.219528  0.479470  0.231593  0.750619  0.745916  0.795912  \n",
       "1645  0.145539  0.219528  0.479470  0.231593  0.750619  0.745916  0.795912  \n",
       "1646  0.180517  0.331674  0.113229  0.231593  0.750619  0.745916  0.795912  \n",
       "1647  0.371471  0.315815  0.480116  0.547515  0.773376  0.819061  0.706056  \n",
       "\n",
       "[1648 rows x 51 columns]"
      ],
      "text/html": "<div>\n<style scoped>\n    .dataframe tbody tr th:only-of-type {\n        vertical-align: middle;\n    }\n\n    .dataframe tbody tr th {\n        vertical-align: top;\n    }\n\n    .dataframe thead th {\n        text-align: right;\n    }\n</style>\n<table border=\"1\" class=\"dataframe\">\n  <thead>\n    <tr style=\"text-align: right;\">\n      <th></th>\n      <th>part_x0</th>\n      <th>part_x1</th>\n      <th>part_x2</th>\n      <th>part_x3</th>\n      <th>part_x4</th>\n      <th>part_x5</th>\n      <th>part_x6</th>\n      <th>part_x7</th>\n      <th>part_x8</th>\n      <th>part_x9</th>\n      <th>...</th>\n      <th>score7</th>\n      <th>score8</th>\n      <th>score9</th>\n      <th>score10</th>\n      <th>score11</th>\n      <th>score12</th>\n      <th>score13</th>\n      <th>score14</th>\n      <th>score15</th>\n      <th>score16</th>\n    </tr>\n  </thead>\n  <tbody>\n    <tr>\n      <th>0</th>\n      <td>0.543750</td>\n      <td>0.553125</td>\n      <td>0.493750</td>\n      <td>0.453125</td>\n      <td>0.478125</td>\n      <td>0.609375</td>\n      <td>0.656250</td>\n      <td>0.615625</td>\n      <td>0.515625</td>\n      <td>0.500000</td>\n      <td>...</td>\n      <td>0.686369</td>\n      <td>0.327584</td>\n      <td>0.603786</td>\n      <td>0.576362</td>\n      <td>0.346418</td>\n      <td>0.276199</td>\n      <td>0.414210</td>\n      <td>0.706337</td>\n      <td>0.694720</td>\n      <td>0.563441</td>\n    </tr>\n    <tr>\n      <th>1</th>\n      <td>0.565625</td>\n      <td>0.531250</td>\n      <td>0.500000</td>\n      <td>0.434375</td>\n      <td>0.471875</td>\n      <td>0.562500</td>\n      <td>0.656250</td>\n      <td>0.615625</td>\n      <td>0.515625</td>\n      <td>0.500000</td>\n      <td>...</td>\n      <td>0.686369</td>\n      <td>0.327584</td>\n      <td>0.603786</td>\n      <td>0.576362</td>\n      <td>0.346418</td>\n      <td>0.276199</td>\n      <td>0.414210</td>\n      <td>0.706337</td>\n      <td>0.694720</td>\n      <td>0.563441</td>\n    </tr>\n    <tr>\n      <th>2</th>\n      <td>0.571875</td>\n      <td>0.568750</td>\n      <td>0.509375</td>\n      <td>0.462500</td>\n      <td>0.471875</td>\n      <td>0.634375</td>\n      <td>0.687500</td>\n      <td>0.643750</td>\n      <td>0.512500</td>\n      <td>0.484375</td>\n      <td>...</td>\n      <td>0.646998</td>\n      <td>0.310516</td>\n      <td>0.211923</td>\n      <td>0.576362</td>\n      <td>0.346418</td>\n      <td>0.276199</td>\n      <td>0.414210</td>\n      <td>0.706337</td>\n      <td>0.694720</td>\n      <td>0.563441</td>\n    </tr>\n    <tr>\n      <th>3</th>\n      <td>0.571875</td>\n      <td>0.568750</td>\n      <td>0.509375</td>\n      <td>0.462500</td>\n      <td>0.471875</td>\n      <td>0.634375</td>\n      <td>0.687500</td>\n      <td>0.643750</td>\n      <td>0.512500</td>\n      <td>0.484375</td>\n      <td>...</td>\n      <td>0.646998</td>\n      <td>0.310516</td>\n      <td>0.211923</td>\n      <td>0.576362</td>\n      <td>0.346418</td>\n      <td>0.276199</td>\n      <td>0.414210</td>\n      <td>0.706337</td>\n      <td>0.694720</td>\n      <td>0.563441</td>\n    </tr>\n    <tr>\n      <th>4</th>\n      <td>0.465625</td>\n      <td>0.471875</td>\n      <td>0.409375</td>\n      <td>0.400000</td>\n      <td>0.471875</td>\n      <td>0.634375</td>\n      <td>0.687500</td>\n      <td>0.643750</td>\n      <td>0.512500</td>\n      <td>0.484375</td>\n      <td>...</td>\n      <td>0.646998</td>\n      <td>0.310516</td>\n      <td>0.211923</td>\n      <td>0.576362</td>\n      <td>0.346418</td>\n      <td>0.276199</td>\n      <td>0.414210</td>\n      <td>0.706337</td>\n      <td>0.694720</td>\n      <td>0.563441</td>\n    </tr>\n    <tr>\n      <th>...</th>\n      <td>...</td>\n      <td>...</td>\n      <td>...</td>\n      <td>...</td>\n      <td>...</td>\n      <td>...</td>\n      <td>...</td>\n      <td>...</td>\n      <td>...</td>\n      <td>...</td>\n      <td>...</td>\n      <td>...</td>\n      <td>...</td>\n      <td>...</td>\n      <td>...</td>\n      <td>...</td>\n      <td>...</td>\n      <td>...</td>\n      <td>...</td>\n      <td>...</td>\n      <td>...</td>\n    </tr>\n    <tr>\n      <th>1643</th>\n      <td>0.400000</td>\n      <td>0.443750</td>\n      <td>0.406250</td>\n      <td>0.440625</td>\n      <td>0.309375</td>\n      <td>0.450000</td>\n      <td>0.546875</td>\n      <td>0.525000</td>\n      <td>0.375000</td>\n      <td>0.359375</td>\n      <td>...</td>\n      <td>0.623638</td>\n      <td>0.225803</td>\n      <td>0.262404</td>\n      <td>0.145539</td>\n      <td>0.219528</td>\n      <td>0.479470</td>\n      <td>0.231593</td>\n      <td>0.750619</td>\n      <td>0.745916</td>\n      <td>0.795912</td>\n    </tr>\n    <tr>\n      <th>1644</th>\n      <td>0.437500</td>\n      <td>0.440625</td>\n      <td>0.346875</td>\n      <td>0.256250</td>\n      <td>0.309375</td>\n      <td>0.528125</td>\n      <td>0.621875</td>\n      <td>0.562500</td>\n      <td>0.403125</td>\n      <td>0.359375</td>\n      <td>...</td>\n      <td>0.402151</td>\n      <td>0.140827</td>\n      <td>0.262404</td>\n      <td>0.145539</td>\n      <td>0.219528</td>\n      <td>0.479470</td>\n      <td>0.231593</td>\n      <td>0.750619</td>\n      <td>0.745916</td>\n      <td>0.795912</td>\n    </tr>\n    <tr>\n      <th>1645</th>\n      <td>0.450000</td>\n      <td>0.484375</td>\n      <td>0.450000</td>\n      <td>0.256250</td>\n      <td>0.309375</td>\n      <td>0.528125</td>\n      <td>0.621875</td>\n      <td>0.562500</td>\n      <td>0.403125</td>\n      <td>0.359375</td>\n      <td>...</td>\n      <td>0.402151</td>\n      <td>0.140827</td>\n      <td>0.262404</td>\n      <td>0.145539</td>\n      <td>0.219528</td>\n      <td>0.479470</td>\n      <td>0.231593</td>\n      <td>0.750619</td>\n      <td>0.745916</td>\n      <td>0.795912</td>\n    </tr>\n    <tr>\n      <th>1646</th>\n      <td>0.481250</td>\n      <td>0.475000</td>\n      <td>0.384375</td>\n      <td>0.284375</td>\n      <td>0.328125</td>\n      <td>0.562500</td>\n      <td>0.634375</td>\n      <td>0.575000</td>\n      <td>0.415625</td>\n      <td>0.400000</td>\n      <td>...</td>\n      <td>0.744105</td>\n      <td>0.186126</td>\n      <td>0.377633</td>\n      <td>0.180517</td>\n      <td>0.331674</td>\n      <td>0.113229</td>\n      <td>0.231593</td>\n      <td>0.750619</td>\n      <td>0.745916</td>\n      <td>0.795912</td>\n    </tr>\n    <tr>\n      <th>1647</th>\n      <td>0.481250</td>\n      <td>0.475000</td>\n      <td>0.406250</td>\n      <td>0.343750</td>\n      <td>0.390625</td>\n      <td>0.543750</td>\n      <td>0.612500</td>\n      <td>0.575000</td>\n      <td>0.443750</td>\n      <td>0.437500</td>\n      <td>...</td>\n      <td>0.490250</td>\n      <td>0.379065</td>\n      <td>0.473505</td>\n      <td>0.371471</td>\n      <td>0.315815</td>\n      <td>0.480116</td>\n      <td>0.547515</td>\n      <td>0.773376</td>\n      <td>0.819061</td>\n      <td>0.706056</td>\n    </tr>\n  </tbody>\n</table>\n<p>1648 rows × 51 columns</p>\n</div>"
     },
     "metadata": {},
     "execution_count": 70
    }
   ],
   "source": [
    "df_drop = df.drop(columns = ['photopath','label'])\n",
    "df_drop"
   ]
  },
  {
   "cell_type": "code",
   "execution_count": 71,
   "metadata": {},
   "outputs": [],
   "source": [
    "X = df_drop\n",
    "y = df['label']"
   ]
  },
  {
   "cell_type": "code",
   "execution_count": 72,
   "metadata": {},
   "outputs": [],
   "source": [
    "X_train, X_test, y_train, y_test = train_test_split(X,y,test_size=0.2, random_state=300)"
   ]
  },
  {
   "cell_type": "code",
   "execution_count": 73,
   "metadata": {},
   "outputs": [
    {
     "output_type": "execute_result",
     "data": {
      "text/plain": [
       "       part_x0   part_x1   part_x2   part_x3   part_x4   part_x5   part_x6  \\\n",
       "1005  0.550000  0.531250  0.487500  0.465625  0.496875  0.578125  0.625000   \n",
       "1076  0.453125  0.437500  0.378125  0.328125  0.375000  0.493750  0.515625   \n",
       "407   0.528125  0.459375  0.440625  0.559375  0.609375  0.493750  0.540625   \n",
       "1526  0.309375  0.312500  0.231250  0.171875  0.221875  0.393750  0.478125   \n",
       "486   0.596875  0.537500  0.518750  0.643750  0.712500  0.543750  0.637500   \n",
       "...        ...       ...       ...       ...       ...       ...       ...   \n",
       "850   0.403125  0.468750  0.459375  0.481250  0.568750  0.553125  0.621875   \n",
       "904   0.443750  0.443750  0.381250  0.343750  0.368750  0.509375  0.543750   \n",
       "242   0.478125  0.521875  0.500000  0.496875  0.418750  0.565625  0.587500   \n",
       "503   0.506250  0.431250  0.431250  0.537500  0.600000  0.418750  0.615625   \n",
       "166   0.475000  0.487500  0.418750  0.403125  0.403125  0.543750  0.618750   \n",
       "\n",
       "       part_x7   part_x8   part_x9  ...    score7    score8    score9  \\\n",
       "1005  0.690625  0.478125  0.487500  ...  0.626607  0.507377  0.703776   \n",
       "1076  0.500000  0.421875  0.409375  ...  0.664535  0.451883  0.453030   \n",
       "407   0.565625  0.406250  0.275000  ...  0.327743  0.373772  0.571208   \n",
       "1526  0.437500  0.284375  0.271875  ...  0.422863  0.262913  0.142295   \n",
       "486   0.706250  0.456250  0.496875  ...  0.529975  0.543126  0.756828   \n",
       "...        ...       ...       ...  ...       ...       ...       ...   \n",
       "850   0.700000  0.450000  0.515625  ...  0.663768  0.609361  0.741436   \n",
       "904   0.518750  0.396875  0.387500  ...  0.100378  0.535723  0.615346   \n",
       "242   0.584375  0.462500  0.456250  ...  0.666805  0.485520  0.474274   \n",
       "503   0.650000  0.490625  0.475000  ...  0.621512  0.595644  0.736485   \n",
       "166   0.587500  0.487500  0.484375  ...  0.747864  0.356944  0.315368   \n",
       "\n",
       "       score10   score11   score12   score13   score14   score15   score16  \n",
       "1005  0.375247  0.527198  0.618097  0.562594  0.762858  0.739650  0.717671  \n",
       "1076  0.165229  0.486134  0.575928  0.321594  0.753346  0.823138  0.692142  \n",
       "407   0.503934  0.287830  0.508550  0.320649  0.698098  0.701301  0.732426  \n",
       "1526  0.104558  0.236490  0.095142  0.130865  0.777106  0.748328  0.822788  \n",
       "486   0.454937  0.498190  0.663721  0.590665  0.731501  0.796587  0.721874  \n",
       "...        ...       ...       ...       ...       ...       ...       ...  \n",
       "850   0.539377  0.544188  0.649197  0.596154  0.790454  0.668092  0.737962  \n",
       "904   0.328217  0.524063  0.736898  0.490675  0.713914  0.727991  0.669195  \n",
       "242   0.549672  0.473233  0.617125  0.584228  0.758863  0.826248  0.705946  \n",
       "503   0.653644  0.541843  0.611584  0.651753  0.704466  0.663682  0.705899  \n",
       "166   0.414122  0.463663  0.599265  0.418184  0.707009  0.753580  0.515851  \n",
       "\n",
       "[330 rows x 51 columns]"
      ],
      "text/html": "<div>\n<style scoped>\n    .dataframe tbody tr th:only-of-type {\n        vertical-align: middle;\n    }\n\n    .dataframe tbody tr th {\n        vertical-align: top;\n    }\n\n    .dataframe thead th {\n        text-align: right;\n    }\n</style>\n<table border=\"1\" class=\"dataframe\">\n  <thead>\n    <tr style=\"text-align: right;\">\n      <th></th>\n      <th>part_x0</th>\n      <th>part_x1</th>\n      <th>part_x2</th>\n      <th>part_x3</th>\n      <th>part_x4</th>\n      <th>part_x5</th>\n      <th>part_x6</th>\n      <th>part_x7</th>\n      <th>part_x8</th>\n      <th>part_x9</th>\n      <th>...</th>\n      <th>score7</th>\n      <th>score8</th>\n      <th>score9</th>\n      <th>score10</th>\n      <th>score11</th>\n      <th>score12</th>\n      <th>score13</th>\n      <th>score14</th>\n      <th>score15</th>\n      <th>score16</th>\n    </tr>\n  </thead>\n  <tbody>\n    <tr>\n      <th>1005</th>\n      <td>0.550000</td>\n      <td>0.531250</td>\n      <td>0.487500</td>\n      <td>0.465625</td>\n      <td>0.496875</td>\n      <td>0.578125</td>\n      <td>0.625000</td>\n      <td>0.690625</td>\n      <td>0.478125</td>\n      <td>0.487500</td>\n      <td>...</td>\n      <td>0.626607</td>\n      <td>0.507377</td>\n      <td>0.703776</td>\n      <td>0.375247</td>\n      <td>0.527198</td>\n      <td>0.618097</td>\n      <td>0.562594</td>\n      <td>0.762858</td>\n      <td>0.739650</td>\n      <td>0.717671</td>\n    </tr>\n    <tr>\n      <th>1076</th>\n      <td>0.453125</td>\n      <td>0.437500</td>\n      <td>0.378125</td>\n      <td>0.328125</td>\n      <td>0.375000</td>\n      <td>0.493750</td>\n      <td>0.515625</td>\n      <td>0.500000</td>\n      <td>0.421875</td>\n      <td>0.409375</td>\n      <td>...</td>\n      <td>0.664535</td>\n      <td>0.451883</td>\n      <td>0.453030</td>\n      <td>0.165229</td>\n      <td>0.486134</td>\n      <td>0.575928</td>\n      <td>0.321594</td>\n      <td>0.753346</td>\n      <td>0.823138</td>\n      <td>0.692142</td>\n    </tr>\n    <tr>\n      <th>407</th>\n      <td>0.528125</td>\n      <td>0.459375</td>\n      <td>0.440625</td>\n      <td>0.559375</td>\n      <td>0.609375</td>\n      <td>0.493750</td>\n      <td>0.540625</td>\n      <td>0.565625</td>\n      <td>0.406250</td>\n      <td>0.275000</td>\n      <td>...</td>\n      <td>0.327743</td>\n      <td>0.373772</td>\n      <td>0.571208</td>\n      <td>0.503934</td>\n      <td>0.287830</td>\n      <td>0.508550</td>\n      <td>0.320649</td>\n      <td>0.698098</td>\n      <td>0.701301</td>\n      <td>0.732426</td>\n    </tr>\n    <tr>\n      <th>1526</th>\n      <td>0.309375</td>\n      <td>0.312500</td>\n      <td>0.231250</td>\n      <td>0.171875</td>\n      <td>0.221875</td>\n      <td>0.393750</td>\n      <td>0.478125</td>\n      <td>0.437500</td>\n      <td>0.284375</td>\n      <td>0.271875</td>\n      <td>...</td>\n      <td>0.422863</td>\n      <td>0.262913</td>\n      <td>0.142295</td>\n      <td>0.104558</td>\n      <td>0.236490</td>\n      <td>0.095142</td>\n      <td>0.130865</td>\n      <td>0.777106</td>\n      <td>0.748328</td>\n      <td>0.822788</td>\n    </tr>\n    <tr>\n      <th>486</th>\n      <td>0.596875</td>\n      <td>0.537500</td>\n      <td>0.518750</td>\n      <td>0.643750</td>\n      <td>0.712500</td>\n      <td>0.543750</td>\n      <td>0.637500</td>\n      <td>0.706250</td>\n      <td>0.456250</td>\n      <td>0.496875</td>\n      <td>...</td>\n      <td>0.529975</td>\n      <td>0.543126</td>\n      <td>0.756828</td>\n      <td>0.454937</td>\n      <td>0.498190</td>\n      <td>0.663721</td>\n      <td>0.590665</td>\n      <td>0.731501</td>\n      <td>0.796587</td>\n      <td>0.721874</td>\n    </tr>\n    <tr>\n      <th>...</th>\n      <td>...</td>\n      <td>...</td>\n      <td>...</td>\n      <td>...</td>\n      <td>...</td>\n      <td>...</td>\n      <td>...</td>\n      <td>...</td>\n      <td>...</td>\n      <td>...</td>\n      <td>...</td>\n      <td>...</td>\n      <td>...</td>\n      <td>...</td>\n      <td>...</td>\n      <td>...</td>\n      <td>...</td>\n      <td>...</td>\n      <td>...</td>\n      <td>...</td>\n      <td>...</td>\n    </tr>\n    <tr>\n      <th>850</th>\n      <td>0.403125</td>\n      <td>0.468750</td>\n      <td>0.459375</td>\n      <td>0.481250</td>\n      <td>0.568750</td>\n      <td>0.553125</td>\n      <td>0.621875</td>\n      <td>0.700000</td>\n      <td>0.450000</td>\n      <td>0.515625</td>\n      <td>...</td>\n      <td>0.663768</td>\n      <td>0.609361</td>\n      <td>0.741436</td>\n      <td>0.539377</td>\n      <td>0.544188</td>\n      <td>0.649197</td>\n      <td>0.596154</td>\n      <td>0.790454</td>\n      <td>0.668092</td>\n      <td>0.737962</td>\n    </tr>\n    <tr>\n      <th>904</th>\n      <td>0.443750</td>\n      <td>0.443750</td>\n      <td>0.381250</td>\n      <td>0.343750</td>\n      <td>0.368750</td>\n      <td>0.509375</td>\n      <td>0.543750</td>\n      <td>0.518750</td>\n      <td>0.396875</td>\n      <td>0.387500</td>\n      <td>...</td>\n      <td>0.100378</td>\n      <td>0.535723</td>\n      <td>0.615346</td>\n      <td>0.328217</td>\n      <td>0.524063</td>\n      <td>0.736898</td>\n      <td>0.490675</td>\n      <td>0.713914</td>\n      <td>0.727991</td>\n      <td>0.669195</td>\n    </tr>\n    <tr>\n      <th>242</th>\n      <td>0.478125</td>\n      <td>0.521875</td>\n      <td>0.500000</td>\n      <td>0.496875</td>\n      <td>0.418750</td>\n      <td>0.565625</td>\n      <td>0.587500</td>\n      <td>0.584375</td>\n      <td>0.462500</td>\n      <td>0.456250</td>\n      <td>...</td>\n      <td>0.666805</td>\n      <td>0.485520</td>\n      <td>0.474274</td>\n      <td>0.549672</td>\n      <td>0.473233</td>\n      <td>0.617125</td>\n      <td>0.584228</td>\n      <td>0.758863</td>\n      <td>0.826248</td>\n      <td>0.705946</td>\n    </tr>\n    <tr>\n      <th>503</th>\n      <td>0.506250</td>\n      <td>0.431250</td>\n      <td>0.431250</td>\n      <td>0.537500</td>\n      <td>0.600000</td>\n      <td>0.418750</td>\n      <td>0.615625</td>\n      <td>0.650000</td>\n      <td>0.490625</td>\n      <td>0.475000</td>\n      <td>...</td>\n      <td>0.621512</td>\n      <td>0.595644</td>\n      <td>0.736485</td>\n      <td>0.653644</td>\n      <td>0.541843</td>\n      <td>0.611584</td>\n      <td>0.651753</td>\n      <td>0.704466</td>\n      <td>0.663682</td>\n      <td>0.705899</td>\n    </tr>\n    <tr>\n      <th>166</th>\n      <td>0.475000</td>\n      <td>0.487500</td>\n      <td>0.418750</td>\n      <td>0.403125</td>\n      <td>0.403125</td>\n      <td>0.543750</td>\n      <td>0.618750</td>\n      <td>0.587500</td>\n      <td>0.487500</td>\n      <td>0.484375</td>\n      <td>...</td>\n      <td>0.747864</td>\n      <td>0.356944</td>\n      <td>0.315368</td>\n      <td>0.414122</td>\n      <td>0.463663</td>\n      <td>0.599265</td>\n      <td>0.418184</td>\n      <td>0.707009</td>\n      <td>0.753580</td>\n      <td>0.515851</td>\n    </tr>\n  </tbody>\n</table>\n<p>330 rows × 51 columns</p>\n</div>"
     },
     "metadata": {},
     "execution_count": 73
    }
   ],
   "source": [
    "X_test"
   ]
  },
  {
   "cell_type": "code",
   "execution_count": 74,
   "metadata": {},
   "outputs": [],
   "source": [
    "clf = MLPClassifier(hidden_layer_sizes=(64, 64, 3, ), max_iter=1000, solver='adam').fit(X_train, y_train)"
   ]
  },
  {
   "cell_type": "code",
   "execution_count": 75,
   "metadata": {},
   "outputs": [
    {
     "output_type": "stream",
     "name": "stdout",
     "text": [
      "Accuracy : 0.9939393939393939\nF1 Score : 0.9939393939393939\nPrecision : 0.9939393939393939\nRecall : 0.9939393939393939\n"
     ]
    }
   ],
   "source": [
    "predicted = clf.predict(X_test)\n",
    "print('Accuracy :', accuracy_score(y_test, predicted))\n",
    "print('F1 Score :', f1_score(y_test, predicted, average='micro'))\n",
    "print('Precision :', precision_score(y_test, predicted, average='micro'))\n",
    "print('Recall :', recall_score(y_test, predicted, average='micro'))"
   ]
  },
  {
   "cell_type": "code",
   "execution_count": null,
   "metadata": {},
   "outputs": [],
   "source": []
  }
 ],
 "metadata": {
  "kernelspec": {
   "display_name": "Python 3",
   "language": "python",
   "name": "python3"
  },
  "language_info": {
   "codemirror_mode": {
    "name": "ipython",
    "version": 3
   },
   "file_extension": ".py",
   "mimetype": "text/x-python",
   "name": "python",
   "nbconvert_exporter": "python",
   "pygments_lexer": "ipython3",
   "version": "3.8.5-final"
  }
 },
 "nbformat": 4,
 "nbformat_minor": 4
}