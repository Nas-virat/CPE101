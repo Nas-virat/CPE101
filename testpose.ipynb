{
 "cells": [
  {
   "cell_type": "code",
   "execution_count": 73,
   "metadata": {},
   "outputs": [],
   "source": [
    "import pandas as pd\n",
    "import numpy as np\n",
    "import matplotlib.pyplot as plt\n",
    "import seaborn as sns\n",
    "\n",
    "from sklearn.preprocessing import StandardScaler\n",
    "\n",
    "from sklearn.model_selection import train_test_split\n",
    "from sklearn.ensemble import RandomForestClassifier\n",
    "from sklearn.neural_network import MLPClassifier\n",
    "\n",
    "from sklearn.metrics import confusion_matrix, accuracy_score, recall_score, precision_score, f1_score\n",
    "%matplotlib inline"
   ]
  },
  {
   "cell_type": "code",
   "execution_count": 74,
   "metadata": {},
   "outputs": [
    {
     "output_type": "execute_result",
     "data": {
      "text/plain": [
       "                    photopath   part_x0   part_x1   part_x2   part_x3  \\\n",
       "0             img_set_242.jpg  0.543750  0.553125  0.493750  0.453125   \n",
       "1             img_set_223.jpg  0.565625  0.531250  0.500000  0.434375   \n",
       "2              img_set_54.jpg  0.571875  0.568750  0.509375  0.462500   \n",
       "3             img_set_363.jpg  0.571875  0.568750  0.509375  0.462500   \n",
       "4             img_set_519.jpg  0.465625  0.471875  0.409375  0.400000   \n",
       "...                       ...       ...       ...       ...       ...   \n",
       "1548  img_squats_down_541.jpg  0.496875  0.500000  0.450000  0.415625   \n",
       "1549  img_squats_down_159.jpg  0.743750  0.737500  0.678125  0.646875   \n",
       "1550  img_squats_down_628.jpg  0.503125  0.496875  0.453125  0.425000   \n",
       "1551  img_squats_down_635.jpg  0.418750  0.418750  0.375000  0.343750   \n",
       "1552   img_squats_down_56.jpg  0.706250  0.696875  0.646875  0.634375   \n",
       "\n",
       "       part_x4   part_x5   part_x6   part_x7   part_x8  ...    score8  \\\n",
       "0     0.478125  0.609375  0.656250  0.615625  0.515625  ...  0.327584   \n",
       "1     0.471875  0.562500  0.656250  0.615625  0.515625  ...  0.327584   \n",
       "2     0.471875  0.634375  0.687500  0.643750  0.512500  ...  0.310516   \n",
       "3     0.471875  0.634375  0.687500  0.643750  0.512500  ...  0.310516   \n",
       "4     0.471875  0.634375  0.687500  0.643750  0.512500  ...  0.310516   \n",
       "...        ...       ...       ...       ...       ...  ...       ...   \n",
       "1548  0.409375  0.553125  0.568750  0.575000  0.456250  ...  0.503530   \n",
       "1549  0.628125  0.793750  0.825000  0.850000  0.681250  ...  0.418855   \n",
       "1550  0.409375  0.540625  0.562500  0.578125  0.459375  ...  0.535721   \n",
       "1551  0.321875  0.465625  0.484375  0.490625  0.381250  ...  0.518913   \n",
       "1552  0.634375  0.740625  0.768750  0.800000  0.646875  ...  0.534473   \n",
       "\n",
       "        score9   score10   score11   score12   score13   score14   score15  \\\n",
       "0     0.603786  0.576362  0.346418  0.276199  0.414210  0.706337  0.694720   \n",
       "1     0.603786  0.576362  0.346418  0.276199  0.414210  0.706337  0.694720   \n",
       "2     0.211923  0.576362  0.346418  0.276199  0.414210  0.706337  0.694720   \n",
       "3     0.211923  0.576362  0.346418  0.276199  0.414210  0.706337  0.694720   \n",
       "4     0.211923  0.576362  0.346418  0.276199  0.414210  0.706337  0.694720   \n",
       "...        ...       ...       ...       ...       ...       ...       ...   \n",
       "1548  0.601892  0.572292  0.539650  0.636574  0.613212  0.767207  0.796123   \n",
       "1549  0.618344  0.576016  0.460555  0.606149  0.542553  0.820383  0.784123   \n",
       "1550  0.642688  0.581645  0.535873  0.714324  0.560435  0.741808  0.764398   \n",
       "1551  0.653553  0.604842  0.540784  0.703265  0.626331  0.685849  0.715028   \n",
       "1552  0.589667  0.616988  0.556686  0.665781  0.521098  0.714061  0.721562   \n",
       "\n",
       "       score16        label  \n",
       "0     0.563441          set  \n",
       "1     0.563441          set  \n",
       "2     0.563441          set  \n",
       "3     0.563441          set  \n",
       "4     0.563441          set  \n",
       "...        ...          ...  \n",
       "1548  0.725708  squats_down  \n",
       "1549  0.667989  squats_down  \n",
       "1550  0.785532  squats_down  \n",
       "1551  0.693567  squats_down  \n",
       "1552  0.701811  squats_down  \n",
       "\n",
       "[1553 rows x 53 columns]"
      ],
      "text/html": "<div>\n<style scoped>\n    .dataframe tbody tr th:only-of-type {\n        vertical-align: middle;\n    }\n\n    .dataframe tbody tr th {\n        vertical-align: top;\n    }\n\n    .dataframe thead th {\n        text-align: right;\n    }\n</style>\n<table border=\"1\" class=\"dataframe\">\n  <thead>\n    <tr style=\"text-align: right;\">\n      <th></th>\n      <th>photopath</th>\n      <th>part_x0</th>\n      <th>part_x1</th>\n      <th>part_x2</th>\n      <th>part_x3</th>\n      <th>part_x4</th>\n      <th>part_x5</th>\n      <th>part_x6</th>\n      <th>part_x7</th>\n      <th>part_x8</th>\n      <th>...</th>\n      <th>score8</th>\n      <th>score9</th>\n      <th>score10</th>\n      <th>score11</th>\n      <th>score12</th>\n      <th>score13</th>\n      <th>score14</th>\n      <th>score15</th>\n      <th>score16</th>\n      <th>label</th>\n    </tr>\n  </thead>\n  <tbody>\n    <tr>\n      <th>0</th>\n      <td>img_set_242.jpg</td>\n      <td>0.543750</td>\n      <td>0.553125</td>\n      <td>0.493750</td>\n      <td>0.453125</td>\n      <td>0.478125</td>\n      <td>0.609375</td>\n      <td>0.656250</td>\n      <td>0.615625</td>\n      <td>0.515625</td>\n      <td>...</td>\n      <td>0.327584</td>\n      <td>0.603786</td>\n      <td>0.576362</td>\n      <td>0.346418</td>\n      <td>0.276199</td>\n      <td>0.414210</td>\n      <td>0.706337</td>\n      <td>0.694720</td>\n      <td>0.563441</td>\n      <td>set</td>\n    </tr>\n    <tr>\n      <th>1</th>\n      <td>img_set_223.jpg</td>\n      <td>0.565625</td>\n      <td>0.531250</td>\n      <td>0.500000</td>\n      <td>0.434375</td>\n      <td>0.471875</td>\n      <td>0.562500</td>\n      <td>0.656250</td>\n      <td>0.615625</td>\n      <td>0.515625</td>\n      <td>...</td>\n      <td>0.327584</td>\n      <td>0.603786</td>\n      <td>0.576362</td>\n      <td>0.346418</td>\n      <td>0.276199</td>\n      <td>0.414210</td>\n      <td>0.706337</td>\n      <td>0.694720</td>\n      <td>0.563441</td>\n      <td>set</td>\n    </tr>\n    <tr>\n      <th>2</th>\n      <td>img_set_54.jpg</td>\n      <td>0.571875</td>\n      <td>0.568750</td>\n      <td>0.509375</td>\n      <td>0.462500</td>\n      <td>0.471875</td>\n      <td>0.634375</td>\n      <td>0.687500</td>\n      <td>0.643750</td>\n      <td>0.512500</td>\n      <td>...</td>\n      <td>0.310516</td>\n      <td>0.211923</td>\n      <td>0.576362</td>\n      <td>0.346418</td>\n      <td>0.276199</td>\n      <td>0.414210</td>\n      <td>0.706337</td>\n      <td>0.694720</td>\n      <td>0.563441</td>\n      <td>set</td>\n    </tr>\n    <tr>\n      <th>3</th>\n      <td>img_set_363.jpg</td>\n      <td>0.571875</td>\n      <td>0.568750</td>\n      <td>0.509375</td>\n      <td>0.462500</td>\n      <td>0.471875</td>\n      <td>0.634375</td>\n      <td>0.687500</td>\n      <td>0.643750</td>\n      <td>0.512500</td>\n      <td>...</td>\n      <td>0.310516</td>\n      <td>0.211923</td>\n      <td>0.576362</td>\n      <td>0.346418</td>\n      <td>0.276199</td>\n      <td>0.414210</td>\n      <td>0.706337</td>\n      <td>0.694720</td>\n      <td>0.563441</td>\n      <td>set</td>\n    </tr>\n    <tr>\n      <th>4</th>\n      <td>img_set_519.jpg</td>\n      <td>0.465625</td>\n      <td>0.471875</td>\n      <td>0.409375</td>\n      <td>0.400000</td>\n      <td>0.471875</td>\n      <td>0.634375</td>\n      <td>0.687500</td>\n      <td>0.643750</td>\n      <td>0.512500</td>\n      <td>...</td>\n      <td>0.310516</td>\n      <td>0.211923</td>\n      <td>0.576362</td>\n      <td>0.346418</td>\n      <td>0.276199</td>\n      <td>0.414210</td>\n      <td>0.706337</td>\n      <td>0.694720</td>\n      <td>0.563441</td>\n      <td>set</td>\n    </tr>\n    <tr>\n      <th>...</th>\n      <td>...</td>\n      <td>...</td>\n      <td>...</td>\n      <td>...</td>\n      <td>...</td>\n      <td>...</td>\n      <td>...</td>\n      <td>...</td>\n      <td>...</td>\n      <td>...</td>\n      <td>...</td>\n      <td>...</td>\n      <td>...</td>\n      <td>...</td>\n      <td>...</td>\n      <td>...</td>\n      <td>...</td>\n      <td>...</td>\n      <td>...</td>\n      <td>...</td>\n      <td>...</td>\n    </tr>\n    <tr>\n      <th>1548</th>\n      <td>img_squats_down_541.jpg</td>\n      <td>0.496875</td>\n      <td>0.500000</td>\n      <td>0.450000</td>\n      <td>0.415625</td>\n      <td>0.409375</td>\n      <td>0.553125</td>\n      <td>0.568750</td>\n      <td>0.575000</td>\n      <td>0.456250</td>\n      <td>...</td>\n      <td>0.503530</td>\n      <td>0.601892</td>\n      <td>0.572292</td>\n      <td>0.539650</td>\n      <td>0.636574</td>\n      <td>0.613212</td>\n      <td>0.767207</td>\n      <td>0.796123</td>\n      <td>0.725708</td>\n      <td>squats_down</td>\n    </tr>\n    <tr>\n      <th>1549</th>\n      <td>img_squats_down_159.jpg</td>\n      <td>0.743750</td>\n      <td>0.737500</td>\n      <td>0.678125</td>\n      <td>0.646875</td>\n      <td>0.628125</td>\n      <td>0.793750</td>\n      <td>0.825000</td>\n      <td>0.850000</td>\n      <td>0.681250</td>\n      <td>...</td>\n      <td>0.418855</td>\n      <td>0.618344</td>\n      <td>0.576016</td>\n      <td>0.460555</td>\n      <td>0.606149</td>\n      <td>0.542553</td>\n      <td>0.820383</td>\n      <td>0.784123</td>\n      <td>0.667989</td>\n      <td>squats_down</td>\n    </tr>\n    <tr>\n      <th>1550</th>\n      <td>img_squats_down_628.jpg</td>\n      <td>0.503125</td>\n      <td>0.496875</td>\n      <td>0.453125</td>\n      <td>0.425000</td>\n      <td>0.409375</td>\n      <td>0.540625</td>\n      <td>0.562500</td>\n      <td>0.578125</td>\n      <td>0.459375</td>\n      <td>...</td>\n      <td>0.535721</td>\n      <td>0.642688</td>\n      <td>0.581645</td>\n      <td>0.535873</td>\n      <td>0.714324</td>\n      <td>0.560435</td>\n      <td>0.741808</td>\n      <td>0.764398</td>\n      <td>0.785532</td>\n      <td>squats_down</td>\n    </tr>\n    <tr>\n      <th>1551</th>\n      <td>img_squats_down_635.jpg</td>\n      <td>0.418750</td>\n      <td>0.418750</td>\n      <td>0.375000</td>\n      <td>0.343750</td>\n      <td>0.321875</td>\n      <td>0.465625</td>\n      <td>0.484375</td>\n      <td>0.490625</td>\n      <td>0.381250</td>\n      <td>...</td>\n      <td>0.518913</td>\n      <td>0.653553</td>\n      <td>0.604842</td>\n      <td>0.540784</td>\n      <td>0.703265</td>\n      <td>0.626331</td>\n      <td>0.685849</td>\n      <td>0.715028</td>\n      <td>0.693567</td>\n      <td>squats_down</td>\n    </tr>\n    <tr>\n      <th>1552</th>\n      <td>img_squats_down_56.jpg</td>\n      <td>0.706250</td>\n      <td>0.696875</td>\n      <td>0.646875</td>\n      <td>0.634375</td>\n      <td>0.634375</td>\n      <td>0.740625</td>\n      <td>0.768750</td>\n      <td>0.800000</td>\n      <td>0.646875</td>\n      <td>...</td>\n      <td>0.534473</td>\n      <td>0.589667</td>\n      <td>0.616988</td>\n      <td>0.556686</td>\n      <td>0.665781</td>\n      <td>0.521098</td>\n      <td>0.714061</td>\n      <td>0.721562</td>\n      <td>0.701811</td>\n      <td>squats_down</td>\n    </tr>\n  </tbody>\n</table>\n<p>1553 rows × 53 columns</p>\n</div>"
     },
     "metadata": {},
     "execution_count": 74
    }
   ],
   "source": [
    "df = pd.read_csv('datatrainall.csv')\n",
    "df"
   ]
  },
  {
   "cell_type": "code",
   "execution_count": 75,
   "metadata": {},
   "outputs": [
    {
     "output_type": "stream",
     "name": "stdout",
     "text": [
      "<class 'pandas.core.frame.DataFrame'>\nRangeIndex: 1553 entries, 0 to 1552\nData columns (total 53 columns):\n #   Column     Non-Null Count  Dtype  \n---  ------     --------------  -----  \n 0   photopath  1553 non-null   object \n 1   part_x0    1553 non-null   float64\n 2   part_x1    1553 non-null   float64\n 3   part_x2    1553 non-null   float64\n 4   part_x3    1553 non-null   float64\n 5   part_x4    1553 non-null   float64\n 6   part_x5    1553 non-null   float64\n 7   part_x6    1553 non-null   float64\n 8   part_x7    1553 non-null   float64\n 9   part_x8    1553 non-null   float64\n 10  part_x9    1553 non-null   float64\n 11  part_x10   1553 non-null   float64\n 12  part_x11   1553 non-null   float64\n 13  part_x12   1553 non-null   float64\n 14  part_x13   1553 non-null   float64\n 15  part_x14   1553 non-null   float64\n 16  part_x15   1553 non-null   float64\n 17  part_x16   1553 non-null   float64\n 18  part_y0    1553 non-null   float64\n 19  part_y1    1553 non-null   float64\n 20  part_y2    1553 non-null   float64\n 21  part_y3    1553 non-null   float64\n 22  part_y4    1553 non-null   float64\n 23  part_y5    1553 non-null   float64\n 24  part_y6    1553 non-null   float64\n 25  part_y7    1553 non-null   float64\n 26  part_y8    1553 non-null   float64\n 27  part_y9    1553 non-null   float64\n 28  part_y10   1553 non-null   float64\n 29  part_y11   1553 non-null   float64\n 30  part_y12   1553 non-null   float64\n 31  part_y13   1553 non-null   float64\n 32  part_y14   1553 non-null   float64\n 33  part_y15   1553 non-null   float64\n 34  part_y16   1553 non-null   float64\n 35  score0     1553 non-null   float64\n 36  score1     1553 non-null   float64\n 37  score2     1553 non-null   float64\n 38  score3     1553 non-null   float64\n 39  score4     1553 non-null   float64\n 40  score5     1553 non-null   float64\n 41  score6     1553 non-null   float64\n 42  score7     1553 non-null   float64\n 43  score8     1553 non-null   float64\n 44  score9     1553 non-null   float64\n 45  score10    1553 non-null   float64\n 46  score11    1553 non-null   float64\n 47  score12    1553 non-null   float64\n 48  score13    1553 non-null   float64\n 49  score14    1553 non-null   float64\n 50  score15    1553 non-null   float64\n 51  score16    1553 non-null   float64\n 52  label      1553 non-null   object \ndtypes: float64(51), object(2)\nmemory usage: 643.2+ KB\n"
     ]
    }
   ],
   "source": [
    "df.info()"
   ]
  },
  {
   "cell_type": "code",
   "execution_count": 76,
   "metadata": {},
   "outputs": [
    {
     "output_type": "execute_result",
     "data": {
      "text/plain": [
       "       part_x0   part_x1   part_x2   part_x3   part_x4   part_x5   part_x6  \\\n",
       "0     0.543750  0.553125  0.493750  0.453125  0.478125  0.609375  0.656250   \n",
       "1     0.565625  0.531250  0.500000  0.434375  0.471875  0.562500  0.656250   \n",
       "2     0.571875  0.568750  0.509375  0.462500  0.471875  0.634375  0.687500   \n",
       "3     0.571875  0.568750  0.509375  0.462500  0.471875  0.634375  0.687500   \n",
       "4     0.465625  0.471875  0.409375  0.400000  0.471875  0.634375  0.687500   \n",
       "...        ...       ...       ...       ...       ...       ...       ...   \n",
       "1548  0.496875  0.500000  0.450000  0.415625  0.409375  0.553125  0.568750   \n",
       "1549  0.743750  0.737500  0.678125  0.646875  0.628125  0.793750  0.825000   \n",
       "1550  0.503125  0.496875  0.453125  0.425000  0.409375  0.540625  0.562500   \n",
       "1551  0.418750  0.418750  0.375000  0.343750  0.321875  0.465625  0.484375   \n",
       "1552  0.706250  0.696875  0.646875  0.634375  0.634375  0.740625  0.768750   \n",
       "\n",
       "       part_x7   part_x8   part_x9  ...    score7    score8    score9  \\\n",
       "0     0.615625  0.515625  0.500000  ...  0.686369  0.327584  0.603786   \n",
       "1     0.615625  0.515625  0.500000  ...  0.686369  0.327584  0.603786   \n",
       "2     0.643750  0.512500  0.484375  ...  0.646998  0.310516  0.211923   \n",
       "3     0.643750  0.512500  0.484375  ...  0.646998  0.310516  0.211923   \n",
       "4     0.643750  0.512500  0.484375  ...  0.646998  0.310516  0.211923   \n",
       "...        ...       ...       ...  ...       ...       ...       ...   \n",
       "1548  0.575000  0.456250  0.418750  ...  0.674988  0.503530  0.601892   \n",
       "1549  0.850000  0.681250  0.650000  ...  0.631266  0.418855  0.618344   \n",
       "1550  0.578125  0.459375  0.421875  ...  0.627445  0.535721  0.642688   \n",
       "1551  0.490625  0.381250  0.359375  ...  0.695443  0.518913  0.653553   \n",
       "1552  0.800000  0.646875  0.621875  ...  0.678951  0.534473  0.589667   \n",
       "\n",
       "       score10   score11   score12   score13   score14   score15   score16  \n",
       "0     0.576362  0.346418  0.276199  0.414210  0.706337  0.694720  0.563441  \n",
       "1     0.576362  0.346418  0.276199  0.414210  0.706337  0.694720  0.563441  \n",
       "2     0.576362  0.346418  0.276199  0.414210  0.706337  0.694720  0.563441  \n",
       "3     0.576362  0.346418  0.276199  0.414210  0.706337  0.694720  0.563441  \n",
       "4     0.576362  0.346418  0.276199  0.414210  0.706337  0.694720  0.563441  \n",
       "...        ...       ...       ...       ...       ...       ...       ...  \n",
       "1548  0.572292  0.539650  0.636574  0.613212  0.767207  0.796123  0.725708  \n",
       "1549  0.576016  0.460555  0.606149  0.542553  0.820383  0.784123  0.667989  \n",
       "1550  0.581645  0.535873  0.714324  0.560435  0.741808  0.764398  0.785532  \n",
       "1551  0.604842  0.540784  0.703265  0.626331  0.685849  0.715028  0.693567  \n",
       "1552  0.616988  0.556686  0.665781  0.521098  0.714061  0.721562  0.701811  \n",
       "\n",
       "[1553 rows x 51 columns]"
      ],
      "text/html": "<div>\n<style scoped>\n    .dataframe tbody tr th:only-of-type {\n        vertical-align: middle;\n    }\n\n    .dataframe tbody tr th {\n        vertical-align: top;\n    }\n\n    .dataframe thead th {\n        text-align: right;\n    }\n</style>\n<table border=\"1\" class=\"dataframe\">\n  <thead>\n    <tr style=\"text-align: right;\">\n      <th></th>\n      <th>part_x0</th>\n      <th>part_x1</th>\n      <th>part_x2</th>\n      <th>part_x3</th>\n      <th>part_x4</th>\n      <th>part_x5</th>\n      <th>part_x6</th>\n      <th>part_x7</th>\n      <th>part_x8</th>\n      <th>part_x9</th>\n      <th>...</th>\n      <th>score7</th>\n      <th>score8</th>\n      <th>score9</th>\n      <th>score10</th>\n      <th>score11</th>\n      <th>score12</th>\n      <th>score13</th>\n      <th>score14</th>\n      <th>score15</th>\n      <th>score16</th>\n    </tr>\n  </thead>\n  <tbody>\n    <tr>\n      <th>0</th>\n      <td>0.543750</td>\n      <td>0.553125</td>\n      <td>0.493750</td>\n      <td>0.453125</td>\n      <td>0.478125</td>\n      <td>0.609375</td>\n      <td>0.656250</td>\n      <td>0.615625</td>\n      <td>0.515625</td>\n      <td>0.500000</td>\n      <td>...</td>\n      <td>0.686369</td>\n      <td>0.327584</td>\n      <td>0.603786</td>\n      <td>0.576362</td>\n      <td>0.346418</td>\n      <td>0.276199</td>\n      <td>0.414210</td>\n      <td>0.706337</td>\n      <td>0.694720</td>\n      <td>0.563441</td>\n    </tr>\n    <tr>\n      <th>1</th>\n      <td>0.565625</td>\n      <td>0.531250</td>\n      <td>0.500000</td>\n      <td>0.434375</td>\n      <td>0.471875</td>\n      <td>0.562500</td>\n      <td>0.656250</td>\n      <td>0.615625</td>\n      <td>0.515625</td>\n      <td>0.500000</td>\n      <td>...</td>\n      <td>0.686369</td>\n      <td>0.327584</td>\n      <td>0.603786</td>\n      <td>0.576362</td>\n      <td>0.346418</td>\n      <td>0.276199</td>\n      <td>0.414210</td>\n      <td>0.706337</td>\n      <td>0.694720</td>\n      <td>0.563441</td>\n    </tr>\n    <tr>\n      <th>2</th>\n      <td>0.571875</td>\n      <td>0.568750</td>\n      <td>0.509375</td>\n      <td>0.462500</td>\n      <td>0.471875</td>\n      <td>0.634375</td>\n      <td>0.687500</td>\n      <td>0.643750</td>\n      <td>0.512500</td>\n      <td>0.484375</td>\n      <td>...</td>\n      <td>0.646998</td>\n      <td>0.310516</td>\n      <td>0.211923</td>\n      <td>0.576362</td>\n      <td>0.346418</td>\n      <td>0.276199</td>\n      <td>0.414210</td>\n      <td>0.706337</td>\n      <td>0.694720</td>\n      <td>0.563441</td>\n    </tr>\n    <tr>\n      <th>3</th>\n      <td>0.571875</td>\n      <td>0.568750</td>\n      <td>0.509375</td>\n      <td>0.462500</td>\n      <td>0.471875</td>\n      <td>0.634375</td>\n      <td>0.687500</td>\n      <td>0.643750</td>\n      <td>0.512500</td>\n      <td>0.484375</td>\n      <td>...</td>\n      <td>0.646998</td>\n      <td>0.310516</td>\n      <td>0.211923</td>\n      <td>0.576362</td>\n      <td>0.346418</td>\n      <td>0.276199</td>\n      <td>0.414210</td>\n      <td>0.706337</td>\n      <td>0.694720</td>\n      <td>0.563441</td>\n    </tr>\n    <tr>\n      <th>4</th>\n      <td>0.465625</td>\n      <td>0.471875</td>\n      <td>0.409375</td>\n      <td>0.400000</td>\n      <td>0.471875</td>\n      <td>0.634375</td>\n      <td>0.687500</td>\n      <td>0.643750</td>\n      <td>0.512500</td>\n      <td>0.484375</td>\n      <td>...</td>\n      <td>0.646998</td>\n      <td>0.310516</td>\n      <td>0.211923</td>\n      <td>0.576362</td>\n      <td>0.346418</td>\n      <td>0.276199</td>\n      <td>0.414210</td>\n      <td>0.706337</td>\n      <td>0.694720</td>\n      <td>0.563441</td>\n    </tr>\n    <tr>\n      <th>...</th>\n      <td>...</td>\n      <td>...</td>\n      <td>...</td>\n      <td>...</td>\n      <td>...</td>\n      <td>...</td>\n      <td>...</td>\n      <td>...</td>\n      <td>...</td>\n      <td>...</td>\n      <td>...</td>\n      <td>...</td>\n      <td>...</td>\n      <td>...</td>\n      <td>...</td>\n      <td>...</td>\n      <td>...</td>\n      <td>...</td>\n      <td>...</td>\n      <td>...</td>\n      <td>...</td>\n    </tr>\n    <tr>\n      <th>1548</th>\n      <td>0.496875</td>\n      <td>0.500000</td>\n      <td>0.450000</td>\n      <td>0.415625</td>\n      <td>0.409375</td>\n      <td>0.553125</td>\n      <td>0.568750</td>\n      <td>0.575000</td>\n      <td>0.456250</td>\n      <td>0.418750</td>\n      <td>...</td>\n      <td>0.674988</td>\n      <td>0.503530</td>\n      <td>0.601892</td>\n      <td>0.572292</td>\n      <td>0.539650</td>\n      <td>0.636574</td>\n      <td>0.613212</td>\n      <td>0.767207</td>\n      <td>0.796123</td>\n      <td>0.725708</td>\n    </tr>\n    <tr>\n      <th>1549</th>\n      <td>0.743750</td>\n      <td>0.737500</td>\n      <td>0.678125</td>\n      <td>0.646875</td>\n      <td>0.628125</td>\n      <td>0.793750</td>\n      <td>0.825000</td>\n      <td>0.850000</td>\n      <td>0.681250</td>\n      <td>0.650000</td>\n      <td>...</td>\n      <td>0.631266</td>\n      <td>0.418855</td>\n      <td>0.618344</td>\n      <td>0.576016</td>\n      <td>0.460555</td>\n      <td>0.606149</td>\n      <td>0.542553</td>\n      <td>0.820383</td>\n      <td>0.784123</td>\n      <td>0.667989</td>\n    </tr>\n    <tr>\n      <th>1550</th>\n      <td>0.503125</td>\n      <td>0.496875</td>\n      <td>0.453125</td>\n      <td>0.425000</td>\n      <td>0.409375</td>\n      <td>0.540625</td>\n      <td>0.562500</td>\n      <td>0.578125</td>\n      <td>0.459375</td>\n      <td>0.421875</td>\n      <td>...</td>\n      <td>0.627445</td>\n      <td>0.535721</td>\n      <td>0.642688</td>\n      <td>0.581645</td>\n      <td>0.535873</td>\n      <td>0.714324</td>\n      <td>0.560435</td>\n      <td>0.741808</td>\n      <td>0.764398</td>\n      <td>0.785532</td>\n    </tr>\n    <tr>\n      <th>1551</th>\n      <td>0.418750</td>\n      <td>0.418750</td>\n      <td>0.375000</td>\n      <td>0.343750</td>\n      <td>0.321875</td>\n      <td>0.465625</td>\n      <td>0.484375</td>\n      <td>0.490625</td>\n      <td>0.381250</td>\n      <td>0.359375</td>\n      <td>...</td>\n      <td>0.695443</td>\n      <td>0.518913</td>\n      <td>0.653553</td>\n      <td>0.604842</td>\n      <td>0.540784</td>\n      <td>0.703265</td>\n      <td>0.626331</td>\n      <td>0.685849</td>\n      <td>0.715028</td>\n      <td>0.693567</td>\n    </tr>\n    <tr>\n      <th>1552</th>\n      <td>0.706250</td>\n      <td>0.696875</td>\n      <td>0.646875</td>\n      <td>0.634375</td>\n      <td>0.634375</td>\n      <td>0.740625</td>\n      <td>0.768750</td>\n      <td>0.800000</td>\n      <td>0.646875</td>\n      <td>0.621875</td>\n      <td>...</td>\n      <td>0.678951</td>\n      <td>0.534473</td>\n      <td>0.589667</td>\n      <td>0.616988</td>\n      <td>0.556686</td>\n      <td>0.665781</td>\n      <td>0.521098</td>\n      <td>0.714061</td>\n      <td>0.721562</td>\n      <td>0.701811</td>\n    </tr>\n  </tbody>\n</table>\n<p>1553 rows × 51 columns</p>\n</div>"
     },
     "metadata": {},
     "execution_count": 76
    }
   ],
   "source": [
    "df_drop = df.drop(columns = ['photopath','label'])\n",
    "df_drop"
   ]
  },
  {
   "cell_type": "code",
   "execution_count": 77,
   "metadata": {},
   "outputs": [],
   "source": [
    "X = df_drop\n",
    "y = df['label']"
   ]
  },
  {
   "cell_type": "code",
   "execution_count": 78,
   "metadata": {},
   "outputs": [],
   "source": [
    "X_train, X_test, y_train, y_test = train_test_split(X,y,test_size=0.2, random_state=300)"
   ]
  },
  {
   "cell_type": "code",
   "execution_count": 79,
   "metadata": {},
   "outputs": [
    {
     "output_type": "execute_result",
     "data": {
      "text/plain": [
       "       part_x0   part_x1   part_x2   part_x3   part_x4   part_x5   part_x6  \\\n",
       "76    0.450000  0.481250  0.418750  0.396875  0.396875  0.537500  0.600000   \n",
       "327   0.515625  0.512500  0.459375  0.403125  0.431250  0.568750  0.603125   \n",
       "695   0.550000  0.540625  0.475000  0.425000  0.415625  0.587500  0.571875   \n",
       "453   0.409375  0.428125  0.375000  0.381250  0.412500  0.496875  0.562500   \n",
       "887   0.409375  0.396875  0.328125  0.256250  0.178125  0.462500  0.493750   \n",
       "...        ...       ...       ...       ...       ...       ...       ...   \n",
       "1502  0.484375  0.481250  0.437500  0.412500  0.393750  0.521875  0.540625   \n",
       "1256  0.509375  0.506250  0.456250  0.421875  0.415625  0.553125  0.571875   \n",
       "12    0.471875  0.481250  0.418750  0.403125  0.468750  0.590625  0.593750   \n",
       "963   0.537500  0.496875  0.459375  0.406250  0.337500  0.531250  0.521875   \n",
       "1470  0.656250  0.643750  0.593750  0.578125  0.587500  0.690625  0.725000   \n",
       "\n",
       "       part_x7   part_x8   part_x9  ...    score7    score8    score9  \\\n",
       "76    0.556250  0.500000  0.512500  ...  0.694336  0.447108  0.304478   \n",
       "327   0.578125  0.478125  0.484375  ...  0.665062  0.559528  0.609311   \n",
       "695   0.534375  0.440625  0.443750  ...  0.629578  0.471374  0.530500   \n",
       "453   0.525000  0.437500  0.443750  ...  0.720084  0.475122  0.529613   \n",
       "887   0.521875  0.331250  0.293750  ...  0.576683  0.357411  0.500749   \n",
       "...        ...       ...       ...  ...       ...       ...       ...   \n",
       "1502  0.556250  0.446875  0.418750  ...  0.627201  0.604838  0.703113   \n",
       "1256  0.584375  0.459375  0.415625  ...  0.648755  0.495389  0.623691   \n",
       "12    0.584375  0.512500  0.506250  ...  0.389886  0.478530  0.584810   \n",
       "963   0.518750  0.418750  0.393750  ...  0.652663  0.525208  0.596100   \n",
       "1470  0.762500  0.587500  0.568750  ...  0.738903  0.602788  0.683543   \n",
       "\n",
       "       score10   score11   score12   score13   score14   score15   score16  \n",
       "76    0.274554  0.476468  0.446596  0.274713  0.354338  0.814076  0.836049  \n",
       "327   0.496527  0.504289  0.586259  0.503604  0.742226  0.803665  0.694557  \n",
       "695   0.455234  0.498543  0.578277  0.318453  0.719279  0.708991  0.539682  \n",
       "453   0.362718  0.440970  0.562368  0.355963  0.675518  0.783998  0.203619  \n",
       "887   0.397927  0.372522  0.500803  0.472604  0.782760  0.752989  0.583179  \n",
       "...        ...       ...       ...       ...       ...       ...       ...  \n",
       "1502  0.650750  0.575994  0.701509  0.571431  0.818497  0.794795  0.716114  \n",
       "1256  0.518827  0.522222  0.677576  0.642940  0.831642  0.728855  0.826641  \n",
       "12    0.594003  0.485286  0.523110  0.545922  0.760044  0.663380  0.705194  \n",
       "963   0.567989  0.436542  0.200779  0.324156  0.723551  0.777647  0.589805  \n",
       "1470  0.666213  0.568992  0.695350  0.592806  0.799795  0.748818  0.819944  \n",
       "\n",
       "[311 rows x 51 columns]"
      ],
      "text/html": "<div>\n<style scoped>\n    .dataframe tbody tr th:only-of-type {\n        vertical-align: middle;\n    }\n\n    .dataframe tbody tr th {\n        vertical-align: top;\n    }\n\n    .dataframe thead th {\n        text-align: right;\n    }\n</style>\n<table border=\"1\" class=\"dataframe\">\n  <thead>\n    <tr style=\"text-align: right;\">\n      <th></th>\n      <th>part_x0</th>\n      <th>part_x1</th>\n      <th>part_x2</th>\n      <th>part_x3</th>\n      <th>part_x4</th>\n      <th>part_x5</th>\n      <th>part_x6</th>\n      <th>part_x7</th>\n      <th>part_x8</th>\n      <th>part_x9</th>\n      <th>...</th>\n      <th>score7</th>\n      <th>score8</th>\n      <th>score9</th>\n      <th>score10</th>\n      <th>score11</th>\n      <th>score12</th>\n      <th>score13</th>\n      <th>score14</th>\n      <th>score15</th>\n      <th>score16</th>\n    </tr>\n  </thead>\n  <tbody>\n    <tr>\n      <th>76</th>\n      <td>0.450000</td>\n      <td>0.481250</td>\n      <td>0.418750</td>\n      <td>0.396875</td>\n      <td>0.396875</td>\n      <td>0.537500</td>\n      <td>0.600000</td>\n      <td>0.556250</td>\n      <td>0.500000</td>\n      <td>0.512500</td>\n      <td>...</td>\n      <td>0.694336</td>\n      <td>0.447108</td>\n      <td>0.304478</td>\n      <td>0.274554</td>\n      <td>0.476468</td>\n      <td>0.446596</td>\n      <td>0.274713</td>\n      <td>0.354338</td>\n      <td>0.814076</td>\n      <td>0.836049</td>\n    </tr>\n    <tr>\n      <th>327</th>\n      <td>0.515625</td>\n      <td>0.512500</td>\n      <td>0.459375</td>\n      <td>0.403125</td>\n      <td>0.431250</td>\n      <td>0.568750</td>\n      <td>0.603125</td>\n      <td>0.578125</td>\n      <td>0.478125</td>\n      <td>0.484375</td>\n      <td>...</td>\n      <td>0.665062</td>\n      <td>0.559528</td>\n      <td>0.609311</td>\n      <td>0.496527</td>\n      <td>0.504289</td>\n      <td>0.586259</td>\n      <td>0.503604</td>\n      <td>0.742226</td>\n      <td>0.803665</td>\n      <td>0.694557</td>\n    </tr>\n    <tr>\n      <th>695</th>\n      <td>0.550000</td>\n      <td>0.540625</td>\n      <td>0.475000</td>\n      <td>0.425000</td>\n      <td>0.415625</td>\n      <td>0.587500</td>\n      <td>0.571875</td>\n      <td>0.534375</td>\n      <td>0.440625</td>\n      <td>0.443750</td>\n      <td>...</td>\n      <td>0.629578</td>\n      <td>0.471374</td>\n      <td>0.530500</td>\n      <td>0.455234</td>\n      <td>0.498543</td>\n      <td>0.578277</td>\n      <td>0.318453</td>\n      <td>0.719279</td>\n      <td>0.708991</td>\n      <td>0.539682</td>\n    </tr>\n    <tr>\n      <th>453</th>\n      <td>0.409375</td>\n      <td>0.428125</td>\n      <td>0.375000</td>\n      <td>0.381250</td>\n      <td>0.412500</td>\n      <td>0.496875</td>\n      <td>0.562500</td>\n      <td>0.525000</td>\n      <td>0.437500</td>\n      <td>0.443750</td>\n      <td>...</td>\n      <td>0.720084</td>\n      <td>0.475122</td>\n      <td>0.529613</td>\n      <td>0.362718</td>\n      <td>0.440970</td>\n      <td>0.562368</td>\n      <td>0.355963</td>\n      <td>0.675518</td>\n      <td>0.783998</td>\n      <td>0.203619</td>\n    </tr>\n    <tr>\n      <th>887</th>\n      <td>0.409375</td>\n      <td>0.396875</td>\n      <td>0.328125</td>\n      <td>0.256250</td>\n      <td>0.178125</td>\n      <td>0.462500</td>\n      <td>0.493750</td>\n      <td>0.521875</td>\n      <td>0.331250</td>\n      <td>0.293750</td>\n      <td>...</td>\n      <td>0.576683</td>\n      <td>0.357411</td>\n      <td>0.500749</td>\n      <td>0.397927</td>\n      <td>0.372522</td>\n      <td>0.500803</td>\n      <td>0.472604</td>\n      <td>0.782760</td>\n      <td>0.752989</td>\n      <td>0.583179</td>\n    </tr>\n    <tr>\n      <th>...</th>\n      <td>...</td>\n      <td>...</td>\n      <td>...</td>\n      <td>...</td>\n      <td>...</td>\n      <td>...</td>\n      <td>...</td>\n      <td>...</td>\n      <td>...</td>\n      <td>...</td>\n      <td>...</td>\n      <td>...</td>\n      <td>...</td>\n      <td>...</td>\n      <td>...</td>\n      <td>...</td>\n      <td>...</td>\n      <td>...</td>\n      <td>...</td>\n      <td>...</td>\n      <td>...</td>\n    </tr>\n    <tr>\n      <th>1502</th>\n      <td>0.484375</td>\n      <td>0.481250</td>\n      <td>0.437500</td>\n      <td>0.412500</td>\n      <td>0.393750</td>\n      <td>0.521875</td>\n      <td>0.540625</td>\n      <td>0.556250</td>\n      <td>0.446875</td>\n      <td>0.418750</td>\n      <td>...</td>\n      <td>0.627201</td>\n      <td>0.604838</td>\n      <td>0.703113</td>\n      <td>0.650750</td>\n      <td>0.575994</td>\n      <td>0.701509</td>\n      <td>0.571431</td>\n      <td>0.818497</td>\n      <td>0.794795</td>\n      <td>0.716114</td>\n    </tr>\n    <tr>\n      <th>1256</th>\n      <td>0.509375</td>\n      <td>0.506250</td>\n      <td>0.456250</td>\n      <td>0.421875</td>\n      <td>0.415625</td>\n      <td>0.553125</td>\n      <td>0.571875</td>\n      <td>0.584375</td>\n      <td>0.459375</td>\n      <td>0.415625</td>\n      <td>...</td>\n      <td>0.648755</td>\n      <td>0.495389</td>\n      <td>0.623691</td>\n      <td>0.518827</td>\n      <td>0.522222</td>\n      <td>0.677576</td>\n      <td>0.642940</td>\n      <td>0.831642</td>\n      <td>0.728855</td>\n      <td>0.826641</td>\n    </tr>\n    <tr>\n      <th>12</th>\n      <td>0.471875</td>\n      <td>0.481250</td>\n      <td>0.418750</td>\n      <td>0.403125</td>\n      <td>0.468750</td>\n      <td>0.590625</td>\n      <td>0.593750</td>\n      <td>0.584375</td>\n      <td>0.512500</td>\n      <td>0.506250</td>\n      <td>...</td>\n      <td>0.389886</td>\n      <td>0.478530</td>\n      <td>0.584810</td>\n      <td>0.594003</td>\n      <td>0.485286</td>\n      <td>0.523110</td>\n      <td>0.545922</td>\n      <td>0.760044</td>\n      <td>0.663380</td>\n      <td>0.705194</td>\n    </tr>\n    <tr>\n      <th>963</th>\n      <td>0.537500</td>\n      <td>0.496875</td>\n      <td>0.459375</td>\n      <td>0.406250</td>\n      <td>0.337500</td>\n      <td>0.531250</td>\n      <td>0.521875</td>\n      <td>0.518750</td>\n      <td>0.418750</td>\n      <td>0.393750</td>\n      <td>...</td>\n      <td>0.652663</td>\n      <td>0.525208</td>\n      <td>0.596100</td>\n      <td>0.567989</td>\n      <td>0.436542</td>\n      <td>0.200779</td>\n      <td>0.324156</td>\n      <td>0.723551</td>\n      <td>0.777647</td>\n      <td>0.589805</td>\n    </tr>\n    <tr>\n      <th>1470</th>\n      <td>0.656250</td>\n      <td>0.643750</td>\n      <td>0.593750</td>\n      <td>0.578125</td>\n      <td>0.587500</td>\n      <td>0.690625</td>\n      <td>0.725000</td>\n      <td>0.762500</td>\n      <td>0.587500</td>\n      <td>0.568750</td>\n      <td>...</td>\n      <td>0.738903</td>\n      <td>0.602788</td>\n      <td>0.683543</td>\n      <td>0.666213</td>\n      <td>0.568992</td>\n      <td>0.695350</td>\n      <td>0.592806</td>\n      <td>0.799795</td>\n      <td>0.748818</td>\n      <td>0.819944</td>\n    </tr>\n  </tbody>\n</table>\n<p>311 rows × 51 columns</p>\n</div>"
     },
     "metadata": {},
     "execution_count": 79
    }
   ],
   "source": [
    "X_test"
   ]
  },
  {
   "cell_type": "code",
   "execution_count": 80,
   "metadata": {},
   "outputs": [],
   "source": [
    "clf = MLPClassifier(hidden_layer_sizes=(64, 64, 3, ), max_iter=1000, solver='adam').fit(X_train, y_train)"
   ]
  },
  {
   "cell_type": "code",
   "execution_count": 81,
   "metadata": {},
   "outputs": [
    {
     "output_type": "stream",
     "name": "stdout",
     "text": [
      "Accuracy : 0.9935691318327974\nF1 Score : 0.9935691318327974\nPrecision : 0.9935691318327974\nRecall : 0.9935691318327974\n"
     ]
    }
   ],
   "source": [
    "predicted = clf.predict(X_test)\n",
    "print('Accuracy :', accuracy_score(y_test, predicted))\n",
    "print('F1 Score :', f1_score(y_test, predicted, average='micro'))\n",
    "print('Precision :', precision_score(y_test, predicted, average='micro'))\n",
    "print('Recall :', recall_score(y_test, predicted, average='micro'))"
   ]
  },
  {
   "cell_type": "code",
   "execution_count": null,
   "metadata": {},
   "outputs": [],
   "source": []
  }
 ],
 "metadata": {
  "kernelspec": {
   "display_name": "Python 3",
   "language": "python",
   "name": "python3"
  },
  "language_info": {
   "codemirror_mode": {
    "name": "ipython",
    "version": 3
   },
   "file_extension": ".py",
   "mimetype": "text/x-python",
   "name": "python",
   "nbconvert_exporter": "python",
   "pygments_lexer": "ipython3",
   "version": "3.8.5-final"
  }
 },
 "nbformat": 4,
 "nbformat_minor": 4
}