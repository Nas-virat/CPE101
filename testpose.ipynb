{
 "cells": [
  {
   "cell_type": "code",
   "execution_count": 100,
   "metadata": {},
   "outputs": [],
   "source": [
    "import pandas as pd\n",
    "import numpy as np\n",
    "import matplotlib.pyplot as plt\n",
    "import seaborn as sns\n",
    "\n",
    "from sklearn.preprocessing import StandardScaler\n",
    "\n",
    "from sklearn.model_selection import train_test_split\n",
    "from sklearn.ensemble import RandomForestClassifier\n",
    "from sklearn.neural_network import MLPClassifier\n",
    "\n",
    "from sklearn.metrics import confusion_matrix, accuracy_score, recall_score, precision_score, f1_score\n",
    "%matplotlib inline"
   ]
  },
  {
   "cell_type": "code",
   "execution_count": 101,
   "metadata": {},
   "outputs": [
    {
     "output_type": "execute_result",
     "data": {
      "text/plain": [
       "                   photopath   part_x0   part_x1   part_x2   part_x3  \\\n",
       "0            img_set_242.jpg  0.543750  0.553125  0.493750  0.453125   \n",
       "1            img_set_223.jpg  0.565625  0.531250  0.500000  0.434375   \n",
       "2             img_set_54.jpg  0.571875  0.568750  0.509375  0.462500   \n",
       "3            img_set_363.jpg  0.571875  0.568750  0.509375  0.462500   \n",
       "4            img_set_519.jpg  0.465625  0.471875  0.409375  0.400000   \n",
       "...                      ...       ...       ...       ...       ...   \n",
       "2026  img_knee_touch_560.jpg  0.409375  0.471875  0.437500  0.446875   \n",
       "2027  img_knee_touch_225.jpg  0.487500  0.471875  0.425000  0.375000   \n",
       "2028  img_knee_touch_101.jpg  0.456250  0.518750  0.490625  0.512500   \n",
       "2029  img_knee_touch_206.jpg  0.559375  0.506250  0.475000  0.418750   \n",
       "2030  img_knee_touch_303.jpg  0.471875  0.456250  0.403125  0.350000   \n",
       "\n",
       "       part_x4   part_x5   part_x6   part_x7   part_x8  ...    score8  \\\n",
       "0     0.478125  0.609375  0.656250  0.615625  0.515625  ...  0.327584   \n",
       "1     0.471875  0.562500  0.656250  0.615625  0.515625  ...  0.327584   \n",
       "2     0.471875  0.634375  0.687500  0.643750  0.512500  ...  0.310516   \n",
       "3     0.471875  0.634375  0.687500  0.643750  0.512500  ...  0.310516   \n",
       "4     0.471875  0.634375  0.687500  0.643750  0.512500  ...  0.310516   \n",
       "...        ...       ...       ...       ...       ...  ...       ...   \n",
       "2026  0.431250  0.515625  0.571875  0.643750  0.525000  ...  0.316136   \n",
       "2027  0.328125  0.521875  0.543750  0.556250  0.425000  ...  0.626462   \n",
       "2028  0.512500  0.540625  0.615625  0.684375  0.587500  ...  0.497083   \n",
       "2029  0.362500  0.540625  0.525000  0.525000  0.421875  ...  0.474093   \n",
       "2030  0.293750  0.506250  0.546875  0.562500  0.403125  ...  0.546051   \n",
       "\n",
       "        score9   score10   score11   score12   score13   score14   score15  \\\n",
       "0     0.603786  0.576362  0.346418  0.276199  0.414210  0.706337  0.694720   \n",
       "1     0.603786  0.576362  0.346418  0.276199  0.414210  0.706337  0.694720   \n",
       "2     0.211923  0.576362  0.346418  0.276199  0.414210  0.706337  0.694720   \n",
       "3     0.211923  0.576362  0.346418  0.276199  0.414210  0.706337  0.694720   \n",
       "4     0.211923  0.576362  0.346418  0.276199  0.414210  0.706337  0.694720   \n",
       "...        ...       ...       ...       ...       ...       ...       ...   \n",
       "2026  0.407985  0.289237  0.329415  0.201788  0.280348  0.555999  0.614246   \n",
       "2027  0.639008  0.597525  0.512019  0.643064  0.548121  0.754001  0.779259   \n",
       "2028  0.632565  0.463304  0.392084  0.404396  0.412502  0.605658  0.721915   \n",
       "2029  0.610592  0.569002  0.454530  0.302330  0.222810  0.731493  0.665677   \n",
       "2030  0.635193  0.606016  0.504767  0.466053  0.479978  0.753044  0.724606   \n",
       "\n",
       "       score16       label  \n",
       "0     0.563441         set  \n",
       "1     0.563441         set  \n",
       "2     0.563441         set  \n",
       "3     0.563441         set  \n",
       "4     0.563441         set  \n",
       "...        ...         ...  \n",
       "2026  0.611446  knee_touch  \n",
       "2027  0.750226  knee_touch  \n",
       "2028  0.304328  knee_touch  \n",
       "2029  0.499896  knee_touch  \n",
       "2030  0.723468  knee_touch  \n",
       "\n",
       "[2031 rows x 53 columns]"
      ],
      "text/html": "<div>\n<style scoped>\n    .dataframe tbody tr th:only-of-type {\n        vertical-align: middle;\n    }\n\n    .dataframe tbody tr th {\n        vertical-align: top;\n    }\n\n    .dataframe thead th {\n        text-align: right;\n    }\n</style>\n<table border=\"1\" class=\"dataframe\">\n  <thead>\n    <tr style=\"text-align: right;\">\n      <th></th>\n      <th>photopath</th>\n      <th>part_x0</th>\n      <th>part_x1</th>\n      <th>part_x2</th>\n      <th>part_x3</th>\n      <th>part_x4</th>\n      <th>part_x5</th>\n      <th>part_x6</th>\n      <th>part_x7</th>\n      <th>part_x8</th>\n      <th>...</th>\n      <th>score8</th>\n      <th>score9</th>\n      <th>score10</th>\n      <th>score11</th>\n      <th>score12</th>\n      <th>score13</th>\n      <th>score14</th>\n      <th>score15</th>\n      <th>score16</th>\n      <th>label</th>\n    </tr>\n  </thead>\n  <tbody>\n    <tr>\n      <th>0</th>\n      <td>img_set_242.jpg</td>\n      <td>0.543750</td>\n      <td>0.553125</td>\n      <td>0.493750</td>\n      <td>0.453125</td>\n      <td>0.478125</td>\n      <td>0.609375</td>\n      <td>0.656250</td>\n      <td>0.615625</td>\n      <td>0.515625</td>\n      <td>...</td>\n      <td>0.327584</td>\n      <td>0.603786</td>\n      <td>0.576362</td>\n      <td>0.346418</td>\n      <td>0.276199</td>\n      <td>0.414210</td>\n      <td>0.706337</td>\n      <td>0.694720</td>\n      <td>0.563441</td>\n      <td>set</td>\n    </tr>\n    <tr>\n      <th>1</th>\n      <td>img_set_223.jpg</td>\n      <td>0.565625</td>\n      <td>0.531250</td>\n      <td>0.500000</td>\n      <td>0.434375</td>\n      <td>0.471875</td>\n      <td>0.562500</td>\n      <td>0.656250</td>\n      <td>0.615625</td>\n      <td>0.515625</td>\n      <td>...</td>\n      <td>0.327584</td>\n      <td>0.603786</td>\n      <td>0.576362</td>\n      <td>0.346418</td>\n      <td>0.276199</td>\n      <td>0.414210</td>\n      <td>0.706337</td>\n      <td>0.694720</td>\n      <td>0.563441</td>\n      <td>set</td>\n    </tr>\n    <tr>\n      <th>2</th>\n      <td>img_set_54.jpg</td>\n      <td>0.571875</td>\n      <td>0.568750</td>\n      <td>0.509375</td>\n      <td>0.462500</td>\n      <td>0.471875</td>\n      <td>0.634375</td>\n      <td>0.687500</td>\n      <td>0.643750</td>\n      <td>0.512500</td>\n      <td>...</td>\n      <td>0.310516</td>\n      <td>0.211923</td>\n      <td>0.576362</td>\n      <td>0.346418</td>\n      <td>0.276199</td>\n      <td>0.414210</td>\n      <td>0.706337</td>\n      <td>0.694720</td>\n      <td>0.563441</td>\n      <td>set</td>\n    </tr>\n    <tr>\n      <th>3</th>\n      <td>img_set_363.jpg</td>\n      <td>0.571875</td>\n      <td>0.568750</td>\n      <td>0.509375</td>\n      <td>0.462500</td>\n      <td>0.471875</td>\n      <td>0.634375</td>\n      <td>0.687500</td>\n      <td>0.643750</td>\n      <td>0.512500</td>\n      <td>...</td>\n      <td>0.310516</td>\n      <td>0.211923</td>\n      <td>0.576362</td>\n      <td>0.346418</td>\n      <td>0.276199</td>\n      <td>0.414210</td>\n      <td>0.706337</td>\n      <td>0.694720</td>\n      <td>0.563441</td>\n      <td>set</td>\n    </tr>\n    <tr>\n      <th>4</th>\n      <td>img_set_519.jpg</td>\n      <td>0.465625</td>\n      <td>0.471875</td>\n      <td>0.409375</td>\n      <td>0.400000</td>\n      <td>0.471875</td>\n      <td>0.634375</td>\n      <td>0.687500</td>\n      <td>0.643750</td>\n      <td>0.512500</td>\n      <td>...</td>\n      <td>0.310516</td>\n      <td>0.211923</td>\n      <td>0.576362</td>\n      <td>0.346418</td>\n      <td>0.276199</td>\n      <td>0.414210</td>\n      <td>0.706337</td>\n      <td>0.694720</td>\n      <td>0.563441</td>\n      <td>set</td>\n    </tr>\n    <tr>\n      <th>...</th>\n      <td>...</td>\n      <td>...</td>\n      <td>...</td>\n      <td>...</td>\n      <td>...</td>\n      <td>...</td>\n      <td>...</td>\n      <td>...</td>\n      <td>...</td>\n      <td>...</td>\n      <td>...</td>\n      <td>...</td>\n      <td>...</td>\n      <td>...</td>\n      <td>...</td>\n      <td>...</td>\n      <td>...</td>\n      <td>...</td>\n      <td>...</td>\n      <td>...</td>\n      <td>...</td>\n    </tr>\n    <tr>\n      <th>2026</th>\n      <td>img_knee_touch_560.jpg</td>\n      <td>0.409375</td>\n      <td>0.471875</td>\n      <td>0.437500</td>\n      <td>0.446875</td>\n      <td>0.431250</td>\n      <td>0.515625</td>\n      <td>0.571875</td>\n      <td>0.643750</td>\n      <td>0.525000</td>\n      <td>...</td>\n      <td>0.316136</td>\n      <td>0.407985</td>\n      <td>0.289237</td>\n      <td>0.329415</td>\n      <td>0.201788</td>\n      <td>0.280348</td>\n      <td>0.555999</td>\n      <td>0.614246</td>\n      <td>0.611446</td>\n      <td>knee_touch</td>\n    </tr>\n    <tr>\n      <th>2027</th>\n      <td>img_knee_touch_225.jpg</td>\n      <td>0.487500</td>\n      <td>0.471875</td>\n      <td>0.425000</td>\n      <td>0.375000</td>\n      <td>0.328125</td>\n      <td>0.521875</td>\n      <td>0.543750</td>\n      <td>0.556250</td>\n      <td>0.425000</td>\n      <td>...</td>\n      <td>0.626462</td>\n      <td>0.639008</td>\n      <td>0.597525</td>\n      <td>0.512019</td>\n      <td>0.643064</td>\n      <td>0.548121</td>\n      <td>0.754001</td>\n      <td>0.779259</td>\n      <td>0.750226</td>\n      <td>knee_touch</td>\n    </tr>\n    <tr>\n      <th>2028</th>\n      <td>img_knee_touch_101.jpg</td>\n      <td>0.456250</td>\n      <td>0.518750</td>\n      <td>0.490625</td>\n      <td>0.512500</td>\n      <td>0.512500</td>\n      <td>0.540625</td>\n      <td>0.615625</td>\n      <td>0.684375</td>\n      <td>0.587500</td>\n      <td>...</td>\n      <td>0.497083</td>\n      <td>0.632565</td>\n      <td>0.463304</td>\n      <td>0.392084</td>\n      <td>0.404396</td>\n      <td>0.412502</td>\n      <td>0.605658</td>\n      <td>0.721915</td>\n      <td>0.304328</td>\n      <td>knee_touch</td>\n    </tr>\n    <tr>\n      <th>2029</th>\n      <td>img_knee_touch_206.jpg</td>\n      <td>0.559375</td>\n      <td>0.506250</td>\n      <td>0.475000</td>\n      <td>0.418750</td>\n      <td>0.362500</td>\n      <td>0.540625</td>\n      <td>0.525000</td>\n      <td>0.525000</td>\n      <td>0.421875</td>\n      <td>...</td>\n      <td>0.474093</td>\n      <td>0.610592</td>\n      <td>0.569002</td>\n      <td>0.454530</td>\n      <td>0.302330</td>\n      <td>0.222810</td>\n      <td>0.731493</td>\n      <td>0.665677</td>\n      <td>0.499896</td>\n      <td>knee_touch</td>\n    </tr>\n    <tr>\n      <th>2030</th>\n      <td>img_knee_touch_303.jpg</td>\n      <td>0.471875</td>\n      <td>0.456250</td>\n      <td>0.403125</td>\n      <td>0.350000</td>\n      <td>0.293750</td>\n      <td>0.506250</td>\n      <td>0.546875</td>\n      <td>0.562500</td>\n      <td>0.403125</td>\n      <td>...</td>\n      <td>0.546051</td>\n      <td>0.635193</td>\n      <td>0.606016</td>\n      <td>0.504767</td>\n      <td>0.466053</td>\n      <td>0.479978</td>\n      <td>0.753044</td>\n      <td>0.724606</td>\n      <td>0.723468</td>\n      <td>knee_touch</td>\n    </tr>\n  </tbody>\n</table>\n<p>2031 rows × 53 columns</p>\n</div>"
     },
     "metadata": {},
     "execution_count": 101
    }
   ],
   "source": [
    "df = pd.read_csv('datatrainall.csv')\n",
    "df"
   ]
  },
  {
   "cell_type": "code",
   "execution_count": 102,
   "metadata": {},
   "outputs": [
    {
     "output_type": "stream",
     "name": "stdout",
     "text": [
      "<class 'pandas.core.frame.DataFrame'>\nRangeIndex: 2031 entries, 0 to 2030\nData columns (total 53 columns):\n #   Column     Non-Null Count  Dtype  \n---  ------     --------------  -----  \n 0   photopath  2031 non-null   object \n 1   part_x0    2031 non-null   float64\n 2   part_x1    2031 non-null   float64\n 3   part_x2    2031 non-null   float64\n 4   part_x3    2031 non-null   float64\n 5   part_x4    2031 non-null   float64\n 6   part_x5    2031 non-null   float64\n 7   part_x6    2031 non-null   float64\n 8   part_x7    2031 non-null   float64\n 9   part_x8    2031 non-null   float64\n 10  part_x9    2031 non-null   float64\n 11  part_x10   2031 non-null   float64\n 12  part_x11   2031 non-null   float64\n 13  part_x12   2031 non-null   float64\n 14  part_x13   2031 non-null   float64\n 15  part_x14   2031 non-null   float64\n 16  part_x15   2031 non-null   float64\n 17  part_x16   2031 non-null   float64\n 18  part_y0    2031 non-null   float64\n 19  part_y1    2031 non-null   float64\n 20  part_y2    2031 non-null   float64\n 21  part_y3    2031 non-null   float64\n 22  part_y4    2031 non-null   float64\n 23  part_y5    2031 non-null   float64\n 24  part_y6    2031 non-null   float64\n 25  part_y7    2031 non-null   float64\n 26  part_y8    2031 non-null   float64\n 27  part_y9    2031 non-null   float64\n 28  part_y10   2031 non-null   float64\n 29  part_y11   2031 non-null   float64\n 30  part_y12   2031 non-null   float64\n 31  part_y13   2031 non-null   float64\n 32  part_y14   2031 non-null   float64\n 33  part_y15   2031 non-null   float64\n 34  part_y16   2031 non-null   float64\n 35  score0     2031 non-null   float64\n 36  score1     2031 non-null   float64\n 37  score2     2031 non-null   float64\n 38  score3     2031 non-null   float64\n 39  score4     2031 non-null   float64\n 40  score5     2031 non-null   float64\n 41  score6     2031 non-null   float64\n 42  score7     2031 non-null   float64\n 43  score8     2031 non-null   float64\n 44  score9     2031 non-null   float64\n 45  score10    2031 non-null   float64\n 46  score11    2031 non-null   float64\n 47  score12    2031 non-null   float64\n 48  score13    2031 non-null   float64\n 49  score14    2031 non-null   float64\n 50  score15    2031 non-null   float64\n 51  score16    2031 non-null   float64\n 52  label      2031 non-null   object \ndtypes: float64(51), object(2)\nmemory usage: 841.1+ KB\n"
     ]
    }
   ],
   "source": [
    "df.info()"
   ]
  },
  {
   "cell_type": "code",
   "execution_count": 103,
   "metadata": {},
   "outputs": [
    {
     "output_type": "execute_result",
     "data": {
      "text/plain": [
       "       part_x0   part_x1   part_x2   part_x3   part_x4   part_x5   part_x6  \\\n",
       "0     0.543750  0.553125  0.493750  0.453125  0.478125  0.609375  0.656250   \n",
       "1     0.565625  0.531250  0.500000  0.434375  0.471875  0.562500  0.656250   \n",
       "2     0.571875  0.568750  0.509375  0.462500  0.471875  0.634375  0.687500   \n",
       "3     0.571875  0.568750  0.509375  0.462500  0.471875  0.634375  0.687500   \n",
       "4     0.465625  0.471875  0.409375  0.400000  0.471875  0.634375  0.687500   \n",
       "...        ...       ...       ...       ...       ...       ...       ...   \n",
       "2026  0.409375  0.471875  0.437500  0.446875  0.431250  0.515625  0.571875   \n",
       "2027  0.487500  0.471875  0.425000  0.375000  0.328125  0.521875  0.543750   \n",
       "2028  0.456250  0.518750  0.490625  0.512500  0.512500  0.540625  0.615625   \n",
       "2029  0.559375  0.506250  0.475000  0.418750  0.362500  0.540625  0.525000   \n",
       "2030  0.471875  0.456250  0.403125  0.350000  0.293750  0.506250  0.546875   \n",
       "\n",
       "       part_x7   part_x8   part_x9  ...    score7    score8    score9  \\\n",
       "0     0.615625  0.515625  0.500000  ...  0.686369  0.327584  0.603786   \n",
       "1     0.615625  0.515625  0.500000  ...  0.686369  0.327584  0.603786   \n",
       "2     0.643750  0.512500  0.484375  ...  0.646998  0.310516  0.211923   \n",
       "3     0.643750  0.512500  0.484375  ...  0.646998  0.310516  0.211923   \n",
       "4     0.643750  0.512500  0.484375  ...  0.646998  0.310516  0.211923   \n",
       "...        ...       ...       ...  ...       ...       ...       ...   \n",
       "2026  0.643750  0.525000  0.496875  ...  0.529527  0.316136  0.407985   \n",
       "2027  0.556250  0.425000  0.403125  ...  0.398196  0.626462  0.639008   \n",
       "2028  0.684375  0.587500  0.546875  ...  0.495116  0.497083  0.632565   \n",
       "2029  0.525000  0.421875  0.393750  ...  0.708017  0.474093  0.610592   \n",
       "2030  0.562500  0.403125  0.359375  ...  0.180290  0.546051  0.635193   \n",
       "\n",
       "       score10   score11   score12   score13   score14   score15   score16  \n",
       "0     0.576362  0.346418  0.276199  0.414210  0.706337  0.694720  0.563441  \n",
       "1     0.576362  0.346418  0.276199  0.414210  0.706337  0.694720  0.563441  \n",
       "2     0.576362  0.346418  0.276199  0.414210  0.706337  0.694720  0.563441  \n",
       "3     0.576362  0.346418  0.276199  0.414210  0.706337  0.694720  0.563441  \n",
       "4     0.576362  0.346418  0.276199  0.414210  0.706337  0.694720  0.563441  \n",
       "...        ...       ...       ...       ...       ...       ...       ...  \n",
       "2026  0.289237  0.329415  0.201788  0.280348  0.555999  0.614246  0.611446  \n",
       "2027  0.597525  0.512019  0.643064  0.548121  0.754001  0.779259  0.750226  \n",
       "2028  0.463304  0.392084  0.404396  0.412502  0.605658  0.721915  0.304328  \n",
       "2029  0.569002  0.454530  0.302330  0.222810  0.731493  0.665677  0.499896  \n",
       "2030  0.606016  0.504767  0.466053  0.479978  0.753044  0.724606  0.723468  \n",
       "\n",
       "[2031 rows x 51 columns]"
      ],
      "text/html": "<div>\n<style scoped>\n    .dataframe tbody tr th:only-of-type {\n        vertical-align: middle;\n    }\n\n    .dataframe tbody tr th {\n        vertical-align: top;\n    }\n\n    .dataframe thead th {\n        text-align: right;\n    }\n</style>\n<table border=\"1\" class=\"dataframe\">\n  <thead>\n    <tr style=\"text-align: right;\">\n      <th></th>\n      <th>part_x0</th>\n      <th>part_x1</th>\n      <th>part_x2</th>\n      <th>part_x3</th>\n      <th>part_x4</th>\n      <th>part_x5</th>\n      <th>part_x6</th>\n      <th>part_x7</th>\n      <th>part_x8</th>\n      <th>part_x9</th>\n      <th>...</th>\n      <th>score7</th>\n      <th>score8</th>\n      <th>score9</th>\n      <th>score10</th>\n      <th>score11</th>\n      <th>score12</th>\n      <th>score13</th>\n      <th>score14</th>\n      <th>score15</th>\n      <th>score16</th>\n    </tr>\n  </thead>\n  <tbody>\n    <tr>\n      <th>0</th>\n      <td>0.543750</td>\n      <td>0.553125</td>\n      <td>0.493750</td>\n      <td>0.453125</td>\n      <td>0.478125</td>\n      <td>0.609375</td>\n      <td>0.656250</td>\n      <td>0.615625</td>\n      <td>0.515625</td>\n      <td>0.500000</td>\n      <td>...</td>\n      <td>0.686369</td>\n      <td>0.327584</td>\n      <td>0.603786</td>\n      <td>0.576362</td>\n      <td>0.346418</td>\n      <td>0.276199</td>\n      <td>0.414210</td>\n      <td>0.706337</td>\n      <td>0.694720</td>\n      <td>0.563441</td>\n    </tr>\n    <tr>\n      <th>1</th>\n      <td>0.565625</td>\n      <td>0.531250</td>\n      <td>0.500000</td>\n      <td>0.434375</td>\n      <td>0.471875</td>\n      <td>0.562500</td>\n      <td>0.656250</td>\n      <td>0.615625</td>\n      <td>0.515625</td>\n      <td>0.500000</td>\n      <td>...</td>\n      <td>0.686369</td>\n      <td>0.327584</td>\n      <td>0.603786</td>\n      <td>0.576362</td>\n      <td>0.346418</td>\n      <td>0.276199</td>\n      <td>0.414210</td>\n      <td>0.706337</td>\n      <td>0.694720</td>\n      <td>0.563441</td>\n    </tr>\n    <tr>\n      <th>2</th>\n      <td>0.571875</td>\n      <td>0.568750</td>\n      <td>0.509375</td>\n      <td>0.462500</td>\n      <td>0.471875</td>\n      <td>0.634375</td>\n      <td>0.687500</td>\n      <td>0.643750</td>\n      <td>0.512500</td>\n      <td>0.484375</td>\n      <td>...</td>\n      <td>0.646998</td>\n      <td>0.310516</td>\n      <td>0.211923</td>\n      <td>0.576362</td>\n      <td>0.346418</td>\n      <td>0.276199</td>\n      <td>0.414210</td>\n      <td>0.706337</td>\n      <td>0.694720</td>\n      <td>0.563441</td>\n    </tr>\n    <tr>\n      <th>3</th>\n      <td>0.571875</td>\n      <td>0.568750</td>\n      <td>0.509375</td>\n      <td>0.462500</td>\n      <td>0.471875</td>\n      <td>0.634375</td>\n      <td>0.687500</td>\n      <td>0.643750</td>\n      <td>0.512500</td>\n      <td>0.484375</td>\n      <td>...</td>\n      <td>0.646998</td>\n      <td>0.310516</td>\n      <td>0.211923</td>\n      <td>0.576362</td>\n      <td>0.346418</td>\n      <td>0.276199</td>\n      <td>0.414210</td>\n      <td>0.706337</td>\n      <td>0.694720</td>\n      <td>0.563441</td>\n    </tr>\n    <tr>\n      <th>4</th>\n      <td>0.465625</td>\n      <td>0.471875</td>\n      <td>0.409375</td>\n      <td>0.400000</td>\n      <td>0.471875</td>\n      <td>0.634375</td>\n      <td>0.687500</td>\n      <td>0.643750</td>\n      <td>0.512500</td>\n      <td>0.484375</td>\n      <td>...</td>\n      <td>0.646998</td>\n      <td>0.310516</td>\n      <td>0.211923</td>\n      <td>0.576362</td>\n      <td>0.346418</td>\n      <td>0.276199</td>\n      <td>0.414210</td>\n      <td>0.706337</td>\n      <td>0.694720</td>\n      <td>0.563441</td>\n    </tr>\n    <tr>\n      <th>...</th>\n      <td>...</td>\n      <td>...</td>\n      <td>...</td>\n      <td>...</td>\n      <td>...</td>\n      <td>...</td>\n      <td>...</td>\n      <td>...</td>\n      <td>...</td>\n      <td>...</td>\n      <td>...</td>\n      <td>...</td>\n      <td>...</td>\n      <td>...</td>\n      <td>...</td>\n      <td>...</td>\n      <td>...</td>\n      <td>...</td>\n      <td>...</td>\n      <td>...</td>\n      <td>...</td>\n    </tr>\n    <tr>\n      <th>2026</th>\n      <td>0.409375</td>\n      <td>0.471875</td>\n      <td>0.437500</td>\n      <td>0.446875</td>\n      <td>0.431250</td>\n      <td>0.515625</td>\n      <td>0.571875</td>\n      <td>0.643750</td>\n      <td>0.525000</td>\n      <td>0.496875</td>\n      <td>...</td>\n      <td>0.529527</td>\n      <td>0.316136</td>\n      <td>0.407985</td>\n      <td>0.289237</td>\n      <td>0.329415</td>\n      <td>0.201788</td>\n      <td>0.280348</td>\n      <td>0.555999</td>\n      <td>0.614246</td>\n      <td>0.611446</td>\n    </tr>\n    <tr>\n      <th>2027</th>\n      <td>0.487500</td>\n      <td>0.471875</td>\n      <td>0.425000</td>\n      <td>0.375000</td>\n      <td>0.328125</td>\n      <td>0.521875</td>\n      <td>0.543750</td>\n      <td>0.556250</td>\n      <td>0.425000</td>\n      <td>0.403125</td>\n      <td>...</td>\n      <td>0.398196</td>\n      <td>0.626462</td>\n      <td>0.639008</td>\n      <td>0.597525</td>\n      <td>0.512019</td>\n      <td>0.643064</td>\n      <td>0.548121</td>\n      <td>0.754001</td>\n      <td>0.779259</td>\n      <td>0.750226</td>\n    </tr>\n    <tr>\n      <th>2028</th>\n      <td>0.456250</td>\n      <td>0.518750</td>\n      <td>0.490625</td>\n      <td>0.512500</td>\n      <td>0.512500</td>\n      <td>0.540625</td>\n      <td>0.615625</td>\n      <td>0.684375</td>\n      <td>0.587500</td>\n      <td>0.546875</td>\n      <td>...</td>\n      <td>0.495116</td>\n      <td>0.497083</td>\n      <td>0.632565</td>\n      <td>0.463304</td>\n      <td>0.392084</td>\n      <td>0.404396</td>\n      <td>0.412502</td>\n      <td>0.605658</td>\n      <td>0.721915</td>\n      <td>0.304328</td>\n    </tr>\n    <tr>\n      <th>2029</th>\n      <td>0.559375</td>\n      <td>0.506250</td>\n      <td>0.475000</td>\n      <td>0.418750</td>\n      <td>0.362500</td>\n      <td>0.540625</td>\n      <td>0.525000</td>\n      <td>0.525000</td>\n      <td>0.421875</td>\n      <td>0.393750</td>\n      <td>...</td>\n      <td>0.708017</td>\n      <td>0.474093</td>\n      <td>0.610592</td>\n      <td>0.569002</td>\n      <td>0.454530</td>\n      <td>0.302330</td>\n      <td>0.222810</td>\n      <td>0.731493</td>\n      <td>0.665677</td>\n      <td>0.499896</td>\n    </tr>\n    <tr>\n      <th>2030</th>\n      <td>0.471875</td>\n      <td>0.456250</td>\n      <td>0.403125</td>\n      <td>0.350000</td>\n      <td>0.293750</td>\n      <td>0.506250</td>\n      <td>0.546875</td>\n      <td>0.562500</td>\n      <td>0.403125</td>\n      <td>0.359375</td>\n      <td>...</td>\n      <td>0.180290</td>\n      <td>0.546051</td>\n      <td>0.635193</td>\n      <td>0.606016</td>\n      <td>0.504767</td>\n      <td>0.466053</td>\n      <td>0.479978</td>\n      <td>0.753044</td>\n      <td>0.724606</td>\n      <td>0.723468</td>\n    </tr>\n  </tbody>\n</table>\n<p>2031 rows × 51 columns</p>\n</div>"
     },
     "metadata": {},
     "execution_count": 103
    }
   ],
   "source": [
    "df_drop = df.drop(columns = ['photopath','label'])\n",
    "df_drop"
   ]
  },
  {
   "cell_type": "code",
   "execution_count": 104,
   "metadata": {},
   "outputs": [],
   "source": [
    "X = df_drop\n",
    "y = df['label']"
   ]
  },
  {
   "cell_type": "code",
   "execution_count": 105,
   "metadata": {},
   "outputs": [],
   "source": [
    "X_train, X_test, y_train, y_test = train_test_split(X,y,test_size=0.2, random_state=300)"
   ]
  },
  {
   "cell_type": "code",
   "execution_count": 106,
   "metadata": {},
   "outputs": [
    {
     "output_type": "execute_result",
     "data": {
      "text/plain": [
       "       part_x0   part_x1   part_x2   part_x3   part_x4   part_x5   part_x6  \\\n",
       "874   0.340625  0.393750  0.359375  0.375000  0.375000  0.428125  0.496875   \n",
       "1098  0.478125  0.471875  0.431250  0.400000  0.378125  0.515625  0.531250   \n",
       "262   0.571875  0.534375  0.500000  0.425000  0.462500  0.575000  0.618750   \n",
       "1254  0.375000  0.375000  0.331250  0.293750  0.262500  0.421875  0.434375   \n",
       "642   0.515625  0.509375  0.450000  0.409375  0.446875  0.584375  0.596875   \n",
       "...        ...       ...       ...       ...       ...       ...       ...   \n",
       "220   0.475000  0.515625  0.500000  0.400000  0.437500  0.575000  0.609375   \n",
       "1477  0.284375  0.290625  0.234375  0.187500  0.125000  0.346875  0.340625   \n",
       "990   0.459375  0.521875  0.490625  0.512500  0.512500  0.543750  0.615625   \n",
       "1444  0.325000  0.331250  0.284375  0.250000  0.215625  0.375000  0.378125   \n",
       "1013  0.518750  0.500000  0.440625  0.384375  0.315625  0.562500  0.596875   \n",
       "\n",
       "       part_x7   part_x8   part_x9  ...    score7    score8    score9  \\\n",
       "874   0.556250  0.440625  0.403125  ...  0.569118  0.499888  0.548750   \n",
       "1098  0.546875  0.431250  0.403125  ...  0.682290  0.513708  0.666843   \n",
       "262   0.590625  0.490625  0.490625  ...  0.709282  0.419794  0.516811   \n",
       "1254  0.440625  0.343750  0.306250  ...  0.634355  0.519184  0.632020   \n",
       "642   0.600000  0.490625  0.481250  ...  0.181159  0.402672  0.374484   \n",
       "...        ...       ...       ...  ...       ...       ...       ...   \n",
       "220   0.581250  0.484375  0.481250  ...  0.701278  0.468966  0.580229   \n",
       "1477  0.334375  0.271875  0.228125  ...  0.461974  0.540533  0.653593   \n",
       "990   0.678125  0.587500  0.550000  ...  0.504822  0.478962  0.509382   \n",
       "1444  0.378125  0.309375  0.268750  ...  0.539967  0.586750  0.634951   \n",
       "1013  0.612500  0.450000  0.415625  ...  0.364220  0.565688  0.579833   \n",
       "\n",
       "       score10   score11   score12   score13   score14   score15   score16  \n",
       "874   0.523609  0.484314  0.541676  0.446098  0.649397  0.653722  0.317324  \n",
       "1098  0.599879  0.602297  0.663826  0.697511  0.761909  0.797115  0.654213  \n",
       "262   0.478314  0.388562  0.317074  0.428831  0.860889  0.779301  0.674019  \n",
       "1254  0.628066  0.500410  0.656911  0.640230  0.831019  0.822907  0.730626  \n",
       "642   0.158648  0.287422  0.437589  0.471992  0.676519  0.746993  0.707175  \n",
       "...        ...       ...       ...       ...       ...       ...       ...  \n",
       "220   0.366979  0.436510  0.506022  0.283584  0.731833  0.719403  0.706967  \n",
       "1477  0.603865  0.523119  0.652452  0.481680  0.778038  0.772508  0.666729  \n",
       "990   0.475836  0.382958  0.454500  0.431968  0.577849  0.686546  0.287565  \n",
       "1444  0.639548  0.582968  0.698926  0.614082  0.763294  0.811123  0.744644  \n",
       "1013  0.518360  0.458983  0.507859  0.526981  0.861042  0.752572  0.772990  \n",
       "\n",
       "[407 rows x 51 columns]"
      ],
      "text/html": "<div>\n<style scoped>\n    .dataframe tbody tr th:only-of-type {\n        vertical-align: middle;\n    }\n\n    .dataframe tbody tr th {\n        vertical-align: top;\n    }\n\n    .dataframe thead th {\n        text-align: right;\n    }\n</style>\n<table border=\"1\" class=\"dataframe\">\n  <thead>\n    <tr style=\"text-align: right;\">\n      <th></th>\n      <th>part_x0</th>\n      <th>part_x1</th>\n      <th>part_x2</th>\n      <th>part_x3</th>\n      <th>part_x4</th>\n      <th>part_x5</th>\n      <th>part_x6</th>\n      <th>part_x7</th>\n      <th>part_x8</th>\n      <th>part_x9</th>\n      <th>...</th>\n      <th>score7</th>\n      <th>score8</th>\n      <th>score9</th>\n      <th>score10</th>\n      <th>score11</th>\n      <th>score12</th>\n      <th>score13</th>\n      <th>score14</th>\n      <th>score15</th>\n      <th>score16</th>\n    </tr>\n  </thead>\n  <tbody>\n    <tr>\n      <th>874</th>\n      <td>0.340625</td>\n      <td>0.393750</td>\n      <td>0.359375</td>\n      <td>0.375000</td>\n      <td>0.375000</td>\n      <td>0.428125</td>\n      <td>0.496875</td>\n      <td>0.556250</td>\n      <td>0.440625</td>\n      <td>0.403125</td>\n      <td>...</td>\n      <td>0.569118</td>\n      <td>0.499888</td>\n      <td>0.548750</td>\n      <td>0.523609</td>\n      <td>0.484314</td>\n      <td>0.541676</td>\n      <td>0.446098</td>\n      <td>0.649397</td>\n      <td>0.653722</td>\n      <td>0.317324</td>\n    </tr>\n    <tr>\n      <th>1098</th>\n      <td>0.478125</td>\n      <td>0.471875</td>\n      <td>0.431250</td>\n      <td>0.400000</td>\n      <td>0.378125</td>\n      <td>0.515625</td>\n      <td>0.531250</td>\n      <td>0.546875</td>\n      <td>0.431250</td>\n      <td>0.403125</td>\n      <td>...</td>\n      <td>0.682290</td>\n      <td>0.513708</td>\n      <td>0.666843</td>\n      <td>0.599879</td>\n      <td>0.602297</td>\n      <td>0.663826</td>\n      <td>0.697511</td>\n      <td>0.761909</td>\n      <td>0.797115</td>\n      <td>0.654213</td>\n    </tr>\n    <tr>\n      <th>262</th>\n      <td>0.571875</td>\n      <td>0.534375</td>\n      <td>0.500000</td>\n      <td>0.425000</td>\n      <td>0.462500</td>\n      <td>0.575000</td>\n      <td>0.618750</td>\n      <td>0.590625</td>\n      <td>0.490625</td>\n      <td>0.490625</td>\n      <td>...</td>\n      <td>0.709282</td>\n      <td>0.419794</td>\n      <td>0.516811</td>\n      <td>0.478314</td>\n      <td>0.388562</td>\n      <td>0.317074</td>\n      <td>0.428831</td>\n      <td>0.860889</td>\n      <td>0.779301</td>\n      <td>0.674019</td>\n    </tr>\n    <tr>\n      <th>1254</th>\n      <td>0.375000</td>\n      <td>0.375000</td>\n      <td>0.331250</td>\n      <td>0.293750</td>\n      <td>0.262500</td>\n      <td>0.421875</td>\n      <td>0.434375</td>\n      <td>0.440625</td>\n      <td>0.343750</td>\n      <td>0.306250</td>\n      <td>...</td>\n      <td>0.634355</td>\n      <td>0.519184</td>\n      <td>0.632020</td>\n      <td>0.628066</td>\n      <td>0.500410</td>\n      <td>0.656911</td>\n      <td>0.640230</td>\n      <td>0.831019</td>\n      <td>0.822907</td>\n      <td>0.730626</td>\n    </tr>\n    <tr>\n      <th>642</th>\n      <td>0.515625</td>\n      <td>0.509375</td>\n      <td>0.450000</td>\n      <td>0.409375</td>\n      <td>0.446875</td>\n      <td>0.584375</td>\n      <td>0.596875</td>\n      <td>0.600000</td>\n      <td>0.490625</td>\n      <td>0.481250</td>\n      <td>...</td>\n      <td>0.181159</td>\n      <td>0.402672</td>\n      <td>0.374484</td>\n      <td>0.158648</td>\n      <td>0.287422</td>\n      <td>0.437589</td>\n      <td>0.471992</td>\n      <td>0.676519</td>\n      <td>0.746993</td>\n      <td>0.707175</td>\n    </tr>\n    <tr>\n      <th>...</th>\n      <td>...</td>\n      <td>...</td>\n      <td>...</td>\n      <td>...</td>\n      <td>...</td>\n      <td>...</td>\n      <td>...</td>\n      <td>...</td>\n      <td>...</td>\n      <td>...</td>\n      <td>...</td>\n      <td>...</td>\n      <td>...</td>\n      <td>...</td>\n      <td>...</td>\n      <td>...</td>\n      <td>...</td>\n      <td>...</td>\n      <td>...</td>\n      <td>...</td>\n      <td>...</td>\n    </tr>\n    <tr>\n      <th>220</th>\n      <td>0.475000</td>\n      <td>0.515625</td>\n      <td>0.500000</td>\n      <td>0.400000</td>\n      <td>0.437500</td>\n      <td>0.575000</td>\n      <td>0.609375</td>\n      <td>0.581250</td>\n      <td>0.484375</td>\n      <td>0.481250</td>\n      <td>...</td>\n      <td>0.701278</td>\n      <td>0.468966</td>\n      <td>0.580229</td>\n      <td>0.366979</td>\n      <td>0.436510</td>\n      <td>0.506022</td>\n      <td>0.283584</td>\n      <td>0.731833</td>\n      <td>0.719403</td>\n      <td>0.706967</td>\n    </tr>\n    <tr>\n      <th>1477</th>\n      <td>0.284375</td>\n      <td>0.290625</td>\n      <td>0.234375</td>\n      <td>0.187500</td>\n      <td>0.125000</td>\n      <td>0.346875</td>\n      <td>0.340625</td>\n      <td>0.334375</td>\n      <td>0.271875</td>\n      <td>0.228125</td>\n      <td>...</td>\n      <td>0.461974</td>\n      <td>0.540533</td>\n      <td>0.653593</td>\n      <td>0.603865</td>\n      <td>0.523119</td>\n      <td>0.652452</td>\n      <td>0.481680</td>\n      <td>0.778038</td>\n      <td>0.772508</td>\n      <td>0.666729</td>\n    </tr>\n    <tr>\n      <th>990</th>\n      <td>0.459375</td>\n      <td>0.521875</td>\n      <td>0.490625</td>\n      <td>0.512500</td>\n      <td>0.512500</td>\n      <td>0.543750</td>\n      <td>0.615625</td>\n      <td>0.678125</td>\n      <td>0.587500</td>\n      <td>0.550000</td>\n      <td>...</td>\n      <td>0.504822</td>\n      <td>0.478962</td>\n      <td>0.509382</td>\n      <td>0.475836</td>\n      <td>0.382958</td>\n      <td>0.454500</td>\n      <td>0.431968</td>\n      <td>0.577849</td>\n      <td>0.686546</td>\n      <td>0.287565</td>\n    </tr>\n    <tr>\n      <th>1444</th>\n      <td>0.325000</td>\n      <td>0.331250</td>\n      <td>0.284375</td>\n      <td>0.250000</td>\n      <td>0.215625</td>\n      <td>0.375000</td>\n      <td>0.378125</td>\n      <td>0.378125</td>\n      <td>0.309375</td>\n      <td>0.268750</td>\n      <td>...</td>\n      <td>0.539967</td>\n      <td>0.586750</td>\n      <td>0.634951</td>\n      <td>0.639548</td>\n      <td>0.582968</td>\n      <td>0.698926</td>\n      <td>0.614082</td>\n      <td>0.763294</td>\n      <td>0.811123</td>\n      <td>0.744644</td>\n    </tr>\n    <tr>\n      <th>1013</th>\n      <td>0.518750</td>\n      <td>0.500000</td>\n      <td>0.440625</td>\n      <td>0.384375</td>\n      <td>0.315625</td>\n      <td>0.562500</td>\n      <td>0.596875</td>\n      <td>0.612500</td>\n      <td>0.450000</td>\n      <td>0.415625</td>\n      <td>...</td>\n      <td>0.364220</td>\n      <td>0.565688</td>\n      <td>0.579833</td>\n      <td>0.518360</td>\n      <td>0.458983</td>\n      <td>0.507859</td>\n      <td>0.526981</td>\n      <td>0.861042</td>\n      <td>0.752572</td>\n      <td>0.772990</td>\n    </tr>\n  </tbody>\n</table>\n<p>407 rows × 51 columns</p>\n</div>"
     },
     "metadata": {},
     "execution_count": 106
    }
   ],
   "source": [
    "X_test"
   ]
  },
  {
   "cell_type": "code",
   "execution_count": 107,
   "metadata": {},
   "outputs": [],
   "source": [
    "clf = MLPClassifier(hidden_layer_sizes=(64, 64, 3, ), max_iter=1000, solver='adam').fit(X_train, y_train)"
   ]
  },
  {
   "cell_type": "code",
   "execution_count": 108,
   "metadata": {},
   "outputs": [
    {
     "output_type": "stream",
     "name": "stdout",
     "text": [
      "Accuracy : 1.0\nF1 Score : 1.0\nPrecision : 1.0\nRecall : 1.0\n"
     ]
    }
   ],
   "source": [
    "predicted = clf.predict(X_test)\n",
    "print('Accuracy :', accuracy_score(y_test, predicted))\n",
    "print('F1 Score :', f1_score(y_test, predicted, average='micro'))\n",
    "print('Precision :', precision_score(y_test, predicted, average='micro'))\n",
    "print('Recall :', recall_score(y_test, predicted, average='micro'))"
   ]
  },
  {
   "cell_type": "code",
   "execution_count": null,
   "metadata": {},
   "outputs": [],
   "source": []
  }
 ],
 "metadata": {
  "kernelspec": {
   "display_name": "Python 3",
   "language": "python",
   "name": "python3"
  },
  "language_info": {
   "codemirror_mode": {
    "name": "ipython",
    "version": 3
   },
   "file_extension": ".py",
   "mimetype": "text/x-python",
   "name": "python",
   "nbconvert_exporter": "python",
   "pygments_lexer": "ipython3",
   "version": "3.8.5-final"
  }
 },
 "nbformat": 4,
 "nbformat_minor": 4
}