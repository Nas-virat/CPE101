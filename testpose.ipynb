{
 "cells": [
  {
   "cell_type": "code",
   "execution_count": 1,
   "metadata": {},
   "outputs": [],
   "source": [
    "import pandas as pd\n",
    "import numpy as np\n",
    "import matplotlib.pyplot as plt\n",
    "import seaborn as sns\n",
    "\n",
    "from sklearn.preprocessing import StandardScaler\n",
    "\n",
    "from sklearn.model_selection import train_test_split\n",
    "from sklearn.ensemble import RandomForestClassifier\n",
    "from sklearn.neural_network import MLPClassifier\n",
    "\n",
    "from sklearn.metrics import confusion_matrix, accuracy_score, recall_score, precision_score, f1_score\n",
    "%matplotlib inline"
   ]
  },
  {
   "cell_type": "code",
   "execution_count": 2,
   "metadata": {},
   "outputs": [
    {
     "output_type": "execute_result",
     "data": {
      "text/plain": [
       "                         photopath   part_x0   part_x1   part_x2   part_x3  \\\n",
       "0                  img_set_242.jpg  0.543750  0.553125  0.493750  0.453125   \n",
       "1                  img_set_223.jpg  0.565625  0.531250  0.500000  0.434375   \n",
       "2                   img_set_54.jpg  0.571875  0.568750  0.509375  0.462500   \n",
       "3                  img_set_363.jpg  0.571875  0.568750  0.509375  0.462500   \n",
       "4                  img_set_519.jpg  0.465625  0.471875  0.409375  0.400000   \n",
       "...                            ...       ...       ...       ...       ...   \n",
       "2067  rota_img_lunges_down_219.jpg  0.409375  0.462500  0.425000  0.462500   \n",
       "2068  rota_img_lunges_down_278.jpg  0.434375  0.462500  0.421875  0.462500   \n",
       "2069   rota_img_lunges_down_34.jpg  0.331250  0.350000  0.275000  0.228125   \n",
       "2070  rota_img_lunges_down_283.jpg  0.434375  0.462500  0.421875  0.228125   \n",
       "2071  flip_img_lunges_down_287.jpg  0.559375  0.531250  0.496875  0.396875   \n",
       "\n",
       "       part_x4   part_x5   part_x6   part_x7   part_x8  ...    score8  \\\n",
       "0     0.478125  0.609375  0.656250  0.615625  0.515625  ...  0.327584   \n",
       "1     0.471875  0.562500  0.656250  0.615625  0.515625  ...  0.327584   \n",
       "2     0.471875  0.634375  0.687500  0.643750  0.512500  ...  0.310516   \n",
       "3     0.471875  0.634375  0.687500  0.643750  0.512500  ...  0.310516   \n",
       "4     0.471875  0.634375  0.687500  0.643750  0.512500  ...  0.310516   \n",
       "...        ...       ...       ...       ...       ...  ...       ...   \n",
       "2067  0.393750  0.571875  0.815625  0.765625  0.631250  ...  0.270265   \n",
       "2068  0.393750  0.571875  0.815625  0.765625  0.631250  ...  0.270265   \n",
       "2069  0.284375  0.415625  0.490625  0.471875  0.337500  ...  0.300243   \n",
       "2070  0.284375  0.415625  0.490625  0.471875  0.337500  ...  0.300243   \n",
       "2071  0.396875  0.571875  0.490625  0.471875  0.337500  ...  0.300243   \n",
       "\n",
       "        score9   score10   score11   score12   score13   score14   score15  \\\n",
       "0     0.603786  0.576362  0.346418  0.276199  0.414210  0.706337  0.694720   \n",
       "1     0.603786  0.576362  0.346418  0.276199  0.414210  0.706337  0.694720   \n",
       "2     0.211923  0.576362  0.346418  0.276199  0.414210  0.706337  0.694720   \n",
       "3     0.211923  0.576362  0.346418  0.276199  0.414210  0.706337  0.694720   \n",
       "4     0.211923  0.576362  0.346418  0.276199  0.414210  0.706337  0.694720   \n",
       "...        ...       ...       ...       ...       ...       ...       ...   \n",
       "2067  0.491873  0.358959  0.300773  0.211894  0.278203  0.715263  0.754533   \n",
       "2068  0.491873  0.358959  0.300773  0.211894  0.278203  0.715263  0.754533   \n",
       "2069  0.195269  0.192129  0.283723  0.266393  0.359882  0.682122  0.797394   \n",
       "2070  0.195269  0.192129  0.283723  0.266393  0.359882  0.682122  0.797394   \n",
       "2071  0.195269  0.192129  0.283723  0.266393  0.359882  0.682122  0.797394   \n",
       "\n",
       "       score16        label  \n",
       "0     0.563441          set  \n",
       "1     0.563441          set  \n",
       "2     0.563441          set  \n",
       "3     0.563441          set  \n",
       "4     0.563441          set  \n",
       "...        ...          ...  \n",
       "2067  0.719140  lunges_down  \n",
       "2068  0.719140  lunges_down  \n",
       "2069  0.734707  lunges_down  \n",
       "2070  0.734707  lunges_down  \n",
       "2071  0.734707  lunges_down  \n",
       "\n",
       "[2072 rows x 53 columns]"
      ],
      "text/html": "<div>\n<style scoped>\n    .dataframe tbody tr th:only-of-type {\n        vertical-align: middle;\n    }\n\n    .dataframe tbody tr th {\n        vertical-align: top;\n    }\n\n    .dataframe thead th {\n        text-align: right;\n    }\n</style>\n<table border=\"1\" class=\"dataframe\">\n  <thead>\n    <tr style=\"text-align: right;\">\n      <th></th>\n      <th>photopath</th>\n      <th>part_x0</th>\n      <th>part_x1</th>\n      <th>part_x2</th>\n      <th>part_x3</th>\n      <th>part_x4</th>\n      <th>part_x5</th>\n      <th>part_x6</th>\n      <th>part_x7</th>\n      <th>part_x8</th>\n      <th>...</th>\n      <th>score8</th>\n      <th>score9</th>\n      <th>score10</th>\n      <th>score11</th>\n      <th>score12</th>\n      <th>score13</th>\n      <th>score14</th>\n      <th>score15</th>\n      <th>score16</th>\n      <th>label</th>\n    </tr>\n  </thead>\n  <tbody>\n    <tr>\n      <th>0</th>\n      <td>img_set_242.jpg</td>\n      <td>0.543750</td>\n      <td>0.553125</td>\n      <td>0.493750</td>\n      <td>0.453125</td>\n      <td>0.478125</td>\n      <td>0.609375</td>\n      <td>0.656250</td>\n      <td>0.615625</td>\n      <td>0.515625</td>\n      <td>...</td>\n      <td>0.327584</td>\n      <td>0.603786</td>\n      <td>0.576362</td>\n      <td>0.346418</td>\n      <td>0.276199</td>\n      <td>0.414210</td>\n      <td>0.706337</td>\n      <td>0.694720</td>\n      <td>0.563441</td>\n      <td>set</td>\n    </tr>\n    <tr>\n      <th>1</th>\n      <td>img_set_223.jpg</td>\n      <td>0.565625</td>\n      <td>0.531250</td>\n      <td>0.500000</td>\n      <td>0.434375</td>\n      <td>0.471875</td>\n      <td>0.562500</td>\n      <td>0.656250</td>\n      <td>0.615625</td>\n      <td>0.515625</td>\n      <td>...</td>\n      <td>0.327584</td>\n      <td>0.603786</td>\n      <td>0.576362</td>\n      <td>0.346418</td>\n      <td>0.276199</td>\n      <td>0.414210</td>\n      <td>0.706337</td>\n      <td>0.694720</td>\n      <td>0.563441</td>\n      <td>set</td>\n    </tr>\n    <tr>\n      <th>2</th>\n      <td>img_set_54.jpg</td>\n      <td>0.571875</td>\n      <td>0.568750</td>\n      <td>0.509375</td>\n      <td>0.462500</td>\n      <td>0.471875</td>\n      <td>0.634375</td>\n      <td>0.687500</td>\n      <td>0.643750</td>\n      <td>0.512500</td>\n      <td>...</td>\n      <td>0.310516</td>\n      <td>0.211923</td>\n      <td>0.576362</td>\n      <td>0.346418</td>\n      <td>0.276199</td>\n      <td>0.414210</td>\n      <td>0.706337</td>\n      <td>0.694720</td>\n      <td>0.563441</td>\n      <td>set</td>\n    </tr>\n    <tr>\n      <th>3</th>\n      <td>img_set_363.jpg</td>\n      <td>0.571875</td>\n      <td>0.568750</td>\n      <td>0.509375</td>\n      <td>0.462500</td>\n      <td>0.471875</td>\n      <td>0.634375</td>\n      <td>0.687500</td>\n      <td>0.643750</td>\n      <td>0.512500</td>\n      <td>...</td>\n      <td>0.310516</td>\n      <td>0.211923</td>\n      <td>0.576362</td>\n      <td>0.346418</td>\n      <td>0.276199</td>\n      <td>0.414210</td>\n      <td>0.706337</td>\n      <td>0.694720</td>\n      <td>0.563441</td>\n      <td>set</td>\n    </tr>\n    <tr>\n      <th>4</th>\n      <td>img_set_519.jpg</td>\n      <td>0.465625</td>\n      <td>0.471875</td>\n      <td>0.409375</td>\n      <td>0.400000</td>\n      <td>0.471875</td>\n      <td>0.634375</td>\n      <td>0.687500</td>\n      <td>0.643750</td>\n      <td>0.512500</td>\n      <td>...</td>\n      <td>0.310516</td>\n      <td>0.211923</td>\n      <td>0.576362</td>\n      <td>0.346418</td>\n      <td>0.276199</td>\n      <td>0.414210</td>\n      <td>0.706337</td>\n      <td>0.694720</td>\n      <td>0.563441</td>\n      <td>set</td>\n    </tr>\n    <tr>\n      <th>...</th>\n      <td>...</td>\n      <td>...</td>\n      <td>...</td>\n      <td>...</td>\n      <td>...</td>\n      <td>...</td>\n      <td>...</td>\n      <td>...</td>\n      <td>...</td>\n      <td>...</td>\n      <td>...</td>\n      <td>...</td>\n      <td>...</td>\n      <td>...</td>\n      <td>...</td>\n      <td>...</td>\n      <td>...</td>\n      <td>...</td>\n      <td>...</td>\n      <td>...</td>\n      <td>...</td>\n    </tr>\n    <tr>\n      <th>2067</th>\n      <td>rota_img_lunges_down_219.jpg</td>\n      <td>0.409375</td>\n      <td>0.462500</td>\n      <td>0.425000</td>\n      <td>0.462500</td>\n      <td>0.393750</td>\n      <td>0.571875</td>\n      <td>0.815625</td>\n      <td>0.765625</td>\n      <td>0.631250</td>\n      <td>...</td>\n      <td>0.270265</td>\n      <td>0.491873</td>\n      <td>0.358959</td>\n      <td>0.300773</td>\n      <td>0.211894</td>\n      <td>0.278203</td>\n      <td>0.715263</td>\n      <td>0.754533</td>\n      <td>0.719140</td>\n      <td>lunges_down</td>\n    </tr>\n    <tr>\n      <th>2068</th>\n      <td>rota_img_lunges_down_278.jpg</td>\n      <td>0.434375</td>\n      <td>0.462500</td>\n      <td>0.421875</td>\n      <td>0.462500</td>\n      <td>0.393750</td>\n      <td>0.571875</td>\n      <td>0.815625</td>\n      <td>0.765625</td>\n      <td>0.631250</td>\n      <td>...</td>\n      <td>0.270265</td>\n      <td>0.491873</td>\n      <td>0.358959</td>\n      <td>0.300773</td>\n      <td>0.211894</td>\n      <td>0.278203</td>\n      <td>0.715263</td>\n      <td>0.754533</td>\n      <td>0.719140</td>\n      <td>lunges_down</td>\n    </tr>\n    <tr>\n      <th>2069</th>\n      <td>rota_img_lunges_down_34.jpg</td>\n      <td>0.331250</td>\n      <td>0.350000</td>\n      <td>0.275000</td>\n      <td>0.228125</td>\n      <td>0.284375</td>\n      <td>0.415625</td>\n      <td>0.490625</td>\n      <td>0.471875</td>\n      <td>0.337500</td>\n      <td>...</td>\n      <td>0.300243</td>\n      <td>0.195269</td>\n      <td>0.192129</td>\n      <td>0.283723</td>\n      <td>0.266393</td>\n      <td>0.359882</td>\n      <td>0.682122</td>\n      <td>0.797394</td>\n      <td>0.734707</td>\n      <td>lunges_down</td>\n    </tr>\n    <tr>\n      <th>2070</th>\n      <td>rota_img_lunges_down_283.jpg</td>\n      <td>0.434375</td>\n      <td>0.462500</td>\n      <td>0.421875</td>\n      <td>0.228125</td>\n      <td>0.284375</td>\n      <td>0.415625</td>\n      <td>0.490625</td>\n      <td>0.471875</td>\n      <td>0.337500</td>\n      <td>...</td>\n      <td>0.300243</td>\n      <td>0.195269</td>\n      <td>0.192129</td>\n      <td>0.283723</td>\n      <td>0.266393</td>\n      <td>0.359882</td>\n      <td>0.682122</td>\n      <td>0.797394</td>\n      <td>0.734707</td>\n      <td>lunges_down</td>\n    </tr>\n    <tr>\n      <th>2071</th>\n      <td>flip_img_lunges_down_287.jpg</td>\n      <td>0.559375</td>\n      <td>0.531250</td>\n      <td>0.496875</td>\n      <td>0.396875</td>\n      <td>0.396875</td>\n      <td>0.571875</td>\n      <td>0.490625</td>\n      <td>0.471875</td>\n      <td>0.337500</td>\n      <td>...</td>\n      <td>0.300243</td>\n      <td>0.195269</td>\n      <td>0.192129</td>\n      <td>0.283723</td>\n      <td>0.266393</td>\n      <td>0.359882</td>\n      <td>0.682122</td>\n      <td>0.797394</td>\n      <td>0.734707</td>\n      <td>lunges_down</td>\n    </tr>\n  </tbody>\n</table>\n<p>2072 rows × 53 columns</p>\n</div>"
     },
     "metadata": {},
     "execution_count": 2
    }
   ],
   "source": [
    "df = pd.read_csv('datatrainall.csv')\n",
    "df"
   ]
  },
  {
   "cell_type": "code",
   "execution_count": 3,
   "metadata": {},
   "outputs": [
    {
     "output_type": "stream",
     "name": "stdout",
     "text": [
      "<class 'pandas.core.frame.DataFrame'>\nRangeIndex: 2072 entries, 0 to 2071\nData columns (total 53 columns):\n #   Column     Non-Null Count  Dtype  \n---  ------     --------------  -----  \n 0   photopath  2072 non-null   object \n 1   part_x0    2072 non-null   float64\n 2   part_x1    2072 non-null   float64\n 3   part_x2    2072 non-null   float64\n 4   part_x3    2072 non-null   float64\n 5   part_x4    2072 non-null   float64\n 6   part_x5    2072 non-null   float64\n 7   part_x6    2072 non-null   float64\n 8   part_x7    2072 non-null   float64\n 9   part_x8    2072 non-null   float64\n 10  part_x9    2072 non-null   float64\n 11  part_x10   2072 non-null   float64\n 12  part_x11   2072 non-null   float64\n 13  part_x12   2072 non-null   float64\n 14  part_x13   2072 non-null   float64\n 15  part_x14   2072 non-null   float64\n 16  part_x15   2072 non-null   float64\n 17  part_x16   2072 non-null   float64\n 18  part_y0    2072 non-null   float64\n 19  part_y1    2072 non-null   float64\n 20  part_y2    2072 non-null   float64\n 21  part_y3    2072 non-null   float64\n 22  part_y4    2072 non-null   float64\n 23  part_y5    2072 non-null   float64\n 24  part_y6    2072 non-null   float64\n 25  part_y7    2072 non-null   float64\n 26  part_y8    2072 non-null   float64\n 27  part_y9    2072 non-null   float64\n 28  part_y10   2072 non-null   float64\n 29  part_y11   2072 non-null   float64\n 30  part_y12   2072 non-null   float64\n 31  part_y13   2072 non-null   float64\n 32  part_y14   2072 non-null   float64\n 33  part_y15   2072 non-null   float64\n 34  part_y16   2072 non-null   float64\n 35  score0     2072 non-null   float64\n 36  score1     2072 non-null   float64\n 37  score2     2072 non-null   float64\n 38  score3     2072 non-null   float64\n 39  score4     2072 non-null   float64\n 40  score5     2072 non-null   float64\n 41  score6     2072 non-null   float64\n 42  score7     2072 non-null   float64\n 43  score8     2072 non-null   float64\n 44  score9     2072 non-null   float64\n 45  score10    2072 non-null   float64\n 46  score11    2072 non-null   float64\n 47  score12    2072 non-null   float64\n 48  score13    2072 non-null   float64\n 49  score14    2072 non-null   float64\n 50  score15    2072 non-null   float64\n 51  score16    2072 non-null   float64\n 52  label      2072 non-null   object \ndtypes: float64(51), object(2)\nmemory usage: 858.1+ KB\n"
     ]
    }
   ],
   "source": [
    "df.info()"
   ]
  },
  {
   "cell_type": "code",
   "execution_count": 4,
   "metadata": {},
   "outputs": [
    {
     "output_type": "execute_result",
     "data": {
      "text/plain": [
       "       part_x0   part_x1   part_x2   part_x3   part_x4   part_x5   part_x6  \\\n",
       "0     0.543750  0.553125  0.493750  0.453125  0.478125  0.609375  0.656250   \n",
       "1     0.565625  0.531250  0.500000  0.434375  0.471875  0.562500  0.656250   \n",
       "2     0.571875  0.568750  0.509375  0.462500  0.471875  0.634375  0.687500   \n",
       "3     0.571875  0.568750  0.509375  0.462500  0.471875  0.634375  0.687500   \n",
       "4     0.465625  0.471875  0.409375  0.400000  0.471875  0.634375  0.687500   \n",
       "...        ...       ...       ...       ...       ...       ...       ...   \n",
       "2067  0.409375  0.462500  0.425000  0.462500  0.393750  0.571875  0.815625   \n",
       "2068  0.434375  0.462500  0.421875  0.462500  0.393750  0.571875  0.815625   \n",
       "2069  0.331250  0.350000  0.275000  0.228125  0.284375  0.415625  0.490625   \n",
       "2070  0.434375  0.462500  0.421875  0.228125  0.284375  0.415625  0.490625   \n",
       "2071  0.559375  0.531250  0.496875  0.396875  0.396875  0.571875  0.490625   \n",
       "\n",
       "       part_x7   part_x8   part_x9  ...    score7    score8    score9  \\\n",
       "0     0.615625  0.515625  0.500000  ...  0.686369  0.327584  0.603786   \n",
       "1     0.615625  0.515625  0.500000  ...  0.686369  0.327584  0.603786   \n",
       "2     0.643750  0.512500  0.484375  ...  0.646998  0.310516  0.211923   \n",
       "3     0.643750  0.512500  0.484375  ...  0.646998  0.310516  0.211923   \n",
       "4     0.643750  0.512500  0.484375  ...  0.646998  0.310516  0.211923   \n",
       "...        ...       ...       ...  ...       ...       ...       ...   \n",
       "2067  0.765625  0.631250  0.621875  ...  0.700867  0.270265  0.491873   \n",
       "2068  0.765625  0.631250  0.621875  ...  0.700867  0.270265  0.491873   \n",
       "2069  0.471875  0.337500  0.362500  ...  0.577051  0.300243  0.195269   \n",
       "2070  0.471875  0.337500  0.362500  ...  0.577051  0.300243  0.195269   \n",
       "2071  0.471875  0.337500  0.362500  ...  0.577051  0.300243  0.195269   \n",
       "\n",
       "       score10   score11   score12   score13   score14   score15   score16  \n",
       "0     0.576362  0.346418  0.276199  0.414210  0.706337  0.694720  0.563441  \n",
       "1     0.576362  0.346418  0.276199  0.414210  0.706337  0.694720  0.563441  \n",
       "2     0.576362  0.346418  0.276199  0.414210  0.706337  0.694720  0.563441  \n",
       "3     0.576362  0.346418  0.276199  0.414210  0.706337  0.694720  0.563441  \n",
       "4     0.576362  0.346418  0.276199  0.414210  0.706337  0.694720  0.563441  \n",
       "...        ...       ...       ...       ...       ...       ...       ...  \n",
       "2067  0.358959  0.300773  0.211894  0.278203  0.715263  0.754533  0.719140  \n",
       "2068  0.358959  0.300773  0.211894  0.278203  0.715263  0.754533  0.719140  \n",
       "2069  0.192129  0.283723  0.266393  0.359882  0.682122  0.797394  0.734707  \n",
       "2070  0.192129  0.283723  0.266393  0.359882  0.682122  0.797394  0.734707  \n",
       "2071  0.192129  0.283723  0.266393  0.359882  0.682122  0.797394  0.734707  \n",
       "\n",
       "[2072 rows x 51 columns]"
      ],
      "text/html": "<div>\n<style scoped>\n    .dataframe tbody tr th:only-of-type {\n        vertical-align: middle;\n    }\n\n    .dataframe tbody tr th {\n        vertical-align: top;\n    }\n\n    .dataframe thead th {\n        text-align: right;\n    }\n</style>\n<table border=\"1\" class=\"dataframe\">\n  <thead>\n    <tr style=\"text-align: right;\">\n      <th></th>\n      <th>part_x0</th>\n      <th>part_x1</th>\n      <th>part_x2</th>\n      <th>part_x3</th>\n      <th>part_x4</th>\n      <th>part_x5</th>\n      <th>part_x6</th>\n      <th>part_x7</th>\n      <th>part_x8</th>\n      <th>part_x9</th>\n      <th>...</th>\n      <th>score7</th>\n      <th>score8</th>\n      <th>score9</th>\n      <th>score10</th>\n      <th>score11</th>\n      <th>score12</th>\n      <th>score13</th>\n      <th>score14</th>\n      <th>score15</th>\n      <th>score16</th>\n    </tr>\n  </thead>\n  <tbody>\n    <tr>\n      <th>0</th>\n      <td>0.543750</td>\n      <td>0.553125</td>\n      <td>0.493750</td>\n      <td>0.453125</td>\n      <td>0.478125</td>\n      <td>0.609375</td>\n      <td>0.656250</td>\n      <td>0.615625</td>\n      <td>0.515625</td>\n      <td>0.500000</td>\n      <td>...</td>\n      <td>0.686369</td>\n      <td>0.327584</td>\n      <td>0.603786</td>\n      <td>0.576362</td>\n      <td>0.346418</td>\n      <td>0.276199</td>\n      <td>0.414210</td>\n      <td>0.706337</td>\n      <td>0.694720</td>\n      <td>0.563441</td>\n    </tr>\n    <tr>\n      <th>1</th>\n      <td>0.565625</td>\n      <td>0.531250</td>\n      <td>0.500000</td>\n      <td>0.434375</td>\n      <td>0.471875</td>\n      <td>0.562500</td>\n      <td>0.656250</td>\n      <td>0.615625</td>\n      <td>0.515625</td>\n      <td>0.500000</td>\n      <td>...</td>\n      <td>0.686369</td>\n      <td>0.327584</td>\n      <td>0.603786</td>\n      <td>0.576362</td>\n      <td>0.346418</td>\n      <td>0.276199</td>\n      <td>0.414210</td>\n      <td>0.706337</td>\n      <td>0.694720</td>\n      <td>0.563441</td>\n    </tr>\n    <tr>\n      <th>2</th>\n      <td>0.571875</td>\n      <td>0.568750</td>\n      <td>0.509375</td>\n      <td>0.462500</td>\n      <td>0.471875</td>\n      <td>0.634375</td>\n      <td>0.687500</td>\n      <td>0.643750</td>\n      <td>0.512500</td>\n      <td>0.484375</td>\n      <td>...</td>\n      <td>0.646998</td>\n      <td>0.310516</td>\n      <td>0.211923</td>\n      <td>0.576362</td>\n      <td>0.346418</td>\n      <td>0.276199</td>\n      <td>0.414210</td>\n      <td>0.706337</td>\n      <td>0.694720</td>\n      <td>0.563441</td>\n    </tr>\n    <tr>\n      <th>3</th>\n      <td>0.571875</td>\n      <td>0.568750</td>\n      <td>0.509375</td>\n      <td>0.462500</td>\n      <td>0.471875</td>\n      <td>0.634375</td>\n      <td>0.687500</td>\n      <td>0.643750</td>\n      <td>0.512500</td>\n      <td>0.484375</td>\n      <td>...</td>\n      <td>0.646998</td>\n      <td>0.310516</td>\n      <td>0.211923</td>\n      <td>0.576362</td>\n      <td>0.346418</td>\n      <td>0.276199</td>\n      <td>0.414210</td>\n      <td>0.706337</td>\n      <td>0.694720</td>\n      <td>0.563441</td>\n    </tr>\n    <tr>\n      <th>4</th>\n      <td>0.465625</td>\n      <td>0.471875</td>\n      <td>0.409375</td>\n      <td>0.400000</td>\n      <td>0.471875</td>\n      <td>0.634375</td>\n      <td>0.687500</td>\n      <td>0.643750</td>\n      <td>0.512500</td>\n      <td>0.484375</td>\n      <td>...</td>\n      <td>0.646998</td>\n      <td>0.310516</td>\n      <td>0.211923</td>\n      <td>0.576362</td>\n      <td>0.346418</td>\n      <td>0.276199</td>\n      <td>0.414210</td>\n      <td>0.706337</td>\n      <td>0.694720</td>\n      <td>0.563441</td>\n    </tr>\n    <tr>\n      <th>...</th>\n      <td>...</td>\n      <td>...</td>\n      <td>...</td>\n      <td>...</td>\n      <td>...</td>\n      <td>...</td>\n      <td>...</td>\n      <td>...</td>\n      <td>...</td>\n      <td>...</td>\n      <td>...</td>\n      <td>...</td>\n      <td>...</td>\n      <td>...</td>\n      <td>...</td>\n      <td>...</td>\n      <td>...</td>\n      <td>...</td>\n      <td>...</td>\n      <td>...</td>\n      <td>...</td>\n    </tr>\n    <tr>\n      <th>2067</th>\n      <td>0.409375</td>\n      <td>0.462500</td>\n      <td>0.425000</td>\n      <td>0.462500</td>\n      <td>0.393750</td>\n      <td>0.571875</td>\n      <td>0.815625</td>\n      <td>0.765625</td>\n      <td>0.631250</td>\n      <td>0.621875</td>\n      <td>...</td>\n      <td>0.700867</td>\n      <td>0.270265</td>\n      <td>0.491873</td>\n      <td>0.358959</td>\n      <td>0.300773</td>\n      <td>0.211894</td>\n      <td>0.278203</td>\n      <td>0.715263</td>\n      <td>0.754533</td>\n      <td>0.719140</td>\n    </tr>\n    <tr>\n      <th>2068</th>\n      <td>0.434375</td>\n      <td>0.462500</td>\n      <td>0.421875</td>\n      <td>0.462500</td>\n      <td>0.393750</td>\n      <td>0.571875</td>\n      <td>0.815625</td>\n      <td>0.765625</td>\n      <td>0.631250</td>\n      <td>0.621875</td>\n      <td>...</td>\n      <td>0.700867</td>\n      <td>0.270265</td>\n      <td>0.491873</td>\n      <td>0.358959</td>\n      <td>0.300773</td>\n      <td>0.211894</td>\n      <td>0.278203</td>\n      <td>0.715263</td>\n      <td>0.754533</td>\n      <td>0.719140</td>\n    </tr>\n    <tr>\n      <th>2069</th>\n      <td>0.331250</td>\n      <td>0.350000</td>\n      <td>0.275000</td>\n      <td>0.228125</td>\n      <td>0.284375</td>\n      <td>0.415625</td>\n      <td>0.490625</td>\n      <td>0.471875</td>\n      <td>0.337500</td>\n      <td>0.362500</td>\n      <td>...</td>\n      <td>0.577051</td>\n      <td>0.300243</td>\n      <td>0.195269</td>\n      <td>0.192129</td>\n      <td>0.283723</td>\n      <td>0.266393</td>\n      <td>0.359882</td>\n      <td>0.682122</td>\n      <td>0.797394</td>\n      <td>0.734707</td>\n    </tr>\n    <tr>\n      <th>2070</th>\n      <td>0.434375</td>\n      <td>0.462500</td>\n      <td>0.421875</td>\n      <td>0.228125</td>\n      <td>0.284375</td>\n      <td>0.415625</td>\n      <td>0.490625</td>\n      <td>0.471875</td>\n      <td>0.337500</td>\n      <td>0.362500</td>\n      <td>...</td>\n      <td>0.577051</td>\n      <td>0.300243</td>\n      <td>0.195269</td>\n      <td>0.192129</td>\n      <td>0.283723</td>\n      <td>0.266393</td>\n      <td>0.359882</td>\n      <td>0.682122</td>\n      <td>0.797394</td>\n      <td>0.734707</td>\n    </tr>\n    <tr>\n      <th>2071</th>\n      <td>0.559375</td>\n      <td>0.531250</td>\n      <td>0.496875</td>\n      <td>0.396875</td>\n      <td>0.396875</td>\n      <td>0.571875</td>\n      <td>0.490625</td>\n      <td>0.471875</td>\n      <td>0.337500</td>\n      <td>0.362500</td>\n      <td>...</td>\n      <td>0.577051</td>\n      <td>0.300243</td>\n      <td>0.195269</td>\n      <td>0.192129</td>\n      <td>0.283723</td>\n      <td>0.266393</td>\n      <td>0.359882</td>\n      <td>0.682122</td>\n      <td>0.797394</td>\n      <td>0.734707</td>\n    </tr>\n  </tbody>\n</table>\n<p>2072 rows × 51 columns</p>\n</div>"
     },
     "metadata": {},
     "execution_count": 4
    }
   ],
   "source": [
    "df_drop = df.drop(columns = ['photopath','label'])\n",
    "df_drop"
   ]
  },
  {
   "cell_type": "code",
   "execution_count": 5,
   "metadata": {},
   "outputs": [],
   "source": [
    "X = df_drop\n",
    "y = df['label']"
   ]
  },
  {
   "cell_type": "code",
   "execution_count": 6,
   "metadata": {},
   "outputs": [],
   "source": [
    "X_train, X_test, y_train, y_test = train_test_split(X,y,test_size=0.2, random_state=300)"
   ]
  },
  {
   "cell_type": "code",
   "execution_count": 7,
   "metadata": {},
   "outputs": [
    {
     "output_type": "execute_result",
     "data": {
      "text/plain": [
       "       part_x0   part_x1   part_x2   part_x3   part_x4   part_x5   part_x6  \\\n",
       "1507  0.515625  0.503125  0.446875  0.471875  0.484375  0.600000  0.653125   \n",
       "620   0.578125  0.562500  0.518750  0.496875  0.518750  0.609375  0.653125   \n",
       "1557  0.512500  0.512500  0.450000  0.428125  0.412500  0.575000  0.587500   \n",
       "156   0.468750  0.475000  0.415625  0.400000  0.400000  0.534375  0.562500   \n",
       "49    0.481250  0.484375  0.421875  0.403125  0.400000  0.543750  0.568750   \n",
       "...        ...       ...       ...       ...       ...       ...       ...   \n",
       "165   0.512500  0.537500  0.490625  0.475000  0.484375  0.590625  0.643750   \n",
       "1175  0.546875  0.540625  0.487500  0.437500  0.459375  0.600000  0.634375   \n",
       "1889  0.431250  0.443750  0.381250  0.306250  0.321875  0.506250  0.565625   \n",
       "839   0.540625  0.537500  0.490625  0.456250  0.443750  0.578125  0.609375   \n",
       "357   0.471875  0.481250  0.418750  0.403125  0.403125  0.534375  0.559375   \n",
       "\n",
       "       part_x7   part_x8   part_x9  ...    score7    score8    score9  \\\n",
       "1507  0.609375  0.509375  0.506250  ...  0.588155  0.398736  0.301566   \n",
       "620   0.709375  0.500000  0.487500  ...  0.643347  0.597840  0.718594   \n",
       "1557  0.590625  0.456250  0.456250  ...  0.337245  0.359933  0.334857   \n",
       "156   0.575000  0.443750  0.440625  ...  0.531719  0.419831  0.306023   \n",
       "49    0.575000  0.453125  0.453125  ...  0.660183  0.361899  0.203318   \n",
       "...        ...       ...       ...  ...       ...       ...       ...   \n",
       "165   0.596875  0.500000  0.506250  ...  0.694646  0.476478  0.502728   \n",
       "1175  0.603125  0.496875  0.484375  ...  0.619181  0.328086  0.448687   \n",
       "1889  0.493750  0.381250  0.346875  ...  0.714749  0.459053  0.371122   \n",
       "839   0.618750  0.493750  0.465625  ...  0.469788  0.538956  0.663207   \n",
       "357   0.590625  0.509375  0.512500  ...  0.635969  0.411395  0.370809   \n",
       "\n",
       "       score10   score11   score12   score13   score14   score15   score16  \n",
       "1507  0.241433  0.406037  0.456467  0.248082  0.667244  0.677598  0.216402  \n",
       "620   0.269547  0.468340  0.615782  0.553708  0.763992  0.711789  0.692478  \n",
       "1557  0.415082  0.124268  0.209365  0.136226  0.716140  0.719354  0.738066  \n",
       "156   0.424628  0.389155  0.292186  0.600461  0.736409  0.729032  0.655717  \n",
       "49    0.380956  0.339232  0.373359  0.548223  0.778841  0.752906  0.688994  \n",
       "...        ...       ...       ...       ...       ...       ...       ...  \n",
       "165   0.414122  0.463663  0.599265  0.418184  0.707009  0.753580  0.515851  \n",
       "1175  0.390038  0.348187  0.097904  0.355104  0.798783  0.741635  0.664553  \n",
       "1889  0.410051  0.443930  0.352505  0.459176  0.718812  0.750135  0.486549  \n",
       "839   0.529844  0.493685  0.692496  0.455090  0.706155  0.708886  0.642120  \n",
       "357   0.446149  0.430290  0.487497  0.436926  0.646822  0.695638  0.636609  \n",
       "\n",
       "[415 rows x 51 columns]"
      ],
      "text/html": "<div>\n<style scoped>\n    .dataframe tbody tr th:only-of-type {\n        vertical-align: middle;\n    }\n\n    .dataframe tbody tr th {\n        vertical-align: top;\n    }\n\n    .dataframe thead th {\n        text-align: right;\n    }\n</style>\n<table border=\"1\" class=\"dataframe\">\n  <thead>\n    <tr style=\"text-align: right;\">\n      <th></th>\n      <th>part_x0</th>\n      <th>part_x1</th>\n      <th>part_x2</th>\n      <th>part_x3</th>\n      <th>part_x4</th>\n      <th>part_x5</th>\n      <th>part_x6</th>\n      <th>part_x7</th>\n      <th>part_x8</th>\n      <th>part_x9</th>\n      <th>...</th>\n      <th>score7</th>\n      <th>score8</th>\n      <th>score9</th>\n      <th>score10</th>\n      <th>score11</th>\n      <th>score12</th>\n      <th>score13</th>\n      <th>score14</th>\n      <th>score15</th>\n      <th>score16</th>\n    </tr>\n  </thead>\n  <tbody>\n    <tr>\n      <th>1507</th>\n      <td>0.515625</td>\n      <td>0.503125</td>\n      <td>0.446875</td>\n      <td>0.471875</td>\n      <td>0.484375</td>\n      <td>0.600000</td>\n      <td>0.653125</td>\n      <td>0.609375</td>\n      <td>0.509375</td>\n      <td>0.506250</td>\n      <td>...</td>\n      <td>0.588155</td>\n      <td>0.398736</td>\n      <td>0.301566</td>\n      <td>0.241433</td>\n      <td>0.406037</td>\n      <td>0.456467</td>\n      <td>0.248082</td>\n      <td>0.667244</td>\n      <td>0.677598</td>\n      <td>0.216402</td>\n    </tr>\n    <tr>\n      <th>620</th>\n      <td>0.578125</td>\n      <td>0.562500</td>\n      <td>0.518750</td>\n      <td>0.496875</td>\n      <td>0.518750</td>\n      <td>0.609375</td>\n      <td>0.653125</td>\n      <td>0.709375</td>\n      <td>0.500000</td>\n      <td>0.487500</td>\n      <td>...</td>\n      <td>0.643347</td>\n      <td>0.597840</td>\n      <td>0.718594</td>\n      <td>0.269547</td>\n      <td>0.468340</td>\n      <td>0.615782</td>\n      <td>0.553708</td>\n      <td>0.763992</td>\n      <td>0.711789</td>\n      <td>0.692478</td>\n    </tr>\n    <tr>\n      <th>1557</th>\n      <td>0.512500</td>\n      <td>0.512500</td>\n      <td>0.450000</td>\n      <td>0.428125</td>\n      <td>0.412500</td>\n      <td>0.575000</td>\n      <td>0.587500</td>\n      <td>0.590625</td>\n      <td>0.456250</td>\n      <td>0.456250</td>\n      <td>...</td>\n      <td>0.337245</td>\n      <td>0.359933</td>\n      <td>0.334857</td>\n      <td>0.415082</td>\n      <td>0.124268</td>\n      <td>0.209365</td>\n      <td>0.136226</td>\n      <td>0.716140</td>\n      <td>0.719354</td>\n      <td>0.738066</td>\n    </tr>\n    <tr>\n      <th>156</th>\n      <td>0.468750</td>\n      <td>0.475000</td>\n      <td>0.415625</td>\n      <td>0.400000</td>\n      <td>0.400000</td>\n      <td>0.534375</td>\n      <td>0.562500</td>\n      <td>0.575000</td>\n      <td>0.443750</td>\n      <td>0.440625</td>\n      <td>...</td>\n      <td>0.531719</td>\n      <td>0.419831</td>\n      <td>0.306023</td>\n      <td>0.424628</td>\n      <td>0.389155</td>\n      <td>0.292186</td>\n      <td>0.600461</td>\n      <td>0.736409</td>\n      <td>0.729032</td>\n      <td>0.655717</td>\n    </tr>\n    <tr>\n      <th>49</th>\n      <td>0.481250</td>\n      <td>0.484375</td>\n      <td>0.421875</td>\n      <td>0.403125</td>\n      <td>0.400000</td>\n      <td>0.543750</td>\n      <td>0.568750</td>\n      <td>0.575000</td>\n      <td>0.453125</td>\n      <td>0.453125</td>\n      <td>...</td>\n      <td>0.660183</td>\n      <td>0.361899</td>\n      <td>0.203318</td>\n      <td>0.380956</td>\n      <td>0.339232</td>\n      <td>0.373359</td>\n      <td>0.548223</td>\n      <td>0.778841</td>\n      <td>0.752906</td>\n      <td>0.688994</td>\n    </tr>\n    <tr>\n      <th>...</th>\n      <td>...</td>\n      <td>...</td>\n      <td>...</td>\n      <td>...</td>\n      <td>...</td>\n      <td>...</td>\n      <td>...</td>\n      <td>...</td>\n      <td>...</td>\n      <td>...</td>\n      <td>...</td>\n      <td>...</td>\n      <td>...</td>\n      <td>...</td>\n      <td>...</td>\n      <td>...</td>\n      <td>...</td>\n      <td>...</td>\n      <td>...</td>\n      <td>...</td>\n      <td>...</td>\n    </tr>\n    <tr>\n      <th>165</th>\n      <td>0.512500</td>\n      <td>0.537500</td>\n      <td>0.490625</td>\n      <td>0.475000</td>\n      <td>0.484375</td>\n      <td>0.590625</td>\n      <td>0.643750</td>\n      <td>0.596875</td>\n      <td>0.500000</td>\n      <td>0.506250</td>\n      <td>...</td>\n      <td>0.694646</td>\n      <td>0.476478</td>\n      <td>0.502728</td>\n      <td>0.414122</td>\n      <td>0.463663</td>\n      <td>0.599265</td>\n      <td>0.418184</td>\n      <td>0.707009</td>\n      <td>0.753580</td>\n      <td>0.515851</td>\n    </tr>\n    <tr>\n      <th>1175</th>\n      <td>0.546875</td>\n      <td>0.540625</td>\n      <td>0.487500</td>\n      <td>0.437500</td>\n      <td>0.459375</td>\n      <td>0.600000</td>\n      <td>0.634375</td>\n      <td>0.603125</td>\n      <td>0.496875</td>\n      <td>0.484375</td>\n      <td>...</td>\n      <td>0.619181</td>\n      <td>0.328086</td>\n      <td>0.448687</td>\n      <td>0.390038</td>\n      <td>0.348187</td>\n      <td>0.097904</td>\n      <td>0.355104</td>\n      <td>0.798783</td>\n      <td>0.741635</td>\n      <td>0.664553</td>\n    </tr>\n    <tr>\n      <th>1889</th>\n      <td>0.431250</td>\n      <td>0.443750</td>\n      <td>0.381250</td>\n      <td>0.306250</td>\n      <td>0.321875</td>\n      <td>0.506250</td>\n      <td>0.565625</td>\n      <td>0.493750</td>\n      <td>0.381250</td>\n      <td>0.346875</td>\n      <td>...</td>\n      <td>0.714749</td>\n      <td>0.459053</td>\n      <td>0.371122</td>\n      <td>0.410051</td>\n      <td>0.443930</td>\n      <td>0.352505</td>\n      <td>0.459176</td>\n      <td>0.718812</td>\n      <td>0.750135</td>\n      <td>0.486549</td>\n    </tr>\n    <tr>\n      <th>839</th>\n      <td>0.540625</td>\n      <td>0.537500</td>\n      <td>0.490625</td>\n      <td>0.456250</td>\n      <td>0.443750</td>\n      <td>0.578125</td>\n      <td>0.609375</td>\n      <td>0.618750</td>\n      <td>0.493750</td>\n      <td>0.465625</td>\n      <td>...</td>\n      <td>0.469788</td>\n      <td>0.538956</td>\n      <td>0.663207</td>\n      <td>0.529844</td>\n      <td>0.493685</td>\n      <td>0.692496</td>\n      <td>0.455090</td>\n      <td>0.706155</td>\n      <td>0.708886</td>\n      <td>0.642120</td>\n    </tr>\n    <tr>\n      <th>357</th>\n      <td>0.471875</td>\n      <td>0.481250</td>\n      <td>0.418750</td>\n      <td>0.403125</td>\n      <td>0.403125</td>\n      <td>0.534375</td>\n      <td>0.559375</td>\n      <td>0.590625</td>\n      <td>0.509375</td>\n      <td>0.512500</td>\n      <td>...</td>\n      <td>0.635969</td>\n      <td>0.411395</td>\n      <td>0.370809</td>\n      <td>0.446149</td>\n      <td>0.430290</td>\n      <td>0.487497</td>\n      <td>0.436926</td>\n      <td>0.646822</td>\n      <td>0.695638</td>\n      <td>0.636609</td>\n    </tr>\n  </tbody>\n</table>\n<p>415 rows × 51 columns</p>\n</div>"
     },
     "metadata": {},
     "execution_count": 7
    }
   ],
   "source": [
    "X_test"
   ]
  },
  {
   "cell_type": "code",
   "execution_count": 10,
   "metadata": {},
   "outputs": [],
   "source": [
    "clf = MLPClassifier(hidden_layer_sizes=(64, 64,),solver = 'sgd').fit(X_train, y_train)"
   ]
  },
  {
   "cell_type": "code",
   "execution_count": 11,
   "metadata": {},
   "outputs": [
    {
     "output_type": "stream",
     "name": "stdout",
     "text": [
      "Accuracy : 0.9614457831325302\nF1 Score : 0.9614457831325302\nPrecision : 0.9614457831325302\nRecall : 0.9614457831325302\n"
     ]
    }
   ],
   "source": [
    "predicted = clf.predict(X_test)\n",
    "print('Accuracy :', accuracy_score(y_test, predicted))\n",
    "print('F1 Score :', f1_score(y_test, predicted, average='micro'))\n",
    "print('Precision :', precision_score(y_test, predicted, average='micro'))\n",
    "print('Recall :', recall_score(y_test, predicted, average='micro'))"
   ]
  },
  {
   "cell_type": "code",
   "execution_count": null,
   "metadata": {},
   "outputs": [],
   "source": []
  }
 ],
 "metadata": {
  "kernelspec": {
   "display_name": "Python 3",
   "language": "python",
   "name": "python3"
  },
  "language_info": {
   "codemirror_mode": {
    "name": "ipython",
    "version": 3
   },
   "file_extension": ".py",
   "mimetype": "text/x-python",
   "name": "python",
   "nbconvert_exporter": "python",
   "pygments_lexer": "ipython3",
   "version": "3.8.5-final"
  }
 },
 "nbformat": 4,
 "nbformat_minor": 4
}